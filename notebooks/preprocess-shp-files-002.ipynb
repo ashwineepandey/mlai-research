{
 "cells": [
  {
   "cell_type": "code",
   "execution_count": 1,
   "metadata": {},
   "outputs": [],
   "source": [
    "import sys\n",
    "sys.path.append('../mlai_research/')\n",
    "import log\n",
    "import utils\n",
    "import geopandas as gpd\n",
    "from shapely import wkb\n",
    "import pandas as pd"
   ]
  },
  {
   "cell_type": "code",
   "execution_count": 2,
   "metadata": {},
   "outputs": [
    {
     "name": "stderr",
     "output_type": "stream",
     "text": [
      "09-Dec-23 22:37:12 - INFO - Starting 'load_config'.\n",
      "09-Dec-23 22:37:12 - INFO - Finished 'load_config' in 0.0319 secs.\n"
     ]
    }
   ],
   "source": [
    "logger = log.get_logger(__name__)\n",
    "conf = utils.load_config(\"base\")"
   ]
  },
  {
   "cell_type": "code",
   "execution_count": 3,
   "metadata": {},
   "outputs": [],
   "source": [
    "def check_crs(gdf1, gdf2) -> bool: \n",
    "    if gdf1.crs == gdf2.crs:\n",
    "        return True\n",
    "    else:\n",
    "        print(\"Error: The CRS for the shape files does not match.\")\n",
    "        return False\n",
    "    \n",
    "    \n",
    "def load_shp_data(dir_path, filename1, filename2):\n",
    "    gdf1 = gpd.read_file(f\"{dir_path}{filename1}\") # import shapefile using geopandas\n",
    "    logger.info(f\"{filename1} Shape: {gdf1.shape}\")\n",
    "    gdf2 = gpd.read_file(f\"{dir_path}{filename2}\") # import shapefile using geopandas\n",
    "    logger.info(f\"{filename2} Shape: {gdf2.shape}\")\n",
    "    return gdf1, gdf2\n",
    "\n",
    "\n",
    "def select_subset_cols(df, subset_cols):\n",
    "    return df[subset_cols]\n",
    "\n",
    "\n",
    "def geom_drop_z_dim(df):\n",
    "    _drop_z = lambda geom: wkb.loads(wkb.dumps(geom, output_dimension=2))\n",
    "    df.geometry = df.geometry.transform(_drop_z)\n",
    "    return df\n",
    "\n",
    "\n",
    "def process_shp_files(gdf1, gdf2):\n",
    "    fil_gdf1 = select_subset_cols(gdf1, subset_cols=['Species', 'geometry'])\n",
    "    fil_gdf1 = geom_drop_z_dim(fil_gdf1)\n",
    "    fil_gdf2 = select_subset_cols(gdf2, subset_cols=['tag', 'geometry'])\n",
    "    fil_gdf2 = fil_gdf2.rename(columns={'tag': 'Species'})\n",
    "    return fil_gdf1, fil_gdf2\n",
    "\n",
    "\n",
    "def filter_relevant_species(df):\n",
    "    # logger.info(f\"Species value counts (original label): {df['Species'].value_counts()}\")\n",
    "    species_map = {\"Xanthium strumarium\" : \"Xanthium\",\n",
    "              \"Datura stramonium\": \"Datura\",\n",
    "               \"Xanthium\": \"Xanthium\",\n",
    "               \"Datura\": \"Datura\"}\n",
    "    df['Species'] = df['Species'].map(species_map).fillna('Other')\n",
    "    logger.info(f'Filtered Species value counts: {df.Species.value_counts()}')\n",
    "    return df\n",
    "\n",
    "\n",
    "def sync_crs(gdf, rasterimg) -> bool: \n",
    "    if gdf.crs != rasterimg.crs:\n",
    "        gdf = gdf.set_crs(str(rasterimg.crs))\n",
    "    return gdf"
   ]
  },
  {
   "cell_type": "code",
   "execution_count": 4,
   "metadata": {},
   "outputs": [
    {
     "name": "stderr",
     "output_type": "stream",
     "text": [
      "09-Dec-23 22:37:13 - INFO - letaba_invasives_june21.shp Shape: (153, 14)\n",
      "09-Dec-23 22:37:13 - INFO - classification_points_wynand.shp Shape: (153, 3)\n",
      "/opt/homebrew/Caskroom/miniforge/base/envs/mlai_rp2/lib/python3.9/site-packages/geopandas/geodataframe.py:1543: SettingWithCopyWarning: \n",
      "A value is trying to be set on a copy of a slice from a DataFrame.\n",
      "Try using .loc[row_indexer,col_indexer] = value instead\n",
      "\n",
      "See the caveats in the documentation: https://pandas.pydata.org/pandas-docs/stable/user_guide/indexing.html#returning-a-view-versus-a-copy\n",
      "  super().__setitem__(key, value)\n",
      "09-Dec-23 22:37:13 - INFO - Combined Shape: (306, 2)\n",
      "09-Dec-23 22:37:13 - INFO - Filtered Species value counts: Species\n",
      "Xanthium    142\n",
      "Other        88\n",
      "Datura       76\n",
      "Name: count, dtype: int64\n"
     ]
    }
   ],
   "source": [
    "gdf1, gdf2 = load_shp_data(f\"{conf.data.path_raw}classification_points/\", conf.data.fn_shp_raw1, conf.data.fn_shp_raw2)\n",
    "if check_crs(gdf1, gdf2):\n",
    "    fil_gdf1, fil_gdf2 = process_shp_files(gdf1, gdf2)\n",
    "    comb_gdf = pd.concat([fil_gdf1, fil_gdf2]).reset_index(drop=True)\n",
    "    logger.info(f\"Combined Shape: {comb_gdf.shape}\")\n",
    "    fil_comb_gdf = filter_relevant_species(comb_gdf)\n",
    "    fil_comb_gdf['pid'] = list(range(len(fil_comb_gdf)))\n",
    "    fil_comb_gdf.to_file(f\"{conf.data.path_base_points}{conf.data.fn_shp_combined}\", driver='ESRI Shapefile')"
   ]
  },
  {
   "cell_type": "code",
   "execution_count": 5,
   "metadata": {},
   "outputs": [],
   "source": [
    "gdf = gpd.read_file(f\"../data/01_base/points/letaba_classification_points.shp\") "
   ]
  },
  {
   "cell_type": "code",
   "execution_count": 6,
   "metadata": {},
   "outputs": [
    {
     "data": {
      "text/html": [
       "<div>\n",
       "<style scoped>\n",
       "    .dataframe tbody tr th:only-of-type {\n",
       "        vertical-align: middle;\n",
       "    }\n",
       "\n",
       "    .dataframe tbody tr th {\n",
       "        vertical-align: top;\n",
       "    }\n",
       "\n",
       "    .dataframe thead th {\n",
       "        text-align: right;\n",
       "    }\n",
       "</style>\n",
       "<table border=\"1\" class=\"dataframe\">\n",
       "  <thead>\n",
       "    <tr style=\"text-align: right;\">\n",
       "      <th></th>\n",
       "      <th>Species</th>\n",
       "      <th>pid</th>\n",
       "      <th>geometry</th>\n",
       "    </tr>\n",
       "  </thead>\n",
       "  <tbody>\n",
       "    <tr>\n",
       "      <th>0</th>\n",
       "      <td>Other</td>\n",
       "      <td>0</td>\n",
       "      <td>POINT (340729.445 7371235.519)</td>\n",
       "    </tr>\n",
       "    <tr>\n",
       "      <th>1</th>\n",
       "      <td>Other</td>\n",
       "      <td>1</td>\n",
       "      <td>POINT (340722.163 7371248.913)</td>\n",
       "    </tr>\n",
       "    <tr>\n",
       "      <th>2</th>\n",
       "      <td>Other</td>\n",
       "      <td>2</td>\n",
       "      <td>POINT (340713.499 7371248.818)</td>\n",
       "    </tr>\n",
       "    <tr>\n",
       "      <th>3</th>\n",
       "      <td>Xanthium</td>\n",
       "      <td>3</td>\n",
       "      <td>POINT (340717.911 7371249.236)</td>\n",
       "    </tr>\n",
       "    <tr>\n",
       "      <th>4</th>\n",
       "      <td>Other</td>\n",
       "      <td>4</td>\n",
       "      <td>POINT (340701.246 7371250.714)</td>\n",
       "    </tr>\n",
       "  </tbody>\n",
       "</table>\n",
       "</div>"
      ],
      "text/plain": [
       "    Species  pid                        geometry\n",
       "0     Other    0  POINT (340729.445 7371235.519)\n",
       "1     Other    1  POINT (340722.163 7371248.913)\n",
       "2     Other    2  POINT (340713.499 7371248.818)\n",
       "3  Xanthium    3  POINT (340717.911 7371249.236)\n",
       "4     Other    4  POINT (340701.246 7371250.714)"
      ]
     },
     "execution_count": 6,
     "metadata": {},
     "output_type": "execute_result"
    }
   ],
   "source": [
    "gdf.head()"
   ]
  },
  {
   "cell_type": "code",
   "execution_count": 7,
   "metadata": {},
   "outputs": [],
   "source": [
    "gdf['buffer'] = gdf.buffer(5)"
   ]
  },
  {
   "cell_type": "code",
   "execution_count": 8,
   "metadata": {},
   "outputs": [
    {
     "data": {
      "text/html": [
       "<div>\n",
       "<style scoped>\n",
       "    .dataframe tbody tr th:only-of-type {\n",
       "        vertical-align: middle;\n",
       "    }\n",
       "\n",
       "    .dataframe tbody tr th {\n",
       "        vertical-align: top;\n",
       "    }\n",
       "\n",
       "    .dataframe thead th {\n",
       "        text-align: right;\n",
       "    }\n",
       "</style>\n",
       "<table border=\"1\" class=\"dataframe\">\n",
       "  <thead>\n",
       "    <tr style=\"text-align: right;\">\n",
       "      <th></th>\n",
       "      <th>Species</th>\n",
       "      <th>pid</th>\n",
       "      <th>geometry</th>\n",
       "      <th>buffer</th>\n",
       "    </tr>\n",
       "  </thead>\n",
       "  <tbody>\n",
       "    <tr>\n",
       "      <th>0</th>\n",
       "      <td>Other</td>\n",
       "      <td>0</td>\n",
       "      <td>POINT (340729.445 7371235.519)</td>\n",
       "      <td>POLYGON ((340734.445 7371235.519, 340734.421 7...</td>\n",
       "    </tr>\n",
       "    <tr>\n",
       "      <th>1</th>\n",
       "      <td>Other</td>\n",
       "      <td>1</td>\n",
       "      <td>POINT (340722.163 7371248.913)</td>\n",
       "      <td>POLYGON ((340727.163 7371248.913, 340727.138 7...</td>\n",
       "    </tr>\n",
       "    <tr>\n",
       "      <th>2</th>\n",
       "      <td>Other</td>\n",
       "      <td>2</td>\n",
       "      <td>POINT (340713.499 7371248.818)</td>\n",
       "      <td>POLYGON ((340718.499 7371248.818, 340718.475 7...</td>\n",
       "    </tr>\n",
       "    <tr>\n",
       "      <th>3</th>\n",
       "      <td>Xanthium</td>\n",
       "      <td>3</td>\n",
       "      <td>POINT (340717.911 7371249.236)</td>\n",
       "      <td>POLYGON ((340722.911 7371249.236, 340722.887 7...</td>\n",
       "    </tr>\n",
       "    <tr>\n",
       "      <th>4</th>\n",
       "      <td>Other</td>\n",
       "      <td>4</td>\n",
       "      <td>POINT (340701.246 7371250.714)</td>\n",
       "      <td>POLYGON ((340706.246 7371250.714, 340706.222 7...</td>\n",
       "    </tr>\n",
       "  </tbody>\n",
       "</table>\n",
       "</div>"
      ],
      "text/plain": [
       "    Species  pid                        geometry  \\\n",
       "0     Other    0  POINT (340729.445 7371235.519)   \n",
       "1     Other    1  POINT (340722.163 7371248.913)   \n",
       "2     Other    2  POINT (340713.499 7371248.818)   \n",
       "3  Xanthium    3  POINT (340717.911 7371249.236)   \n",
       "4     Other    4  POINT (340701.246 7371250.714)   \n",
       "\n",
       "                                              buffer  \n",
       "0  POLYGON ((340734.445 7371235.519, 340734.421 7...  \n",
       "1  POLYGON ((340727.163 7371248.913, 340727.138 7...  \n",
       "2  POLYGON ((340718.499 7371248.818, 340718.475 7...  \n",
       "3  POLYGON ((340722.911 7371249.236, 340722.887 7...  \n",
       "4  POLYGON ((340706.246 7371250.714, 340706.222 7...  "
      ]
     },
     "execution_count": 8,
     "metadata": {},
     "output_type": "execute_result"
    }
   ],
   "source": [
    "gdf.head()"
   ]
  },
  {
   "cell_type": "code",
   "execution_count": 9,
   "metadata": {},
   "outputs": [],
   "source": [
    "out = \"../data/02_intermediate/points/letaba_classification_points.shp\""
   ]
  },
  {
   "cell_type": "code",
   "execution_count": 10,
   "metadata": {},
   "outputs": [],
   "source": [
    "# gdf['buffer_wkt'] = gdf['buffer'].to_wkt()"
   ]
  },
  {
   "cell_type": "code",
   "execution_count": 11,
   "metadata": {},
   "outputs": [
    {
     "data": {
      "text/html": [
       "<div>\n",
       "<style scoped>\n",
       "    .dataframe tbody tr th:only-of-type {\n",
       "        vertical-align: middle;\n",
       "    }\n",
       "\n",
       "    .dataframe tbody tr th {\n",
       "        vertical-align: top;\n",
       "    }\n",
       "\n",
       "    .dataframe thead th {\n",
       "        text-align: right;\n",
       "    }\n",
       "</style>\n",
       "<table border=\"1\" class=\"dataframe\">\n",
       "  <thead>\n",
       "    <tr style=\"text-align: right;\">\n",
       "      <th></th>\n",
       "      <th>Species</th>\n",
       "      <th>pid</th>\n",
       "      <th>geometry</th>\n",
       "      <th>buffer</th>\n",
       "    </tr>\n",
       "  </thead>\n",
       "  <tbody>\n",
       "    <tr>\n",
       "      <th>0</th>\n",
       "      <td>Other</td>\n",
       "      <td>0</td>\n",
       "      <td>POINT (340729.445 7371235.519)</td>\n",
       "      <td>POLYGON ((340734.445 7371235.519, 340734.421 7...</td>\n",
       "    </tr>\n",
       "    <tr>\n",
       "      <th>1</th>\n",
       "      <td>Other</td>\n",
       "      <td>1</td>\n",
       "      <td>POINT (340722.163 7371248.913)</td>\n",
       "      <td>POLYGON ((340727.163 7371248.913, 340727.138 7...</td>\n",
       "    </tr>\n",
       "    <tr>\n",
       "      <th>2</th>\n",
       "      <td>Other</td>\n",
       "      <td>2</td>\n",
       "      <td>POINT (340713.499 7371248.818)</td>\n",
       "      <td>POLYGON ((340718.499 7371248.818, 340718.475 7...</td>\n",
       "    </tr>\n",
       "    <tr>\n",
       "      <th>3</th>\n",
       "      <td>Xanthium</td>\n",
       "      <td>3</td>\n",
       "      <td>POINT (340717.911 7371249.236)</td>\n",
       "      <td>POLYGON ((340722.911 7371249.236, 340722.887 7...</td>\n",
       "    </tr>\n",
       "    <tr>\n",
       "      <th>4</th>\n",
       "      <td>Other</td>\n",
       "      <td>4</td>\n",
       "      <td>POINT (340701.246 7371250.714)</td>\n",
       "      <td>POLYGON ((340706.246 7371250.714, 340706.222 7...</td>\n",
       "    </tr>\n",
       "  </tbody>\n",
       "</table>\n",
       "</div>"
      ],
      "text/plain": [
       "    Species  pid                        geometry  \\\n",
       "0     Other    0  POINT (340729.445 7371235.519)   \n",
       "1     Other    1  POINT (340722.163 7371248.913)   \n",
       "2     Other    2  POINT (340713.499 7371248.818)   \n",
       "3  Xanthium    3  POINT (340717.911 7371249.236)   \n",
       "4     Other    4  POINT (340701.246 7371250.714)   \n",
       "\n",
       "                                              buffer  \n",
       "0  POLYGON ((340734.445 7371235.519, 340734.421 7...  \n",
       "1  POLYGON ((340727.163 7371248.913, 340727.138 7...  \n",
       "2  POLYGON ((340718.499 7371248.818, 340718.475 7...  \n",
       "3  POLYGON ((340722.911 7371249.236, 340722.887 7...  \n",
       "4  POLYGON ((340706.246 7371250.714, 340706.222 7...  "
      ]
     },
     "execution_count": 11,
     "metadata": {},
     "output_type": "execute_result"
    }
   ],
   "source": [
    "gdf.head()"
   ]
  },
  {
   "cell_type": "code",
   "execution_count": 12,
   "metadata": {},
   "outputs": [],
   "source": [
    "gdf = gdf.drop('geometry', axis=1).rename(columns={\"buffer\": \"geometry\"})#.to_file(out, driver='ESRI Shapefile')"
   ]
  },
  {
   "cell_type": "code",
   "execution_count": 13,
   "metadata": {},
   "outputs": [
    {
     "data": {
      "text/html": [
       "<div>\n",
       "<style scoped>\n",
       "    .dataframe tbody tr th:only-of-type {\n",
       "        vertical-align: middle;\n",
       "    }\n",
       "\n",
       "    .dataframe tbody tr th {\n",
       "        vertical-align: top;\n",
       "    }\n",
       "\n",
       "    .dataframe thead th {\n",
       "        text-align: right;\n",
       "    }\n",
       "</style>\n",
       "<table border=\"1\" class=\"dataframe\">\n",
       "  <thead>\n",
       "    <tr style=\"text-align: right;\">\n",
       "      <th></th>\n",
       "      <th>Species</th>\n",
       "      <th>pid</th>\n",
       "      <th>geometry</th>\n",
       "    </tr>\n",
       "  </thead>\n",
       "  <tbody>\n",
       "    <tr>\n",
       "      <th>0</th>\n",
       "      <td>Other</td>\n",
       "      <td>0</td>\n",
       "      <td>POLYGON ((340734.445 7371235.519, 340734.421 7...</td>\n",
       "    </tr>\n",
       "    <tr>\n",
       "      <th>1</th>\n",
       "      <td>Other</td>\n",
       "      <td>1</td>\n",
       "      <td>POLYGON ((340727.163 7371248.913, 340727.138 7...</td>\n",
       "    </tr>\n",
       "    <tr>\n",
       "      <th>2</th>\n",
       "      <td>Other</td>\n",
       "      <td>2</td>\n",
       "      <td>POLYGON ((340718.499 7371248.818, 340718.475 7...</td>\n",
       "    </tr>\n",
       "    <tr>\n",
       "      <th>3</th>\n",
       "      <td>Xanthium</td>\n",
       "      <td>3</td>\n",
       "      <td>POLYGON ((340722.911 7371249.236, 340722.887 7...</td>\n",
       "    </tr>\n",
       "    <tr>\n",
       "      <th>4</th>\n",
       "      <td>Other</td>\n",
       "      <td>4</td>\n",
       "      <td>POLYGON ((340706.246 7371250.714, 340706.222 7...</td>\n",
       "    </tr>\n",
       "  </tbody>\n",
       "</table>\n",
       "</div>"
      ],
      "text/plain": [
       "    Species  pid                                           geometry\n",
       "0     Other    0  POLYGON ((340734.445 7371235.519, 340734.421 7...\n",
       "1     Other    1  POLYGON ((340727.163 7371248.913, 340727.138 7...\n",
       "2     Other    2  POLYGON ((340718.499 7371248.818, 340718.475 7...\n",
       "3  Xanthium    3  POLYGON ((340722.911 7371249.236, 340722.887 7...\n",
       "4     Other    4  POLYGON ((340706.246 7371250.714, 340706.222 7..."
      ]
     },
     "execution_count": 13,
     "metadata": {},
     "output_type": "execute_result"
    }
   ],
   "source": [
    "gdf.head()"
   ]
  },
  {
   "cell_type": "code",
   "execution_count": null,
   "metadata": {},
   "outputs": [],
   "source": [
    "gdf.to_file(out, driver='ESRI Shapefile')"
   ]
  },
  {
   "cell_type": "code",
   "execution_count": 12,
   "metadata": {},
   "outputs": [
    {
     "ename": "ValueError",
     "evalue": "GeoDataFrame contains multiple geometry columns but GeoDataFrame.to_file supports only a single geometry column. Use a GeoDataFrame.to_parquet or GeoDataFrame.to_feather, drop additional geometry columns or convert them to a supported format like a well-known text (WKT) using `GeoSeries.to_wkt()`.",
     "output_type": "error",
     "traceback": [
      "\u001b[0;31m---------------------------------------------------------------------------\u001b[0m",
      "\u001b[0;31mValueError\u001b[0m                                Traceback (most recent call last)",
      "\u001b[1;32m/Users/ashwineekumarpandey/Documents/Academics/Masters/SU_MS_MLAI/Modules/ResearchProject/mlai-research/notebooks/preprocess-shp-files.ipynb Cell 11\u001b[0m line \u001b[0;36m1\n\u001b[0;32m----> <a href='vscode-notebook-cell:/Users/ashwineekumarpandey/Documents/Academics/Masters/SU_MS_MLAI/Modules/ResearchProject/mlai-research/notebooks/preprocess-shp-files.ipynb#X11sZmlsZQ%3D%3D?line=0'>1</a>\u001b[0m gdf\u001b[39m.\u001b[39;49mto_file(out, driver\u001b[39m=\u001b[39;49m\u001b[39m'\u001b[39;49m\u001b[39mESRI Shapefile\u001b[39;49m\u001b[39m'\u001b[39;49m, geometry\u001b[39m=\u001b[39;49m\u001b[39m'\u001b[39;49m\u001b[39mpoint\u001b[39;49m\u001b[39m'\u001b[39;49m)\n",
      "File \u001b[0;32m/opt/homebrew/Caskroom/miniforge/base/envs/mlai_rp2/lib/python3.9/site-packages/geopandas/geodataframe.py:1264\u001b[0m, in \u001b[0;36mGeoDataFrame.to_file\u001b[0;34m(self, filename, driver, schema, index, **kwargs)\u001b[0m\n\u001b[1;32m   1173\u001b[0m \u001b[39m\u001b[39m\u001b[39m\"\"\"Write the ``GeoDataFrame`` to a file.\u001b[39;00m\n\u001b[1;32m   1174\u001b[0m \n\u001b[1;32m   1175\u001b[0m \u001b[39mBy default, an ESRI shapefile is written, but any OGR data source\u001b[39;00m\n\u001b[0;32m   (...)\u001b[0m\n\u001b[1;32m   1260\u001b[0m \n\u001b[1;32m   1261\u001b[0m \u001b[39m\"\"\"\u001b[39;00m\n\u001b[1;32m   1262\u001b[0m \u001b[39mfrom\u001b[39;00m \u001b[39mgeopandas\u001b[39;00m\u001b[39m.\u001b[39;00m\u001b[39mio\u001b[39;00m\u001b[39m.\u001b[39;00m\u001b[39mfile\u001b[39;00m \u001b[39mimport\u001b[39;00m _to_file\n\u001b[0;32m-> 1264\u001b[0m _to_file(\u001b[39mself\u001b[39;49m, filename, driver, schema, index, \u001b[39m*\u001b[39;49m\u001b[39m*\u001b[39;49mkwargs)\n",
      "File \u001b[0;32m/opt/homebrew/Caskroom/miniforge/base/envs/mlai_rp2/lib/python3.9/site-packages/geopandas/io/file.py:596\u001b[0m, in \u001b[0;36m_to_file\u001b[0;34m(df, filename, driver, schema, index, mode, crs, engine, **kwargs)\u001b[0m\n\u001b[1;32m    589\u001b[0m     warnings\u001b[39m.\u001b[39mwarn(\n\u001b[1;32m    590\u001b[0m         \u001b[39m\"\u001b[39m\u001b[39mColumn names longer than 10 characters will be truncated when saved to \u001b[39m\u001b[39m\"\u001b[39m\n\u001b[1;32m    591\u001b[0m         \u001b[39m\"\u001b[39m\u001b[39mESRI Shapefile.\u001b[39m\u001b[39m\"\u001b[39m,\n\u001b[1;32m    592\u001b[0m         stacklevel\u001b[39m=\u001b[39m\u001b[39m3\u001b[39m,\n\u001b[1;32m    593\u001b[0m     )\n\u001b[1;32m    595\u001b[0m \u001b[39mif\u001b[39;00m (df\u001b[39m.\u001b[39mdtypes \u001b[39m==\u001b[39m \u001b[39m\"\u001b[39m\u001b[39mgeometry\u001b[39m\u001b[39m\"\u001b[39m)\u001b[39m.\u001b[39msum() \u001b[39m>\u001b[39m \u001b[39m1\u001b[39m:\n\u001b[0;32m--> 596\u001b[0m     \u001b[39mraise\u001b[39;00m \u001b[39mValueError\u001b[39;00m(\n\u001b[1;32m    597\u001b[0m         \u001b[39m\"\u001b[39m\u001b[39mGeoDataFrame contains multiple geometry columns but GeoDataFrame.to_file \u001b[39m\u001b[39m\"\u001b[39m\n\u001b[1;32m    598\u001b[0m         \u001b[39m\"\u001b[39m\u001b[39msupports only a single geometry column. Use a GeoDataFrame.to_parquet or \u001b[39m\u001b[39m\"\u001b[39m\n\u001b[1;32m    599\u001b[0m         \u001b[39m\"\u001b[39m\u001b[39mGeoDataFrame.to_feather, drop additional geometry columns or convert them \u001b[39m\u001b[39m\"\u001b[39m\n\u001b[1;32m    600\u001b[0m         \u001b[39m\"\u001b[39m\u001b[39mto a supported format like a well-known text (WKT) using \u001b[39m\u001b[39m\"\u001b[39m\n\u001b[1;32m    601\u001b[0m         \u001b[39m\"\u001b[39m\u001b[39m`GeoSeries.to_wkt()`.\u001b[39m\u001b[39m\"\u001b[39m,\n\u001b[1;32m    602\u001b[0m     )\n\u001b[1;32m    604\u001b[0m \u001b[39mif\u001b[39;00m mode \u001b[39mnot\u001b[39;00m \u001b[39min\u001b[39;00m (\u001b[39m\"\u001b[39m\u001b[39mw\u001b[39m\u001b[39m\"\u001b[39m, \u001b[39m\"\u001b[39m\u001b[39ma\u001b[39m\u001b[39m\"\u001b[39m):\n\u001b[1;32m    605\u001b[0m     \u001b[39mraise\u001b[39;00m \u001b[39mValueError\u001b[39;00m(\u001b[39mf\u001b[39m\u001b[39m\"\u001b[39m\u001b[39m'\u001b[39m\u001b[39mmode\u001b[39m\u001b[39m'\u001b[39m\u001b[39m should be one of \u001b[39m\u001b[39m'\u001b[39m\u001b[39mw\u001b[39m\u001b[39m'\u001b[39m\u001b[39m or \u001b[39m\u001b[39m'\u001b[39m\u001b[39ma\u001b[39m\u001b[39m'\u001b[39m\u001b[39m, got \u001b[39m\u001b[39m'\u001b[39m\u001b[39m{\u001b[39;00mmode\u001b[39m}\u001b[39;00m\u001b[39m'\u001b[39m\u001b[39m instead\u001b[39m\u001b[39m\"\u001b[39m)\n",
      "\u001b[0;31mValueError\u001b[0m: GeoDataFrame contains multiple geometry columns but GeoDataFrame.to_file supports only a single geometry column. Use a GeoDataFrame.to_parquet or GeoDataFrame.to_feather, drop additional geometry columns or convert them to a supported format like a well-known text (WKT) using `GeoSeries.to_wkt()`."
     ]
    }
   ],
   "source": [
    "gdf.to_file(out, driver='ESRI Shapefile', geometry='point')"
   ]
  },
  {
   "cell_type": "code",
   "execution_count": null,
   "metadata": {},
   "outputs": [],
   "source": []
  }
 ],
 "metadata": {
  "kernelspec": {
   "display_name": "mlai_rp2",
   "language": "python",
   "name": "python3"
  },
  "language_info": {
   "codemirror_mode": {
    "name": "ipython",
    "version": 3
   },
   "file_extension": ".py",
   "mimetype": "text/x-python",
   "name": "python",
   "nbconvert_exporter": "python",
   "pygments_lexer": "ipython3",
   "version": "3.9.12"
  }
 },
 "nbformat": 4,
 "nbformat_minor": 2
}
