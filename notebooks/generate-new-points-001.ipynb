{
 "cells": [
  {
   "cell_type": "code",
   "execution_count": 1,
   "metadata": {},
   "outputs": [],
   "source": [
    "import sys\n",
    "sys.path.append('../mlai_research/')\n",
    "import log\n",
    "import utils\n",
    "import cv2\n",
    "import rasterio\n",
    "import rasterio.plot\n",
    "from rasterio.io import DatasetReader\n",
    "from rasterio.mask import mask\n",
    "from rasterio.enums import Resampling\n",
    "from rasterio.warp import reproject, Resampling\n",
    "from shapely.geometry import box, mapping, Polygon, Point\n",
    "import numpy as np\n",
    "import matplotlib.pyplot as plt\n",
    "import geopandas as gpd\n",
    "from PIL import Image\n",
    "from typing import Tuple, Union, List"
   ]
  },
  {
   "cell_type": "code",
   "execution_count": 2,
   "metadata": {},
   "outputs": [],
   "source": [
    "logger = log.get_logger(__name__)"
   ]
  },
  {
   "cell_type": "code",
   "execution_count": 3,
   "metadata": {},
   "outputs": [
    {
     "name": "stderr",
     "output_type": "stream",
     "text": [
      "24-Dec-23 00:01:37 - INFO - Starting 'load_config'.\n",
      "24-Dec-23 00:01:37 - INFO - Finished 'load_config' in 0.0233 secs.\n"
     ]
    }
   ],
   "source": [
    "conf = utils.load_config(\"base\")"
   ]
  },
  {
   "cell_type": "code",
   "execution_count": 4,
   "metadata": {},
   "outputs": [],
   "source": [
    "gdf = gpd.read_file(f\"{conf.data.path_base_points}{conf.data.fn_shp_combined}\")"
   ]
  },
  {
   "cell_type": "code",
   "execution_count": 5,
   "metadata": {},
   "outputs": [
    {
     "data": {
      "text/html": [
       "<div>\n",
       "<style scoped>\n",
       "    .dataframe tbody tr th:only-of-type {\n",
       "        vertical-align: middle;\n",
       "    }\n",
       "\n",
       "    .dataframe tbody tr th {\n",
       "        vertical-align: top;\n",
       "    }\n",
       "\n",
       "    .dataframe thead th {\n",
       "        text-align: right;\n",
       "    }\n",
       "</style>\n",
       "<table border=\"1\" class=\"dataframe\">\n",
       "  <thead>\n",
       "    <tr style=\"text-align: right;\">\n",
       "      <th></th>\n",
       "      <th>Species</th>\n",
       "      <th>pid</th>\n",
       "      <th>geometry</th>\n",
       "    </tr>\n",
       "  </thead>\n",
       "  <tbody>\n",
       "    <tr>\n",
       "      <th>0</th>\n",
       "      <td>Other</td>\n",
       "      <td>0</td>\n",
       "      <td>POINT (340729.445 7371235.519)</td>\n",
       "    </tr>\n",
       "    <tr>\n",
       "      <th>1</th>\n",
       "      <td>Other</td>\n",
       "      <td>1</td>\n",
       "      <td>POINT (340722.163 7371248.913)</td>\n",
       "    </tr>\n",
       "    <tr>\n",
       "      <th>2</th>\n",
       "      <td>Other</td>\n",
       "      <td>2</td>\n",
       "      <td>POINT (340713.499 7371248.818)</td>\n",
       "    </tr>\n",
       "    <tr>\n",
       "      <th>3</th>\n",
       "      <td>Xanthium</td>\n",
       "      <td>3</td>\n",
       "      <td>POINT (340717.911 7371249.236)</td>\n",
       "    </tr>\n",
       "    <tr>\n",
       "      <th>4</th>\n",
       "      <td>Other</td>\n",
       "      <td>4</td>\n",
       "      <td>POINT (340701.246 7371250.714)</td>\n",
       "    </tr>\n",
       "    <tr>\n",
       "      <th>...</th>\n",
       "      <td>...</td>\n",
       "      <td>...</td>\n",
       "      <td>...</td>\n",
       "    </tr>\n",
       "    <tr>\n",
       "      <th>301</th>\n",
       "      <td>Xanthium</td>\n",
       "      <td>301</td>\n",
       "      <td>POINT (369123.342 7352421.287)</td>\n",
       "    </tr>\n",
       "    <tr>\n",
       "      <th>302</th>\n",
       "      <td>Xanthium</td>\n",
       "      <td>302</td>\n",
       "      <td>POINT (369264.777 7352360.554)</td>\n",
       "    </tr>\n",
       "    <tr>\n",
       "      <th>303</th>\n",
       "      <td>Xanthium</td>\n",
       "      <td>303</td>\n",
       "      <td>POINT (370468.706 7351748.584)</td>\n",
       "    </tr>\n",
       "    <tr>\n",
       "      <th>304</th>\n",
       "      <td>Xanthium</td>\n",
       "      <td>304</td>\n",
       "      <td>POINT (370456.853 7351746.022)</td>\n",
       "    </tr>\n",
       "    <tr>\n",
       "      <th>305</th>\n",
       "      <td>Xanthium</td>\n",
       "      <td>305</td>\n",
       "      <td>POINT (370514.102 7351728.365)</td>\n",
       "    </tr>\n",
       "  </tbody>\n",
       "</table>\n",
       "<p>306 rows × 3 columns</p>\n",
       "</div>"
      ],
      "text/plain": [
       "      Species  pid                        geometry\n",
       "0       Other    0  POINT (340729.445 7371235.519)\n",
       "1       Other    1  POINT (340722.163 7371248.913)\n",
       "2       Other    2  POINT (340713.499 7371248.818)\n",
       "3    Xanthium    3  POINT (340717.911 7371249.236)\n",
       "4       Other    4  POINT (340701.246 7371250.714)\n",
       "..        ...  ...                             ...\n",
       "301  Xanthium  301  POINT (369123.342 7352421.287)\n",
       "302  Xanthium  302  POINT (369264.777 7352360.554)\n",
       "303  Xanthium  303  POINT (370468.706 7351748.584)\n",
       "304  Xanthium  304  POINT (370456.853 7351746.022)\n",
       "305  Xanthium  305  POINT (370514.102 7351728.365)\n",
       "\n",
       "[306 rows x 3 columns]"
      ]
     },
     "execution_count": 5,
     "metadata": {},
     "output_type": "execute_result"
    }
   ],
   "source": [
    "gdf"
   ]
  },
  {
   "cell_type": "code",
   "execution_count": 4,
   "metadata": {},
   "outputs": [],
   "source": [
    "def plot_raster(gdf, rasterimg):\n",
    "    fig, ax = plt.subplots(figsize = (20,20))\n",
    "    rasterio.plot.show(rasterimg, ax=ax)\n",
    "    gdf.plot(column='Species',\n",
    "                   categorical=True,\n",
    "                   legend=True,\n",
    "                   # markersize=45,\n",
    "                   cmap=\"Set2\",\n",
    "                   ax=ax,\n",
    "            aspect=1)\n",
    "    ax.set_title(\"Letaba Points Subset\")\n",
    "    for x, y, label in zip(gdf.geometry.x, gdf.geometry.y, gdf.photoID):\n",
    "        ax.annotate(label, xy=(x, y), xytext=(3, 3), textcoords=\"offset points\")\n",
    "    plt.show()"
   ]
  },
  {
   "cell_type": "code",
   "execution_count": 5,
   "metadata": {},
   "outputs": [],
   "source": [
    "def load_raster(fn=\"../data/01_base/rgba_7cm/rgba_aoi_1.tif\"):\n",
    "    with rasterio.open(fn) as ds:\n",
    "        bounds = ds.bounds\n",
    "        transform = ds.transform\n",
    "        array = ds.read(1)\n",
    "        crs = ds.crs\n",
    "    return bounds, transform, array, crs\n",
    "\n",
    "\n",
    "def gen_random_points(num_points, bounds):\n",
    "    minx, miny, maxx, maxy = bounds\n",
    "    xs = np.random.uniform(minx, maxx, num_points)\n",
    "    ys = np.random.uniform(miny, maxy, num_points)\n",
    "    points = [Point(x, y) for x, y in zip(xs, ys)]\n",
    "    return points\n",
    "\n",
    "def filter_valid_points(points, transform, array):\n",
    "    # Filter out points that fall within the no-data regions of the raster\n",
    "    valid_points = []\n",
    "    for point in points:\n",
    "        # Convert the point's coordinates to row and column indices\n",
    "        row, col = rasterio.transform.rowcol(transform, point.x, point.y)\n",
    "        \n",
    "        # Check if the point falls within the bounds of the array\n",
    "        if 0 <= row < array.shape[0] and 0 <= col < array.shape[1]:\n",
    "            # Check if the corresponding pixel value in the raster is not a no-data value\n",
    "            if array[row, col] != 0:\n",
    "                valid_points.append(point)\n",
    "    return valid_points"
   ]
  },
  {
   "cell_type": "code",
   "execution_count": 6,
   "metadata": {},
   "outputs": [],
   "source": [
    "# def poisson_disc_sampling(bounds, radius, seed=None):\n",
    "#     \"\"\"\n",
    "#     Poisson disc sampling using Bridson's algorithm.\n",
    "\n",
    "#     Parameters:\n",
    "#     bounds (tuple): The bounds of the area to sample as (minx, miny, maxx, maxy).\n",
    "#     radius (float): The minimum distance between samples.\n",
    "#     seed (int, optional): The seed for the random number generator.\n",
    "\n",
    "#     Returns:\n",
    "#     list: The samples as a list of shapely.geometry.Point.\n",
    "#     \"\"\"\n",
    "#     # Set the seed for the random number generator\n",
    "#     if seed is not None:\n",
    "#         np.random.seed(seed)\n",
    "\n",
    "#     # Define the dimensions of the area to sample\n",
    "#     minx, miny, maxx, maxy = bounds\n",
    "#     width, height = maxx - minx, maxy - miny\n",
    "\n",
    "#     # Define the cell size and create an empty grid\n",
    "#     cell_size = radius / np.sqrt(2)\n",
    "#     grid_width, grid_height = int(np.ceil(width / cell_size)), int(np.ceil(height / cell_size))\n",
    "#     grid = -np.ones((grid_height, grid_width), dtype=int)\n",
    "\n",
    "#     # Create a list to hold the samples and the active list\n",
    "#     samples = []\n",
    "#     active_list = []\n",
    "\n",
    "#     # Add the first sample\n",
    "#     first_sample = np.random.uniform([minx, miny], [maxx, maxy])\n",
    "#     samples.append(Point(*first_sample))\n",
    "#     grid[int((first_sample[1] - miny) / cell_size), int((first_sample[0] - minx) / cell_size)] = len(samples) - 1\n",
    "#     active_list.append(first_sample)\n",
    "\n",
    "#     # While the active list is not empty, add new samples\n",
    "#     while active_list:\n",
    "#         # Choose a random sample from the active list\n",
    "#         sample = active_list.pop(np.random.randint(len(active_list)))\n",
    "\n",
    "#         # Generate new samples in the annulus around the sample\n",
    "#         for _ in range(30):  # 30 is a commonly used value\n",
    "#             angle = 2 * np.pi * np.random.random()\n",
    "#             distance = np.random.uniform(radius, 2 * radius)\n",
    "#             new_sample = sample + distance * np.array([np.cos(angle), np.sin(angle)])\n",
    "\n",
    "#             # Check if the new sample is inside the area and far enough from existing samples\n",
    "#             if (minx <= new_sample[0] < maxx and miny <= new_sample[1] < maxy and\n",
    "#                 grid[int((new_sample[1] - miny) / cell_size) - 2:int((new_sample[1] - miny) / cell_size) + 3,\n",
    "#                      int((new_sample[0] - minx) / cell_size) - 2:int((new_sample[0] - minx) / cell_size) + 3] == -1).all():\n",
    "#                 # Add the new sample to the samples list, grid, and active list\n",
    "#                 samples.append(Point(*new_sample))\n",
    "#                 grid[int((new_sample[1] - miny) / cell_size), int((new_sample[0] - minx) / cell_size)] = len(samples) - 1\n",
    "#                 active_list.append(new_sample)\n",
    "\n",
    "#     return samples"
   ]
  },
  {
   "cell_type": "code",
   "execution_count": 7,
   "metadata": {},
   "outputs": [],
   "source": [
    "bounds, transform, array, crs = load_raster()"
   ]
  },
  {
   "cell_type": "code",
   "execution_count": 10,
   "metadata": {},
   "outputs": [
    {
     "ename": "",
     "evalue": "",
     "output_type": "error",
     "traceback": [
      "\u001b[1;31mThe Kernel crashed while executing code in the the current cell or a previous cell. Please review the code in the cell(s) to identify a possible cause of the failure. Click <a href='https://aka.ms/vscodeJupyterKernelCrash'>here</a> for more info. View Jupyter <a href='command:jupyter.viewOutput'>log</a> for further details."
     ]
    }
   ],
   "source": [
    "points = poisson_disc_sampling(bounds, 0.01, seed=42)\n",
    "len(points)"
   ]
  },
  {
   "cell_type": "code",
   "execution_count": null,
   "metadata": {},
   "outputs": [],
   "source": [
    "bounds, transform, array, crs = load_raster()\n",
    "# points = gen_random_points(2100, bounds)"
   ]
  },
  {
   "cell_type": "code",
   "execution_count": 9,
   "metadata": {},
   "outputs": [],
   "source": [
    "valid_points = filter_valid_points(points, transform, array)"
   ]
  },
  {
   "cell_type": "code",
   "execution_count": 10,
   "metadata": {},
   "outputs": [
    {
     "data": {
      "text/plain": [
       "0"
      ]
     },
     "execution_count": 10,
     "metadata": {},
     "output_type": "execute_result"
    }
   ],
   "source": [
    "len(valid_points)"
   ]
  },
  {
   "cell_type": "code",
   "execution_count": null,
   "metadata": {},
   "outputs": [],
   "source": [
    "# Create a GeoDataFrame from the valid points\n",
    "gdf = gpd.GeoDataFrame(geometry=valid_points, crs=ds.crs)"
   ]
  },
  {
   "cell_type": "code",
   "execution_count": null,
   "metadata": {},
   "outputs": [],
   "source": [
    "gdf['photoID'] = np.arange(1000+0, 1000+len(gdf))\n",
    "gdf['Species'] = 'Unknown'"
   ]
  },
  {
   "cell_type": "code",
   "execution_count": null,
   "metadata": {},
   "outputs": [],
   "source": [
    "raster = rasterio.open(\"../data/01_base/rgba_7cm/rgba_aoi_1.tif\")"
   ]
  },
  {
   "cell_type": "code",
   "execution_count": null,
   "metadata": {},
   "outputs": [],
   "source": [
    "plot_raster(gdf, raster)"
   ]
  },
  {
   "cell_type": "code",
   "execution_count": null,
   "metadata": {},
   "outputs": [],
   "source": []
  },
  {
   "cell_type": "code",
   "execution_count": null,
   "metadata": {},
   "outputs": [],
   "source": [
    "threshold = 0"
   ]
  },
  {
   "cell_type": "code",
   "execution_count": null,
   "metadata": {},
   "outputs": [],
   "source": [
    "# Create a mask where data values are greater than the threshold\n",
    "mask = data > threshold"
   ]
  },
  {
   "cell_type": "code",
   "execution_count": null,
   "metadata": {},
   "outputs": [],
   "source": [
    "total_points = 100"
   ]
  },
  {
   "cell_type": "code",
   "execution_count": null,
   "metadata": {},
   "outputs": [],
   "source": [
    "# Calculate the number of points along each axis\n",
    "points_per_axis = int(np.sqrt(total_points))"
   ]
  },
  {
   "cell_type": "code",
   "execution_count": null,
   "metadata": {},
   "outputs": [],
   "source": [
    "# Generate grid points based on the number of points along each axis\n",
    "rows = np.linspace(0, raster.height - 1, points_per_axis)\n",
    "cols = np.linspace(0, raster.width - 1, points_per_axis)"
   ]
  },
  {
   "cell_type": "code",
   "execution_count": null,
   "metadata": {},
   "outputs": [],
   "source": [
    "rows"
   ]
  },
  {
   "cell_type": "code",
   "execution_count": null,
   "metadata": {},
   "outputs": [],
   "source": [
    "cols"
   ]
  },
  {
   "cell_type": "code",
   "execution_count": null,
   "metadata": {},
   "outputs": [],
   "source": [
    "# Create meshgrid from rows and cols\n",
    "cols, rows = np.meshgrid(cols, rows)\n",
    "cols = cols.flatten()\n",
    "rows = rows.flatten()"
   ]
  },
  {
   "cell_type": "code",
   "execution_count": null,
   "metadata": {},
   "outputs": [],
   "source": [
    "# Convert grid points to geographical coordinates\n",
    "xs, ys = raster.transform * (cols, rows)\n"
   ]
  },
  {
   "cell_type": "code",
   "execution_count": null,
   "metadata": {},
   "outputs": [],
   "source": [
    "# Filter points by mask\n",
    "points = [Point(x, y) for x, y in zip(xs, ys) if mask[int(y), int(x)]]\n",
    "    "
   ]
  },
  {
   "cell_type": "code",
   "execution_count": null,
   "metadata": {},
   "outputs": [],
   "source": [
    "raster.shape"
   ]
  },
  {
   "cell_type": "code",
   "execution_count": null,
   "metadata": {},
   "outputs": [],
   "source": [
    "raster.crs"
   ]
  },
  {
   "cell_type": "code",
   "execution_count": null,
   "metadata": {},
   "outputs": [],
   "source": []
  },
  {
   "cell_type": "code",
   "execution_count": null,
   "metadata": {},
   "outputs": [],
   "source": []
  },
  {
   "cell_type": "code",
   "execution_count": null,
   "metadata": {},
   "outputs": [],
   "source": []
  },
  {
   "cell_type": "code",
   "execution_count": null,
   "metadata": {},
   "outputs": [],
   "source": [
    "# Read the raster data and create a mask\n",
    "data = raster.read(1)\n",
    "mask = data != raster.nodata  # Assuming nodata represents empty areas"
   ]
  },
  {
   "cell_type": "code",
   "execution_count": null,
   "metadata": {},
   "outputs": [],
   "source": [
    "data"
   ]
  },
  {
   "cell_type": "code",
   "execution_count": null,
   "metadata": {},
   "outputs": [],
   "source": [
    "data.shape"
   ]
  },
  {
   "cell_type": "code",
   "execution_count": null,
   "metadata": {},
   "outputs": [],
   "source": [
    "mask.shape"
   ]
  },
  {
   "cell_type": "code",
   "execution_count": null,
   "metadata": {},
   "outputs": [],
   "source": [
    "mask[mask == False].shape"
   ]
  },
  {
   "cell_type": "code",
   "execution_count": null,
   "metadata": {},
   "outputs": [],
   "source": [
    "density = np.sum(mask) / mask.size"
   ]
  },
  {
   "cell_type": "code",
   "execution_count": null,
   "metadata": {},
   "outputs": [],
   "source": [
    "density"
   ]
  },
  {
   "cell_type": "code",
   "execution_count": null,
   "metadata": {},
   "outputs": [],
   "source": [
    "# Generate grid points based on the desired density\n",
    "rows = np.linspace(0, raster.height - 1, int(raster.height / density))\n",
    "cols = np.linspace(0, raster.width - 1, int(raster.width / density))"
   ]
  },
  {
   "cell_type": "code",
   "execution_count": null,
   "metadata": {},
   "outputs": [],
   "source": [
    "# Create meshgrid from rows and cols\n",
    "cols, rows = np.meshgrid(cols, rows)\n",
    "cols = cols.flatten()\n",
    "rows = rows.flatten()"
   ]
  },
  {
   "cell_type": "code",
   "execution_count": null,
   "metadata": {},
   "outputs": [],
   "source": [
    "# Convert grid points to geographical coordinates\n",
    "xs, ys = raster.transform * (cols, rows)"
   ]
  },
  {
   "cell_type": "code",
   "execution_count": null,
   "metadata": {},
   "outputs": [],
   "source": [
    "# Create a GeoDataFrame from the points\n",
    "shapes = [Point(x, y) for x, y in zip(xs, ys)]\n",
    "all_points = gpd.GeoDataFrame(geometry=shapes, crs=raster.crs.data)\n",
    "all_points['geometry'] = all_points.buffer(raster.transform.a / 2.0)  # Buffer by half the pixel size\n",
    "    "
   ]
  },
  {
   "cell_type": "code",
   "execution_count": null,
   "metadata": {},
   "outputs": [],
   "source": [
    "# Create a mask for the points\n",
    "point_mask = [~mask[int(y), int(x)] for x, y in zip(cols, rows)]\n",
    "    "
   ]
  },
  {
   "cell_type": "code",
   "execution_count": null,
   "metadata": {},
   "outputs": [],
   "source": [
    "all_points"
   ]
  },
  {
   "cell_type": "code",
   "execution_count": null,
   "metadata": {},
   "outputs": [],
   "source": [
    "point_mask"
   ]
  },
  {
   "cell_type": "code",
   "execution_count": null,
   "metadata": {},
   "outputs": [],
   "source": [
    "# Filter points by mask\n",
    "points = all_points.geometry[point_mask]"
   ]
  },
  {
   "cell_type": "code",
   "execution_count": null,
   "metadata": {},
   "outputs": [],
   "source": [
    "points"
   ]
  },
  {
   "cell_type": "code",
   "execution_count": null,
   "metadata": {},
   "outputs": [],
   "source": [
    "# Create a GeoDataFrame\n",
    "gdf = gpd.GeoDataFrame(geometry=points, crs=raster.crs.data)"
   ]
  },
  {
   "cell_type": "code",
   "execution_count": null,
   "metadata": {},
   "outputs": [],
   "source": [
    "# Update GeoDataFrame\n",
    "gdf['photoID'] = np.arange(1000+0, 1000+len(gdf))\n",
    "gdf['Species'] = 'Unknown'"
   ]
  },
  {
   "cell_type": "code",
   "execution_count": null,
   "metadata": {},
   "outputs": [],
   "source": [
    "gdf.head()"
   ]
  },
  {
   "cell_type": "code",
   "execution_count": null,
   "metadata": {},
   "outputs": [],
   "source": [
    "plot_raster(gdf, raster)"
   ]
  },
  {
   "cell_type": "code",
   "execution_count": null,
   "metadata": {},
   "outputs": [],
   "source": []
  },
  {
   "cell_type": "code",
   "execution_count": null,
   "metadata": {},
   "outputs": [],
   "source": []
  },
  {
   "cell_type": "code",
   "execution_count": null,
   "metadata": {},
   "outputs": [],
   "source": []
  },
  {
   "cell_type": "code",
   "execution_count": null,
   "metadata": {},
   "outputs": [],
   "source": []
  },
  {
   "cell_type": "code",
   "execution_count": null,
   "metadata": {},
   "outputs": [],
   "source": []
  },
  {
   "cell_type": "code",
   "execution_count": null,
   "metadata": {},
   "outputs": [],
   "source": []
  },
  {
   "cell_type": "code",
   "execution_count": null,
   "metadata": {},
   "outputs": [],
   "source": []
  },
  {
   "cell_type": "code",
   "execution_count": null,
   "metadata": {},
   "outputs": [],
   "source": [
    "# # Use rasterio.features.geometry_mask to create a mask for the points\n",
    "# shapes = [Point(x, y) for x, y in zip(xs, ys)]\n",
    "# all_points = gpd.GeoDataFrame(geometry=shapes, crs=raster.crs.data)\n",
    "# all_points['geometry'] = all_points.buffer(raster.transform.a / 2.0)  # Buffer by half the pixel size\n",
    "# geom_mask = rasterio.features.geometry_mask(all_points.geometry, transform=raster.transform, invert=True, out_shape=(raster.height, raster.width))\n"
   ]
  },
  {
   "cell_type": "code",
   "execution_count": null,
   "metadata": {},
   "outputs": [],
   "source": [
    "# Filter points by mask\n",
    "points = all_points.geometry[~geom_mask.flatten()]"
   ]
  },
  {
   "cell_type": "code",
   "execution_count": null,
   "metadata": {},
   "outputs": [],
   "source": []
  },
  {
   "cell_type": "code",
   "execution_count": null,
   "metadata": {},
   "outputs": [],
   "source": []
  },
  {
   "cell_type": "code",
   "execution_count": null,
   "metadata": {},
   "outputs": [],
   "source": []
  },
  {
   "cell_type": "code",
   "execution_count": null,
   "metadata": {},
   "outputs": [],
   "source": []
  },
  {
   "cell_type": "code",
   "execution_count": null,
   "metadata": {},
   "outputs": [],
   "source": []
  },
  {
   "cell_type": "code",
   "execution_count": null,
   "metadata": {},
   "outputs": [],
   "source": []
  },
  {
   "cell_type": "code",
   "execution_count": null,
   "metadata": {},
   "outputs": [],
   "source": []
  },
  {
   "cell_type": "code",
   "execution_count": null,
   "metadata": {},
   "outputs": [],
   "source": []
  },
  {
   "cell_type": "code",
   "execution_count": null,
   "metadata": {},
   "outputs": [],
   "source": []
  },
  {
   "cell_type": "code",
   "execution_count": null,
   "metadata": {},
   "outputs": [],
   "source": []
  },
  {
   "cell_type": "code",
   "execution_count": null,
   "metadata": {},
   "outputs": [],
   "source": []
  },
  {
   "cell_type": "code",
   "execution_count": null,
   "metadata": {},
   "outputs": [],
   "source": []
  },
  {
   "cell_type": "code",
   "execution_count": null,
   "metadata": {},
   "outputs": [],
   "source": []
  },
  {
   "cell_type": "code",
   "execution_count": null,
   "metadata": {},
   "outputs": [],
   "source": []
  },
  {
   "cell_type": "code",
   "execution_count": null,
   "metadata": {},
   "outputs": [],
   "source": []
  },
  {
   "cell_type": "code",
   "execution_count": null,
   "metadata": {},
   "outputs": [],
   "source": [
    "# Read the raster data and create a mask\n",
    "data = raster.read(1)\n",
    "mask = data != raster.nodata  # Assuming nodata represents empty areas"
   ]
  },
  {
   "cell_type": "code",
   "execution_count": null,
   "metadata": {},
   "outputs": [],
   "source": [
    "# Generate grid points\n",
    "rows, cols = np.indices((raster.height, raster.width))"
   ]
  },
  {
   "cell_type": "code",
   "execution_count": null,
   "metadata": {},
   "outputs": [],
   "source": [
    "# Apply the mask to rows and cols\n",
    "rows = rows[mask]\n",
    "cols = cols[mask]"
   ]
  },
  {
   "cell_type": "code",
   "execution_count": null,
   "metadata": {},
   "outputs": [],
   "source": [
    "# Convert grid points to geographical coordinates\n",
    "xs, ys = raster.transform * (cols, rows)"
   ]
  },
  {
   "cell_type": "code",
   "execution_count": null,
   "metadata": {},
   "outputs": [],
   "source": [
    "# Filter points by mask\n",
    "# points = [Point(x, y) for x, y, m in zip(xs, ys, mask.flatten()) if m]\n",
    "# Create points using NumPy arrays directly\n",
    "# points = np.array([Point(x, y) for x, y in zip(xs, ys)])"
   ]
  },
  {
   "cell_type": "code",
   "execution_count": null,
   "metadata": {},
   "outputs": [],
   "source": [
    "num_points = 100"
   ]
  },
  {
   "cell_type": "code",
   "execution_count": null,
   "metadata": {},
   "outputs": [],
   "source": [
    "# If there are more points than needed, sample them\n",
    "if len(points) > num_points:\n",
    "    indices = np.random.choice(points, size=num_points, replace=False)\n",
    "    points = points[indices]"
   ]
  },
  {
   "cell_type": "code",
   "execution_count": null,
   "metadata": {},
   "outputs": [],
   "source": [
    "# Create a GeoDataFrame\n",
    "gdf = gpd.GeoDataFrame(geometry=points, crs=raster.crs.data)"
   ]
  },
  {
   "cell_type": "code",
   "execution_count": null,
   "metadata": {},
   "outputs": [],
   "source": [
    "# Update GeoDataFrame\n",
    "gdf['photoID'] = np.arange(1000+0, 1000+len(gdf))\n",
    "gdf['Species'] = 'Unknown'"
   ]
  },
  {
   "cell_type": "code",
   "execution_count": null,
   "metadata": {},
   "outputs": [],
   "source": [
    "plot_raster(gdf, raster)"
   ]
  },
  {
   "cell_type": "code",
   "execution_count": null,
   "metadata": {},
   "outputs": [],
   "source": []
  },
  {
   "cell_type": "code",
   "execution_count": null,
   "metadata": {},
   "outputs": [],
   "source": []
  },
  {
   "cell_type": "code",
   "execution_count": null,
   "metadata": {},
   "outputs": [],
   "source": []
  },
  {
   "cell_type": "code",
   "execution_count": null,
   "metadata": {},
   "outputs": [],
   "source": []
  },
  {
   "cell_type": "code",
   "execution_count": null,
   "metadata": {},
   "outputs": [],
   "source": []
  },
  {
   "cell_type": "code",
   "execution_count": null,
   "metadata": {},
   "outputs": [],
   "source": [
    "# fig, ax = plt.subplots(figsize = (20,20))\n",
    "# rasterio.plot.show(raster, ax=ax)\n",
    "# plt.show()"
   ]
  },
  {
   "cell_type": "code",
   "execution_count": null,
   "metadata": {},
   "outputs": [],
   "source": [
    "# Get the transform parameters\n",
    "transform = raster.transform"
   ]
  },
  {
   "cell_type": "code",
   "execution_count": null,
   "metadata": {},
   "outputs": [],
   "source": [
    "# Get the bounds of the raster data\n",
    "bounds = raster.bounds\n",
    "\n",
    "# Number of points to generate\n",
    "n_points = 1000\n",
    "\n",
    "# Generate random points within the bounds\n",
    "x_points = np.random.uniform(bounds.left, bounds.right, n_points)\n",
    "y_points = np.random.uniform(bounds.bottom, bounds.top, n_points)"
   ]
  },
  {
   "cell_type": "code",
   "execution_count": null,
   "metadata": {},
   "outputs": [],
   "source": [
    "# Convert geographical coordinates to pixel coordinates\n",
    "pixel_points = [raster.index(x, y) for x, y in zip(x_points, y_points)]\n",
    "\n",
    "# Filter points that are inside the raster bounds\n",
    "inside_points = [(x, y) for x, y in pixel_points if 0 <= x < raster.width and 0 <= y < raster.height]\n",
    "\n",
    "# Convert pixel coordinates to geographical coordinates\n",
    "geo_points = [raster.xy(x, y) for x, y in inside_points]"
   ]
  },
  {
   "cell_type": "code",
   "execution_count": null,
   "metadata": {},
   "outputs": [],
   "source": [
    "# Create a GeoDataFrame\n",
    "gdf = gpd.GeoDataFrame(geometry=[Point(x, y) for x, y in geo_points], crs=raster.crs)\n",
    "gdf['photoID'] = np.arange(1000+0, 1000+len(gdf))\n",
    "gdf['Species'] = 'Unknown'"
   ]
  },
  {
   "cell_type": "code",
   "execution_count": null,
   "metadata": {},
   "outputs": [],
   "source": [
    "gdf.head()"
   ]
  },
  {
   "cell_type": "code",
   "execution_count": null,
   "metadata": {},
   "outputs": [],
   "source": []
  },
  {
   "cell_type": "code",
   "execution_count": null,
   "metadata": {},
   "outputs": [],
   "source": [
    "def clip_gdf(gdf, bounds):\n",
    "    clipped_gdf = gdf[\n",
    "        (gdf.geometry.x > bounds.left) & \n",
    "        (gdf.geometry.x < bounds.right) &\n",
    "        (gdf.geometry.y > bounds.bottom) &\n",
    "        (gdf.geometry.y < bounds.top)\n",
    "    ]\n",
    "    logger.info(f\"Original gdf: {gdf.shape}\")\n",
    "    logger.info(f\"Clipped gdf: {clipped_gdf.shape}\")\n",
    "    logger.info(f\"Species split: {clipped_gdf.Species.value_counts()}\")\n",
    "    return clipped_gdf"
   ]
  },
  {
   "cell_type": "code",
   "execution_count": null,
   "metadata": {},
   "outputs": [],
   "source": [
    "clipped_gdf = clip_gdf(gdf, bounds)"
   ]
  },
  {
   "cell_type": "code",
   "execution_count": null,
   "metadata": {},
   "outputs": [],
   "source": [
    "plot_raster(clipped_gdf, raster)"
   ]
  },
  {
   "cell_type": "code",
   "execution_count": null,
   "metadata": {},
   "outputs": [],
   "source": []
  }
 ],
 "metadata": {
  "kernelspec": {
   "display_name": "mlai_rp2",
   "language": "python",
   "name": "python3"
  },
  "language_info": {
   "codemirror_mode": {
    "name": "ipython",
    "version": 3
   },
   "file_extension": ".py",
   "mimetype": "text/x-python",
   "name": "python",
   "nbconvert_exporter": "python",
   "pygments_lexer": "ipython3",
   "version": "3.9.12"
  }
 },
 "nbformat": 4,
 "nbformat_minor": 2
}
