{
 "cells": [
  {
   "cell_type": "code",
   "execution_count": 1,
   "metadata": {},
   "outputs": [
    {
     "ename": "ModuleNotFoundError",
     "evalue": "No module named 'rioxarray'",
     "output_type": "error",
     "traceback": [
      "\u001b[0;31m---------------------------------------------------------------------------\u001b[0m",
      "\u001b[0;31mModuleNotFoundError\u001b[0m                       Traceback (most recent call last)",
      "\u001b[1;32m/Users/ashwineekumarpandey/Documents/Academics/Masters/SU_MS_MLAI/Modules/ResearchProject/mlai-research/notebooks/preprocess-raw-001.ipynb Cell 1\u001b[0m line \u001b[0;36m2\n\u001b[1;32m      <a href='vscode-notebook-cell:/Users/ashwineekumarpandey/Documents/Academics/Masters/SU_MS_MLAI/Modules/ResearchProject/mlai-research/notebooks/preprocess-raw-001.ipynb#W0sZmlsZQ%3D%3D?line=0'>1</a>\u001b[0m \u001b[39mimport\u001b[39;00m \u001b[39mrasterio\u001b[39;00m\n\u001b[0;32m----> <a href='vscode-notebook-cell:/Users/ashwineekumarpandey/Documents/Academics/Masters/SU_MS_MLAI/Modules/ResearchProject/mlai-research/notebooks/preprocess-raw-001.ipynb#W0sZmlsZQ%3D%3D?line=1'>2</a>\u001b[0m \u001b[39mimport\u001b[39;00m \u001b[39mrioxarray\u001b[39;00m \u001b[39mas\u001b[39;00m \u001b[39mriox\u001b[39;00m\n\u001b[1;32m      <a href='vscode-notebook-cell:/Users/ashwineekumarpandey/Documents/Academics/Masters/SU_MS_MLAI/Modules/ResearchProject/mlai-research/notebooks/preprocess-raw-001.ipynb#W0sZmlsZQ%3D%3D?line=2'>3</a>\u001b[0m \u001b[39mimport\u001b[39;00m \u001b[39mrasterio\u001b[39;00m\u001b[39m.\u001b[39;00m\u001b[39mplot\u001b[39;00m\n\u001b[1;32m      <a href='vscode-notebook-cell:/Users/ashwineekumarpandey/Documents/Academics/Masters/SU_MS_MLAI/Modules/ResearchProject/mlai-research/notebooks/preprocess-raw-001.ipynb#W0sZmlsZQ%3D%3D?line=3'>4</a>\u001b[0m \u001b[39mfrom\u001b[39;00m \u001b[39mrasterio\u001b[39;00m\u001b[39m.\u001b[39;00m\u001b[39mio\u001b[39;00m \u001b[39mimport\u001b[39;00m MemoryFile\n",
      "\u001b[0;31mModuleNotFoundError\u001b[0m: No module named 'rioxarray'"
     ]
    }
   ],
   "source": [
    "import rasterio\n",
    "import rioxarray as riox\n",
    "import rasterio.plot\n",
    "from rasterio.io import MemoryFile\n",
    "from rasterio.mask import mask\n",
    "from rasterio.enums import Resampling\n",
    "from rasterio.warp import reproject, Resampling\n",
    "from shapely.geometry import box\n",
    "import earthpy as et\n",
    "import earthpy.plot as ep\n",
    "import earthpy.spatial as es\n",
    "import numpy as np\n",
    "import matplotlib.pyplot as plt\n",
    "import os\n",
    "import geopandas as gpd\n",
    "import log"
   ]
  },
  {
   "cell_type": "markdown",
   "metadata": {},
   "source": []
  },
  {
   "cell_type": "code",
   "execution_count": 2,
   "metadata": {},
   "outputs": [],
   "source": [
    "logger = log.get_logger(__name__)"
   ]
  },
  {
   "cell_type": "code",
   "execution_count": 3,
   "metadata": {},
   "outputs": [],
   "source": [
    "def load_raster(path):\n",
    "    # Load raster data\n",
    "    img = rasterio.open(path)\n",
    "    logger.info(f\"Loaded image: {path}\")\n",
    "    logger.info(f\"Image channels: {img.count}\")\n",
    "    logger.info(f\"Image size: {img.width}x{img.height}\")\n",
    "    logger.info(f\"Image crs: {img.crs}\")\n",
    "    logger.info(f\"Image bounds: {img.bounds}\")\n",
    "    logger.info(f\"Image transform: {img.transform}\")\n",
    "    return img\n",
    "\n",
    "\n",
    "def sync_crs(gdf, rasterimg) -> bool: \n",
    "    if gdf.crs != rasterimg.crs:\n",
    "        gdf = gdf.set_crs(str(rasterimg.crs))\n",
    "    return gdf\n",
    "\n",
    "def load_data(raw_dir, fn_ms, fn_rgb, fn_dsm, fn_dtm, fn_shp):\n",
    "    imgs = {}\n",
    "    # 10 bands of Advanced Camera image (multispectral)\n",
    "    # 3 bands of Normal Camera image\n",
    "    # 1 band of Digital Surface Model\n",
    "    # 1 band of Digital Terrain Model\n",
    "    imgs[\"ms\"] = load_raster(f\"{raw_dir}{fn_ms}\")\n",
    "    imgs[\"rgb\"] = load_raster(f\"{raw_dir}{fn_rgb}\")\n",
    "    imgs[\"dsm\"] = load_raster(f\"{raw_dir}{fn_dsm}\")\n",
    "    imgs[\"dtm\"] = load_raster(f\"{raw_dir}{fn_dtm}\")\n",
    "    # Load shapefile\n",
    "    gdf = gpd.read_file(f\"{raw_dir}{fn_shp}\")\n",
    "    return imgs, gdf\n",
    "\n",
    "\n",
    "def get_bbox(imgs: dict):\n",
    "    box1 = box(*imgs[\"ms\"].bounds)\n",
    "    box2 = box(*imgs[\"rgb\"].bounds)\n",
    "    box3 = box(*imgs[\"dsm\"].bounds)\n",
    "    box4 = box(*imgs[\"dtm\"].bounds)\n",
    "\n",
    "    intersect = box1.intersection(box2)\n",
    "    intersect = intersect.intersection(box3)\n",
    "    intersect = intersect.intersection(box4)\n",
    "\n",
    "    return intersect\n",
    "\n",
    "\n",
    "def clip_raster_to_bounds(name, path_int, raster, target_bounds):\n",
    "    # Create a polygon from the target bounds\n",
    "    target_polygon = box(*target_bounds)\n",
    "\n",
    "    # Clip the raster using the target polygon\n",
    "    clipped_data, clipped_transform = mask(raster, [target_polygon], crop=True)\n",
    "\n",
    "    # Update the raster metadata\n",
    "    clipped_meta = raster.meta.copy()\n",
    "    clipped_meta.update({\n",
    "        'transform': clipped_transform,\n",
    "        'height': clipped_data.shape[1],\n",
    "        'width': clipped_data.shape[2]\n",
    "    })\n",
    "\n",
    "    # Create a new raster dataset with the clipped data and metadata\n",
    "    with rasterio.open(f\"{path_int}clipped/{name}.tif\", \"w\", **clipped_meta) as dst:\n",
    "        dst.write(clipped_data)\n",
    "\n",
    "    # Return the clipped raster dataset\n",
    "    return rasterio.open(f\"{path_int}clipped/{name}.tif\")\n",
    "\n",
    "\n",
    "def resample_raster(name, path_int, raster, target_resolution):\n",
    "    scale_x = target_resolution / raster.res[0]\n",
    "    scale_y = target_resolution / raster.res[1]\n",
    "\n",
    "    new_width = int(raster.width * scale_x)\n",
    "    new_height = int(raster.height * scale_y)\n",
    "\n",
    "    profile = raster.profile.copy()\n",
    "    profile.update(width=new_width, height=new_height)\n",
    "\n",
    "    # Update the transform property to maintain the original extent\n",
    "    new_transform = raster.transform * rasterio.Affine.scale(scale_x, scale_y)\n",
    "    profile.update(transform=new_transform)\n",
    "\n",
    "    with rasterio.open(f\"{path_int}resampled/{name}.tif\", \"w\", **profile) as dst:\n",
    "        for i in range(1, raster.count + 1):\n",
    "            data = raster.read(i, out_shape=(new_height, new_width), resampling=Resampling.bilinear)\n",
    "            dst.write(data, i)\n",
    "\n",
    "    return rasterio.open(f\"{path_int}resampled/{name}.tif\")\n",
    "\n",
    "\n",
    "def align_rasters(name, path_int, src_raster, ref_raster, ):\n",
    "    profile = ref_raster.profile.copy()\n",
    "    aligned_data = []\n",
    "\n",
    "    for i in range(1, src_raster.count + 1):\n",
    "        src_data = src_raster.read(i)\n",
    "        ref_data = np.empty((ref_raster.height, ref_raster.width), dtype=src_data.dtype)\n",
    "        reproject(\n",
    "            src_data,\n",
    "            ref_data,\n",
    "            src_transform=src_raster.transform,\n",
    "            src_crs=src_raster.crs,\n",
    "            dst_transform=ref_raster.transform,\n",
    "            dst_crs=ref_raster.crs,\n",
    "            resampling=Resampling.nearest\n",
    "        )\n",
    "        aligned_data.append(ref_data)\n",
    "\n",
    "    profile.update(count=len(aligned_data))\n",
    "\n",
    "    with rasterio.open(f\"{path_int}aligned/{name}.tif\", \"w\", **profile) as dst:\n",
    "        for i, data in enumerate(aligned_data, start=1):\n",
    "            dst.write(data, i)\n",
    "\n",
    "    return rasterio.open(f\"{path_int}aligned/{name}.tif\")"
   ]
  },
  {
   "cell_type": "markdown",
   "metadata": {},
   "source": []
  },
  {
   "cell_type": "code",
   "execution_count": 4,
   "metadata": {},
   "outputs": [],
   "source": [
    "path_raw = \"../data/01_raw/data_masked_letaba/\"\n",
    "fn_ms = \"ortho_multispect_15cm_aoi.tif\"\n",
    "fn_rgb = \"ortho_rgb_7cm_aoi.tif\"\n",
    "fn_dsm = \"dsm_28cm_mask.tif\"\n",
    "fn_dtm = \"dtm_28cm_mask.tif\"\n",
    "fn_shp = \"letaba_invasives_june21_utm.shp\"\n",
    "path_int = \"../data/02_intermediate/\""
   ]
  },
  {
   "cell_type": "code",
   "execution_count": 5,
   "metadata": {},
   "outputs": [
    {
     "name": "stderr",
     "output_type": "stream",
     "text": [
      "02-Nov-23 00:48:53 - INFO - Loaded image: ../data/01_raw/data_masked_letaba/ortho_multispect_15cm_aoi.tif\n",
      "02-Nov-23 00:48:53 - INFO - Image channels: 10\n",
      "02-Nov-23 00:48:53 - INFO - Image size: 10101x10592\n",
      "02-Nov-23 00:48:53 - INFO - Image crs: EPSG:32736\n",
      "02-Nov-23 00:48:53 - INFO - Image bounds: BoundingBox(left=362292.84996986337, bottom=7356585.965293335, right=363843.98982419644, top=7358212.504589749)\n",
      "02-Nov-23 00:48:53 - INFO - Image transform: | 0.15, 0.00, 362292.85|\n",
      "| 0.00,-0.15, 7358212.50|\n",
      "| 0.00, 0.00, 1.00|\n",
      "02-Nov-23 00:48:53 - INFO - Loaded image: ../data/01_raw/data_masked_letaba/ortho_rgb_7cm_aoi.tif\n",
      "02-Nov-23 00:48:53 - INFO - Image channels: 4\n",
      "02-Nov-23 00:48:53 - INFO - Image size: 22379x23468\n",
      "02-Nov-23 00:48:53 - INFO - Image crs: EPSG:32736\n",
      "02-Nov-23 00:48:53 - INFO - Image bounds: BoundingBox(left=362292.7879142576, bottom=7356585.87461337, right=363843.97933615686, top=7358212.5496497555)\n",
      "02-Nov-23 00:48:53 - INFO - Image transform: | 0.07, 0.00, 362292.79|\n",
      "| 0.00,-0.07, 7358212.55|\n",
      "| 0.00, 0.00, 1.00|\n",
      "02-Nov-23 00:48:53 - INFO - Loaded image: ../data/01_raw/data_masked_letaba/dsm_28cm_mask.tif\n",
      "02-Nov-23 00:48:53 - INFO - Image channels: 1\n",
      "02-Nov-23 00:48:53 - INFO - Image size: 5594x5866\n",
      "02-Nov-23 00:48:53 - INFO - Image crs: EPSG:32736\n",
      "02-Nov-23 00:48:53 - INFO - Image bounds: BoundingBox(left=362292.7863346958, bottom=7356585.953402431, right=363843.76758202945, top=7358212.348826846)\n",
      "02-Nov-23 00:48:53 - INFO - Image transform: | 0.28, 0.00, 362292.79|\n",
      "| 0.00,-0.28, 7358212.35|\n",
      "| 0.00, 0.00, 1.00|\n",
      "02-Nov-23 00:48:53 - INFO - Loaded image: ../data/01_raw/data_masked_letaba/dtm_28cm_mask.tif\n",
      "02-Nov-23 00:48:53 - INFO - Image channels: 1\n",
      "02-Nov-23 00:48:53 - INFO - Image size: 5594x5866\n",
      "02-Nov-23 00:48:53 - INFO - Image crs: EPSG:32736\n",
      "02-Nov-23 00:48:53 - INFO - Image bounds: BoundingBox(left=362292.7863346958, bottom=7356585.953402431, right=363843.76758202945, top=7358212.348826846)\n",
      "02-Nov-23 00:48:53 - INFO - Image transform: | 0.28, 0.00, 362292.79|\n",
      "| 0.00,-0.28, 7358212.35|\n",
      "| 0.00, 0.00, 1.00|\n"
     ]
    }
   ],
   "source": [
    "imgs, gdf = load_data(path_raw, fn_ms, fn_rgb, fn_dsm, fn_dtm, fn_shp)\n"
   ]
  },
  {
   "cell_type": "code",
   "execution_count": 6,
   "metadata": {},
   "outputs": [],
   "source": [
    "intersecting_box = get_bbox(imgs)\n",
    "target_bounds = intersecting_box.bounds"
   ]
  },
  {
   "cell_type": "code",
   "execution_count": 7,
   "metadata": {},
   "outputs": [],
   "source": [
    "rgb_clipped = clip_raster_to_bounds('rgb', path_int, imgs['rgb'], target_bounds)\n",
    "ms_clipped = clip_raster_to_bounds('ms', path_int, imgs['ms'], target_bounds)\n",
    "dsm_clipped = clip_raster_to_bounds('dsm', path_int, imgs['dsm'], target_bounds)\n",
    "dtm_clipped = clip_raster_to_bounds('dtm', path_int, imgs['dtm'], target_bounds)"
   ]
  },
  {
   "cell_type": "code",
   "execution_count": 8,
   "metadata": {},
   "outputs": [],
   "source": [
    "target_resolution = 0.28"
   ]
  },
  {
   "cell_type": "code",
   "execution_count": null,
   "metadata": {},
   "outputs": [],
   "source": [
    "#downsample raster\n",
    "rgb_down_sampled = rgb_clipped.rio.reproject(raster.rio.crs, shape=(int(new_height), int(new_width)), resampling=Resampling.bilinear)\n",
    " "
   ]
  },
  {
   "cell_type": "code",
   "execution_count": 9,
   "metadata": {},
   "outputs": [],
   "source": [
    "rgb_resampled = resample_raster('rgb', path_int, rgb_clipped, target_resolution)\n",
    "ms_resampled = resample_raster('ms', path_int, ms_clipped, target_resolution)"
   ]
  },
  {
   "cell_type": "code",
   "execution_count": 10,
   "metadata": {},
   "outputs": [],
   "source": [
    "rgb_aligned = align_rasters('rgb', path_int, rgb_resampled, dsm_clipped)\n",
    "ms_aligned = align_rasters('ms', path_int, ms_resampled, dsm_clipped)"
   ]
  },
  {
   "cell_type": "code",
   "execution_count": 11,
   "metadata": {},
   "outputs": [
    {
     "name": "stderr",
     "output_type": "stream",
     "text": [
      "02-Nov-23 01:01:00 - INFO - | 0.28, 0.00, 362292.79|\n",
      "| 0.00,-0.28, 7358212.35|\n",
      "| 0.00, 0.00, 1.00|\n",
      "02-Nov-23 01:01:00 - INFO - | 0.28, 0.00, 362292.79|\n",
      "| 0.00,-0.28, 7358212.35|\n",
      "| 0.00, 0.00, 1.00|\n",
      "02-Nov-23 01:01:00 - INFO - | 0.28, 0.00, 362292.79|\n",
      "| 0.00,-0.28, 7358212.35|\n",
      "| 0.00, 0.00, 1.00|\n",
      "02-Nov-23 01:01:00 - INFO - | 0.28, 0.00, 362292.79|\n",
      "| 0.00,-0.28, 7358212.35|\n",
      "| 0.00, 0.00, 1.00|\n"
     ]
    }
   ],
   "source": [
    "logger.info(f\"{rgb_aligned.transform}\")\n",
    "logger.info(f\"{ms_aligned.transform}\")\n",
    "logger.info(f\"{dsm_clipped.transform}\")\n",
    "logger.info(f\"{dtm_clipped.transform}\")"
   ]
  },
  {
   "cell_type": "code",
   "execution_count": 12,
   "metadata": {},
   "outputs": [
    {
     "data": {
      "text/plain": [
       "{'driver': 'GTiff', 'dtype': 'float32', 'nodata': 0.0, 'width': 5594, 'height': 5866, 'count': 4, 'crs': CRS.from_epsg(32736), 'transform': Affine(0.2772579991658268, 0.0, 362292.7863346958,\n",
       "       0.0, -0.27725799938891194, 7358212.348826846), 'blockysize': 1, 'tiled': False, 'interleave': 'band'}"
      ]
     },
     "execution_count": 12,
     "metadata": {},
     "output_type": "execute_result"
    }
   ],
   "source": [
    " rgb_aligned.profile"
   ]
  },
  {
   "cell_type": "code",
   "execution_count": 13,
   "metadata": {},
   "outputs": [
    {
     "data": {
      "text/plain": [
       "{'driver': 'GTiff', 'dtype': 'float32', 'nodata': 0.0, 'width': 5594, 'height': 5866, 'count': 1, 'crs': CRS.from_epsg(32736), 'transform': Affine(0.2772579991658268, 0.0, 362292.7863346958,\n",
       "       0.0, -0.27725799938891194, 7358212.348826846), 'blockysize': 1, 'tiled': False, 'interleave': 'band'}"
      ]
     },
     "execution_count": 13,
     "metadata": {},
     "output_type": "execute_result"
    }
   ],
   "source": [
    "dtm_clipped.profile"
   ]
  },
  {
   "cell_type": "code",
   "execution_count": null,
   "metadata": {},
   "outputs": [],
   "source": []
  },
  {
   "cell_type": "code",
   "execution_count": null,
   "metadata": {},
   "outputs": [],
   "source": []
  },
  {
   "cell_type": "code",
   "execution_count": null,
   "metadata": {},
   "outputs": [],
   "source": [
    "def clip_gdf(gdf, bounds):\n",
    "    clipped_gdf = gdf[\n",
    "        (gdf.geometry.x > bounds.left) & \n",
    "        (gdf.geometry.x < bounds.right) &\n",
    "        (gdf.geometry.y > bounds.bottom) &\n",
    "        (gdf.geometry.y < bounds.top)\n",
    "    ]\n",
    "    return clipped_gdf"
   ]
  },
  {
   "cell_type": "code",
   "execution_count": null,
   "metadata": {},
   "outputs": [],
   "source": [
    "gdf = gpd.read_file(f\"{path_raw}{fn_shp}\")"
   ]
  },
  {
   "cell_type": "code",
   "execution_count": null,
   "metadata": {},
   "outputs": [],
   "source": [
    "clipped_gdf = clip_gdf(gdf, rgb_aligned.bounds)"
   ]
  },
  {
   "cell_type": "code",
   "execution_count": null,
   "metadata": {},
   "outputs": [],
   "source": [
    "gdf.shape"
   ]
  },
  {
   "cell_type": "code",
   "execution_count": null,
   "metadata": {},
   "outputs": [],
   "source": [
    "clipped_gdf.shape"
   ]
  },
  {
   "cell_type": "code",
   "execution_count": null,
   "metadata": {},
   "outputs": [],
   "source": [
    "clipped_gdf.Species.value_counts()"
   ]
  },
  {
   "cell_type": "code",
   "execution_count": null,
   "metadata": {},
   "outputs": [],
   "source": [
    "def plot_raster(gdf, rasterimg):\n",
    "    fig, ax = plt.subplots(figsize = (20,20))\n",
    "    rasterio.plot.show(rasterimg, ax=ax)\n",
    "    gdf.plot(column='Species',\n",
    "                   categorical=True,\n",
    "                   legend=True,\n",
    "                   # markersize=45,\n",
    "                   cmap=\"Set2\",\n",
    "                   ax=ax,\n",
    "            aspect=1)\n",
    "    ax.set_title(\"Letaba Points Subset\")\n",
    "    for x, y, label in zip(gdf.geometry.x, gdf.geometry.y, gdf.photoID):\n",
    "        ax.annotate(label, xy=(x, y), xytext=(3, 3), textcoords=\"offset points\")\n",
    "    plt.show()"
   ]
  },
  {
   "cell_type": "code",
   "execution_count": null,
   "metadata": {},
   "outputs": [],
   "source": [
    "# plot_raster(gdf, rgb_aligned)"
   ]
  },
  {
   "cell_type": "code",
   "execution_count": null,
   "metadata": {},
   "outputs": [],
   "source": [
    "def plot_raster(path, name):\n",
    "    with rasterio.open(f\"{path}{name}.tif\") as src:\n",
    "        raster_arr = src.read(1)\n",
    "    ep.plot_bands(raster_arr, title=name, cmap=\"Greys\")\n",
    "    plt.show()"
   ]
  },
  {
   "cell_type": "code",
   "execution_count": null,
   "metadata": {},
   "outputs": [],
   "source": [
    "# # Open the file using a context manager (\"with rio.open\" statement)\n",
    "# \n",
    "\n",
    "# ep.plot_bands(raster_arr, title=\"Your Title\", cmap=\"Greys\")\n",
    "# plt.show()"
   ]
  },
  {
   "cell_type": "code",
   "execution_count": null,
   "metadata": {},
   "outputs": [],
   "source": [
    "def plot_raster(path, name):\n",
    "    with rasterio.open(f\"{path}{name}.tif\") as src:\n",
    "        raster_arr = src.read(1)\n",
    "        extent = rasterio.transform.array_bounds(src.height, src.width, src.transform)\n",
    "    plt.imshow(raster_arr, cmap=\"Greys\", extent=extent)\n",
    "    plt.title(name)\n",
    "    plt.show()"
   ]
  },
  {
   "cell_type": "code",
   "execution_count": null,
   "metadata": {},
   "outputs": [],
   "source": [
    "plot_raster(f\"{path_int}clipped/\", name=\"rgb\")"
   ]
  },
  {
   "cell_type": "code",
   "execution_count": null,
   "metadata": {},
   "outputs": [],
   "source": [
    "plot_raster(f\"{path_int}aligned/\", name=\"rgb\")"
   ]
  },
  {
   "cell_type": "code",
   "execution_count": null,
   "metadata": {},
   "outputs": [],
   "source": []
  }
 ],
 "metadata": {
  "kernelspec": {
   "display_name": "mlai-research-qS1QhvN0-py3.9",
   "language": "python",
   "name": "python3"
  },
  "language_info": {
   "codemirror_mode": {
    "name": "ipython",
    "version": 3
   },
   "file_extension": ".py",
   "mimetype": "text/x-python",
   "name": "python",
   "nbconvert_exporter": "python",
   "pygments_lexer": "ipython3",
   "version": "3.9.12"
  }
 },
 "nbformat": 4,
 "nbformat_minor": 2
}
