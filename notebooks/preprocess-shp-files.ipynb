{
 "cells": [
  {
   "cell_type": "code",
   "execution_count": 5,
   "metadata": {},
   "outputs": [],
   "source": [
    "import sys\n",
    "sys.path.append('../mlai_research/')\n",
    "import log\n",
    "import utils\n",
    "import geopandas as gpd\n",
    "from shapely import wkb\n",
    "import pandas as pd"
   ]
  },
  {
   "cell_type": "code",
   "execution_count": 6,
   "metadata": {},
   "outputs": [
    {
     "name": "stderr",
     "output_type": "stream",
     "text": [
      "16-Nov-23 00:41:49 - INFO - Starting 'load_config'.\n",
      "16-Nov-23 00:41:49 - INFO - Finished 'load_config' in 0.0249 secs.\n"
     ]
    }
   ],
   "source": [
    "logger = log.get_logger(__name__)\n",
    "conf = utils.load_config(\"base\")"
   ]
  },
  {
   "cell_type": "code",
   "execution_count": 7,
   "metadata": {},
   "outputs": [],
   "source": [
    "def check_crs(gdf1, gdf2) -> bool: \n",
    "    if gdf1.crs == gdf2.crs:\n",
    "        return True\n",
    "    else:\n",
    "        print(\"Error: The CRS for the shape files does not match.\")\n",
    "        return False\n",
    "    \n",
    "    \n",
    "def load_shp_data(dir_path, filename1, filename2):\n",
    "    gdf1 = gpd.read_file(f\"{dir_path}{filename1}\") # import shapefile using geopandas\n",
    "    logger.info(f\"{filename1} Shape: {gdf1.shape}\")\n",
    "    gdf2 = gpd.read_file(f\"{dir_path}{filename2}\") # import shapefile using geopandas\n",
    "    logger.info(f\"{filename2} Shape: {gdf2.shape}\")\n",
    "    return gdf1, gdf2\n",
    "\n",
    "\n",
    "def select_subset_cols(df, subset_cols):\n",
    "    return df[subset_cols]\n",
    "\n",
    "\n",
    "def geom_drop_z_dim(df):\n",
    "    _drop_z = lambda geom: wkb.loads(wkb.dumps(geom, output_dimension=2))\n",
    "    df.geometry = df.geometry.transform(_drop_z)\n",
    "    return df\n",
    "\n",
    "\n",
    "def process_shp_files(gdf1, gdf2):\n",
    "    fil_gdf1 = select_subset_cols(gdf1, subset_cols=['Species', 'geometry'])\n",
    "    fil_gdf1 = geom_drop_z_dim(fil_gdf1)\n",
    "    fil_gdf2 = select_subset_cols(gdf2, subset_cols=['tag', 'geometry'])\n",
    "    fil_gdf2 = fil_gdf2.rename(columns={'tag': 'Species'})\n",
    "    return fil_gdf1, fil_gdf2\n",
    "\n",
    "\n",
    "def filter_relevant_species(df):\n",
    "    # logger.info(f\"Species value counts (original label): {df['Species'].value_counts()}\")\n",
    "    species_map = {\"Xanthium strumarium\" : \"Xanthium\",\n",
    "              \"Datura stramonium\": \"Datura\",\n",
    "               \"Xanthium\": \"Xanthium\",\n",
    "               \"Datura\": \"Datura\"}\n",
    "    df['Species'] = df['Species'].map(species_map).fillna('Other')\n",
    "    return df\n",
    "\n",
    "\n",
    "def sync_crs(gdf, rasterimg) -> bool: \n",
    "    if gdf.crs != rasterimg.crs:\n",
    "        gdf = gdf.set_crs(str(rasterimg.crs))\n",
    "    return gdf"
   ]
  },
  {
   "cell_type": "code",
   "execution_count": 8,
   "metadata": {},
   "outputs": [
    {
     "name": "stderr",
     "output_type": "stream",
     "text": [
      "16-Nov-23 00:41:49 - INFO - letaba_invasives_june21.shp Shape: (153, 14)\n",
      "16-Nov-23 00:41:49 - INFO - letaba_invasives_june21.shp Shape: (153, 14)\n",
      "16-Nov-23 00:41:49 - INFO - classification_points_wynand.shp Shape: (153, 3)\n",
      "16-Nov-23 00:41:49 - INFO - classification_points_wynand.shp Shape: (153, 3)\n",
      "/opt/homebrew/Caskroom/miniforge/base/envs/mlai_rp2/lib/python3.9/site-packages/geopandas/geodataframe.py:1543: SettingWithCopyWarning: \n",
      "A value is trying to be set on a copy of a slice from a DataFrame.\n",
      "Try using .loc[row_indexer,col_indexer] = value instead\n",
      "\n",
      "See the caveats in the documentation: https://pandas.pydata.org/pandas-docs/stable/user_guide/indexing.html#returning-a-view-versus-a-copy\n",
      "  super().__setitem__(key, value)\n"
     ]
    }
   ],
   "source": [
    "gdf1, gdf2 = load_shp_data(f\"{conf.data.path_raw}classification_points/\", conf.data.fn_shp_raw1, conf.data.fn_shp_raw2)\n",
    "if check_crs(gdf1, gdf2):\n",
    "    fil_gdf1, fil_gdf2 = process_shp_files(gdf1, gdf2)\n",
    "    comb_gdf = pd.concat([fil_gdf1, fil_gdf2]).reset_index(drop=True)\n",
    "    fil_comb_gdf = filter_relevant_species(comb_gdf)\n",
    "    fil_comb_gdf['pid'] = list(range(len(fil_comb_gdf)))\n",
    "    fil_comb_gdf.to_file(f\"{conf.data.path_base_points}{conf.data.fn_shp_combined}\", driver='ESRI Shapefile')"
   ]
  },
  {
   "cell_type": "code",
   "execution_count": 9,
   "metadata": {},
   "outputs": [
    {
     "data": {
      "text/plain": [
       "(306, 2)"
      ]
     },
     "execution_count": 9,
     "metadata": {},
     "output_type": "execute_result"
    }
   ],
   "source": [
    "fil_comb_gdf.shape"
   ]
  },
  {
   "cell_type": "code",
   "execution_count": 13,
   "metadata": {},
   "outputs": [
    {
     "data": {
      "text/html": [
       "<div>\n",
       "<style scoped>\n",
       "    .dataframe tbody tr th:only-of-type {\n",
       "        vertical-align: middle;\n",
       "    }\n",
       "\n",
       "    .dataframe tbody tr th {\n",
       "        vertical-align: top;\n",
       "    }\n",
       "\n",
       "    .dataframe thead th {\n",
       "        text-align: right;\n",
       "    }\n",
       "</style>\n",
       "<table border=\"1\" class=\"dataframe\">\n",
       "  <thead>\n",
       "    <tr style=\"text-align: right;\">\n",
       "      <th></th>\n",
       "      <th>Species</th>\n",
       "      <th>geometry</th>\n",
       "      <th>pid</th>\n",
       "    </tr>\n",
       "  </thead>\n",
       "  <tbody>\n",
       "    <tr>\n",
       "      <th>0</th>\n",
       "      <td>Other</td>\n",
       "      <td>POINT (340729.445 7371235.519)</td>\n",
       "      <td>0</td>\n",
       "    </tr>\n",
       "    <tr>\n",
       "      <th>1</th>\n",
       "      <td>Other</td>\n",
       "      <td>POINT (340722.163 7371248.913)</td>\n",
       "      <td>1</td>\n",
       "    </tr>\n",
       "    <tr>\n",
       "      <th>2</th>\n",
       "      <td>Other</td>\n",
       "      <td>POINT (340713.499 7371248.818)</td>\n",
       "      <td>2</td>\n",
       "    </tr>\n",
       "    <tr>\n",
       "      <th>3</th>\n",
       "      <td>Xanthium</td>\n",
       "      <td>POINT (340717.911 7371249.236)</td>\n",
       "      <td>3</td>\n",
       "    </tr>\n",
       "    <tr>\n",
       "      <th>4</th>\n",
       "      <td>Other</td>\n",
       "      <td>POINT (340701.246 7371250.714)</td>\n",
       "      <td>4</td>\n",
       "    </tr>\n",
       "  </tbody>\n",
       "</table>\n",
       "</div>"
      ],
      "text/plain": [
       "    Species                        geometry  pid\n",
       "0     Other  POINT (340729.445 7371235.519)    0\n",
       "1     Other  POINT (340722.163 7371248.913)    1\n",
       "2     Other  POINT (340713.499 7371248.818)    2\n",
       "3  Xanthium  POINT (340717.911 7371249.236)    3\n",
       "4     Other  POINT (340701.246 7371250.714)    4"
      ]
     },
     "execution_count": 13,
     "metadata": {},
     "output_type": "execute_result"
    }
   ],
   "source": [
    "fil_comb_gdf.head()"
   ]
  },
  {
   "cell_type": "code",
   "execution_count": 11,
   "metadata": {},
   "outputs": [
    {
     "data": {
      "text/plain": [
       "Species\n",
       "Xanthium    142\n",
       "Other        88\n",
       "Datura       76\n",
       "Name: count, dtype: int64"
      ]
     },
     "execution_count": 11,
     "metadata": {},
     "output_type": "execute_result"
    }
   ],
   "source": [
    "fil_comb_gdf['Species'].value_counts()"
   ]
  },
  {
   "cell_type": "code",
   "execution_count": 12,
   "metadata": {},
   "outputs": [],
   "source": []
  },
  {
   "cell_type": "code",
   "execution_count": null,
   "metadata": {},
   "outputs": [],
   "source": []
  }
 ],
 "metadata": {
  "kernelspec": {
   "display_name": "mlai_rp2",
   "language": "python",
   "name": "python3"
  },
  "language_info": {
   "codemirror_mode": {
    "name": "ipython",
    "version": 3
   },
   "file_extension": ".py",
   "mimetype": "text/x-python",
   "name": "python",
   "nbconvert_exporter": "python",
   "pygments_lexer": "ipython3",
   "version": "3.9.12"
  }
 },
 "nbformat": 4,
 "nbformat_minor": 2
}
