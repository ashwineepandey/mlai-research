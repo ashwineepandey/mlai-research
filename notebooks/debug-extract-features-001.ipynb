{
 "cells": [
  {
   "cell_type": "code",
   "execution_count": 1,
   "metadata": {},
   "outputs": [],
   "source": [
    "import os\n",
    "import sys\n",
    "sys.path.append('../mlai_research/')\n",
    "import log\n",
    "import utils\n",
    "import cv2\n",
    "import numpy as np\n",
    "from skimage.feature import graycomatrix, graycoprops\n",
    "from skimage.measure import regionprops\n",
    "import rasterio\n",
    "import matplotlib.pyplot as plt\n",
    "import torch\n",
    "import torch.nn as nn\n",
    "from torchvision import models\n",
    "import pandas as pd"
   ]
  },
  {
   "cell_type": "code",
   "execution_count": 2,
   "metadata": {},
   "outputs": [
    {
     "name": "stderr",
     "output_type": "stream",
     "text": [
      "24-Dec-23 23:31:08 - INFO - Starting 'load_config'.\n",
      "24-Dec-23 23:31:08 - INFO - Finished 'load_config' in 0.0216 secs.\n"
     ]
    }
   ],
   "source": [
    "logger = log.get_logger(__name__)\n",
    "conf = utils.load_config(\"base\")"
   ]
  },
  {
   "cell_type": "code",
   "execution_count": 3,
   "metadata": {},
   "outputs": [],
   "source": [
    "\n",
    "def plot_cropped_images(images, titles, ncols=3):\n",
    "    \"\"\"Plot a list of loaded images.\n",
    "    \n",
    "    Args:\n",
    "        images (list): List of loaded images.\n",
    "        titles (list): List of titles for the images.\n",
    "        ncols (int): Number of columns for the subplot grid.\n",
    "    \"\"\"\n",
    "    nrows = len(images) // ncols + (len(images) % ncols > 0) # calculate number of rows\n",
    "\n",
    "    plt.figure(figsize=(10, 10))\n",
    "    plt.suptitle('Cropped Images', fontsize=18, y=0.95)\n",
    "\n",
    "    for n, img in enumerate(images):\n",
    "        # add a new subplot iteratively using nrows and cols\n",
    "        ax = plt.subplot(nrows, ncols, n + 1)\n",
    "        # Plot raster crop\n",
    "        ax.imshow(img)\n",
    "        # chart formatting\n",
    "        ax.set_title(os.path.basename(titles[n]), fontsize=8)\n",
    "        ax.axis('off')\n",
    "    plt.show()\n",
    "\n",
    "\n",
    "def extract_color_histogram(image: np.ndarray, bins: int = 32) -> np.ndarray:\n",
    "    \"\"\"\n",
    "    Extracts the color histogram from the input image.\n",
    "\n",
    "    Parameters:\n",
    "    - image (numpy.ndarray): The input image.\n",
    "    - bins (int): The number of bins for the histogram.\n",
    "\n",
    "    Returns:\n",
    "    - numpy.ndarray: The color histogram.\n",
    "    \"\"\"\n",
    "    # Compute the histogram of the RGB channels separately\n",
    "    rhist = cv2.calcHist([image], [0], None, [bins], [0, 256])\n",
    "    ghist = cv2.calcHist([image], [1], None, [bins], [0, 256])\n",
    "    bhist = cv2.calcHist([image], [2], None, [bins], [0, 256])\n",
    "\n",
    "    # Concatenate the histograms into a single feature vector\n",
    "    hist_features = np.concatenate([rhist, ghist, bhist])\n",
    "\n",
    "    # Normalize the histogram\n",
    "    cv2.normalize(hist_features, hist_features)\n",
    "    logger.info(f'Color histogram shape: {hist_features.shape}')\n",
    "    return hist_features\n",
    "\n",
    "\n",
    "def extract_texture_features(image: np.ndarray) -> np.ndarray:\n",
    "    \"\"\"\n",
    "    Extracts texture features from the input image.\n",
    "\n",
    "    Parameters:\n",
    "    - image (numpy.ndarray): The input image.\n",
    "\n",
    "    Returns:\n",
    "    - numpy.ndarray: The texture features.\n",
    "    \"\"\"\n",
    "    # Convert the image to uint8\n",
    "    image_uint8 = (image * 255).astype(np.uint8)\n",
    "\n",
    "    # Convert the image to grayscale\n",
    "    gray_image = cv2.cvtColor(image_uint8, cv2.COLOR_RGB2GRAY)\n",
    "\n",
    "    # Compute the GLCM of the grayscale image\n",
    "    glcm = graycomatrix(gray_image, [1], [0, np.pi/4, np.pi/2, 3*np.pi/4])\n",
    "\n",
    "    # Compute texture features from the GLCM\n",
    "    contrast = graycoprops(glcm, 'contrast')\n",
    "    dissimilarity = graycoprops(glcm, 'dissimilarity')\n",
    "    homogeneity = graycoprops(glcm, 'homogeneity')\n",
    "    energy = graycoprops(glcm, 'energy')\n",
    "    correlation = graycoprops(glcm, 'correlation')\n",
    "\n",
    "    # Concatenate the texture features into a single feature vector\n",
    "    texture_features = np.concatenate([contrast, dissimilarity, homogeneity, energy, correlation])\n",
    "    \n",
    "    # Normalize the texture features\n",
    "    cv2.normalize(texture_features, texture_features)\n",
    "    logger.info(f'Texture features shape: {texture_features.shape}')\n",
    "    return texture_features\n",
    "\n",
    "\n",
    "def extract_shape_features(image: np.ndarray, max_descriptors=10) -> np.ndarray:\n",
    "    \"\"\"\n",
    "    Extracts shape features from the input image.\n",
    "\n",
    "    Parameters:\n",
    "    - image (numpy.ndarray): The input image.\n",
    "\n",
    "    Returns:\n",
    "    - numpy.ndarray: The shape features.\n",
    "    \"\"\"\n",
    "    # Convert the image to grayscale\n",
    "    gray_image = cv2.cvtColor(image, cv2.COLOR_RGB2GRAY)\n",
    "\n",
    "    # Normalize the image to have a depth of 8 bits\n",
    "    gray_image = cv2.normalize(gray_image, None, 0, 255, cv2.NORM_MINMAX).astype('uint8')\n",
    "    \n",
    "    # Initialize the SIFT feature extractor\n",
    "    sift = cv2.xfeatures2d.SIFT_create()\n",
    "\n",
    "    # Compute the SIFT features\n",
    "    keypoints, descriptors = sift.detectAndCompute(gray_image, None)\n",
    "\n",
    "    # Ensure that the shape of descriptors is consistent\n",
    "    # For example, you can take the first n descriptors if the shape is greater than n\n",
    "    # Choose an appropriate number based on your needs\n",
    "    if descriptors.shape[0] < max_descriptors:\n",
    "        # If fewer descriptors than expected, pad with zeros\n",
    "        pad_width = max_descriptors - descriptors.shape[0]\n",
    "        descriptors = np.pad(descriptors, ((0, pad_width), (0, 0)), mode='constant', constant_values=0)\n",
    "    elif descriptors.shape[0] > max_descriptors:\n",
    "        # If more descriptors than expected, truncate\n",
    "        descriptors = descriptors[:max_descriptors, :]\n",
    "\n",
    "    # Normalize the descriptors\n",
    "    cv2.normalize(descriptors, descriptors)\n",
    "\n",
    "    logger.info(f'Shape features shape: {descriptors.shape}')\n",
    "    return descriptors\n",
    "\n",
    "\n",
    "def extract_geometric_features(rgb_image):\n",
    "    \"\"\"\n",
    "    Extract geometric features from an RGB image of a leaf.\n",
    "\n",
    "    Parameters:\n",
    "    rgb_image (numpy.ndarray): RGB image of a leaf.\n",
    "\n",
    "    Returns:\n",
    "    numpy.ndarray: Array containing the geometric features.\n",
    "    \"\"\"\n",
    "    # Convert RGB image to grayscale\n",
    "    gray_image = cv2.cvtColor(rgb_image, cv2.COLOR_BGR2GRAY)\n",
    "\n",
    "    # Threshold the grayscale image to create a binary mask\n",
    "    _, binary_mask = cv2.threshold(gray_image, 0, 255, cv2.THRESH_BINARY + cv2.THRESH_OTSU)\n",
    "\n",
    "    # Get region properties from the binary mask\n",
    "    props = regionprops(binary_mask)\n",
    "\n",
    "    # Extract specific geometric features\n",
    "    area = props[0].area\n",
    "    perimeter = props[0].perimeter\n",
    "    eccentricity = props[0].eccentricity\n",
    "    extent = props[0].extent\n",
    "    aspect_ratio = props[0].major_axis_length / props[0].minor_axis_length\n",
    "    roundness = 4 * np.pi * area / (perimeter ** 2)\n",
    "    compactness = area / props[0].convex_area\n",
    "\n",
    "    # Combine features into a NumPy array\n",
    "    geometric_features = np.array([area, perimeter, eccentricity, extent, aspect_ratio, roundness, compactness])\n",
    "\n",
    "    cv2.normalize(geometric_features, geometric_features)\n",
    "\n",
    "    logger.info(f'Geometric features shape: {geometric_features.shape}')\n",
    "    return geometric_features\n",
    "\n",
    "\n",
    "def preprocess_input(x):\n",
    "    x = x.astype(np.float64)  # Convert the image to float64\n",
    "    mean = [0.485, 0.456, 0.406]\n",
    "    std = [0.229, 0.224, 0.225]\n",
    "    x /= 255.0\n",
    "    x = (x - mean) / std\n",
    "    return x\n",
    "\n",
    "\n",
    "def extract_resnet_features(img_data):\n",
    "    # Load the pre-trained ResNet50 model\n",
    "    base_model = models.resnet50(pretrained=True)\n",
    "    \n",
    "    # Remove the last layer (fully connected layer)\n",
    "    base_model = nn.Sequential(*list(base_model.children())[:-1])\n",
    "    \n",
    "    # Add an adaptive average pooling layer\n",
    "    base_model.add_module('GlobalAveragePooling', nn.AdaptiveAvgPool2d((1, 1)))\n",
    "    \n",
    "    # Convert the image data into a torch tensor, add a batch dimension, and transpose the image\n",
    "    img_data = torch.from_numpy(img_data).unsqueeze(0).permute(0, 3, 1, 2)\n",
    "\n",
    "    # Preprocess the image data\n",
    "    img_data = preprocess_input(img_data)\n",
    "    \n",
    "    # Convert the image data into a torch tensor and add a batch dimension\n",
    "    img_data = torch.from_numpy(img_data).unsqueeze(0)\n",
    "    \n",
    "    # Set the model to evaluation mode and extract features\n",
    "    base_model.eval()\n",
    "    with torch.no_grad():\n",
    "        res_feature = base_model(img_data)\n",
    "    \n",
    "    # Remove the batch dimension and convert the tensor to a numpy array\n",
    "    res_feature = res_feature.squeeze(0).numpy()\n",
    "    \n",
    "    return res_feature\n",
    "\n",
    "\n",
    "def get_rgb_features(rgb_image):\n",
    "    # Extract individual feature sets\n",
    "    color_histogram = extract_color_histogram(rgb_image)\n",
    "    texture_features = extract_texture_features(rgb_image)\n",
    "    shape_features = extract_shape_features(rgb_image)\n",
    "    geometric_features = extract_geometric_features(rgb_image)\n",
    "\n",
    "    # Concatenate features into a single feature vector\n",
    "    rgb_features = np.concatenate([color_histogram.flatten(), texture_features.flatten(), shape_features.flatten(), geometric_features.flatten()])\n",
    "\n",
    "    # # Normalize the combined feature vector if necessary\n",
    "    # combined_features = (combined_features - np.min(combined_features)) / (np.max(combined_features) - np.min(combined_features))\n",
    "    logger.info(f'RGB features shape: {rgb_features.shape}')\n",
    "    return rgb_features\n",
    "\n",
    "\n",
    "def get_chm_features(chm_data):\n",
    "    # Calculate basic statistics on the CHM data\n",
    "    mean_height = np.mean(chm_data)\n",
    "    max_height = np.max(chm_data)\n",
    "    min_height = np.min(chm_data)\n",
    "    height_range = max_height - min_height\n",
    "\n",
    "    # Concatenate all features into a single vector\n",
    "    chm_features = np.array([mean_height, max_height, min_height, height_range])\n",
    "    logger.info(f'CHM features shape: {chm_features.shape}')\n",
    "    return chm_features\n",
    "\n",
    "\n",
    "def get_hyperspectral_features(hyperspectral_data):\n",
    "    # Calculate mean and standard deviation for each spectral band\n",
    "    mean_spectrum = np.mean(hyperspectral_data, axis=(1, 2))\n",
    "    std_spectrum = np.std(hyperspectral_data, axis=(1, 2))\n",
    "\n",
    "    # Concatenate all features into a single vector\n",
    "    hyperspectral_features = np.concatenate((mean_spectrum, std_spectrum))\n",
    "    logger.info(f'Hyperspectral features shape: {hyperspectral_features.shape}')\n",
    "    return hyperspectral_features\n",
    "\n",
    "\n",
    "def combine_features(rgb_features, hyperspectral_features, chm_features):\n",
    "    # Combine features from all three sources into a single feature vector\n",
    "    combined_features = np.concatenate((rgb_features, hyperspectral_features, chm_features), axis=0)\n",
    "    logger.info(f'Combined features shape: {combined_features.shape}')\n",
    "    return combined_features\n",
    "\n",
    "\n",
    "def extract_label_from_filename(filename):\n",
    "    # Extract the label from the filename\n",
    "    return filename.split('_')[-2]\n",
    "\n",
    "\n",
    "def extract_pid_from_filename(filename):\n",
    "    # Extract the plot ID from the filename\n",
    "    return filename.split('_')[0]\n",
    "\n",
    "@utils.timer\n",
    "def process_images(rgb_fns, chm_fns, hyps_fns):\n",
    "    data = []\n",
    "    # Iterate over all the image files\n",
    "    for rgb_fn, chm_fn, hyps_fn in zip(rgb_fns, chm_fns, hyps_fns):\n",
    "        logger.info(f'Processing {rgb_fn}...')\n",
    "        # Load the images\n",
    "        rgb_img = utils.load_rgb_images([rgb_fn])[0]\n",
    "        chm_img = utils.load_grayscale_arrays([chm_fn])[0]\n",
    "        hyps_img = utils.load_hyperspectral_rasters([hyps_fn])[0]\n",
    "\n",
    "        # Extract features\n",
    "        rgb_features = get_rgb_features(rgb_img)\n",
    "        chm_features = get_chm_features(chm_img)\n",
    "        hyps_features = get_hyperspectral_features(hyps_img)\n",
    "\n",
    "        # Combine features\n",
    "        combined_features = np.concatenate((rgb_features, hyps_features, chm_features), axis=0)\n",
    "\n",
    "        # Extract label from filename\n",
    "        label = extract_label_from_filename(rgb_fn)\n",
    "        pid = extract_pid_from_filename(rgb_fn)\n",
    "\n",
    "        # Create a DataFrame for the current image\n",
    "        columns = ['pid', 'label'] + [f'f_{i}_{feature_type}' for feature_type, feature_set in [('rgb', rgb_features), ('hyps', hyps_features), ('chm', chm_features)] for i in range(len(feature_set))]\n",
    "        image_data = [pid, label] + combined_features.tolist()\n",
    "        image_df = pd.DataFrame([image_data], columns=columns)\n",
    "\n",
    "        # Append the DataFrame to the main data list\n",
    "        data.append(image_df)\n",
    "\n",
    "    # Concatenate all DataFrames into a single DataFrame\n",
    "    df = pd.concat(data, ignore_index=True)\n",
    "\n",
    "    return df"
   ]
  },
  {
   "cell_type": "code",
   "execution_count": 4,
   "metadata": {},
   "outputs": [
    {
     "name": "stderr",
     "output_type": "stream",
     "text": [
      "24-Dec-23 23:31:08 - INFO - Starting 'load_config'.\n",
      "24-Dec-23 23:31:08 - INFO - Finished 'load_config' in 0.0214 secs.\n"
     ]
    }
   ],
   "source": [
    "conf = utils.load_config('base')\n",
    "rgb_fns = utils.get_filenames(conf.data.path_pri, \"png\", 'rgb')\n",
    "chm_fns = utils.get_filenames(conf.data.path_pri, \"npy\", 'chm')\n",
    "hyps_fns = utils.get_filenames(conf.data.path_pri, \"tif\", 'hyps')\n",
    "rgb_fns = sorted(rgb_fns)\n",
    "chm_fns = sorted(chm_fns)\n",
    "hyps_fns = sorted(hyps_fns)"
   ]
  },
  {
   "cell_type": "code",
   "execution_count": 5,
   "metadata": {},
   "outputs": [],
   "source": [
    "data = []"
   ]
  },
  {
   "cell_type": "code",
   "execution_count": 6,
   "metadata": {},
   "outputs": [],
   "source": [
    "# rgb_fns = rgb_fns[:3]\n",
    "# chm_fns = chm_fns[:3]\n",
    "# hyps_fns = hyps_fns[:3]\n",
    "\n",
    "rgb_fn = rgb_fns[0]\n",
    "chm_fn = chm_fns[0]\n",
    "hyps_fn = hyps_fns[0]"
   ]
  },
  {
   "cell_type": "code",
   "execution_count": null,
   "metadata": {},
   "outputs": [],
   "source": []
  },
  {
   "cell_type": "code",
   "execution_count": 7,
   "metadata": {},
   "outputs": [
    {
     "name": "stderr",
     "output_type": "stream",
     "text": [
      "24-Dec-23 23:31:08 - INFO - Processing ../data/03_primary/1000_rgb_unk_masked.png...\n",
      "24-Dec-23 23:31:08 - INFO - Loaded RGB img shape: (87, 87, 3)\n",
      "24-Dec-23 23:31:08 - INFO - rgb_img shape: (87, 87, 3)\n",
      "24-Dec-23 23:31:08 - INFO - Color histogram shape: (96, 1)\n",
      "24-Dec-23 23:31:08 - INFO - Texture features shape: (5, 4)\n",
      "[ WARN:0@1.615] global shadow_sift.hpp:15 SIFT_create DEPRECATED: cv.xfeatures2d.SIFT_create() is deprecated due SIFT tranfer to the main repository. https://github.com/opencv/opencv/issues/16736\n",
      "24-Dec-23 23:31:08 - INFO - Shape features shape: (10, 128)\n",
      "24-Dec-23 23:31:08 - INFO - Geometric features shape: (7,)\n",
      "24-Dec-23 23:31:08 - INFO - RGB features shape: (1403,)\n"
     ]
    }
   ],
   "source": [
    "# for rgb_fn, chm_fn, hyps_fn in zip(rgb_fns, chm_fns, hyps_fns):\n",
    "logger.info(f'Processing {rgb_fn}...')\n",
    "# Load the images\n",
    "rgb_img = utils.load_rgb_images([rgb_fn])[0]\n",
    "logger.info(f'rgb_img shape: {rgb_img.shape}')\n",
    "# chm_img = utils.load_grayscale_arrays([chm_fn])[0]\n",
    "# logger.info(f'chm_img shape: {chm_img.shape}')\n",
    "# hyps_img = utils.load_hyperspectral_rasters([hyps_fn])[0]\n",
    "# logger.info(f'hyps_img shape: {hyps_img.shape}')\n",
    "rgb_features = get_rgb_features(rgb_img)"
   ]
  },
  {
   "cell_type": "code",
   "execution_count": 8,
   "metadata": {},
   "outputs": [
    {
     "data": {
      "image/png": "[encoded data removed]",
      "text/plain": [
       "<Figure size 640x480 with 1 Axes>"
      ]
     },
     "metadata": {},
     "output_type": "display_data"
    }
   ],
   "source": [
    "plt.imshow(rgb_img)\n",
    "plt.show()"
   ]
  },
  {
   "cell_type": "code",
   "execution_count": 10,
   "metadata": {},
   "outputs": [
    {
     "data": {
      "text/plain": [
       "414277"
      ]
     },
     "execution_count": 10,
     "metadata": {},
     "output_type": "execute_result"
    }
   ],
   "source": [
    "rgb_img.sum()"
   ]
  },
  {
   "cell_type": "code",
   "execution_count": 19,
   "metadata": {},
   "outputs": [
    {
     "name": "stderr",
     "output_type": "stream",
     "text": [
      "25-Dec-23 00:24:47 - INFO - Loaded RGB img shape: (87, 87, 3)\n"
     ]
    }
   ],
   "source": [
    "rgb2 = utils.load_rgb_images([\"../data/03_primary/1015_rgb_unk_masked.png\"])[0]"
   ]
  },
  {
   "cell_type": "code",
   "execution_count": 20,
   "metadata": {},
   "outputs": [
    {
     "data": {
      "image/png": "[encoded data removed]",
      "text/plain": [
       "<Figure size 640x480 with 1 Axes>"
      ]
     },
     "metadata": {},
     "output_type": "display_data"
    }
   ],
   "source": [
    "plt.imshow(rgb2)\n",
    "plt.show()"
   ]
  },
  {
   "cell_type": "code",
   "execution_count": 26,
   "metadata": {},
   "outputs": [],
   "source": [
    "def calculate_zero_pixel_percentage(rgb_image: np.ndarray) -> float:\n",
    "    \"\"\"\n",
    "    Calculate the percentage of zero-value pixels in an RGB image.\n",
    "\n",
    "    Args:\n",
    "        rgb_image (np.ndarray): The input RGB image as a NumPy array with shape (height, width, 3).\n",
    "\n",
    "    Returns:\n",
    "        float: The percentage of pixels in the image that are completely black (0, 0, 0).\n",
    "    \"\"\"\n",
    "    # Check if the image is empty or not an RGB image\n",
    "    if rgb_image.size == 0 or len(rgb_image.shape) != 3 or rgb_image.shape[2] != 3:\n",
    "        raise ValueError(\"Input is not a valid RGB image.\")\n",
    "\n",
    "    # Count the number of zero-value pixels\n",
    "    zero_pixels = np.all(rgb_image == 0, axis=2)\n",
    "    num_zero_pixels = np.count_nonzero(zero_pixels)\n",
    "\n",
    "    # Calculate the total number of pixels\n",
    "    total_pixels = rgb_image.shape[0] * rgb_image.shape[1]\n",
    "\n",
    "    # Calculate the percentage of zero-value pixels\n",
    "    zero_pixel_percentage = (num_zero_pixels / total_pixels) * 100\n",
    "\n",
    "    return zero_pixel_percentage"
   ]
  },
  {
   "cell_type": "code",
   "execution_count": 27,
   "metadata": {},
   "outputs": [
    {
     "data": {
      "text/plain": [
       "82.24336107808165"
      ]
     },
     "execution_count": 27,
     "metadata": {},
     "output_type": "execute_result"
    }
   ],
   "source": [
    "calculate_zero_pixel_percentage(rgb_img)"
   ]
  },
  {
   "cell_type": "code",
   "execution_count": 28,
   "metadata": {},
   "outputs": [
    {
     "data": {
      "text/plain": [
       "99.28656361474435"
      ]
     },
     "execution_count": 28,
     "metadata": {},
     "output_type": "execute_result"
    }
   ],
   "source": [
    "calculate_zero_pixel_percentage(rgb2)"
   ]
  },
  {
   "cell_type": "code",
   "execution_count": 24,
   "metadata": {},
   "outputs": [
    {
     "data": {
      "text/plain": [
       "(22707,)"
      ]
     },
     "execution_count": 24,
     "metadata": {},
     "output_type": "execute_result"
    }
   ],
   "source": [
    "rgb2.flatten().shape"
   ]
  },
  {
   "cell_type": "code",
   "execution_count": null,
   "metadata": {},
   "outputs": [],
   "source": []
  },
  {
   "cell_type": "code",
   "execution_count": 25,
   "metadata": {},
   "outputs": [
    {
     "data": {
      "text/plain": [
       "22707"
      ]
     },
     "execution_count": 25,
     "metadata": {},
     "output_type": "execute_result"
    }
   ],
   "source": [
    "3 * 87**2"
   ]
  },
  {
   "cell_type": "code",
   "execution_count": 22,
   "metadata": {},
   "outputs": [
    {
     "data": {
      "text/plain": [
       "22452"
      ]
     },
     "execution_count": 22,
     "metadata": {},
     "output_type": "execute_result"
    }
   ],
   "source": [
    "rgb2.sum()"
   ]
  },
  {
   "cell_type": "code",
   "execution_count": null,
   "metadata": {},
   "outputs": [],
   "source": [
    "\n",
    "    # Iterate over all the image files\n",
    "    \n",
    "        # Extract features\n",
    "        rgb_features = get_rgb_features(rgb_img)\n",
    "        chm_features = get_chm_features(chm_img)\n",
    "        hyps_features = get_hyperspectral_features(hyps_img)\n",
    "\n",
    "        # Combine features\n",
    "        combined_features = np.concatenate((rgb_features, hyps_features, chm_features), axis=0)\n",
    "\n",
    "        # Extract label from filename\n",
    "        label = extract_label_from_filename(rgb_fn)\n",
    "        pid = extract_pid_from_filename(rgb_fn)\n",
    "\n",
    "        # Create a DataFrame for the current image\n",
    "        columns = ['pid', 'label'] + [f'f_{i}_{feature_type}' for feature_type, feature_set in [('rgb', rgb_features), ('hyps', hyps_features), ('chm', chm_features)] for i in range(len(feature_set))]\n",
    "        image_data = [pid, label] + combined_features.tolist()\n",
    "        image_df = pd.DataFrame([image_data], columns=columns)\n",
    "\n",
    "        # Append the DataFrame to the main data list\n",
    "        data.append(image_df)"
   ]
  },
  {
   "cell_type": "code",
   "execution_count": null,
   "metadata": {},
   "outputs": [],
   "source": []
  },
  {
   "cell_type": "code",
   "execution_count": null,
   "metadata": {},
   "outputs": [],
   "source": []
  },
  {
   "cell_type": "code",
   "execution_count": 33,
   "metadata": {},
   "outputs": [],
   "source": [
    "df = pd.read_csv('../data/04_features/features.csv')"
   ]
  },
  {
   "cell_type": "code",
   "execution_count": 34,
   "metadata": {},
   "outputs": [
    {
     "data": {
      "text/plain": [
       "(331, 1583)"
      ]
     },
     "execution_count": 34,
     "metadata": {},
     "output_type": "execute_result"
    }
   ],
   "source": [
    "df.shape"
   ]
  },
  {
   "cell_type": "code",
   "execution_count": 35,
   "metadata": {},
   "outputs": [
    {
     "data": {
      "text/html": [
       "<div>\n",
       "<style scoped>\n",
       "    .dataframe tbody tr th:only-of-type {\n",
       "        vertical-align: middle;\n",
       "    }\n",
       "\n",
       "    .dataframe tbody tr th {\n",
       "        vertical-align: top;\n",
       "    }\n",
       "\n",
       "    .dataframe thead th {\n",
       "        text-align: right;\n",
       "    }\n",
       "</style>\n",
       "<table border=\"1\" class=\"dataframe\">\n",
       "  <thead>\n",
       "    <tr style=\"text-align: right;\">\n",
       "      <th></th>\n",
       "      <th>pid</th>\n",
       "      <th>label</th>\n",
       "      <th>f_0_rgb</th>\n",
       "      <th>f_1_rgb</th>\n",
       "      <th>f_2_rgb</th>\n",
       "      <th>f_3_rgb</th>\n",
       "      <th>f_4_rgb</th>\n",
       "      <th>f_5_rgb</th>\n",
       "      <th>f_6_rgb</th>\n",
       "      <th>f_7_rgb</th>\n",
       "      <th>...</th>\n",
       "      <th>f_168_hyps</th>\n",
       "      <th>f_169_hyps</th>\n",
       "      <th>f_170_hyps</th>\n",
       "      <th>f_171_hyps</th>\n",
       "      <th>f_172_hyps</th>\n",
       "      <th>f_173_hyps</th>\n",
       "      <th>f_0_chm</th>\n",
       "      <th>f_1_chm</th>\n",
       "      <th>f_2_chm</th>\n",
       "      <th>f_3_chm</th>\n",
       "    </tr>\n",
       "  </thead>\n",
       "  <tbody>\n",
       "    <tr>\n",
       "      <th>0</th>\n",
       "      <td>primary/1000</td>\n",
       "      <td>unk</td>\n",
       "      <td>0.020553</td>\n",
       "      <td>0.000000</td>\n",
       "      <td>0.000000</td>\n",
       "      <td>0.000000</td>\n",
       "      <td>0.000000</td>\n",
       "      <td>0.000003</td>\n",
       "      <td>0.000003</td>\n",
       "      <td>0.000096</td>\n",
       "      <td>...</td>\n",
       "      <td>0.652612</td>\n",
       "      <td>0.649662</td>\n",
       "      <td>0.471909</td>\n",
       "      <td>0.000000</td>\n",
       "      <td>0.000000</td>\n",
       "      <td>0.000000</td>\n",
       "      <td>0.006316</td>\n",
       "      <td>0.082213</td>\n",
       "      <td>0.0</td>\n",
       "      <td>0.082213</td>\n",
       "    </tr>\n",
       "    <tr>\n",
       "      <th>1</th>\n",
       "      <td>primary/1001</td>\n",
       "      <td>unk</td>\n",
       "      <td>0.010360</td>\n",
       "      <td>0.000000</td>\n",
       "      <td>0.000000</td>\n",
       "      <td>0.000000</td>\n",
       "      <td>0.000000</td>\n",
       "      <td>0.000000</td>\n",
       "      <td>0.000015</td>\n",
       "      <td>0.000102</td>\n",
       "      <td>...</td>\n",
       "      <td>0.000000</td>\n",
       "      <td>0.000000</td>\n",
       "      <td>0.000000</td>\n",
       "      <td>0.000000</td>\n",
       "      <td>0.000000</td>\n",
       "      <td>0.000000</td>\n",
       "      <td>0.002346</td>\n",
       "      <td>0.010360</td>\n",
       "      <td>0.0</td>\n",
       "      <td>0.010360</td>\n",
       "    </tr>\n",
       "    <tr>\n",
       "      <th>2</th>\n",
       "      <td>primary/1002</td>\n",
       "      <td>unk</td>\n",
       "      <td>0.019529</td>\n",
       "      <td>0.000000</td>\n",
       "      <td>0.000000</td>\n",
       "      <td>0.000000</td>\n",
       "      <td>0.000003</td>\n",
       "      <td>0.000014</td>\n",
       "      <td>0.000049</td>\n",
       "      <td>0.000088</td>\n",
       "      <td>...</td>\n",
       "      <td>0.000000</td>\n",
       "      <td>0.000000</td>\n",
       "      <td>0.000000</td>\n",
       "      <td>0.000000</td>\n",
       "      <td>0.000000</td>\n",
       "      <td>0.000000</td>\n",
       "      <td>0.000560</td>\n",
       "      <td>0.019529</td>\n",
       "      <td>0.0</td>\n",
       "      <td>0.019529</td>\n",
       "    </tr>\n",
       "    <tr>\n",
       "      <th>3</th>\n",
       "      <td>primary/1005</td>\n",
       "      <td>unk</td>\n",
       "      <td>0.017803</td>\n",
       "      <td>0.000008</td>\n",
       "      <td>0.000010</td>\n",
       "      <td>0.000013</td>\n",
       "      <td>0.000023</td>\n",
       "      <td>0.000058</td>\n",
       "      <td>0.000078</td>\n",
       "      <td>0.000131</td>\n",
       "      <td>...</td>\n",
       "      <td>0.000000</td>\n",
       "      <td>0.000000</td>\n",
       "      <td>0.000000</td>\n",
       "      <td>0.000000</td>\n",
       "      <td>0.000000</td>\n",
       "      <td>0.000000</td>\n",
       "      <td>0.000000</td>\n",
       "      <td>0.000000</td>\n",
       "      <td>0.0</td>\n",
       "      <td>0.000000</td>\n",
       "    </tr>\n",
       "    <tr>\n",
       "      <th>4</th>\n",
       "      <td>primary/1006</td>\n",
       "      <td>unk</td>\n",
       "      <td>0.003915</td>\n",
       "      <td>0.000000</td>\n",
       "      <td>0.000012</td>\n",
       "      <td>0.000048</td>\n",
       "      <td>0.000110</td>\n",
       "      <td>0.000216</td>\n",
       "      <td>0.000268</td>\n",
       "      <td>0.000484</td>\n",
       "      <td>...</td>\n",
       "      <td>0.251059</td>\n",
       "      <td>0.253447</td>\n",
       "      <td>0.253123</td>\n",
       "      <td>0.253309</td>\n",
       "      <td>0.249956</td>\n",
       "      <td>0.240173</td>\n",
       "      <td>0.001285</td>\n",
       "      <td>1.000000</td>\n",
       "      <td>0.0</td>\n",
       "      <td>1.000000</td>\n",
       "    </tr>\n",
       "  </tbody>\n",
       "</table>\n",
       "<p>5 rows × 1583 columns</p>\n",
       "</div>"
      ],
      "text/plain": [
       "            pid label   f_0_rgb   f_1_rgb   f_2_rgb   f_3_rgb   f_4_rgb  \\\n",
       "0  primary/1000   unk  0.020553  0.000000  0.000000  0.000000  0.000000   \n",
       "1  primary/1001   unk  0.010360  0.000000  0.000000  0.000000  0.000000   \n",
       "2  primary/1002   unk  0.019529  0.000000  0.000000  0.000000  0.000003   \n",
       "3  primary/1005   unk  0.017803  0.000008  0.000010  0.000013  0.000023   \n",
       "4  primary/1006   unk  0.003915  0.000000  0.000012  0.000048  0.000110   \n",
       "\n",
       "    f_5_rgb   f_6_rgb   f_7_rgb  ...  f_168_hyps  f_169_hyps  f_170_hyps  \\\n",
       "0  0.000003  0.000003  0.000096  ...    0.652612    0.649662    0.471909   \n",
       "1  0.000000  0.000015  0.000102  ...    0.000000    0.000000    0.000000   \n",
       "2  0.000014  0.000049  0.000088  ...    0.000000    0.000000    0.000000   \n",
       "3  0.000058  0.000078  0.000131  ...    0.000000    0.000000    0.000000   \n",
       "4  0.000216  0.000268  0.000484  ...    0.251059    0.253447    0.253123   \n",
       "\n",
       "   f_171_hyps  f_172_hyps  f_173_hyps   f_0_chm   f_1_chm  f_2_chm   f_3_chm  \n",
       "0    0.000000    0.000000    0.000000  0.006316  0.082213      0.0  0.082213  \n",
       "1    0.000000    0.000000    0.000000  0.002346  0.010360      0.0  0.010360  \n",
       "2    0.000000    0.000000    0.000000  0.000560  0.019529      0.0  0.019529  \n",
       "3    0.000000    0.000000    0.000000  0.000000  0.000000      0.0  0.000000  \n",
       "4    0.253309    0.249956    0.240173  0.001285  1.000000      0.0  1.000000  \n",
       "\n",
       "[5 rows x 1583 columns]"
      ]
     },
     "execution_count": 35,
     "metadata": {},
     "output_type": "execute_result"
    }
   ],
   "source": [
    "df.head()"
   ]
  },
  {
   "cell_type": "code",
   "execution_count": 32,
   "metadata": {},
   "outputs": [
    {
     "data": {
      "text/plain": [
       "unk         293\n",
       "Xanthium     13\n",
       "xan          13\n",
       "other         8\n",
       "Datura        2\n",
       "dat           2\n",
       "Name: label, dtype: int64"
      ]
     },
     "execution_count": 32,
     "metadata": {},
     "output_type": "execute_result"
    }
   ],
   "source": [
    "df.label.value_counts()"
   ]
  },
  {
   "cell_type": "code",
   "execution_count": null,
   "metadata": {},
   "outputs": [],
   "source": []
  }
 ],
 "metadata": {
  "kernelspec": {
   "display_name": "mlai_rp2",
   "language": "python",
   "name": "python3"
  },
  "language_info": {
   "codemirror_mode": {
    "name": "ipython",
    "version": 3
   },
   "file_extension": ".py",
   "mimetype": "text/x-python",
   "name": "python",
   "nbconvert_exporter": "python",
   "pygments_lexer": "ipython3",
   "version": "3.9.12"
  }
 },
 "nbformat": 4,
 "nbformat_minor": 2
}
