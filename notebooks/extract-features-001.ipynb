{
 "cells": [
  {
   "cell_type": "code",
   "execution_count": 1,
   "metadata": {},
   "outputs": [],
   "source": [
    "import sys\n",
    "sys.path.append('../mlai_research/')\n",
    "import log\n",
    "import utils\n",
    "import cv2\n",
    "import numpy as np\n",
    "from skimage.segmentation import felzenszwalb\n",
    "from skimage.color import rgb2hsv\n",
    "from skimage.filters import threshold_sauvola\n",
    "from skimage.segmentation import mark_boundaries\n",
    "from skimage.feature import graycomatrix, graycoprops\n",
    "import rasterio\n",
    "import glob\n",
    "import matplotlib.pyplot as plt"
   ]
  },
  {
   "cell_type": "code",
   "execution_count": 2,
   "metadata": {},
   "outputs": [
    {
     "name": "stderr",
     "output_type": "stream",
     "text": [
      "14-Nov-23 11:14:08 - INFO - Starting 'load_config'.\n",
      "14-Nov-23 11:14:08 - INFO - Finished 'load_config' in 0.0138 secs.\n"
     ]
    }
   ],
   "source": [
    "logger = log.get_logger(__name__)\n",
    "conf = utils.load_config('base')"
   ]
  },
  {
   "cell_type": "code",
   "execution_count": 3,
   "metadata": {},
   "outputs": [],
   "source": [
    "def load_cropped_tifs(path):\n",
    "    return glob.glob(f'{path}*.tif')\n",
    "\n",
    "def load_raster(image_path):\n",
    "    with rasterio.open(image_path) as src:\n",
    "        # Read the data and transpose the dimensions\n",
    "        raster_data = src.read().transpose(1, 2, 0)\n",
    "    return raster_data\n",
    "\n",
    "\n",
    "def normalize_image(image: np.ndarray) -> np.ndarray:\n",
    "    \"\"\"\n",
    "    Normalizes the pixel values of the input image.\n",
    "\n",
    "    Parameters:\n",
    "    - image (numpy.ndarray): The input image.\n",
    "\n",
    "    Returns:\n",
    "    - numpy.ndarray: The normalized image.\n",
    "    \"\"\"\n",
    "    normalized_image = cv2.normalize(image, None, alpha=0, beta=1, norm_type=cv2.NORM_MINMAX, dtype=cv2.CV_32F)\n",
    "    logger.info(f'Normalized image shape: {normalized_image.shape}')\n",
    "    return normalized_image\n",
    "\n",
    "def process_rgb_image(image: np.ndarray) -> np.ndarray:\n",
    "    \"\"\"\n",
    "    Extracts the RGB channels from the input image.\n",
    "\n",
    "    Parameters:\n",
    "    - image (numpy.ndarray): The input image.\n",
    "\n",
    "    Returns:\n",
    "    - numpy.ndarray: The RGB image.\n",
    "    \"\"\"\n",
    "    # Add your RGB processing logic here\n",
    "    img_rgb = image[:, :, :3]\n",
    "    logger.info(f'RGB image shape: {img_rgb.shape}')\n",
    "    return img_rgb"
   ]
  },
  {
   "cell_type": "code",
   "execution_count": 4,
   "metadata": {},
   "outputs": [
    {
     "name": "stderr",
     "output_type": "stream",
     "text": [
      "14-Nov-23 11:14:08 - INFO - Raster data shape: (37, 37, 4)\n",
      "14-Nov-23 11:14:08 - INFO - RGB image shape: (37, 37, 3)\n",
      "14-Nov-23 11:14:08 - INFO - Normalized image shape: (37, 37, 3)\n"
     ]
    }
   ],
   "source": [
    "cropped_fns_rgb = load_cropped_tifs(conf.data.path_pri_rgb)\n",
    "raster_img = load_raster(cropped_fns_rgb[0])\n",
    "logger.info(f'Raster data shape: {raster_img.shape}')\n",
    "rgb_img = process_rgb_image(raster_img)\n",
    "rgb_norm_img = normalize_image(rgb_img)"
   ]
  },
  {
   "cell_type": "code",
   "execution_count": 5,
   "metadata": {},
   "outputs": [
    {
     "data": {
      "image/png": "[encoded data removed]",
      "text/plain": [
       "<Figure size 640x480 with 1 Axes>"
      ]
     },
     "metadata": {},
     "output_type": "display_data"
    }
   ],
   "source": [
    "plt.imshow(rgb_norm_img)\n",
    "plt.show()"
   ]
  },
  {
   "cell_type": "code",
   "execution_count": 8,
   "metadata": {},
   "outputs": [],
   "source": [
    "def extract_color_histogram(image: np.ndarray, bins: int = 32) -> np.ndarray:\n",
    "    \"\"\"\n",
    "    Extracts the color histogram from the input image.\n",
    "\n",
    "    Parameters:\n",
    "    - image (numpy.ndarray): The input image.\n",
    "    - bins (int): The number of bins for the histogram.\n",
    "\n",
    "    Returns:\n",
    "    - numpy.ndarray: The color histogram.\n",
    "    \"\"\"\n",
    "    # Compute the histogram of the RGB channels separately\n",
    "    rhist = cv2.calcHist([image], [0], None, [bins], [0, 256])\n",
    "    ghist = cv2.calcHist([image], [1], None, [bins], [0, 256])\n",
    "    bhist = cv2.calcHist([image], [2], None, [bins], [0, 256])\n",
    "\n",
    "    # Concatenate the histograms into a single feature vector\n",
    "    hist_features = np.concatenate([rhist, ghist, bhist])\n",
    "\n",
    "    # Normalize the histogram\n",
    "    cv2.normalize(hist_features, hist_features)\n",
    "\n",
    "    return hist_features\n",
    "\n",
    "\n",
    "def extract_texture_features(image: np.ndarray) -> np.ndarray:\n",
    "    \"\"\"\n",
    "    Extracts texture features from the input image.\n",
    "\n",
    "    Parameters:\n",
    "    - image (numpy.ndarray): The input image.\n",
    "\n",
    "    Returns:\n",
    "    - numpy.ndarray: The texture features.\n",
    "    \"\"\"\n",
    "    # Convert the image to uint8\n",
    "    image_uint8 = (image * 255).astype(np.uint8)\n",
    "\n",
    "    # Convert the image to grayscale\n",
    "    gray_image = cv2.cvtColor(image_uint8, cv2.COLOR_RGB2GRAY)\n",
    "\n",
    "    # Compute the GLCM of the grayscale image\n",
    "    glcm = graycomatrix(gray_image, [1], [0, np.pi/4, np.pi/2, 3*np.pi/4])\n",
    "\n",
    "    # Compute texture features from the GLCM\n",
    "    contrast = graycoprops(glcm, 'contrast')\n",
    "    dissimilarity = graycoprops(glcm, 'dissimilarity')\n",
    "    homogeneity = graycoprops(glcm, 'homogeneity')\n",
    "    energy = graycoprops(glcm, 'energy')\n",
    "    correlation = graycoprops(glcm, 'correlation')\n",
    "\n",
    "    # Concatenate the texture features into a single feature vector\n",
    "    texture_features = np.concatenate([contrast, dissimilarity, homogeneity, energy, correlation])\n",
    "\n",
    "    return texture_features\n",
    "\n",
    "\n",
    "def extract_shape_features(image: np.ndarray) -> np.ndarray:\n",
    "    \"\"\"\n",
    "    Extracts shape features from the input image.\n",
    "\n",
    "    Parameters:\n",
    "    - image (numpy.ndarray): The input image.\n",
    "\n",
    "    Returns:\n",
    "    - numpy.ndarray: The shape features.\n",
    "    \"\"\"\n",
    "    # Convert the image to grayscale\n",
    "    gray_image = cv2.cvtColor(image, cv2.COLOR_RGB2GRAY)\n",
    "\n",
    "    # Normalize the image to have a depth of 8 bits\n",
    "    gray_image = cv2.normalize(gray_image, None, 0, 255, cv2.NORM_MINMAX).astype('uint8')\n",
    "    \n",
    "\n",
    "    # Initialize the SIFT feature extractor\n",
    "    sift = cv2.xfeatures2d.SIFT_create()\n",
    "\n",
    "    # Compute the SIFT features\n",
    "    keypoints, descriptors = sift.detectAndCompute(gray_image, None)\n",
    "\n",
    "    return descriptors"
   ]
  },
  {
   "cell_type": "code",
   "execution_count": 9,
   "metadata": {},
   "outputs": [],
   "source": [
    "hist_features = extract_color_histogram(rgb_norm_img, bins=32)\n",
    "texture_features = extract_texture_features(rgb_norm_img)\n",
    "shape_features = extract_shape_features(rgb_norm_img)"
   ]
  },
  {
   "cell_type": "code",
   "execution_count": 10,
   "metadata": {},
   "outputs": [
    {
     "data": {
      "text/plain": [
       "array([[0.57735026],\n",
       "       [0.        ],\n",
       "       [0.        ],\n",
       "       [0.        ],\n",
       "       [0.        ],\n",
       "       [0.        ],\n",
       "       [0.        ],\n",
       "       [0.        ],\n",
       "       [0.        ],\n",
       "       [0.        ],\n",
       "       [0.        ],\n",
       "       [0.        ],\n",
       "       [0.        ],\n",
       "       [0.        ],\n",
       "       [0.        ],\n",
       "       [0.        ],\n",
       "       [0.        ],\n",
       "       [0.        ],\n",
       "       [0.        ],\n",
       "       [0.        ],\n",
       "       [0.        ],\n",
       "       [0.        ],\n",
       "       [0.        ],\n",
       "       [0.        ],\n",
       "       [0.        ],\n",
       "       [0.        ],\n",
       "       [0.        ],\n",
       "       [0.        ],\n",
       "       [0.        ],\n",
       "       [0.        ],\n",
       "       [0.        ],\n",
       "       [0.        ],\n",
       "       [0.57735026],\n",
       "       [0.        ],\n",
       "       [0.        ],\n",
       "       [0.        ],\n",
       "       [0.        ],\n",
       "       [0.        ],\n",
       "       [0.        ],\n",
       "       [0.        ],\n",
       "       [0.        ],\n",
       "       [0.        ],\n",
       "       [0.        ],\n",
       "       [0.        ],\n",
       "       [0.        ],\n",
       "       [0.        ],\n",
       "       [0.        ],\n",
       "       [0.        ],\n",
       "       [0.        ],\n",
       "       [0.        ],\n",
       "       [0.        ],\n",
       "       [0.        ],\n",
       "       [0.        ],\n",
       "       [0.        ],\n",
       "       [0.        ],\n",
       "       [0.        ],\n",
       "       [0.        ],\n",
       "       [0.        ],\n",
       "       [0.        ],\n",
       "       [0.        ],\n",
       "       [0.        ],\n",
       "       [0.        ],\n",
       "       [0.        ],\n",
       "       [0.        ],\n",
       "       [0.57735026],\n",
       "       [0.        ],\n",
       "       [0.        ],\n",
       "       [0.        ],\n",
       "       [0.        ],\n",
       "       [0.        ],\n",
       "       [0.        ],\n",
       "       [0.        ],\n",
       "       [0.        ],\n",
       "       [0.        ],\n",
       "       [0.        ],\n",
       "       [0.        ],\n",
       "       [0.        ],\n",
       "       [0.        ],\n",
       "       [0.        ],\n",
       "       [0.        ],\n",
       "       [0.        ],\n",
       "       [0.        ],\n",
       "       [0.        ],\n",
       "       [0.        ],\n",
       "       [0.        ],\n",
       "       [0.        ],\n",
       "       [0.        ],\n",
       "       [0.        ],\n",
       "       [0.        ],\n",
       "       [0.        ],\n",
       "       [0.        ],\n",
       "       [0.        ],\n",
       "       [0.        ],\n",
       "       [0.        ],\n",
       "       [0.        ],\n",
       "       [0.        ]], dtype=float32)"
      ]
     },
     "execution_count": 10,
     "metadata": {},
     "output_type": "execute_result"
    }
   ],
   "source": [
    "hist_features"
   ]
  },
  {
   "cell_type": "code",
   "execution_count": 11,
   "metadata": {},
   "outputs": [
    {
     "data": {
      "text/plain": [
       "array([[1.88452628e+03, 2.75813580e+03, 1.97160886e+03, 2.81831327e+03],\n",
       "       [1.93175676e+01, 2.56774691e+01, 2.05683183e+01, 2.67546296e+01],\n",
       "       [2.73240132e-01, 2.38662572e-01, 2.65248877e-01, 2.28537505e-01],\n",
       "       [2.15712522e-01, 1.85785421e-01, 2.13440432e-01, 1.85711700e-01],\n",
       "       [8.60349262e-01, 7.84226928e-01, 8.53434480e-01, 7.79300270e-01]])"
      ]
     },
     "execution_count": 11,
     "metadata": {},
     "output_type": "execute_result"
    }
   ],
   "source": [
    "texture_features"
   ]
  },
  {
   "cell_type": "code",
   "execution_count": 12,
   "metadata": {},
   "outputs": [
    {
     "data": {
      "text/plain": [
       "array([[  2.,   0.,   0., ...,   0.,   2.,  19.],\n",
       "       [  0.,   0.,   0., ...,   2.,   4.,   1.],\n",
       "       [  5.,  27.,  76., ...,   9.,   7.,   1.],\n",
       "       ...,\n",
       "       [119.,   3.,   3., ...,   0.,   0.,   1.],\n",
       "       [ 18.,   0.,   0., ...,   2.,   1.,   3.],\n",
       "       [  0.,   0.,   0., ...,  12.,   8.,  22.]], dtype=float32)"
      ]
     },
     "execution_count": 12,
     "metadata": {},
     "output_type": "execute_result"
    }
   ],
   "source": [
    "shape_features"
   ]
  },
  {
   "cell_type": "code",
   "execution_count": null,
   "metadata": {},
   "outputs": [],
   "source": []
  }
 ],
 "metadata": {
  "kernelspec": {
   "display_name": "mlai_rp2",
   "language": "python",
   "name": "python3"
  },
  "language_info": {
   "codemirror_mode": {
    "name": "ipython",
    "version": 3
   },
   "file_extension": ".py",
   "mimetype": "text/x-python",
   "name": "python",
   "nbconvert_exporter": "python",
   "pygments_lexer": "ipython3",
   "version": "3.9.12"
  }
 },
 "nbformat": 4,
 "nbformat_minor": 2
}
