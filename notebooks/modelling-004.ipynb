{
 "cells": [
  {
   "cell_type": "code",
   "execution_count": 1,
   "metadata": {},
   "outputs": [],
   "source": [
    "import os\n",
    "import sys\n",
    "sys.path.append('../mlai_research/')\n",
    "import log\n",
    "import utils\n",
    "import pandas as pd\n",
    "import numpy as np\n",
    "from sklearn.utils import resample\n",
    "from sklearn.model_selection import train_test_split, cross_validate, KFold\n",
    "from sklearn import preprocessing\n",
    "from sklearn.metrics import accuracy_score, precision_score, recall_score, f1_score, roc_auc_score, roc_curve, auc, confusion_matrix, classification_report, cohen_kappa_score\n",
    "from sklearn.ensemble import RandomForestClassifier\n",
    "from sklearn.svm import SVC\n",
    "from sklearn.preprocessing import StandardScaler, label_binarize\n",
    "from sklearn.pipeline import make_pipeline\n",
    "import seaborn as sns\n",
    "import matplotlib.pyplot as plt\n",
    "from sklearn.base import clone\n",
    "from sklearn.neighbors import KNeighborsClassifier\n",
    "from sklearn.ensemble import GradientBoostingClassifier\n",
    "from sklearn.neural_network import MLPClassifier\n",
    "import plotly.express as px\n",
    "import plotly.graph_objects as go"
   ]
  },
  {
   "cell_type": "code",
   "execution_count": 2,
   "metadata": {},
   "outputs": [
    {
     "name": "stderr",
     "output_type": "stream",
     "text": [
      "06-Jan-24 22:06:20 - INFO - Starting 'load_config'.\n",
      "06-Jan-24 22:06:20 - INFO - Finished 'load_config' in 0.0228 secs.\n"
     ]
    }
   ],
   "source": [
    "logger = log.get_logger(__name__)\n",
    "conf = utils.load_config(\"base\")"
   ]
  },
  {
   "cell_type": "code",
   "execution_count": 3,
   "metadata": {},
   "outputs": [],
   "source": [
    "def encode_labels(df, column):\n",
    "    \"\"\"\n",
    "    Encode labels in the specified column of the dataframe.\n",
    "\n",
    "    Parameters:\n",
    "    df (pandas.DataFrame): The dataframe containing the labels.\n",
    "    column (str): The column name of the labels.\n",
    "\n",
    "    Returns:\n",
    "    df (pandas.DataFrame): The dataframe with encoded labels.\n",
    "    \"\"\"\n",
    "    # label_encoder = preprocessing.LabelEncoder()\n",
    "    # df[column] = label_encoder.fit_transform(df[column])\n",
    "\n",
    "    label_map = {'xan': 1, 'dat': 2, 'other': 3, 'unk': 4}\n",
    "    df[column] = df[column].map(label_map)\n",
    "    return df\n",
    "\n",
    "\n",
    "def split_data(df, test_size=0.1, val_size=0.1):\n",
    "    \"\"\"\n",
    "    Split the dataframe into training, validation, and testing sets.\n",
    "\n",
    "    Parameters:\n",
    "    df (pandas.DataFrame): The dataframe to split.\n",
    "    test_size (float): The proportion of the dataset to include in the test split.\n",
    "    val_size (float): The proportion of the training set to include in the validation split.\n",
    "\n",
    "    Returns:\n",
    "    train_set (pandas.DataFrame): The training set.\n",
    "    val_set (pandas.DataFrame): The validation set.\n",
    "    test_set (pandas.DataFrame): The testing set.\n",
    "    \"\"\"\n",
    "    train_set, test_set = train_test_split(df, test_size=test_size, random_state=42)\n",
    "    train_set, val_set = train_test_split(train_set, test_size=val_size, random_state=42)\n",
    "    return train_set, val_set, test_set\n",
    "\n",
    "\n",
    "def upsample_minorities(df, label_column):\n",
    "    \"\"\"\n",
    "    Upsample the minority classes in the dataframe to match the majority class count.\n",
    "\n",
    "    Parameters:\n",
    "    df (pandas.DataFrame): The dataframe to upsample.\n",
    "    label_column (str): The column name of the labels.\n",
    "\n",
    "    Returns:\n",
    "    df_upsampled (pandas.DataFrame): The dataframe with the minority classes upsampled.\n",
    "    \"\"\"\n",
    "    # Get the count of the most frequent class\n",
    "    majority_class_count = df[label_column].value_counts().max()\n",
    "    \n",
    "    # Separate the majority and minority classes\n",
    "    df_majority = df[df[label_column] == df[label_column].value_counts().idxmax()]\n",
    "    df_minorities = df[df[label_column] != df[label_column].value_counts().idxmax()]\n",
    "    \n",
    "    # List to hold the upsampled dataframes\n",
    "    upsampled_list = [df_majority]\n",
    "    \n",
    "    # Upsample each minority class and add to the list\n",
    "    for class_index in df_minorities[label_column].unique():\n",
    "        df_class_minority = df_minorities[df_minorities[label_column] == class_index]\n",
    "        df_class_upsampled = resample(df_class_minority, \n",
    "                                      replace=True, \n",
    "                                      n_samples=majority_class_count, \n",
    "                                      random_state=42)\n",
    "        upsampled_list.append(df_class_upsampled)\n",
    "    \n",
    "    # Concatenate all upsampled minority class DataFrames with the majority class DataFrame\n",
    "    df_upsampled = pd.concat(upsampled_list)\n",
    "    \n",
    "    return df_upsampled\n",
    "\n",
    "\n",
    "def calculate_metrics(y_true, y_pred):\n",
    "    \"\"\"\n",
    "    Calculate accuracy, precision, recall, and F1 score.\n",
    "    \n",
    "    Parameters:\n",
    "    y_true (list): List of true labels\n",
    "    y_pred (list): List of predicted labels\n",
    "    \n",
    "    Returns:\n",
    "    dict: A dictionary containing the calculated metrics\n",
    "    \"\"\"\n",
    "    accuracy = accuracy_score(y_true, y_pred)\n",
    "    precision = precision_score(y_true, y_pred, average='weighted')\n",
    "    recall = recall_score(y_true, y_pred, average='weighted')\n",
    "    f1 = f1_score(y_true, y_pred, average='weighted')\n",
    "    \n",
    "    return {'accuracy': accuracy, 'precision': precision, 'recall': recall, 'f1': f1}\n",
    "\n",
    "\n",
    "def kappa_confidence_interval(y_true, y_pred, n_bootstrap=1000, alpha=0.05):\n",
    "    \"\"\"\n",
    "    Calculate Cohen's Kappa score with confidence intervals using bootstrapping.\n",
    "    \n",
    "    Parameters:\n",
    "    y_true: Ground truth (correct) target values.\n",
    "    y_pred: Estimated targets as returned by a classifier.\n",
    "    n_bootstrap: Number of bootstrap samples to create.\n",
    "    alpha: Confidence interval, e.g., 0.05 for 95% confidence.\n",
    "    \n",
    "    Returns:\n",
    "    kappa: Cohen's Kappa score\n",
    "    lower: Lower bound of the confidence interval\n",
    "    upper: Upper bound of the confidence interval\n",
    "    \"\"\"\n",
    "    # Calculate Cohen's Kappa for the original data\n",
    "    kappa = cohen_kappa_score(y_true, y_pred)\n",
    "    \n",
    "    # Generate bootstrap samples and calculate Cohen's Kappa for each sample\n",
    "    bootstrap_kappas = []\n",
    "    for _ in range(n_bootstrap):\n",
    "        y_true_resampled, y_pred_resampled = resample(y_true, y_pred)\n",
    "        kappa_resampled = cohen_kappa_score(y_true_resampled, y_pred_resampled)\n",
    "        bootstrap_kappas.append(kappa_resampled)\n",
    "    \n",
    "    # Calculate lower and upper percentiles for the confidence interval\n",
    "    lower = np.percentile(bootstrap_kappas, 100 * alpha / 2)\n",
    "    upper = np.percentile(bootstrap_kappas, 100 * (1 - alpha / 2))\n",
    "    \n",
    "    return kappa, lower, upper\n",
    "\n",
    "\n",
    "\n",
    "def plot_confusion_matrix(y_true, y_pred, labels):\n",
    "    \"\"\"\n",
    "    Plot a confusion matrix.\n",
    "    \n",
    "    Parameters:\n",
    "    y_true (list): List of true labels\n",
    "    y_pred (list): List of predicted labels\n",
    "    labels (list): List of unique labels\n",
    "    \n",
    "    Returns:\n",
    "    None\n",
    "    \"\"\"\n",
    "    cm = confusion_matrix(y_true, y_pred, labels=labels)\n",
    "\n",
    "    # Plot the confusion matrix using plotly express:\n",
    "    fig = px.imshow(cm, x=labels, y=labels, text_auto=True, color_continuous_scale=[\"white\", \"white\"])\n",
    "    # Add grid lines\n",
    "    for i in range(len(labels)):\n",
    "        fig.add_shape(\n",
    "            go.layout.Shape(\n",
    "                type=\"line\",\n",
    "                x0=-0.5,\n",
    "                y0=i-0.5,\n",
    "                x1=len(labels)-0.5,\n",
    "                y1=i-0.5,\n",
    "                line=dict(\n",
    "                    color=\"black\",\n",
    "                    width=2,\n",
    "                )\n",
    "            )\n",
    "        )\n",
    "        fig.add_shape(\n",
    "            go.layout.Shape(\n",
    "                type=\"line\",\n",
    "                x0=i-0.5,\n",
    "                y0=-0.5,\n",
    "                x1=i-0.5,\n",
    "                y1=len(labels)-0.5,\n",
    "                line=dict(\n",
    "                    color=\"black\",\n",
    "                    width=2,\n",
    "                )\n",
    "            )\n",
    "        )\n",
    "\n",
    "    fig.update_layout(title='Confusion Matrix', xaxis_title='Predicted', yaxis_title='True', coloraxis_showscale=False)\n",
    "    fig.show()\n",
    "    # fig.update_layout(title='Confusion Matrix', xaxis_title='Predicted', yaxis_title='True', coloraxis_showscale=False)\n",
    "    # fig.show()\n",
    "\n",
    "    # plt.figure(figsize=(10, 7))\n",
    "    # sns.heatmap(cm, annot=True, fmt='d', xticklabels=labels, yticklabels=labels)\n",
    "    # plt.xlabel('Predicted')\n",
    "    # plt.ylabel('True')\n",
    "    # plt.show()\n",
    "\n",
    "\n",
    "def plot_roc_curve(y_true, y_score, labels):\n",
    "    \"\"\"\n",
    "    Plot a ROC curve.\n",
    "    \n",
    "    Parameters:\n",
    "    y_true (list): List of true labels\n",
    "    y_score (list): List of predicted scores\n",
    "    labels (list): List of unique labels\n",
    "    \n",
    "    Returns:\n",
    "    None\n",
    "    \"\"\"\n",
    "    y_true_bin = label_binarize(y_true, classes=labels)\n",
    "    n_classes = y_true_bin.shape[1]\n",
    "\n",
    "    fpr = dict()\n",
    "    tpr = dict()\n",
    "    roc_auc = dict()\n",
    "    for i in range(n_classes):\n",
    "        fpr[i], tpr[i], _ = roc_curve(y_true_bin[:, i], y_score[:, i])\n",
    "        roc_auc[i] = auc(fpr[i], tpr[i])\n",
    "\n",
    "    plt.figure()\n",
    "    for i in range(n_classes):\n",
    "        plt.plot(fpr[i], tpr[i], label='ROC curve of class {0} (area = {1:0.2f})'.format(i, roc_auc[i]))\n",
    "    plt.plot([0, 1], [0, 1], 'k--')\n",
    "    plt.xlim([0.0, 1.0])\n",
    "    plt.ylim([0.0, 1.05])\n",
    "    plt.xlabel('False Positive Rate')\n",
    "    plt.ylabel('True Positive Rate')\n",
    "    plt.title('Receiver Operating Characteristic')\n",
    "    plt.legend(loc=\"lower right\")\n",
    "    plt.show()\n",
    "\n",
    "\n",
    "def self_training(classifier, X_labeled, y_labeled, X_unlabeled, threshold=0.9, max_iter=10):\n",
    "    \"\"\"\n",
    "    Perform self-training with the given classifier.\n",
    "\n",
    "    Parameters:\n",
    "    - classifier: a classifier that has fit and predict_proba methods.\n",
    "    - X_labeled: features of the labeled data.\n",
    "    - y_labeled: labels of the labeled data.\n",
    "    - X_unlabeled: features of the unlabeled data.\n",
    "    - threshold: confidence threshold for labeling unlabeled data.\n",
    "    - max_iter: maximum number of iterations.\n",
    "\n",
    "    Returns:\n",
    "    - The trained classifier.\n",
    "    \"\"\"\n",
    "    classifier = clone(classifier)  # create a new instance of the classifier\n",
    "    for i in range(max_iter):\n",
    "        classifier.fit(X_labeled, y_labeled)\n",
    "        if X_unlabeled.shape[0] == 0:\n",
    "            break  # no more unlabeled data\n",
    "        probs = classifier.predict_proba(X_unlabeled)\n",
    "        max_probs = probs.max(axis=1)\n",
    "        confident = max_probs > threshold\n",
    "        if not confident.any():\n",
    "            break  # no confident predictions\n",
    "        X_labeled = np.concatenate([X_labeled, X_unlabeled[confident]])\n",
    "        y_labeled = np.concatenate([y_labeled, probs[confident].argmax(axis=1)])\n",
    "        X_unlabeled = X_unlabeled[~confident]\n",
    "    return classifier\n",
    "\n",
    "\n",
    "def train_and_evaluate_model(X, y, model, n_splits=3):\n",
    "    \"\"\"\n",
    "    Train a model using k-fold cross-validation and return the trained model and performance metrics.\n",
    "\n",
    "    Parameters:\n",
    "    X (numpy.ndarray): Feature matrix.\n",
    "    y (numpy.ndarray): Labels array.\n",
    "    model (sklearn.base.BaseEstimator): An instance of an sklearn classifier.\n",
    "    n_splits (int): Number of folds for k-fold cross-validation.\n",
    "\n",
    "    Returns:\n",
    "    model (sklearn.base.BaseEstimator): Trained sklearn model.\n",
    "    cv_results (dict): Dictionary with cross-validation results.\n",
    "    \"\"\"\n",
    "    # Define k-fold cross-validation\n",
    "    kf = KFold(n_splits=n_splits, shuffle=True, random_state=42)\n",
    "\n",
    "    # Perform cross-validation\n",
    "    cv_results = cross_validate(model, X, y, cv=kf, return_train_score=True, return_estimator=True)\n",
    "\n",
    "    # Retrieve the model from the last fold\n",
    "    trained_model = cv_results['estimator'][-1]\n",
    "\n",
    "    # Print out the mean and standard deviation of the test score for each fold\n",
    "    print(f\"Mean test score: {np.mean(cv_results['test_score']):.4f}\")\n",
    "    print(f\"Standard deviation of test score: {np.std(cv_results['test_score']):.4f}\")\n",
    "\n",
    "    return trained_model, cv_results"
   ]
  },
  {
   "cell_type": "markdown",
   "metadata": {},
   "source": [
    "# Load Data"
   ]
  },
  {
   "cell_type": "code",
   "execution_count": 4,
   "metadata": {},
   "outputs": [
    {
     "data": {
      "text/plain": [
       "((327, 1583),\n",
       " unk      299\n",
       " xan       15\n",
       " other     10\n",
       " dat        3\n",
       " Name: label, dtype: int64)"
      ]
     },
     "execution_count": 4,
     "metadata": {},
     "output_type": "execute_result"
    }
   ],
   "source": [
    "df = pd.read_csv(f\"{conf.data.path_feat}{conf.data.fn_feat}\")\n",
    "df.shape, df['label'].value_counts()"
   ]
  },
  {
   "cell_type": "markdown",
   "metadata": {},
   "source": [
    "# Prepare Data \n",
    "\n",
    "- Split labelled, unlabelled\n",
    "- Upsample lower class\n",
    "- Drop true labels"
   ]
  },
  {
   "cell_type": "code",
   "execution_count": 5,
   "metadata": {},
   "outputs": [],
   "source": [
    "# df = encode_labels(df, 'label')\n",
    "df_unlabeled = df[df['label'] == 'unk']\n",
    "df_labeled = df[df['label'] != 'unk']\n",
    "dflup = upsample_minorities(df_labeled, 'label')\n",
    "shuffled_df = dflup.sample(frac=1, random_state=13).reset_index(drop=True)\n",
    "X_labeled = shuffled_df.drop('label', axis=1).values\n",
    "y_labeled = shuffled_df['label'].values\n",
    "\n",
    "X_labeled_train = X_labeled[:int(len(X_labeled) * 0.8)]\n",
    "y_labeled_train = y_labeled[:int(len(y_labeled) * 0.8)]\n",
    "\n",
    "X_labeled_val = X_labeled[int(len(X_labeled) * 0.8):]\n",
    "y_labeled_val = y_labeled[int(len(y_labeled) * 0.8):]\n",
    "\n",
    "X_unlabeled = df_unlabeled.drop('label', axis=1).values"
   ]
  },
  {
   "cell_type": "code",
   "execution_count": 6,
   "metadata": {},
   "outputs": [
    {
     "data": {
      "text/plain": [
       "(array(['dat', 'dat', 'dat', 'other', 'xan', 'other', 'other', 'dat',\n",
       "        'dat', 'other', 'dat', 'xan', 'xan', 'xan', 'xan', 'xan', 'dat',\n",
       "        'xan', 'xan', 'other', 'dat', 'xan', 'dat', 'other', 'other',\n",
       "        'dat', 'other', 'other', 'other', 'xan', 'dat', 'other', 'xan',\n",
       "        'xan', 'dat', 'xan', 'xan', 'other', 'dat', 'other', 'dat', 'dat',\n",
       "        'other', 'xan', 'other'], dtype=object),\n",
       " (45,))"
      ]
     },
     "execution_count": 6,
     "metadata": {},
     "output_type": "execute_result"
    }
   ],
   "source": [
    "y_labeled, y_labeled.shape"
   ]
  },
  {
   "cell_type": "markdown",
   "metadata": {},
   "source": [
    "# Create classifer"
   ]
  },
  {
   "cell_type": "code",
   "execution_count": 7,
   "metadata": {},
   "outputs": [],
   "source": [
    "# Create a Random Forest classifier\n",
    "model = RandomForestClassifier()"
   ]
  },
  {
   "cell_type": "markdown",
   "metadata": {},
   "source": [
    "# Train Classifer"
   ]
  },
  {
   "cell_type": "code",
   "execution_count": 8,
   "metadata": {},
   "outputs": [
    {
     "name": "stdout",
     "output_type": "stream",
     "text": [
      "Mean test score: 0.7500\n",
      "Standard deviation of test score: 0.0000\n"
     ]
    }
   ],
   "source": [
    "trained_model, cv_results = train_and_evaluate_model(X_labeled_train, y_labeled_train, model, n_splits=3)"
   ]
  },
  {
   "cell_type": "code",
   "execution_count": 9,
   "metadata": {},
   "outputs": [
    {
     "data": {
      "text/plain": [
       "{'fit_time': array([0.05089307, 0.04814482, 0.05050802]),\n",
       " 'score_time': array([0.0042491 , 0.00322723, 0.00333309]),\n",
       " 'estimator': [RandomForestClassifier(),\n",
       "  RandomForestClassifier(),\n",
       "  RandomForestClassifier()],\n",
       " 'test_score': array([0.75, 0.75, 0.75]),\n",
       " 'train_score': array([1., 1., 1.])}"
      ]
     },
     "execution_count": 9,
     "metadata": {},
     "output_type": "execute_result"
    }
   ],
   "source": [
    "cv_results"
   ]
  },
  {
   "cell_type": "code",
   "execution_count": 10,
   "metadata": {},
   "outputs": [],
   "source": [
    "y_labeled_val_pred = trained_model.predict(X_labeled_val)"
   ]
  },
  {
   "cell_type": "code",
   "execution_count": 11,
   "metadata": {},
   "outputs": [
    {
     "data": {
      "text/plain": [
       "array(['xan', 'other', 'dat', 'other', 'dat', 'dat', 'other', 'xan',\n",
       "       'other'], dtype=object)"
      ]
     },
     "execution_count": 11,
     "metadata": {},
     "output_type": "execute_result"
    }
   ],
   "source": [
    "y_labeled_val"
   ]
  },
  {
   "cell_type": "code",
   "execution_count": 12,
   "metadata": {},
   "outputs": [],
   "source": [
    "# cm = confusion_matrix(y_labeled_val, y_labeled_val_pred, labels=['xan', 'dat', 'other'])\n",
    "# cm"
   ]
  },
  {
   "cell_type": "code",
   "execution_count": 13,
   "metadata": {},
   "outputs": [
    {
     "data": {
      "application/vnd.plotly.v1+json": {
       "config": {
        "plotlyServerURL": "https://plot.ly"
       },
       "data": [
        {
         "coloraxis": "coloraxis",
         "hovertemplate": "x: %{x}<br>y: %{y}<br>color: %{z}<extra></extra>",
         "name": "0",
         "texttemplate": "%{z}",
         "type": "heatmap",
         "x": [
          "dat",
          "other",
          "xan"
         ],
         "xaxis": "x",
         "y": [
          "dat",
          "other",
          "xan"
         ],
         "yaxis": "y",
         "z": [
          [
           3,
           0,
           0
          ],
          [
           0,
           2,
           2
          ],
          [
           0,
           0,
           2
          ]
         ]
        }
       ],
       "layout": {
        "coloraxis": {
         "colorscale": [
          [
           0,
           "white"
          ],
          [
           1,
           "white"
          ]
         ],
         "showscale": false
        },
        "margin": {
         "t": 60
        },
        "shapes": [
         {
          "line": {
           "color": "black",
           "width": 2
          },
          "type": "line",
          "x0": -0.5,
          "x1": 2.5,
          "y0": -0.5,
          "y1": -0.5
         },
         {
          "line": {
           "color": "black",
           "width": 2
          },
          "type": "line",
          "x0": -0.5,
          "x1": -0.5,
          "y0": -0.5,
          "y1": 2.5
         },
         {
          "line": {
           "color": "black",
           "width": 2
          },
          "type": "line",
          "x0": -0.5,
          "x1": 2.5,
          "y0": 0.5,
          "y1": 0.5
         },
         {
          "line": {
           "color": "black",
           "width": 2
          },
          "type": "line",
          "x0": 0.5,
          "x1": 0.5,
          "y0": -0.5,
          "y1": 2.5
         },
         {
          "line": {
           "color": "black",
           "width": 2
          },
          "type": "line",
          "x0": -0.5,
          "x1": 2.5,
          "y0": 1.5,
          "y1": 1.5
         },
         {
          "line": {
           "color": "black",
           "width": 2
          },
          "type": "line",
          "x0": 1.5,
          "x1": 1.5,
          "y0": -0.5,
          "y1": 2.5
         }
        ],
        "template": {
         "data": {
          "bar": [
           {
            "error_x": {
             "color": "#2a3f5f"
            },
            "error_y": {
             "color": "#2a3f5f"
            },
            "marker": {
             "line": {
              "color": "#E5ECF6",
              "width": 0.5
             },
             "pattern": {
              "fillmode": "overlay",
              "size": 10,
              "solidity": 0.2
             }
            },
            "type": "bar"
           }
          ],
          "barpolar": [
           {
            "marker": {
             "line": {
              "color": "#E5ECF6",
              "width": 0.5
             },
             "pattern": {
              "fillmode": "overlay",
              "size": 10,
              "solidity": 0.2
             }
            },
            "type": "barpolar"
           }
          ],
          "carpet": [
           {
            "aaxis": {
             "endlinecolor": "#2a3f5f",
             "gridcolor": "white",
             "linecolor": "white",
             "minorgridcolor": "white",
             "startlinecolor": "#2a3f5f"
            },
            "baxis": {
             "endlinecolor": "#2a3f5f",
             "gridcolor": "white",
             "linecolor": "white",
             "minorgridcolor": "white",
             "startlinecolor": "#2a3f5f"
            },
            "type": "carpet"
           }
          ],
          "choropleth": [
           {
            "colorbar": {
             "outlinewidth": 0,
             "ticks": ""
            },
            "type": "choropleth"
           }
          ],
          "contour": [
           {
            "colorbar": {
             "outlinewidth": 0,
             "ticks": ""
            },
            "colorscale": [
             [
              0,
              "#0d0887"
             ],
             [
              0.1111111111111111,
              "#46039f"
             ],
             [
              0.2222222222222222,
              "#7201a8"
             ],
             [
              0.3333333333333333,
              "#9c179e"
             ],
             [
              0.4444444444444444,
              "#bd3786"
             ],
             [
              0.5555555555555556,
              "#d8576b"
             ],
             [
              0.6666666666666666,
              "#ed7953"
             ],
             [
              0.7777777777777778,
              "#fb9f3a"
             ],
             [
              0.8888888888888888,
              "#fdca26"
             ],
             [
              1,
              "#f0f921"
             ]
            ],
            "type": "contour"
           }
          ],
          "contourcarpet": [
           {
            "colorbar": {
             "outlinewidth": 0,
             "ticks": ""
            },
            "type": "contourcarpet"
           }
          ],
          "heatmap": [
           {
            "colorbar": {
             "outlinewidth": 0,
             "ticks": ""
            },
            "colorscale": [
             [
              0,
              "#0d0887"
             ],
             [
              0.1111111111111111,
              "#46039f"
             ],
             [
              0.2222222222222222,
              "#7201a8"
             ],
             [
              0.3333333333333333,
              "#9c179e"
             ],
             [
              0.4444444444444444,
              "#bd3786"
             ],
             [
              0.5555555555555556,
              "#d8576b"
             ],
             [
              0.6666666666666666,
              "#ed7953"
             ],
             [
              0.7777777777777778,
              "#fb9f3a"
             ],
             [
              0.8888888888888888,
              "#fdca26"
             ],
             [
              1,
              "#f0f921"
             ]
            ],
            "type": "heatmap"
           }
          ],
          "heatmapgl": [
           {
            "colorbar": {
             "outlinewidth": 0,
             "ticks": ""
            },
            "colorscale": [
             [
              0,
              "#0d0887"
             ],
             [
              0.1111111111111111,
              "#46039f"
             ],
             [
              0.2222222222222222,
              "#7201a8"
             ],
             [
              0.3333333333333333,
              "#9c179e"
             ],
             [
              0.4444444444444444,
              "#bd3786"
             ],
             [
              0.5555555555555556,
              "#d8576b"
             ],
             [
              0.6666666666666666,
              "#ed7953"
             ],
             [
              0.7777777777777778,
              "#fb9f3a"
             ],
             [
              0.8888888888888888,
              "#fdca26"
             ],
             [
              1,
              "#f0f921"
             ]
            ],
            "type": "heatmapgl"
           }
          ],
          "histogram": [
           {
            "marker": {
             "pattern": {
              "fillmode": "overlay",
              "size": 10,
              "solidity": 0.2
             }
            },
            "type": "histogram"
           }
          ],
          "histogram2d": [
           {
            "colorbar": {
             "outlinewidth": 0,
             "ticks": ""
            },
            "colorscale": [
             [
              0,
              "#0d0887"
             ],
             [
              0.1111111111111111,
              "#46039f"
             ],
             [
              0.2222222222222222,
              "#7201a8"
             ],
             [
              0.3333333333333333,
              "#9c179e"
             ],
             [
              0.4444444444444444,
              "#bd3786"
             ],
             [
              0.5555555555555556,
              "#d8576b"
             ],
             [
              0.6666666666666666,
              "#ed7953"
             ],
             [
              0.7777777777777778,
              "#fb9f3a"
             ],
             [
              0.8888888888888888,
              "#fdca26"
             ],
             [
              1,
              "#f0f921"
             ]
            ],
            "type": "histogram2d"
           }
          ],
          "histogram2dcontour": [
           {
            "colorbar": {
             "outlinewidth": 0,
             "ticks": ""
            },
            "colorscale": [
             [
              0,
              "#0d0887"
             ],
             [
              0.1111111111111111,
              "#46039f"
             ],
             [
              0.2222222222222222,
              "#7201a8"
             ],
             [
              0.3333333333333333,
              "#9c179e"
             ],
             [
              0.4444444444444444,
              "#bd3786"
             ],
             [
              0.5555555555555556,
              "#d8576b"
             ],
             [
              0.6666666666666666,
              "#ed7953"
             ],
             [
              0.7777777777777778,
              "#fb9f3a"
             ],
             [
              0.8888888888888888,
              "#fdca26"
             ],
             [
              1,
              "#f0f921"
             ]
            ],
            "type": "histogram2dcontour"
           }
          ],
          "mesh3d": [
           {
            "colorbar": {
             "outlinewidth": 0,
             "ticks": ""
            },
            "type": "mesh3d"
           }
          ],
          "parcoords": [
           {
            "line": {
             "colorbar": {
              "outlinewidth": 0,
              "ticks": ""
             }
            },
            "type": "parcoords"
           }
          ],
          "pie": [
           {
            "automargin": true,
            "type": "pie"
           }
          ],
          "scatter": [
           {
            "fillpattern": {
             "fillmode": "overlay",
             "size": 10,
             "solidity": 0.2
            },
            "type": "scatter"
           }
          ],
          "scatter3d": [
           {
            "line": {
             "colorbar": {
              "outlinewidth": 0,
              "ticks": ""
             }
            },
            "marker": {
             "colorbar": {
              "outlinewidth": 0,
              "ticks": ""
             }
            },
            "type": "scatter3d"
           }
          ],
          "scattercarpet": [
           {
            "marker": {
             "colorbar": {
              "outlinewidth": 0,
              "ticks": ""
             }
            },
            "type": "scattercarpet"
           }
          ],
          "scattergeo": [
           {
            "marker": {
             "colorbar": {
              "outlinewidth": 0,
              "ticks": ""
             }
            },
            "type": "scattergeo"
           }
          ],
          "scattergl": [
           {
            "marker": {
             "colorbar": {
              "outlinewidth": 0,
              "ticks": ""
             }
            },
            "type": "scattergl"
           }
          ],
          "scattermapbox": [
           {
            "marker": {
             "colorbar": {
              "outlinewidth": 0,
              "ticks": ""
             }
            },
            "type": "scattermapbox"
           }
          ],
          "scatterpolar": [
           {
            "marker": {
             "colorbar": {
              "outlinewidth": 0,
              "ticks": ""
             }
            },
            "type": "scatterpolar"
           }
          ],
          "scatterpolargl": [
           {
            "marker": {
             "colorbar": {
              "outlinewidth": 0,
              "ticks": ""
             }
            },
            "type": "scatterpolargl"
           }
          ],
          "scatterternary": [
           {
            "marker": {
             "colorbar": {
              "outlinewidth": 0,
              "ticks": ""
             }
            },
            "type": "scatterternary"
           }
          ],
          "surface": [
           {
            "colorbar": {
             "outlinewidth": 0,
             "ticks": ""
            },
            "colorscale": [
             [
              0,
              "#0d0887"
             ],
             [
              0.1111111111111111,
              "#46039f"
             ],
             [
              0.2222222222222222,
              "#7201a8"
             ],
             [
              0.3333333333333333,
              "#9c179e"
             ],
             [
              0.4444444444444444,
              "#bd3786"
             ],
             [
              0.5555555555555556,
              "#d8576b"
             ],
             [
              0.6666666666666666,
              "#ed7953"
             ],
             [
              0.7777777777777778,
              "#fb9f3a"
             ],
             [
              0.8888888888888888,
              "#fdca26"
             ],
             [
              1,
              "#f0f921"
             ]
            ],
            "type": "surface"
           }
          ],
          "table": [
           {
            "cells": {
             "fill": {
              "color": "#EBF0F8"
             },
             "line": {
              "color": "white"
             }
            },
            "header": {
             "fill": {
              "color": "#C8D4E3"
             },
             "line": {
              "color": "white"
             }
            },
            "type": "table"
           }
          ]
         },
         "layout": {
          "annotationdefaults": {
           "arrowcolor": "#2a3f5f",
           "arrowhead": 0,
           "arrowwidth": 1
          },
          "autotypenumbers": "strict",
          "coloraxis": {
           "colorbar": {
            "outlinewidth": 0,
            "ticks": ""
           }
          },
          "colorscale": {
           "diverging": [
            [
             0,
             "#8e0152"
            ],
            [
             0.1,
             "#c51b7d"
            ],
            [
             0.2,
             "#de77ae"
            ],
            [
             0.3,
             "#f1b6da"
            ],
            [
             0.4,
             "#fde0ef"
            ],
            [
             0.5,
             "#f7f7f7"
            ],
            [
             0.6,
             "#e6f5d0"
            ],
            [
             0.7,
             "#b8e186"
            ],
            [
             0.8,
             "#7fbc41"
            ],
            [
             0.9,
             "#4d9221"
            ],
            [
             1,
             "#276419"
            ]
           ],
           "sequential": [
            [
             0,
             "#0d0887"
            ],
            [
             0.1111111111111111,
             "#46039f"
            ],
            [
             0.2222222222222222,
             "#7201a8"
            ],
            [
             0.3333333333333333,
             "#9c179e"
            ],
            [
             0.4444444444444444,
             "#bd3786"
            ],
            [
             0.5555555555555556,
             "#d8576b"
            ],
            [
             0.6666666666666666,
             "#ed7953"
            ],
            [
             0.7777777777777778,
             "#fb9f3a"
            ],
            [
             0.8888888888888888,
             "#fdca26"
            ],
            [
             1,
             "#f0f921"
            ]
           ],
           "sequentialminus": [
            [
             0,
             "#0d0887"
            ],
            [
             0.1111111111111111,
             "#46039f"
            ],
            [
             0.2222222222222222,
             "#7201a8"
            ],
            [
             0.3333333333333333,
             "#9c179e"
            ],
            [
             0.4444444444444444,
             "#bd3786"
            ],
            [
             0.5555555555555556,
             "#d8576b"
            ],
            [
             0.6666666666666666,
             "#ed7953"
            ],
            [
             0.7777777777777778,
             "#fb9f3a"
            ],
            [
             0.8888888888888888,
             "#fdca26"
            ],
            [
             1,
             "#f0f921"
            ]
           ]
          },
          "colorway": [
           "#636efa",
           "#EF553B",
           "#00cc96",
           "#ab63fa",
           "#FFA15A",
           "#19d3f3",
           "#FF6692",
           "#B6E880",
           "#FF97FF",
           "#FECB52"
          ],
          "font": {
           "color": "#2a3f5f"
          },
          "geo": {
           "bgcolor": "white",
           "lakecolor": "white",
           "landcolor": "#E5ECF6",
           "showlakes": true,
           "showland": true,
           "subunitcolor": "white"
          },
          "hoverlabel": {
           "align": "left"
          },
          "hovermode": "closest",
          "mapbox": {
           "style": "light"
          },
          "paper_bgcolor": "white",
          "plot_bgcolor": "#E5ECF6",
          "polar": {
           "angularaxis": {
            "gridcolor": "white",
            "linecolor": "white",
            "ticks": ""
           },
           "bgcolor": "#E5ECF6",
           "radialaxis": {
            "gridcolor": "white",
            "linecolor": "white",
            "ticks": ""
           }
          },
          "scene": {
           "xaxis": {
            "backgroundcolor": "#E5ECF6",
            "gridcolor": "white",
            "gridwidth": 2,
            "linecolor": "white",
            "showbackground": true,
            "ticks": "",
            "zerolinecolor": "white"
           },
           "yaxis": {
            "backgroundcolor": "#E5ECF6",
            "gridcolor": "white",
            "gridwidth": 2,
            "linecolor": "white",
            "showbackground": true,
            "ticks": "",
            "zerolinecolor": "white"
           },
           "zaxis": {
            "backgroundcolor": "#E5ECF6",
            "gridcolor": "white",
            "gridwidth": 2,
            "linecolor": "white",
            "showbackground": true,
            "ticks": "",
            "zerolinecolor": "white"
           }
          },
          "shapedefaults": {
           "line": {
            "color": "#2a3f5f"
           }
          },
          "ternary": {
           "aaxis": {
            "gridcolor": "white",
            "linecolor": "white",
            "ticks": ""
           },
           "baxis": {
            "gridcolor": "white",
            "linecolor": "white",
            "ticks": ""
           },
           "bgcolor": "#E5ECF6",
           "caxis": {
            "gridcolor": "white",
            "linecolor": "white",
            "ticks": ""
           }
          },
          "title": {
           "x": 0.05
          },
          "xaxis": {
           "automargin": true,
           "gridcolor": "white",
           "linecolor": "white",
           "ticks": "",
           "title": {
            "standoff": 15
           },
           "zerolinecolor": "white",
           "zerolinewidth": 2
          },
          "yaxis": {
           "automargin": true,
           "gridcolor": "white",
           "linecolor": "white",
           "ticks": "",
           "title": {
            "standoff": 15
           },
           "zerolinecolor": "white",
           "zerolinewidth": 2
          }
         }
        },
        "title": {
         "text": "Confusion Matrix"
        },
        "xaxis": {
         "anchor": "y",
         "constrain": "domain",
         "domain": [
          0,
          1
         ],
         "scaleanchor": "y",
         "title": {
          "text": "Predicted"
         }
        },
        "yaxis": {
         "anchor": "x",
         "autorange": "reversed",
         "constrain": "domain",
         "domain": [
          0,
          1
         ],
         "title": {
          "text": "True"
         }
        }
       }
      }
     },
     "metadata": {},
     "output_type": "display_data"
    }
   ],
   "source": [
    "plot_confusion_matrix(y_labeled_val, y_labeled_val_pred, trained_model.classes_)"
   ]
  },
  {
   "cell_type": "code",
   "execution_count": null,
   "metadata": {},
   "outputs": [],
   "source": []
  },
  {
   "cell_type": "code",
   "execution_count": 14,
   "metadata": {},
   "outputs": [],
   "source": [
    "classifier = self_training(model, X_labeled, y_labeled, X_unlabeled)"
   ]
  },
  {
   "cell_type": "code",
   "execution_count": 15,
   "metadata": {},
   "outputs": [],
   "source": [
    "y_labeled_pred = classifier.predict(X_labeled)"
   ]
  },
  {
   "cell_type": "code",
   "execution_count": 16,
   "metadata": {},
   "outputs": [
    {
     "data": {
      "text/plain": [
       "array(['dat', 'dat', 'dat', 'other', 'xan', 'other', 'other', 'dat',\n",
       "       'dat', 'other', 'dat', 'xan', 'xan', 'xan', 'xan', 'xan', 'dat',\n",
       "       'xan', 'xan', 'other', 'dat', 'xan', 'dat', 'other', 'other',\n",
       "       'dat', 'other', 'other', 'other', 'xan', 'dat', 'other', 'xan',\n",
       "       'xan', 'dat', 'xan', 'xan', 'other', 'dat', 'other', 'dat', 'dat',\n",
       "       'other', 'xan', 'other'], dtype=object)"
      ]
     },
     "execution_count": 16,
     "metadata": {},
     "output_type": "execute_result"
    }
   ],
   "source": [
    "y_labeled"
   ]
  },
  {
   "cell_type": "code",
   "execution_count": 17,
   "metadata": {},
   "outputs": [
    {
     "data": {
      "text/plain": [
       "array(['dat', 'dat', 'dat', 'other', 'xan', 'other', 'other', 'dat',\n",
       "       'dat', 'other', 'dat', 'xan', 'xan', 'xan', 'xan', 'xan', 'dat',\n",
       "       'xan', 'xan', 'other', 'dat', 'xan', 'dat', 'other', 'other',\n",
       "       'dat', 'other', 'other', 'other', 'xan', 'dat', 'other', 'xan',\n",
       "       'xan', 'dat', 'xan', 'xan', 'other', 'dat', 'other', 'dat', 'dat',\n",
       "       'other', 'xan', 'other'], dtype=object)"
      ]
     },
     "execution_count": 17,
     "metadata": {},
     "output_type": "execute_result"
    }
   ],
   "source": [
    "y_labeled_pred"
   ]
  },
  {
   "cell_type": "code",
   "execution_count": 18,
   "metadata": {},
   "outputs": [
    {
     "data": {
      "text/plain": [
       "((45,), (45,))"
      ]
     },
     "execution_count": 18,
     "metadata": {},
     "output_type": "execute_result"
    }
   ],
   "source": [
    "y_labeled.shape, y_labeled_pred.shape"
   ]
  },
  {
   "cell_type": "code",
   "execution_count": 19,
   "metadata": {},
   "outputs": [
    {
     "name": "stdout",
     "output_type": "stream",
     "text": [
      "Cohen's Kappa: 1.0, 95% CI: (1.0, 1.0)\n"
     ]
    }
   ],
   "source": [
    "kappa, lower, upper = kappa_confidence_interval(y_labeled, y_labeled_pred)\n",
    "print(f\"Cohen's Kappa: {kappa}, 95% CI: ({lower}, {upper})\")"
   ]
  },
  {
   "cell_type": "code",
   "execution_count": 20,
   "metadata": {},
   "outputs": [
    {
     "name": "stdout",
     "output_type": "stream",
     "text": [
      "Training data metrics: {'accuracy': 1.0, 'precision': 1.0, 'recall': 1.0, 'f1': 1.0}\n"
     ]
    },
    {
     "data": {
      "application/vnd.plotly.v1+json": {
       "config": {
        "plotlyServerURL": "https://plot.ly"
       },
       "data": [
        {
         "coloraxis": "coloraxis",
         "hovertemplate": "x: %{x}<br>y: %{y}<br>color: %{z}<extra></extra>",
         "name": "0",
         "texttemplate": "%{z}",
         "type": "heatmap",
         "x": [
          "dat",
          "other",
          "xan"
         ],
         "xaxis": "x",
         "y": [
          "dat",
          "other",
          "xan"
         ],
         "yaxis": "y",
         "z": [
          [
           15,
           0,
           0
          ],
          [
           0,
           15,
           0
          ],
          [
           0,
           0,
           15
          ]
         ]
        }
       ],
       "layout": {
        "coloraxis": {
         "colorscale": [
          [
           0,
           "white"
          ],
          [
           1,
           "white"
          ]
         ],
         "showscale": false
        },
        "margin": {
         "t": 60
        },
        "shapes": [
         {
          "line": {
           "color": "black",
           "width": 2
          },
          "type": "line",
          "x0": -0.5,
          "x1": 2.5,
          "y0": -0.5,
          "y1": -0.5
         },
         {
          "line": {
           "color": "black",
           "width": 2
          },
          "type": "line",
          "x0": -0.5,
          "x1": -0.5,
          "y0": -0.5,
          "y1": 2.5
         },
         {
          "line": {
           "color": "black",
           "width": 2
          },
          "type": "line",
          "x0": -0.5,
          "x1": 2.5,
          "y0": 0.5,
          "y1": 0.5
         },
         {
          "line": {
           "color": "black",
           "width": 2
          },
          "type": "line",
          "x0": 0.5,
          "x1": 0.5,
          "y0": -0.5,
          "y1": 2.5
         },
         {
          "line": {
           "color": "black",
           "width": 2
          },
          "type": "line",
          "x0": -0.5,
          "x1": 2.5,
          "y0": 1.5,
          "y1": 1.5
         },
         {
          "line": {
           "color": "black",
           "width": 2
          },
          "type": "line",
          "x0": 1.5,
          "x1": 1.5,
          "y0": -0.5,
          "y1": 2.5
         }
        ],
        "template": {
         "data": {
          "bar": [
           {
            "error_x": {
             "color": "#2a3f5f"
            },
            "error_y": {
             "color": "#2a3f5f"
            },
            "marker": {
             "line": {
              "color": "#E5ECF6",
              "width": 0.5
             },
             "pattern": {
              "fillmode": "overlay",
              "size": 10,
              "solidity": 0.2
             }
            },
            "type": "bar"
           }
          ],
          "barpolar": [
           {
            "marker": {
             "line": {
              "color": "#E5ECF6",
              "width": 0.5
             },
             "pattern": {
              "fillmode": "overlay",
              "size": 10,
              "solidity": 0.2
             }
            },
            "type": "barpolar"
           }
          ],
          "carpet": [
           {
            "aaxis": {
             "endlinecolor": "#2a3f5f",
             "gridcolor": "white",
             "linecolor": "white",
             "minorgridcolor": "white",
             "startlinecolor": "#2a3f5f"
            },
            "baxis": {
             "endlinecolor": "#2a3f5f",
             "gridcolor": "white",
             "linecolor": "white",
             "minorgridcolor": "white",
             "startlinecolor": "#2a3f5f"
            },
            "type": "carpet"
           }
          ],
          "choropleth": [
           {
            "colorbar": {
             "outlinewidth": 0,
             "ticks": ""
            },
            "type": "choropleth"
           }
          ],
          "contour": [
           {
            "colorbar": {
             "outlinewidth": 0,
             "ticks": ""
            },
            "colorscale": [
             [
              0,
              "#0d0887"
             ],
             [
              0.1111111111111111,
              "#46039f"
             ],
             [
              0.2222222222222222,
              "#7201a8"
             ],
             [
              0.3333333333333333,
              "#9c179e"
             ],
             [
              0.4444444444444444,
              "#bd3786"
             ],
             [
              0.5555555555555556,
              "#d8576b"
             ],
             [
              0.6666666666666666,
              "#ed7953"
             ],
             [
              0.7777777777777778,
              "#fb9f3a"
             ],
             [
              0.8888888888888888,
              "#fdca26"
             ],
             [
              1,
              "#f0f921"
             ]
            ],
            "type": "contour"
           }
          ],
          "contourcarpet": [
           {
            "colorbar": {
             "outlinewidth": 0,
             "ticks": ""
            },
            "type": "contourcarpet"
           }
          ],
          "heatmap": [
           {
            "colorbar": {
             "outlinewidth": 0,
             "ticks": ""
            },
            "colorscale": [
             [
              0,
              "#0d0887"
             ],
             [
              0.1111111111111111,
              "#46039f"
             ],
             [
              0.2222222222222222,
              "#7201a8"
             ],
             [
              0.3333333333333333,
              "#9c179e"
             ],
             [
              0.4444444444444444,
              "#bd3786"
             ],
             [
              0.5555555555555556,
              "#d8576b"
             ],
             [
              0.6666666666666666,
              "#ed7953"
             ],
             [
              0.7777777777777778,
              "#fb9f3a"
             ],
             [
              0.8888888888888888,
              "#fdca26"
             ],
             [
              1,
              "#f0f921"
             ]
            ],
            "type": "heatmap"
           }
          ],
          "heatmapgl": [
           {
            "colorbar": {
             "outlinewidth": 0,
             "ticks": ""
            },
            "colorscale": [
             [
              0,
              "#0d0887"
             ],
             [
              0.1111111111111111,
              "#46039f"
             ],
             [
              0.2222222222222222,
              "#7201a8"
             ],
             [
              0.3333333333333333,
              "#9c179e"
             ],
             [
              0.4444444444444444,
              "#bd3786"
             ],
             [
              0.5555555555555556,
              "#d8576b"
             ],
             [
              0.6666666666666666,
              "#ed7953"
             ],
             [
              0.7777777777777778,
              "#fb9f3a"
             ],
             [
              0.8888888888888888,
              "#fdca26"
             ],
             [
              1,
              "#f0f921"
             ]
            ],
            "type": "heatmapgl"
           }
          ],
          "histogram": [
           {
            "marker": {
             "pattern": {
              "fillmode": "overlay",
              "size": 10,
              "solidity": 0.2
             }
            },
            "type": "histogram"
           }
          ],
          "histogram2d": [
           {
            "colorbar": {
             "outlinewidth": 0,
             "ticks": ""
            },
            "colorscale": [
             [
              0,
              "#0d0887"
             ],
             [
              0.1111111111111111,
              "#46039f"
             ],
             [
              0.2222222222222222,
              "#7201a8"
             ],
             [
              0.3333333333333333,
              "#9c179e"
             ],
             [
              0.4444444444444444,
              "#bd3786"
             ],
             [
              0.5555555555555556,
              "#d8576b"
             ],
             [
              0.6666666666666666,
              "#ed7953"
             ],
             [
              0.7777777777777778,
              "#fb9f3a"
             ],
             [
              0.8888888888888888,
              "#fdca26"
             ],
             [
              1,
              "#f0f921"
             ]
            ],
            "type": "histogram2d"
           }
          ],
          "histogram2dcontour": [
           {
            "colorbar": {
             "outlinewidth": 0,
             "ticks": ""
            },
            "colorscale": [
             [
              0,
              "#0d0887"
             ],
             [
              0.1111111111111111,
              "#46039f"
             ],
             [
              0.2222222222222222,
              "#7201a8"
             ],
             [
              0.3333333333333333,
              "#9c179e"
             ],
             [
              0.4444444444444444,
              "#bd3786"
             ],
             [
              0.5555555555555556,
              "#d8576b"
             ],
             [
              0.6666666666666666,
              "#ed7953"
             ],
             [
              0.7777777777777778,
              "#fb9f3a"
             ],
             [
              0.8888888888888888,
              "#fdca26"
             ],
             [
              1,
              "#f0f921"
             ]
            ],
            "type": "histogram2dcontour"
           }
          ],
          "mesh3d": [
           {
            "colorbar": {
             "outlinewidth": 0,
             "ticks": ""
            },
            "type": "mesh3d"
           }
          ],
          "parcoords": [
           {
            "line": {
             "colorbar": {
              "outlinewidth": 0,
              "ticks": ""
             }
            },
            "type": "parcoords"
           }
          ],
          "pie": [
           {
            "automargin": true,
            "type": "pie"
           }
          ],
          "scatter": [
           {
            "fillpattern": {
             "fillmode": "overlay",
             "size": 10,
             "solidity": 0.2
            },
            "type": "scatter"
           }
          ],
          "scatter3d": [
           {
            "line": {
             "colorbar": {
              "outlinewidth": 0,
              "ticks": ""
             }
            },
            "marker": {
             "colorbar": {
              "outlinewidth": 0,
              "ticks": ""
             }
            },
            "type": "scatter3d"
           }
          ],
          "scattercarpet": [
           {
            "marker": {
             "colorbar": {
              "outlinewidth": 0,
              "ticks": ""
             }
            },
            "type": "scattercarpet"
           }
          ],
          "scattergeo": [
           {
            "marker": {
             "colorbar": {
              "outlinewidth": 0,
              "ticks": ""
             }
            },
            "type": "scattergeo"
           }
          ],
          "scattergl": [
           {
            "marker": {
             "colorbar": {
              "outlinewidth": 0,
              "ticks": ""
             }
            },
            "type": "scattergl"
           }
          ],
          "scattermapbox": [
           {
            "marker": {
             "colorbar": {
              "outlinewidth": 0,
              "ticks": ""
             }
            },
            "type": "scattermapbox"
           }
          ],
          "scatterpolar": [
           {
            "marker": {
             "colorbar": {
              "outlinewidth": 0,
              "ticks": ""
             }
            },
            "type": "scatterpolar"
           }
          ],
          "scatterpolargl": [
           {
            "marker": {
             "colorbar": {
              "outlinewidth": 0,
              "ticks": ""
             }
            },
            "type": "scatterpolargl"
           }
          ],
          "scatterternary": [
           {
            "marker": {
             "colorbar": {
              "outlinewidth": 0,
              "ticks": ""
             }
            },
            "type": "scatterternary"
           }
          ],
          "surface": [
           {
            "colorbar": {
             "outlinewidth": 0,
             "ticks": ""
            },
            "colorscale": [
             [
              0,
              "#0d0887"
             ],
             [
              0.1111111111111111,
              "#46039f"
             ],
             [
              0.2222222222222222,
              "#7201a8"
             ],
             [
              0.3333333333333333,
              "#9c179e"
             ],
             [
              0.4444444444444444,
              "#bd3786"
             ],
             [
              0.5555555555555556,
              "#d8576b"
             ],
             [
              0.6666666666666666,
              "#ed7953"
             ],
             [
              0.7777777777777778,
              "#fb9f3a"
             ],
             [
              0.8888888888888888,
              "#fdca26"
             ],
             [
              1,
              "#f0f921"
             ]
            ],
            "type": "surface"
           }
          ],
          "table": [
           {
            "cells": {
             "fill": {
              "color": "#EBF0F8"
             },
             "line": {
              "color": "white"
             }
            },
            "header": {
             "fill": {
              "color": "#C8D4E3"
             },
             "line": {
              "color": "white"
             }
            },
            "type": "table"
           }
          ]
         },
         "layout": {
          "annotationdefaults": {
           "arrowcolor": "#2a3f5f",
           "arrowhead": 0,
           "arrowwidth": 1
          },
          "autotypenumbers": "strict",
          "coloraxis": {
           "colorbar": {
            "outlinewidth": 0,
            "ticks": ""
           }
          },
          "colorscale": {
           "diverging": [
            [
             0,
             "#8e0152"
            ],
            [
             0.1,
             "#c51b7d"
            ],
            [
             0.2,
             "#de77ae"
            ],
            [
             0.3,
             "#f1b6da"
            ],
            [
             0.4,
             "#fde0ef"
            ],
            [
             0.5,
             "#f7f7f7"
            ],
            [
             0.6,
             "#e6f5d0"
            ],
            [
             0.7,
             "#b8e186"
            ],
            [
             0.8,
             "#7fbc41"
            ],
            [
             0.9,
             "#4d9221"
            ],
            [
             1,
             "#276419"
            ]
           ],
           "sequential": [
            [
             0,
             "#0d0887"
            ],
            [
             0.1111111111111111,
             "#46039f"
            ],
            [
             0.2222222222222222,
             "#7201a8"
            ],
            [
             0.3333333333333333,
             "#9c179e"
            ],
            [
             0.4444444444444444,
             "#bd3786"
            ],
            [
             0.5555555555555556,
             "#d8576b"
            ],
            [
             0.6666666666666666,
             "#ed7953"
            ],
            [
             0.7777777777777778,
             "#fb9f3a"
            ],
            [
             0.8888888888888888,
             "#fdca26"
            ],
            [
             1,
             "#f0f921"
            ]
           ],
           "sequentialminus": [
            [
             0,
             "#0d0887"
            ],
            [
             0.1111111111111111,
             "#46039f"
            ],
            [
             0.2222222222222222,
             "#7201a8"
            ],
            [
             0.3333333333333333,
             "#9c179e"
            ],
            [
             0.4444444444444444,
             "#bd3786"
            ],
            [
             0.5555555555555556,
             "#d8576b"
            ],
            [
             0.6666666666666666,
             "#ed7953"
            ],
            [
             0.7777777777777778,
             "#fb9f3a"
            ],
            [
             0.8888888888888888,
             "#fdca26"
            ],
            [
             1,
             "#f0f921"
            ]
           ]
          },
          "colorway": [
           "#636efa",
           "#EF553B",
           "#00cc96",
           "#ab63fa",
           "#FFA15A",
           "#19d3f3",
           "#FF6692",
           "#B6E880",
           "#FF97FF",
           "#FECB52"
          ],
          "font": {
           "color": "#2a3f5f"
          },
          "geo": {
           "bgcolor": "white",
           "lakecolor": "white",
           "landcolor": "#E5ECF6",
           "showlakes": true,
           "showland": true,
           "subunitcolor": "white"
          },
          "hoverlabel": {
           "align": "left"
          },
          "hovermode": "closest",
          "mapbox": {
           "style": "light"
          },
          "paper_bgcolor": "white",
          "plot_bgcolor": "#E5ECF6",
          "polar": {
           "angularaxis": {
            "gridcolor": "white",
            "linecolor": "white",
            "ticks": ""
           },
           "bgcolor": "#E5ECF6",
           "radialaxis": {
            "gridcolor": "white",
            "linecolor": "white",
            "ticks": ""
           }
          },
          "scene": {
           "xaxis": {
            "backgroundcolor": "#E5ECF6",
            "gridcolor": "white",
            "gridwidth": 2,
            "linecolor": "white",
            "showbackground": true,
            "ticks": "",
            "zerolinecolor": "white"
           },
           "yaxis": {
            "backgroundcolor": "#E5ECF6",
            "gridcolor": "white",
            "gridwidth": 2,
            "linecolor": "white",
            "showbackground": true,
            "ticks": "",
            "zerolinecolor": "white"
           },
           "zaxis": {
            "backgroundcolor": "#E5ECF6",
            "gridcolor": "white",
            "gridwidth": 2,
            "linecolor": "white",
            "showbackground": true,
            "ticks": "",
            "zerolinecolor": "white"
           }
          },
          "shapedefaults": {
           "line": {
            "color": "#2a3f5f"
           }
          },
          "ternary": {
           "aaxis": {
            "gridcolor": "white",
            "linecolor": "white",
            "ticks": ""
           },
           "baxis": {
            "gridcolor": "white",
            "linecolor": "white",
            "ticks": ""
           },
           "bgcolor": "#E5ECF6",
           "caxis": {
            "gridcolor": "white",
            "linecolor": "white",
            "ticks": ""
           }
          },
          "title": {
           "x": 0.05
          },
          "xaxis": {
           "automargin": true,
           "gridcolor": "white",
           "linecolor": "white",
           "ticks": "",
           "title": {
            "standoff": 15
           },
           "zerolinecolor": "white",
           "zerolinewidth": 2
          },
          "yaxis": {
           "automargin": true,
           "gridcolor": "white",
           "linecolor": "white",
           "ticks": "",
           "title": {
            "standoff": 15
           },
           "zerolinecolor": "white",
           "zerolinewidth": 2
          }
         }
        },
        "title": {
         "text": "Confusion Matrix"
        },
        "xaxis": {
         "anchor": "y",
         "constrain": "domain",
         "domain": [
          0,
          1
         ],
         "scaleanchor": "y",
         "title": {
          "text": "Predicted"
         }
        },
        "yaxis": {
         "anchor": "x",
         "autorange": "reversed",
         "constrain": "domain",
         "domain": [
          0,
          1
         ],
         "title": {
          "text": "True"
         }
        }
       }
      }
     },
     "metadata": {},
     "output_type": "display_data"
    },
    {
     "data": {
      "image/png": "[encoded data removed]",
      "text/plain": [
       "<Figure size 640x480 with 1 Axes>"
      ]
     },
     "metadata": {},
     "output_type": "display_data"
    }
   ],
   "source": [
    "# Plot the confusion matrix and ROC curve of training data\n",
    "metrics = calculate_metrics(y_labeled, y_labeled_pred)\n",
    "print(f'Training data metrics: {metrics}')\n",
    "plot_confusion_matrix(y_labeled, y_labeled_pred, classifier.classes_)\n",
    "plot_roc_curve(y_labeled, classifier.predict_proba(X_labeled), classifier.classes_)"
   ]
  },
  {
   "cell_type": "markdown",
   "metadata": {},
   "source": [
    "# Predict on Unlabeled Data"
   ]
  },
  {
   "cell_type": "code",
   "execution_count": 21,
   "metadata": {},
   "outputs": [],
   "source": [
    "def proba_confidence_interval(X_unlabeled, classifier, n_bootstrap=1000, alpha=0.05):\n",
    "    \"\"\"\n",
    "    Calculate confidence intervals for predicted probabilities using bootstrapping.\n",
    "    \n",
    "    Parameters:\n",
    "    X_unlabeled: Unlabeled data.\n",
    "    classifier: Trained classifier.\n",
    "    n_bootstrap: Number of bootstrap samples to create.\n",
    "    alpha: Confidence interval, e.g., 0.05 for 95% confidence.\n",
    "    \n",
    "    Returns:\n",
    "    lower: Lower bound of the confidence interval for each sample.\n",
    "    upper: Upper bound of the confidence interval for each sample.\n",
    "    \"\"\"\n",
    "    # Generate bootstrap samples and calculate predicted probabilities for each sample\n",
    "    bootstrap_probas = []\n",
    "    for _ in range(n_bootstrap):\n",
    "        X_resampled = resample(X_unlabeled)\n",
    "        proba_resampled = classifier.predict_proba(X_resampled)\n",
    "        bootstrap_probas.append(proba_resampled)\n",
    "    \n",
    "    # Calculate lower and upper percentiles for the confidence interval\n",
    "    lower = np.percentile(bootstrap_probas, 100 * alpha / 2, axis=0)\n",
    "    upper = np.percentile(bootstrap_probas, 100 * (1 - alpha / 2), axis=0)\n",
    "    \n",
    "    return lower, upper"
   ]
  },
  {
   "cell_type": "code",
   "execution_count": 22,
   "metadata": {},
   "outputs": [],
   "source": [
    "lower, upper = proba_confidence_interval(X_unlabeled, classifier)"
   ]
  },
  {
   "cell_type": "code",
   "execution_count": 23,
   "metadata": {},
   "outputs": [
    {
     "data": {
      "text/plain": [
       "((299, 3), (299, 3))"
      ]
     },
     "execution_count": 23,
     "metadata": {},
     "output_type": "execute_result"
    }
   ],
   "source": [
    "lower.shape, upper.shape"
   ]
  },
  {
   "cell_type": "code",
   "execution_count": 24,
   "metadata": {},
   "outputs": [],
   "source": [
    "def plot_confidence_intervals(X_unlabeled, classifier, n_bins=10, n_bootstrap=1000, alpha=0.05):\n",
    "    \"\"\"\n",
    "    Calculate confidence intervals for predicted probabilities and plot a histogram of their widths.\n",
    "\n",
    "    Parameters:\n",
    "    X_unlabeled: Unlabeled data.\n",
    "    classifier: Trained classifier.\n",
    "    n_bins: Number of bins for the histogram.\n",
    "    n_bootstrap: Number of bootstrap samples to create.\n",
    "    alpha: Confidence interval, e.g., 0.05 for 95% confidence.\n",
    "    \"\"\"\n",
    "    # Calculate confidence intervals\n",
    "    lower, upper = proba_confidence_interval(X_unlabeled, classifier, n_bootstrap, alpha)\n",
    "\n",
    "    # Calculate the widths of the confidence intervals\n",
    "    widths = upper - lower\n",
    "\n",
    "    # Create a histogram of the widths\n",
    "    fig = px.histogram(widths, nbins=n_bins)\n",
    "\n",
    "    # Show the plot\n",
    "    fig.show()\n",
    "\n",
    "\n",
    "def plot_predicted_probabilities(probabilities, class_labels):\n",
    "    # Convert the probabilities and class labels to a DataFrame\n",
    "    df = pd.DataFrame(probabilities, columns=class_labels)\n",
    "    \n",
    "    # Melt the DataFrame to a long format for easier plotting\n",
    "    df_melt = df.melt(var_name='Class', value_name='Predicted Probability')\n",
    "    \n",
    "    # Create a histogram for each class\n",
    "    fig = px.histogram(df_melt, x='Predicted Probability', color='Class', nbins=50,\n",
    "                       title='Predicted Probabilities for Each Class',\n",
    "                       labels={'Predicted Probability': 'Predicted Probability', 'Class': 'Class'},\n",
    "                       marginal='box', # display box plot on top margin\n",
    "                       opacity=0.7,\n",
    "                       barmode='overlay') # overlay histograms on top of one another\n",
    "    fig.show()"
   ]
  },
  {
   "cell_type": "code",
   "execution_count": 25,
   "metadata": {},
   "outputs": [],
   "source": [
    "y_pred = classifier.predict(X_unlabeled)\n",
    "y_pred_proba = classifier.predict_proba(X_unlabeled)"
   ]
  },
  {
   "cell_type": "code",
   "execution_count": 26,
   "metadata": {},
   "outputs": [
    {
     "data": {
      "application/vnd.plotly.v1+json": {
       "config": {
        "plotlyServerURL": "https://plot.ly"
       },
       "data": [
        {
         "alignmentgroup": "True",
         "bingroup": "x",
         "hovertemplate": "Class=dat<br>Predicted Probability=%{x}<br>count=%{y}<extra></extra>",
         "legendgroup": "dat",
         "marker": {
          "color": "#636efa",
          "opacity": 0.7,
          "pattern": {
           "shape": ""
          }
         },
         "name": "dat",
         "nbinsx": 50,
         "offsetgroup": "dat",
         "orientation": "v",
         "showlegend": true,
         "type": "histogram",
         "x": [
          0.33,
          0.22,
          0.21,
          0.24,
          0.19,
          0.23,
          0.18,
          0.23,
          0.17,
          0.15,
          0.21,
          0.24,
          0.18,
          0.13,
          0.17,
          0.2,
          0.26,
          0.09,
          0.26,
          0.29,
          0.21,
          0.19,
          0.22,
          0.1,
          0.12,
          0.26,
          0.26,
          0.23,
          0.22,
          0.13,
          0.3,
          0.23,
          0.2,
          0.21,
          0.13,
          0.27,
          0.17,
          0.23,
          0.19,
          0.29,
          0.26,
          0.28,
          0.15,
          0.17,
          0.24,
          0.3,
          0.15,
          0.29,
          0.21,
          0.31,
          0.33,
          0.2,
          0.25,
          0.22,
          0.26,
          0.24,
          0.19,
          0.19,
          0.17,
          0.17,
          0.22,
          0.26,
          0.1,
          0.25,
          0.26,
          0.2,
          0.21,
          0.12,
          0.26,
          0.18,
          0.2,
          0.2,
          0.14,
          0.21,
          0.18,
          0.18,
          0.18,
          0.19,
          0.2,
          0.22,
          0.27,
          0.21,
          0.18,
          0.3,
          0.22,
          0.27,
          0.14,
          0.24,
          0.17,
          0.14,
          0.27,
          0.37,
          0.25,
          0.23,
          0.21,
          0.19,
          0.3,
          0.13,
          0.24,
          0.17,
          0.14,
          0.22,
          0.18,
          0.14,
          0.33,
          0.25,
          0.35,
          0.18,
          0.38,
          0.27,
          0.1,
          0.28,
          0.29,
          0.24,
          0.19,
          0.2,
          0.19,
          0.16,
          0.18,
          0.28,
          0.33,
          0.21,
          0.28,
          0.27,
          0.2,
          0.22,
          0.1,
          0.13,
          0.25,
          0.15,
          0.2,
          0.25,
          0.19,
          0.08,
          0.17,
          0.19,
          0.18,
          0.16,
          0.17,
          0.23,
          0.1,
          0.18,
          0.24,
          0.27,
          0.26,
          0.14,
          0.12,
          0.22,
          0.07,
          0.18,
          0.09,
          0.24,
          0.16,
          0.26,
          0.14,
          0.19,
          0.24,
          0.2,
          0.15,
          0.17,
          0.17,
          0.18,
          0.11,
          0.22,
          0.26,
          0.16,
          0.16,
          0.15,
          0.15,
          0.32,
          0.1,
          0.19,
          0.27,
          0.17,
          0.19,
          0.47,
          0.24,
          0.23,
          0.11,
          0.15,
          0.24,
          0.12,
          0.23,
          0.27,
          0.28,
          0.23,
          0.26,
          0.21,
          0.23,
          0.21,
          0.19,
          0.2,
          0.23,
          0.06,
          0.22,
          0.17,
          0.26,
          0.22,
          0.18,
          0.28,
          0.3,
          0.28,
          0.25,
          0.14,
          0.22,
          0.33,
          0.29,
          0.14,
          0.2,
          0.28,
          0.18,
          0.27,
          0.17,
          0.19,
          0.22,
          0.18,
          0.28,
          0.23,
          0.23,
          0.16,
          0.26,
          0.2,
          0.16,
          0.21,
          0.19,
          0.21,
          0.17,
          0.19,
          0.21,
          0.23,
          0.17,
          0.22,
          0.19,
          0.16,
          0.15,
          0.22,
          0.16,
          0.11,
          0.26,
          0.34,
          0.21,
          0.17,
          0.25,
          0.18,
          0.2,
          0.13,
          0.1,
          0.23,
          0.25,
          0.16,
          0.11,
          0.21,
          0.18,
          0.2,
          0.26,
          0.11,
          0.37,
          0.21,
          0.16,
          0.2,
          0.32,
          0.26,
          0.24,
          0.27,
          0.25,
          0.24,
          0.18,
          0.23,
          0.25,
          0.23,
          0.21,
          0.22,
          0.3,
          0.3,
          0.29,
          0.21,
          0.1,
          0.19,
          0.13,
          0.2,
          0.28,
          0.16,
          0.1,
          0.28,
          0.28,
          0.14,
          0.18,
          0.27,
          0.24,
          0.15,
          0.16,
          0.12,
          0.11,
          0.1,
          0.28,
          0.18,
          0.25,
          0.26,
          0.22
         ],
         "xaxis": "x",
         "yaxis": "y"
        },
        {
         "alignmentgroup": "True",
         "hovertemplate": "Class=dat<br>Predicted Probability=%{x}<extra></extra>",
         "legendgroup": "dat",
         "marker": {
          "color": "#636efa"
         },
         "name": "dat",
         "notched": true,
         "offsetgroup": "dat",
         "showlegend": false,
         "type": "box",
         "x": [
          0.33,
          0.22,
          0.21,
          0.24,
          0.19,
          0.23,
          0.18,
          0.23,
          0.17,
          0.15,
          0.21,
          0.24,
          0.18,
          0.13,
          0.17,
          0.2,
          0.26,
          0.09,
          0.26,
          0.29,
          0.21,
          0.19,
          0.22,
          0.1,
          0.12,
          0.26,
          0.26,
          0.23,
          0.22,
          0.13,
          0.3,
          0.23,
          0.2,
          0.21,
          0.13,
          0.27,
          0.17,
          0.23,
          0.19,
          0.29,
          0.26,
          0.28,
          0.15,
          0.17,
          0.24,
          0.3,
          0.15,
          0.29,
          0.21,
          0.31,
          0.33,
          0.2,
          0.25,
          0.22,
          0.26,
          0.24,
          0.19,
          0.19,
          0.17,
          0.17,
          0.22,
          0.26,
          0.1,
          0.25,
          0.26,
          0.2,
          0.21,
          0.12,
          0.26,
          0.18,
          0.2,
          0.2,
          0.14,
          0.21,
          0.18,
          0.18,
          0.18,
          0.19,
          0.2,
          0.22,
          0.27,
          0.21,
          0.18,
          0.3,
          0.22,
          0.27,
          0.14,
          0.24,
          0.17,
          0.14,
          0.27,
          0.37,
          0.25,
          0.23,
          0.21,
          0.19,
          0.3,
          0.13,
          0.24,
          0.17,
          0.14,
          0.22,
          0.18,
          0.14,
          0.33,
          0.25,
          0.35,
          0.18,
          0.38,
          0.27,
          0.1,
          0.28,
          0.29,
          0.24,
          0.19,
          0.2,
          0.19,
          0.16,
          0.18,
          0.28,
          0.33,
          0.21,
          0.28,
          0.27,
          0.2,
          0.22,
          0.1,
          0.13,
          0.25,
          0.15,
          0.2,
          0.25,
          0.19,
          0.08,
          0.17,
          0.19,
          0.18,
          0.16,
          0.17,
          0.23,
          0.1,
          0.18,
          0.24,
          0.27,
          0.26,
          0.14,
          0.12,
          0.22,
          0.07,
          0.18,
          0.09,
          0.24,
          0.16,
          0.26,
          0.14,
          0.19,
          0.24,
          0.2,
          0.15,
          0.17,
          0.17,
          0.18,
          0.11,
          0.22,
          0.26,
          0.16,
          0.16,
          0.15,
          0.15,
          0.32,
          0.1,
          0.19,
          0.27,
          0.17,
          0.19,
          0.47,
          0.24,
          0.23,
          0.11,
          0.15,
          0.24,
          0.12,
          0.23,
          0.27,
          0.28,
          0.23,
          0.26,
          0.21,
          0.23,
          0.21,
          0.19,
          0.2,
          0.23,
          0.06,
          0.22,
          0.17,
          0.26,
          0.22,
          0.18,
          0.28,
          0.3,
          0.28,
          0.25,
          0.14,
          0.22,
          0.33,
          0.29,
          0.14,
          0.2,
          0.28,
          0.18,
          0.27,
          0.17,
          0.19,
          0.22,
          0.18,
          0.28,
          0.23,
          0.23,
          0.16,
          0.26,
          0.2,
          0.16,
          0.21,
          0.19,
          0.21,
          0.17,
          0.19,
          0.21,
          0.23,
          0.17,
          0.22,
          0.19,
          0.16,
          0.15,
          0.22,
          0.16,
          0.11,
          0.26,
          0.34,
          0.21,
          0.17,
          0.25,
          0.18,
          0.2,
          0.13,
          0.1,
          0.23,
          0.25,
          0.16,
          0.11,
          0.21,
          0.18,
          0.2,
          0.26,
          0.11,
          0.37,
          0.21,
          0.16,
          0.2,
          0.32,
          0.26,
          0.24,
          0.27,
          0.25,
          0.24,
          0.18,
          0.23,
          0.25,
          0.23,
          0.21,
          0.22,
          0.3,
          0.3,
          0.29,
          0.21,
          0.1,
          0.19,
          0.13,
          0.2,
          0.28,
          0.16,
          0.1,
          0.28,
          0.28,
          0.14,
          0.18,
          0.27,
          0.24,
          0.15,
          0.16,
          0.12,
          0.11,
          0.1,
          0.28,
          0.18,
          0.25,
          0.26,
          0.22
         ],
         "xaxis": "x2",
         "yaxis": "y2"
        },
        {
         "alignmentgroup": "True",
         "bingroup": "x",
         "hovertemplate": "Class=other<br>Predicted Probability=%{x}<br>count=%{y}<extra></extra>",
         "legendgroup": "other",
         "marker": {
          "color": "#EF553B",
          "opacity": 0.7,
          "pattern": {
           "shape": ""
          }
         },
         "name": "other",
         "nbinsx": 50,
         "offsetgroup": "other",
         "orientation": "v",
         "showlegend": true,
         "type": "histogram",
         "x": [
          0.27,
          0.21,
          0.52,
          0.45,
          0.18,
          0.15,
          0.44,
          0.3,
          0.2,
          0.5,
          0.23,
          0.33,
          0.36,
          0.24,
          0.2,
          0.44,
          0.37,
          0.65,
          0.29,
          0.22,
          0.18,
          0.47,
          0.3,
          0.34,
          0.35,
          0.12,
          0.45,
          0.37,
          0.34,
          0.33,
          0.31,
          0.31,
          0.25,
          0.31,
          0.35,
          0.21,
          0.22,
          0.24,
          0.19,
          0.22,
          0.24,
          0.24,
          0.63,
          0.3,
          0.26,
          0.37,
          0.38,
          0.38,
          0.26,
          0.22,
          0.22,
          0.44,
          0.3,
          0.44,
          0.18,
          0.3,
          0.33,
          0.5,
          0.49,
          0.38,
          0.37,
          0.31,
          0.33,
          0.23,
          0.29,
          0.3,
          0.33,
          0.5,
          0.21,
          0.25,
          0.25,
          0.19,
          0.53,
          0.45,
          0.38,
          0.34,
          0.34,
          0.41,
          0.19,
          0.22,
          0.22,
          0.36,
          0.36,
          0.23,
          0.27,
          0.27,
          0.35,
          0.24,
          0.48,
          0.56,
          0.23,
          0.12,
          0.33,
          0.17,
          0.42,
          0.23,
          0.23,
          0.28,
          0.19,
          0.31,
          0.2,
          0.35,
          0.38,
          0.24,
          0.24,
          0.37,
          0.35,
          0.3,
          0.26,
          0.2,
          0.33,
          0.16,
          0.27,
          0.2,
          0.33,
          0.33,
          0.33,
          0.37,
          0.18,
          0.21,
          0.22,
          0.25,
          0.3,
          0.29,
          0.27,
          0.26,
          0.22,
          0.46,
          0.15,
          0.32,
          0.37,
          0.18,
          0.34,
          0.53,
          0.26,
          0.25,
          0.47,
          0.37,
          0.25,
          0.25,
          0.2,
          0.41,
          0.26,
          0.15,
          0.26,
          0.29,
          0.36,
          0.16,
          0.36,
          0.37,
          0.38,
          0.25,
          0.31,
          0.22,
          0.27,
          0.3,
          0.45,
          0.28,
          0.53,
          0.24,
          0.28,
          0.36,
          0.33,
          0.35,
          0.24,
          0.34,
          0.21,
          0.3,
          0.29,
          0.38,
          0.34,
          0.3,
          0.21,
          0.3,
          0.49,
          0.13,
          0.36,
          0.27,
          0.36,
          0.21,
          0.21,
          0.29,
          0.3,
          0.24,
          0.23,
          0.23,
          0.22,
          0.29,
          0.46,
          0.17,
          0.34,
          0.18,
          0.32,
          0.33,
          0.27,
          0.26,
          0.29,
          0.48,
          0.37,
          0.17,
          0.4,
          0.15,
          0.23,
          0.27,
          0.21,
          0.36,
          0.15,
          0.39,
          0.13,
          0.28,
          0.28,
          0.21,
          0.48,
          0.27,
          0.32,
          0.52,
          0.22,
          0.24,
          0.23,
          0.39,
          0.24,
          0.26,
          0.48,
          0.22,
          0.4,
          0.33,
          0.4,
          0.33,
          0.41,
          0.3,
          0.28,
          0.32,
          0.33,
          0.46,
          0.42,
          0.22,
          0.29,
          0.36,
          0.26,
          0.19,
          0.17,
          0.54,
          0.28,
          0.27,
          0.43,
          0.42,
          0.32,
          0.25,
          0.24,
          0.31,
          0.27,
          0.37,
          0.17,
          0.31,
          0.18,
          0.31,
          0.16,
          0.43,
          0.39,
          0.37,
          0.27,
          0.15,
          0.27,
          0.3,
          0.2,
          0.27,
          0.25,
          0.23,
          0.22,
          0.29,
          0.28,
          0.3,
          0.22,
          0.18,
          0.24,
          0.29,
          0.51,
          0.29,
          0.5,
          0.29,
          0.32,
          0.26,
          0.6,
          0.45,
          0.2,
          0.36,
          0.25,
          0.3,
          0.2,
          0.44,
          0.33,
          0.33,
          0.39,
          0.34,
          0.38,
          0.38,
          0.18,
          0.27,
          0.26
         ],
         "xaxis": "x",
         "yaxis": "y"
        },
        {
         "alignmentgroup": "True",
         "hovertemplate": "Class=other<br>Predicted Probability=%{x}<extra></extra>",
         "legendgroup": "other",
         "marker": {
          "color": "#EF553B"
         },
         "name": "other",
         "notched": true,
         "offsetgroup": "other",
         "showlegend": false,
         "type": "box",
         "x": [
          0.27,
          0.21,
          0.52,
          0.45,
          0.18,
          0.15,
          0.44,
          0.3,
          0.2,
          0.5,
          0.23,
          0.33,
          0.36,
          0.24,
          0.2,
          0.44,
          0.37,
          0.65,
          0.29,
          0.22,
          0.18,
          0.47,
          0.3,
          0.34,
          0.35,
          0.12,
          0.45,
          0.37,
          0.34,
          0.33,
          0.31,
          0.31,
          0.25,
          0.31,
          0.35,
          0.21,
          0.22,
          0.24,
          0.19,
          0.22,
          0.24,
          0.24,
          0.63,
          0.3,
          0.26,
          0.37,
          0.38,
          0.38,
          0.26,
          0.22,
          0.22,
          0.44,
          0.3,
          0.44,
          0.18,
          0.3,
          0.33,
          0.5,
          0.49,
          0.38,
          0.37,
          0.31,
          0.33,
          0.23,
          0.29,
          0.3,
          0.33,
          0.5,
          0.21,
          0.25,
          0.25,
          0.19,
          0.53,
          0.45,
          0.38,
          0.34,
          0.34,
          0.41,
          0.19,
          0.22,
          0.22,
          0.36,
          0.36,
          0.23,
          0.27,
          0.27,
          0.35,
          0.24,
          0.48,
          0.56,
          0.23,
          0.12,
          0.33,
          0.17,
          0.42,
          0.23,
          0.23,
          0.28,
          0.19,
          0.31,
          0.2,
          0.35,
          0.38,
          0.24,
          0.24,
          0.37,
          0.35,
          0.3,
          0.26,
          0.2,
          0.33,
          0.16,
          0.27,
          0.2,
          0.33,
          0.33,
          0.33,
          0.37,
          0.18,
          0.21,
          0.22,
          0.25,
          0.3,
          0.29,
          0.27,
          0.26,
          0.22,
          0.46,
          0.15,
          0.32,
          0.37,
          0.18,
          0.34,
          0.53,
          0.26,
          0.25,
          0.47,
          0.37,
          0.25,
          0.25,
          0.2,
          0.41,
          0.26,
          0.15,
          0.26,
          0.29,
          0.36,
          0.16,
          0.36,
          0.37,
          0.38,
          0.25,
          0.31,
          0.22,
          0.27,
          0.3,
          0.45,
          0.28,
          0.53,
          0.24,
          0.28,
          0.36,
          0.33,
          0.35,
          0.24,
          0.34,
          0.21,
          0.3,
          0.29,
          0.38,
          0.34,
          0.3,
          0.21,
          0.3,
          0.49,
          0.13,
          0.36,
          0.27,
          0.36,
          0.21,
          0.21,
          0.29,
          0.3,
          0.24,
          0.23,
          0.23,
          0.22,
          0.29,
          0.46,
          0.17,
          0.34,
          0.18,
          0.32,
          0.33,
          0.27,
          0.26,
          0.29,
          0.48,
          0.37,
          0.17,
          0.4,
          0.15,
          0.23,
          0.27,
          0.21,
          0.36,
          0.15,
          0.39,
          0.13,
          0.28,
          0.28,
          0.21,
          0.48,
          0.27,
          0.32,
          0.52,
          0.22,
          0.24,
          0.23,
          0.39,
          0.24,
          0.26,
          0.48,
          0.22,
          0.4,
          0.33,
          0.4,
          0.33,
          0.41,
          0.3,
          0.28,
          0.32,
          0.33,
          0.46,
          0.42,
          0.22,
          0.29,
          0.36,
          0.26,
          0.19,
          0.17,
          0.54,
          0.28,
          0.27,
          0.43,
          0.42,
          0.32,
          0.25,
          0.24,
          0.31,
          0.27,
          0.37,
          0.17,
          0.31,
          0.18,
          0.31,
          0.16,
          0.43,
          0.39,
          0.37,
          0.27,
          0.15,
          0.27,
          0.3,
          0.2,
          0.27,
          0.25,
          0.23,
          0.22,
          0.29,
          0.28,
          0.3,
          0.22,
          0.18,
          0.24,
          0.29,
          0.51,
          0.29,
          0.5,
          0.29,
          0.32,
          0.26,
          0.6,
          0.45,
          0.2,
          0.36,
          0.25,
          0.3,
          0.2,
          0.44,
          0.33,
          0.33,
          0.39,
          0.34,
          0.38,
          0.38,
          0.18,
          0.27,
          0.26
         ],
         "xaxis": "x2",
         "yaxis": "y2"
        },
        {
         "alignmentgroup": "True",
         "bingroup": "x",
         "hovertemplate": "Class=xan<br>Predicted Probability=%{x}<br>count=%{y}<extra></extra>",
         "legendgroup": "xan",
         "marker": {
          "color": "#00cc96",
          "opacity": 0.7,
          "pattern": {
           "shape": ""
          }
         },
         "name": "xan",
         "nbinsx": 50,
         "offsetgroup": "xan",
         "orientation": "v",
         "showlegend": true,
         "type": "histogram",
         "x": [
          0.4,
          0.57,
          0.27,
          0.31,
          0.63,
          0.62,
          0.38,
          0.47,
          0.63,
          0.35,
          0.56,
          0.43,
          0.46,
          0.63,
          0.63,
          0.36,
          0.37,
          0.26,
          0.45,
          0.49,
          0.61,
          0.34,
          0.48,
          0.56,
          0.53,
          0.62,
          0.29,
          0.4,
          0.44,
          0.54,
          0.39,
          0.46,
          0.55,
          0.48,
          0.52,
          0.52,
          0.61,
          0.53,
          0.62,
          0.49,
          0.5,
          0.48,
          0.22,
          0.53,
          0.5,
          0.33,
          0.47,
          0.33,
          0.53,
          0.47,
          0.45,
          0.36,
          0.45,
          0.34,
          0.56,
          0.46,
          0.48,
          0.31,
          0.34,
          0.45,
          0.41,
          0.43,
          0.57,
          0.52,
          0.45,
          0.5,
          0.46,
          0.38,
          0.53,
          0.57,
          0.55,
          0.61,
          0.33,
          0.34,
          0.44,
          0.48,
          0.48,
          0.4,
          0.61,
          0.56,
          0.51,
          0.43,
          0.46,
          0.47,
          0.51,
          0.46,
          0.51,
          0.52,
          0.35,
          0.3,
          0.5,
          0.51,
          0.42,
          0.6,
          0.37,
          0.58,
          0.47,
          0.59,
          0.57,
          0.52,
          0.66,
          0.43,
          0.44,
          0.62,
          0.43,
          0.38,
          0.3,
          0.52,
          0.36,
          0.53,
          0.57,
          0.56,
          0.44,
          0.56,
          0.48,
          0.47,
          0.48,
          0.47,
          0.64,
          0.51,
          0.45,
          0.54,
          0.42,
          0.44,
          0.53,
          0.52,
          0.68,
          0.41,
          0.6,
          0.53,
          0.43,
          0.57,
          0.47,
          0.39,
          0.57,
          0.56,
          0.35,
          0.47,
          0.58,
          0.52,
          0.7,
          0.41,
          0.5,
          0.58,
          0.48,
          0.57,
          0.52,
          0.62,
          0.57,
          0.45,
          0.53,
          0.51,
          0.53,
          0.52,
          0.59,
          0.51,
          0.31,
          0.52,
          0.32,
          0.59,
          0.55,
          0.46,
          0.56,
          0.43,
          0.5,
          0.5,
          0.63,
          0.55,
          0.56,
          0.3,
          0.56,
          0.51,
          0.52,
          0.53,
          0.32,
          0.4,
          0.4,
          0.5,
          0.53,
          0.64,
          0.55,
          0.59,
          0.47,
          0.49,
          0.49,
          0.54,
          0.52,
          0.5,
          0.31,
          0.62,
          0.47,
          0.62,
          0.45,
          0.61,
          0.51,
          0.57,
          0.45,
          0.3,
          0.45,
          0.55,
          0.3,
          0.57,
          0.52,
          0.59,
          0.57,
          0.31,
          0.56,
          0.47,
          0.67,
          0.44,
          0.54,
          0.52,
          0.35,
          0.54,
          0.46,
          0.3,
          0.5,
          0.53,
          0.54,
          0.45,
          0.5,
          0.54,
          0.36,
          0.57,
          0.41,
          0.46,
          0.43,
          0.48,
          0.38,
          0.47,
          0.55,
          0.46,
          0.48,
          0.38,
          0.43,
          0.56,
          0.55,
          0.53,
          0.48,
          0.47,
          0.62,
          0.29,
          0.47,
          0.55,
          0.37,
          0.45,
          0.58,
          0.52,
          0.51,
          0.53,
          0.62,
          0.42,
          0.65,
          0.49,
          0.56,
          0.58,
          0.47,
          0.36,
          0.45,
          0.43,
          0.41,
          0.59,
          0.49,
          0.43,
          0.55,
          0.49,
          0.57,
          0.54,
          0.53,
          0.48,
          0.51,
          0.48,
          0.48,
          0.52,
          0.47,
          0.5,
          0.39,
          0.52,
          0.37,
          0.51,
          0.4,
          0.58,
          0.3,
          0.27,
          0.52,
          0.5,
          0.57,
          0.43,
          0.56,
          0.41,
          0.51,
          0.55,
          0.5,
          0.56,
          0.34,
          0.44,
          0.57,
          0.47,
          0.52
         ],
         "xaxis": "x",
         "yaxis": "y"
        },
        {
         "alignmentgroup": "True",
         "hovertemplate": "Class=xan<br>Predicted Probability=%{x}<extra></extra>",
         "legendgroup": "xan",
         "marker": {
          "color": "#00cc96"
         },
         "name": "xan",
         "notched": true,
         "offsetgroup": "xan",
         "showlegend": false,
         "type": "box",
         "x": [
          0.4,
          0.57,
          0.27,
          0.31,
          0.63,
          0.62,
          0.38,
          0.47,
          0.63,
          0.35,
          0.56,
          0.43,
          0.46,
          0.63,
          0.63,
          0.36,
          0.37,
          0.26,
          0.45,
          0.49,
          0.61,
          0.34,
          0.48,
          0.56,
          0.53,
          0.62,
          0.29,
          0.4,
          0.44,
          0.54,
          0.39,
          0.46,
          0.55,
          0.48,
          0.52,
          0.52,
          0.61,
          0.53,
          0.62,
          0.49,
          0.5,
          0.48,
          0.22,
          0.53,
          0.5,
          0.33,
          0.47,
          0.33,
          0.53,
          0.47,
          0.45,
          0.36,
          0.45,
          0.34,
          0.56,
          0.46,
          0.48,
          0.31,
          0.34,
          0.45,
          0.41,
          0.43,
          0.57,
          0.52,
          0.45,
          0.5,
          0.46,
          0.38,
          0.53,
          0.57,
          0.55,
          0.61,
          0.33,
          0.34,
          0.44,
          0.48,
          0.48,
          0.4,
          0.61,
          0.56,
          0.51,
          0.43,
          0.46,
          0.47,
          0.51,
          0.46,
          0.51,
          0.52,
          0.35,
          0.3,
          0.5,
          0.51,
          0.42,
          0.6,
          0.37,
          0.58,
          0.47,
          0.59,
          0.57,
          0.52,
          0.66,
          0.43,
          0.44,
          0.62,
          0.43,
          0.38,
          0.3,
          0.52,
          0.36,
          0.53,
          0.57,
          0.56,
          0.44,
          0.56,
          0.48,
          0.47,
          0.48,
          0.47,
          0.64,
          0.51,
          0.45,
          0.54,
          0.42,
          0.44,
          0.53,
          0.52,
          0.68,
          0.41,
          0.6,
          0.53,
          0.43,
          0.57,
          0.47,
          0.39,
          0.57,
          0.56,
          0.35,
          0.47,
          0.58,
          0.52,
          0.7,
          0.41,
          0.5,
          0.58,
          0.48,
          0.57,
          0.52,
          0.62,
          0.57,
          0.45,
          0.53,
          0.51,
          0.53,
          0.52,
          0.59,
          0.51,
          0.31,
          0.52,
          0.32,
          0.59,
          0.55,
          0.46,
          0.56,
          0.43,
          0.5,
          0.5,
          0.63,
          0.55,
          0.56,
          0.3,
          0.56,
          0.51,
          0.52,
          0.53,
          0.32,
          0.4,
          0.4,
          0.5,
          0.53,
          0.64,
          0.55,
          0.59,
          0.47,
          0.49,
          0.49,
          0.54,
          0.52,
          0.5,
          0.31,
          0.62,
          0.47,
          0.62,
          0.45,
          0.61,
          0.51,
          0.57,
          0.45,
          0.3,
          0.45,
          0.55,
          0.3,
          0.57,
          0.52,
          0.59,
          0.57,
          0.31,
          0.56,
          0.47,
          0.67,
          0.44,
          0.54,
          0.52,
          0.35,
          0.54,
          0.46,
          0.3,
          0.5,
          0.53,
          0.54,
          0.45,
          0.5,
          0.54,
          0.36,
          0.57,
          0.41,
          0.46,
          0.43,
          0.48,
          0.38,
          0.47,
          0.55,
          0.46,
          0.48,
          0.38,
          0.43,
          0.56,
          0.55,
          0.53,
          0.48,
          0.47,
          0.62,
          0.29,
          0.47,
          0.55,
          0.37,
          0.45,
          0.58,
          0.52,
          0.51,
          0.53,
          0.62,
          0.42,
          0.65,
          0.49,
          0.56,
          0.58,
          0.47,
          0.36,
          0.45,
          0.43,
          0.41,
          0.59,
          0.49,
          0.43,
          0.55,
          0.49,
          0.57,
          0.54,
          0.53,
          0.48,
          0.51,
          0.48,
          0.48,
          0.52,
          0.47,
          0.5,
          0.39,
          0.52,
          0.37,
          0.51,
          0.4,
          0.58,
          0.3,
          0.27,
          0.52,
          0.5,
          0.57,
          0.43,
          0.56,
          0.41,
          0.51,
          0.55,
          0.5,
          0.56,
          0.34,
          0.44,
          0.57,
          0.47,
          0.52
         ],
         "xaxis": "x2",
         "yaxis": "y2"
        }
       ],
       "layout": {
        "barmode": "overlay",
        "legend": {
         "title": {
          "text": "Class"
         },
         "tracegroupgap": 0
        },
        "template": {
         "data": {
          "bar": [
           {
            "error_x": {
             "color": "#2a3f5f"
            },
            "error_y": {
             "color": "#2a3f5f"
            },
            "marker": {
             "line": {
              "color": "#E5ECF6",
              "width": 0.5
             },
             "pattern": {
              "fillmode": "overlay",
              "size": 10,
              "solidity": 0.2
             }
            },
            "type": "bar"
           }
          ],
          "barpolar": [
           {
            "marker": {
             "line": {
              "color": "#E5ECF6",
              "width": 0.5
             },
             "pattern": {
              "fillmode": "overlay",
              "size": 10,
              "solidity": 0.2
             }
            },
            "type": "barpolar"
           }
          ],
          "carpet": [
           {
            "aaxis": {
             "endlinecolor": "#2a3f5f",
             "gridcolor": "white",
             "linecolor": "white",
             "minorgridcolor": "white",
             "startlinecolor": "#2a3f5f"
            },
            "baxis": {
             "endlinecolor": "#2a3f5f",
             "gridcolor": "white",
             "linecolor": "white",
             "minorgridcolor": "white",
             "startlinecolor": "#2a3f5f"
            },
            "type": "carpet"
           }
          ],
          "choropleth": [
           {
            "colorbar": {
             "outlinewidth": 0,
             "ticks": ""
            },
            "type": "choropleth"
           }
          ],
          "contour": [
           {
            "colorbar": {
             "outlinewidth": 0,
             "ticks": ""
            },
            "colorscale": [
             [
              0,
              "#0d0887"
             ],
             [
              0.1111111111111111,
              "#46039f"
             ],
             [
              0.2222222222222222,
              "#7201a8"
             ],
             [
              0.3333333333333333,
              "#9c179e"
             ],
             [
              0.4444444444444444,
              "#bd3786"
             ],
             [
              0.5555555555555556,
              "#d8576b"
             ],
             [
              0.6666666666666666,
              "#ed7953"
             ],
             [
              0.7777777777777778,
              "#fb9f3a"
             ],
             [
              0.8888888888888888,
              "#fdca26"
             ],
             [
              1,
              "#f0f921"
             ]
            ],
            "type": "contour"
           }
          ],
          "contourcarpet": [
           {
            "colorbar": {
             "outlinewidth": 0,
             "ticks": ""
            },
            "type": "contourcarpet"
           }
          ],
          "heatmap": [
           {
            "colorbar": {
             "outlinewidth": 0,
             "ticks": ""
            },
            "colorscale": [
             [
              0,
              "#0d0887"
             ],
             [
              0.1111111111111111,
              "#46039f"
             ],
             [
              0.2222222222222222,
              "#7201a8"
             ],
             [
              0.3333333333333333,
              "#9c179e"
             ],
             [
              0.4444444444444444,
              "#bd3786"
             ],
             [
              0.5555555555555556,
              "#d8576b"
             ],
             [
              0.6666666666666666,
              "#ed7953"
             ],
             [
              0.7777777777777778,
              "#fb9f3a"
             ],
             [
              0.8888888888888888,
              "#fdca26"
             ],
             [
              1,
              "#f0f921"
             ]
            ],
            "type": "heatmap"
           }
          ],
          "heatmapgl": [
           {
            "colorbar": {
             "outlinewidth": 0,
             "ticks": ""
            },
            "colorscale": [
             [
              0,
              "#0d0887"
             ],
             [
              0.1111111111111111,
              "#46039f"
             ],
             [
              0.2222222222222222,
              "#7201a8"
             ],
             [
              0.3333333333333333,
              "#9c179e"
             ],
             [
              0.4444444444444444,
              "#bd3786"
             ],
             [
              0.5555555555555556,
              "#d8576b"
             ],
             [
              0.6666666666666666,
              "#ed7953"
             ],
             [
              0.7777777777777778,
              "#fb9f3a"
             ],
             [
              0.8888888888888888,
              "#fdca26"
             ],
             [
              1,
              "#f0f921"
             ]
            ],
            "type": "heatmapgl"
           }
          ],
          "histogram": [
           {
            "marker": {
             "pattern": {
              "fillmode": "overlay",
              "size": 10,
              "solidity": 0.2
             }
            },
            "type": "histogram"
           }
          ],
          "histogram2d": [
           {
            "colorbar": {
             "outlinewidth": 0,
             "ticks": ""
            },
            "colorscale": [
             [
              0,
              "#0d0887"
             ],
             [
              0.1111111111111111,
              "#46039f"
             ],
             [
              0.2222222222222222,
              "#7201a8"
             ],
             [
              0.3333333333333333,
              "#9c179e"
             ],
             [
              0.4444444444444444,
              "#bd3786"
             ],
             [
              0.5555555555555556,
              "#d8576b"
             ],
             [
              0.6666666666666666,
              "#ed7953"
             ],
             [
              0.7777777777777778,
              "#fb9f3a"
             ],
             [
              0.8888888888888888,
              "#fdca26"
             ],
             [
              1,
              "#f0f921"
             ]
            ],
            "type": "histogram2d"
           }
          ],
          "histogram2dcontour": [
           {
            "colorbar": {
             "outlinewidth": 0,
             "ticks": ""
            },
            "colorscale": [
             [
              0,
              "#0d0887"
             ],
             [
              0.1111111111111111,
              "#46039f"
             ],
             [
              0.2222222222222222,
              "#7201a8"
             ],
             [
              0.3333333333333333,
              "#9c179e"
             ],
             [
              0.4444444444444444,
              "#bd3786"
             ],
             [
              0.5555555555555556,
              "#d8576b"
             ],
             [
              0.6666666666666666,
              "#ed7953"
             ],
             [
              0.7777777777777778,
              "#fb9f3a"
             ],
             [
              0.8888888888888888,
              "#fdca26"
             ],
             [
              1,
              "#f0f921"
             ]
            ],
            "type": "histogram2dcontour"
           }
          ],
          "mesh3d": [
           {
            "colorbar": {
             "outlinewidth": 0,
             "ticks": ""
            },
            "type": "mesh3d"
           }
          ],
          "parcoords": [
           {
            "line": {
             "colorbar": {
              "outlinewidth": 0,
              "ticks": ""
             }
            },
            "type": "parcoords"
           }
          ],
          "pie": [
           {
            "automargin": true,
            "type": "pie"
           }
          ],
          "scatter": [
           {
            "fillpattern": {
             "fillmode": "overlay",
             "size": 10,
             "solidity": 0.2
            },
            "type": "scatter"
           }
          ],
          "scatter3d": [
           {
            "line": {
             "colorbar": {
              "outlinewidth": 0,
              "ticks": ""
             }
            },
            "marker": {
             "colorbar": {
              "outlinewidth": 0,
              "ticks": ""
             }
            },
            "type": "scatter3d"
           }
          ],
          "scattercarpet": [
           {
            "marker": {
             "colorbar": {
              "outlinewidth": 0,
              "ticks": ""
             }
            },
            "type": "scattercarpet"
           }
          ],
          "scattergeo": [
           {
            "marker": {
             "colorbar": {
              "outlinewidth": 0,
              "ticks": ""
             }
            },
            "type": "scattergeo"
           }
          ],
          "scattergl": [
           {
            "marker": {
             "colorbar": {
              "outlinewidth": 0,
              "ticks": ""
             }
            },
            "type": "scattergl"
           }
          ],
          "scattermapbox": [
           {
            "marker": {
             "colorbar": {
              "outlinewidth": 0,
              "ticks": ""
             }
            },
            "type": "scattermapbox"
           }
          ],
          "scatterpolar": [
           {
            "marker": {
             "colorbar": {
              "outlinewidth": 0,
              "ticks": ""
             }
            },
            "type": "scatterpolar"
           }
          ],
          "scatterpolargl": [
           {
            "marker": {
             "colorbar": {
              "outlinewidth": 0,
              "ticks": ""
             }
            },
            "type": "scatterpolargl"
           }
          ],
          "scatterternary": [
           {
            "marker": {
             "colorbar": {
              "outlinewidth": 0,
              "ticks": ""
             }
            },
            "type": "scatterternary"
           }
          ],
          "surface": [
           {
            "colorbar": {
             "outlinewidth": 0,
             "ticks": ""
            },
            "colorscale": [
             [
              0,
              "#0d0887"
             ],
             [
              0.1111111111111111,
              "#46039f"
             ],
             [
              0.2222222222222222,
              "#7201a8"
             ],
             [
              0.3333333333333333,
              "#9c179e"
             ],
             [
              0.4444444444444444,
              "#bd3786"
             ],
             [
              0.5555555555555556,
              "#d8576b"
             ],
             [
              0.6666666666666666,
              "#ed7953"
             ],
             [
              0.7777777777777778,
              "#fb9f3a"
             ],
             [
              0.8888888888888888,
              "#fdca26"
             ],
             [
              1,
              "#f0f921"
             ]
            ],
            "type": "surface"
           }
          ],
          "table": [
           {
            "cells": {
             "fill": {
              "color": "#EBF0F8"
             },
             "line": {
              "color": "white"
             }
            },
            "header": {
             "fill": {
              "color": "#C8D4E3"
             },
             "line": {
              "color": "white"
             }
            },
            "type": "table"
           }
          ]
         },
         "layout": {
          "annotationdefaults": {
           "arrowcolor": "#2a3f5f",
           "arrowhead": 0,
           "arrowwidth": 1
          },
          "autotypenumbers": "strict",
          "coloraxis": {
           "colorbar": {
            "outlinewidth": 0,
            "ticks": ""
           }
          },
          "colorscale": {
           "diverging": [
            [
             0,
             "#8e0152"
            ],
            [
             0.1,
             "#c51b7d"
            ],
            [
             0.2,
             "#de77ae"
            ],
            [
             0.3,
             "#f1b6da"
            ],
            [
             0.4,
             "#fde0ef"
            ],
            [
             0.5,
             "#f7f7f7"
            ],
            [
             0.6,
             "#e6f5d0"
            ],
            [
             0.7,
             "#b8e186"
            ],
            [
             0.8,
             "#7fbc41"
            ],
            [
             0.9,
             "#4d9221"
            ],
            [
             1,
             "#276419"
            ]
           ],
           "sequential": [
            [
             0,
             "#0d0887"
            ],
            [
             0.1111111111111111,
             "#46039f"
            ],
            [
             0.2222222222222222,
             "#7201a8"
            ],
            [
             0.3333333333333333,
             "#9c179e"
            ],
            [
             0.4444444444444444,
             "#bd3786"
            ],
            [
             0.5555555555555556,
             "#d8576b"
            ],
            [
             0.6666666666666666,
             "#ed7953"
            ],
            [
             0.7777777777777778,
             "#fb9f3a"
            ],
            [
             0.8888888888888888,
             "#fdca26"
            ],
            [
             1,
             "#f0f921"
            ]
           ],
           "sequentialminus": [
            [
             0,
             "#0d0887"
            ],
            [
             0.1111111111111111,
             "#46039f"
            ],
            [
             0.2222222222222222,
             "#7201a8"
            ],
            [
             0.3333333333333333,
             "#9c179e"
            ],
            [
             0.4444444444444444,
             "#bd3786"
            ],
            [
             0.5555555555555556,
             "#d8576b"
            ],
            [
             0.6666666666666666,
             "#ed7953"
            ],
            [
             0.7777777777777778,
             "#fb9f3a"
            ],
            [
             0.8888888888888888,
             "#fdca26"
            ],
            [
             1,
             "#f0f921"
            ]
           ]
          },
          "colorway": [
           "#636efa",
           "#EF553B",
           "#00cc96",
           "#ab63fa",
           "#FFA15A",
           "#19d3f3",
           "#FF6692",
           "#B6E880",
           "#FF97FF",
           "#FECB52"
          ],
          "font": {
           "color": "#2a3f5f"
          },
          "geo": {
           "bgcolor": "white",
           "lakecolor": "white",
           "landcolor": "#E5ECF6",
           "showlakes": true,
           "showland": true,
           "subunitcolor": "white"
          },
          "hoverlabel": {
           "align": "left"
          },
          "hovermode": "closest",
          "mapbox": {
           "style": "light"
          },
          "paper_bgcolor": "white",
          "plot_bgcolor": "#E5ECF6",
          "polar": {
           "angularaxis": {
            "gridcolor": "white",
            "linecolor": "white",
            "ticks": ""
           },
           "bgcolor": "#E5ECF6",
           "radialaxis": {
            "gridcolor": "white",
            "linecolor": "white",
            "ticks": ""
           }
          },
          "scene": {
           "xaxis": {
            "backgroundcolor": "#E5ECF6",
            "gridcolor": "white",
            "gridwidth": 2,
            "linecolor": "white",
            "showbackground": true,
            "ticks": "",
            "zerolinecolor": "white"
           },
           "yaxis": {
            "backgroundcolor": "#E5ECF6",
            "gridcolor": "white",
            "gridwidth": 2,
            "linecolor": "white",
            "showbackground": true,
            "ticks": "",
            "zerolinecolor": "white"
           },
           "zaxis": {
            "backgroundcolor": "#E5ECF6",
            "gridcolor": "white",
            "gridwidth": 2,
            "linecolor": "white",
            "showbackground": true,
            "ticks": "",
            "zerolinecolor": "white"
           }
          },
          "shapedefaults": {
           "line": {
            "color": "#2a3f5f"
           }
          },
          "ternary": {
           "aaxis": {
            "gridcolor": "white",
            "linecolor": "white",
            "ticks": ""
           },
           "baxis": {
            "gridcolor": "white",
            "linecolor": "white",
            "ticks": ""
           },
           "bgcolor": "#E5ECF6",
           "caxis": {
            "gridcolor": "white",
            "linecolor": "white",
            "ticks": ""
           }
          },
          "title": {
           "x": 0.05
          },
          "xaxis": {
           "automargin": true,
           "gridcolor": "white",
           "linecolor": "white",
           "ticks": "",
           "title": {
            "standoff": 15
           },
           "zerolinecolor": "white",
           "zerolinewidth": 2
          },
          "yaxis": {
           "automargin": true,
           "gridcolor": "white",
           "linecolor": "white",
           "ticks": "",
           "title": {
            "standoff": 15
           },
           "zerolinecolor": "white",
           "zerolinewidth": 2
          }
         }
        },
        "title": {
         "text": "Predicted Probabilities for Each Class"
        },
        "xaxis": {
         "anchor": "y",
         "domain": [
          0,
          1
         ],
         "title": {
          "text": "Predicted Probability"
         }
        },
        "xaxis2": {
         "anchor": "y2",
         "domain": [
          0,
          1
         ],
         "matches": "x",
         "showgrid": true,
         "showticklabels": false
        },
        "yaxis": {
         "anchor": "x",
         "domain": [
          0,
          0.7326
         ],
         "title": {
          "text": "count"
         }
        },
        "yaxis2": {
         "anchor": "x2",
         "domain": [
          0.7426,
          1
         ],
         "matches": "y2",
         "showgrid": false,
         "showline": false,
         "showticklabels": false,
         "ticks": ""
        }
       }
      }
     },
     "metadata": {},
     "output_type": "display_data"
    }
   ],
   "source": [
    "plot_predicted_probabilities(y_pred_proba, classifier.classes_)"
   ]
  },
  {
   "cell_type": "code",
   "execution_count": 27,
   "metadata": {},
   "outputs": [],
   "source": [
    "# plot_confidence_intervals(X_unlabeled, classifier, n_bins=20)"
   ]
  },
  {
   "cell_type": "code",
   "execution_count": 28,
   "metadata": {},
   "outputs": [],
   "source": [
    "# Predict the labels of the unlabeled data\n",
    "# y_pred = classifier.predict(X_unlabeled)\n",
    "# y_pred_proba = classifier.predict_proba(X_unlabeled)\n",
    "\n",
    "# Plot the confusion matrix and ROC curve of the unlabeled data\n",
    "# calculate_metrics(df_unlabeled['label'], y_pred)\n",
    "# plot_confusion_matrix(df_unlabeled['label'], y_pred, classifier.classes_)\n",
    "# plot_roc_curve(df_unlabeled['label'], classifier.predict_proba(X_unlabeled), classifier.classes_)\n",
    "\n",
    "# Add the predicted labels to the unlabeled data\n",
    "# df_unlabeled['label'] = y_pred\n",
    "\n",
    "# # Concatenate the labeled and unlabeled data\n",
    "# df_concat = pd.concat([dflup, df_unlabeled])"
   ]
  },
  {
   "cell_type": "code",
   "execution_count": 29,
   "metadata": {},
   "outputs": [],
   "source": [
    "# drop the label column from columns list:\n",
    "cols = list(df.columns)\n",
    "cols.remove('label')\n",
    "cols.extend(['label_pred_proba', 'label_pred'])"
   ]
  },
  {
   "cell_type": "code",
   "execution_count": 30,
   "metadata": {},
   "outputs": [],
   "source": [
    "# combine y_pred and y_pred_proba\n",
    "y_pred_proba = y_pred_proba.max(axis=1)\n",
    "y_pred_proba = y_pred_proba.reshape(-1,1)\n",
    "y_pred = y_pred.reshape(-1,1)\n",
    "arr_unlabeled = np.concatenate([X_unlabeled, y_pred_proba, y_pred], axis=1)\n",
    "df_unlabeled = pd.DataFrame(arr_unlabeled, columns=cols)"
   ]
  },
  {
   "cell_type": "code",
   "execution_count": 31,
   "metadata": {},
   "outputs": [
    {
     "name": "stderr",
     "output_type": "stream",
     "text": [
      "/var/folders/0g/blggksdj42z52nv3fy0h5b880000gn/T/ipykernel_77161/3462471382.py:2: SettingWithCopyWarning:\n",
      "\n",
      "\n",
      "A value is trying to be set on a copy of a slice from a DataFrame.\n",
      "Try using .loc[row_indexer,col_indexer] = value instead\n",
      "\n",
      "See the caveats in the documentation: https://pandas.pydata.org/pandas-docs/stable/user_guide/indexing.html#returning-a-view-versus-a-copy\n",
      "\n",
      "/var/folders/0g/blggksdj42z52nv3fy0h5b880000gn/T/ipykernel_77161/3462471382.py:3: SettingWithCopyWarning:\n",
      "\n",
      "\n",
      "A value is trying to be set on a copy of a slice from a DataFrame.\n",
      "Try using .loc[row_indexer,col_indexer] = value instead\n",
      "\n",
      "See the caveats in the documentation: https://pandas.pydata.org/pandas-docs/stable/user_guide/indexing.html#returning-a-view-versus-a-copy\n",
      "\n"
     ]
    }
   ],
   "source": [
    "df_results = df_unlabeled[['pid', 'label_pred_proba', 'label_pred']]\n",
    "df_results['label_pred_proba'] = df_results['label_pred_proba'].astype(float)\n",
    "df_results['pid'] = df_results['pid'].astype(int)"
   ]
  },
  {
   "cell_type": "code",
   "execution_count": 32,
   "metadata": {},
   "outputs": [
    {
     "data": {
      "text/html": [
       "<div>\n",
       "<style scoped>\n",
       "    .dataframe tbody tr th:only-of-type {\n",
       "        vertical-align: middle;\n",
       "    }\n",
       "\n",
       "    .dataframe tbody tr th {\n",
       "        vertical-align: top;\n",
       "    }\n",
       "\n",
       "    .dataframe thead th {\n",
       "        text-align: right;\n",
       "    }\n",
       "</style>\n",
       "<table border=\"1\" class=\"dataframe\">\n",
       "  <thead>\n",
       "    <tr style=\"text-align: right;\">\n",
       "      <th></th>\n",
       "      <th>pid</th>\n",
       "      <th>label_pred_proba</th>\n",
       "      <th>label_pred</th>\n",
       "    </tr>\n",
       "  </thead>\n",
       "  <tbody>\n",
       "    <tr>\n",
       "      <th>0</th>\n",
       "      <td>1000</td>\n",
       "      <td>0.40</td>\n",
       "      <td>xan</td>\n",
       "    </tr>\n",
       "    <tr>\n",
       "      <th>1</th>\n",
       "      <td>1001</td>\n",
       "      <td>0.57</td>\n",
       "      <td>xan</td>\n",
       "    </tr>\n",
       "    <tr>\n",
       "      <th>2</th>\n",
       "      <td>1002</td>\n",
       "      <td>0.52</td>\n",
       "      <td>other</td>\n",
       "    </tr>\n",
       "    <tr>\n",
       "      <th>3</th>\n",
       "      <td>1005</td>\n",
       "      <td>0.45</td>\n",
       "      <td>other</td>\n",
       "    </tr>\n",
       "    <tr>\n",
       "      <th>4</th>\n",
       "      <td>1006</td>\n",
       "      <td>0.63</td>\n",
       "      <td>xan</td>\n",
       "    </tr>\n",
       "    <tr>\n",
       "      <th>...</th>\n",
       "      <td>...</td>\n",
       "      <td>...</td>\n",
       "      <td>...</td>\n",
       "    </tr>\n",
       "    <tr>\n",
       "      <th>294</th>\n",
       "      <td>1467</td>\n",
       "      <td>0.38</td>\n",
       "      <td>other</td>\n",
       "    </tr>\n",
       "    <tr>\n",
       "      <th>295</th>\n",
       "      <td>1468</td>\n",
       "      <td>0.44</td>\n",
       "      <td>xan</td>\n",
       "    </tr>\n",
       "    <tr>\n",
       "      <th>296</th>\n",
       "      <td>1469</td>\n",
       "      <td>0.57</td>\n",
       "      <td>xan</td>\n",
       "    </tr>\n",
       "    <tr>\n",
       "      <th>297</th>\n",
       "      <td>1473</td>\n",
       "      <td>0.47</td>\n",
       "      <td>xan</td>\n",
       "    </tr>\n",
       "    <tr>\n",
       "      <th>298</th>\n",
       "      <td>1474</td>\n",
       "      <td>0.52</td>\n",
       "      <td>xan</td>\n",
       "    </tr>\n",
       "  </tbody>\n",
       "</table>\n",
       "<p>299 rows × 3 columns</p>\n",
       "</div>"
      ],
      "text/plain": [
       "      pid  label_pred_proba label_pred\n",
       "0    1000              0.40        xan\n",
       "1    1001              0.57        xan\n",
       "2    1002              0.52      other\n",
       "3    1005              0.45      other\n",
       "4    1006              0.63        xan\n",
       "..    ...               ...        ...\n",
       "294  1467              0.38      other\n",
       "295  1468              0.44        xan\n",
       "296  1469              0.57        xan\n",
       "297  1473              0.47        xan\n",
       "298  1474              0.52        xan\n",
       "\n",
       "[299 rows x 3 columns]"
      ]
     },
     "execution_count": 32,
     "metadata": {},
     "output_type": "execute_result"
    }
   ],
   "source": [
    "df_results"
   ]
  },
  {
   "cell_type": "code",
   "execution_count": 90,
   "metadata": {},
   "outputs": [],
   "source": [
    "def get_examples(df_results):\n",
    "\n",
    "    df = df_results[~(df_results['label_pred'] == 'other')]\n",
    "\n",
    "    # Group by 'label_pred' and get the max, min, and mean of 'label_pred_proba'\n",
    "    result = df.groupby('label_pred')['label_pred_proba'].agg(['idxmax', 'idxmin', 'mean']).reset_index()\n",
    "\n",
    "    # Get the rows with the max and min probabilities\n",
    "    max_rows = df.loc[result['idxmax']].copy()\n",
    "    min_rows = df.loc[result['idxmin']].copy()\n",
    "\n",
    "    # Get the row in each class where 'label_pred_proba' is closest to the mean\n",
    "    mean_rows = df.loc[df.groupby('label_pred')['label_pred_proba'].apply(lambda x: (x - x.mean()).abs().idxmin())]\n",
    "\n",
    "    # Concatenate the max, min, and mean rows\n",
    "    examples = pd.concat([max_rows, min_rows, mean_rows], ignore_index=True).sort_values(by='label_pred', ascending=False).reset_index(drop=True)\n",
    "    examples['label_pred'] = examples['label_pred'].map({'xan': \"Xanthium s.\", 'dat': \"Datura s.\", 'unk': \"Unknown\"})\n",
    "    return examples\n",
    "\n",
    "\n",
    "def get_examples_fns(examples):\n",
    "    ex_pids = list(f\"{str(pid)}_rgb\" for pid in examples['pid'])\n",
    "    ex_fns = []\n",
    "    ex_fns = utils.get_filenames(conf.data.path_int_cr_tif, \"tif\", ex_pids)\n",
    "    return ex_fns"
   ]
  },
  {
   "cell_type": "code",
   "execution_count": 91,
   "metadata": {},
   "outputs": [
    {
     "data": {
      "text/html": [
       "<div>\n",
       "<style scoped>\n",
       "    .dataframe tbody tr th:only-of-type {\n",
       "        vertical-align: middle;\n",
       "    }\n",
       "\n",
       "    .dataframe tbody tr th {\n",
       "        vertical-align: top;\n",
       "    }\n",
       "\n",
       "    .dataframe thead th {\n",
       "        text-align: right;\n",
       "    }\n",
       "</style>\n",
       "<table border=\"1\" class=\"dataframe\">\n",
       "  <thead>\n",
       "    <tr style=\"text-align: right;\">\n",
       "      <th></th>\n",
       "      <th>pid</th>\n",
       "      <th>label_pred_proba</th>\n",
       "      <th>label_pred</th>\n",
       "    </tr>\n",
       "  </thead>\n",
       "  <tbody>\n",
       "    <tr>\n",
       "      <th>0</th>\n",
       "      <td>1227</td>\n",
       "      <td>0.70</td>\n",
       "      <td>Xanthium s.</td>\n",
       "    </tr>\n",
       "    <tr>\n",
       "      <th>1</th>\n",
       "      <td>1168</td>\n",
       "      <td>0.38</td>\n",
       "      <td>Xanthium s.</td>\n",
       "    </tr>\n",
       "    <tr>\n",
       "      <th>2</th>\n",
       "      <td>1044</td>\n",
       "      <td>0.52</td>\n",
       "      <td>Xanthium s.</td>\n",
       "    </tr>\n",
       "    <tr>\n",
       "      <th>3</th>\n",
       "      <td>1277</td>\n",
       "      <td>0.47</td>\n",
       "      <td>Datura s.</td>\n",
       "    </tr>\n",
       "    <tr>\n",
       "      <th>4</th>\n",
       "      <td>1169</td>\n",
       "      <td>0.35</td>\n",
       "      <td>Datura s.</td>\n",
       "    </tr>\n",
       "    <tr>\n",
       "      <th>5</th>\n",
       "      <td>1171</td>\n",
       "      <td>0.38</td>\n",
       "      <td>Datura s.</td>\n",
       "    </tr>\n",
       "  </tbody>\n",
       "</table>\n",
       "</div>"
      ],
      "text/plain": [
       "    pid  label_pred_proba   label_pred\n",
       "0  1227              0.70  Xanthium s.\n",
       "1  1168              0.38  Xanthium s.\n",
       "2  1044              0.52  Xanthium s.\n",
       "3  1277              0.47    Datura s.\n",
       "4  1169              0.35    Datura s.\n",
       "5  1171              0.38    Datura s."
      ]
     },
     "execution_count": 91,
     "metadata": {},
     "output_type": "execute_result"
    }
   ],
   "source": [
    "examples = get_examples(df_results)\n",
    "examples"
   ]
  },
  {
   "cell_type": "code",
   "execution_count": 92,
   "metadata": {},
   "outputs": [],
   "source": [
    "# ex_fns = get_examples_fns(examples)\n",
    "ex_fns = ['../data/02_intermediate/03_cropped_tifs/1227_rgb_unk.tif',\n",
    "'../data/02_intermediate/03_cropped_tifs/1168_rgb_unk.tif',\n",
    "'../data/02_intermediate/03_cropped_tifs/1044_rgb_unk.tif',\n",
    "'../data/02_intermediate/03_cropped_tifs/1277_rgb_unk.tif',\n",
    "'../data/02_intermediate/03_cropped_tifs/1169_rgb_unk.tif',\n",
    "'../data/02_intermediate/03_cropped_tifs/1171_rgb_unk.tif']"
   ]
  },
  {
   "cell_type": "code",
   "execution_count": 93,
   "metadata": {},
   "outputs": [
    {
     "name": "stderr",
     "output_type": "stream",
     "text": [
      "06-Jan-24 22:34:45 - INFO - Loaded RGB img shape: (87, 87, 3)\n"
     ]
    }
   ],
   "source": [
    "rgb_imgs = utils.load_rgb_rasters(ex_fns)"
   ]
  },
  {
   "cell_type": "code",
   "execution_count": 94,
   "metadata": {},
   "outputs": [
    {
     "data": {
      "text/plain": [
       "6"
      ]
     },
     "execution_count": 94,
     "metadata": {},
     "output_type": "execute_result"
    }
   ],
   "source": [
    "len(rgb_imgs)"
   ]
  },
  {
   "cell_type": "code",
   "execution_count": 95,
   "metadata": {},
   "outputs": [],
   "source": [
    "def plot_images(images, probabilities, row_labels, col_labels, title):\n",
    "    \"\"\"\n",
    "    Plots a grid of images with custom row and column labels.\n",
    "\n",
    "    Parameters:\n",
    "    - images (list of numpy.ndarray): The images to plot.\n",
    "    - probabilities (list of float): The probabilities to overlay on the images.\n",
    "    - row_labels (list of str): The row labels.\n",
    "    - col_labels (list of str): The column labels.\n",
    "    - title (str): The title of the figure.\n",
    "    \"\"\"\n",
    "    num_rows = len(row_labels)\n",
    "    num_cols = len(col_labels)\n",
    "\n",
    "    fig, axes = plt.subplots(nrows=num_rows, ncols=num_cols, figsize=(4*num_cols, 4*num_rows))\n",
    "\n",
    "    for i, row_label in enumerate(row_labels):\n",
    "        for j, col_label in enumerate(col_labels):\n",
    "            # Calculate the index of the image in the flat list\n",
    "            index = i * num_cols + j\n",
    "\n",
    "            # Plot the image\n",
    "            axes[i, j].imshow(images[index])\n",
    "\n",
    "            # Overlay the probability\n",
    "            axes[i, j].text(0.9, 2, f\"p={probabilities[index]}\", color='white', \n",
    "                            bbox=dict(facecolor='black', alpha=0.9))\n",
    "\n",
    "            # Set the title of the subplot\n",
    "            if i == 0:\n",
    "                axes[i, j].set_title(col_label)\n",
    "\n",
    "        # Set the label of the row\n",
    "        axes[i, 0].set_ylabel(row_label, size='large')\n",
    "\n",
    "    # Set the title of the figure\n",
    "    fig.suptitle(title, size='x-large')\n",
    "\n",
    "    plt.tight_layout()\n",
    "    plt.show()"
   ]
  },
  {
   "cell_type": "code",
   "execution_count": 96,
   "metadata": {},
   "outputs": [
    {
     "data": {
      "text/plain": [
       "0    0.70\n",
       "1    0.38\n",
       "2    0.52\n",
       "3    0.47\n",
       "4    0.35\n",
       "5    0.38\n",
       "Name: label_pred_proba, dtype: float64"
      ]
     },
     "execution_count": 96,
     "metadata": {},
     "output_type": "execute_result"
    }
   ],
   "source": [
    "examples['label_pred_proba']"
   ]
  },
  {
   "cell_type": "code",
   "execution_count": 97,
   "metadata": {},
   "outputs": [
    {
     "data": {
      "image/png": "[encoded data removed]",
      "text/plain": [
       "<Figure size 1200x800 with 6 Axes>"
      ]
     },
     "metadata": {},
     "output_type": "display_data"
    }
   ],
   "source": [
    "plot_images(rgb_imgs, examples['label_pred_proba'], examples['label_pred'].unique(), ['Max', 'Min', 'Mean'], 'Examples of Predicted Probabilities')"
   ]
  },
  {
   "cell_type": "code",
   "execution_count": null,
   "metadata": {},
   "outputs": [],
   "source": [
    "# plot_images(images, probabilities, row_labels, col_labels, title)"
   ]
  }
 ],
 "metadata": {
  "kernelspec": {
   "display_name": "mlai_rp2",
   "language": "python",
   "name": "python3"
  },
  "language_info": {
   "codemirror_mode": {
    "name": "ipython",
    "version": 3
   },
   "file_extension": ".py",
   "mimetype": "text/x-python",
   "name": "python",
   "nbconvert_exporter": "python",
   "pygments_lexer": "ipython3",
   "version": "3.9.12"
  }
 },
 "nbformat": 4,
 "nbformat_minor": 2
}
