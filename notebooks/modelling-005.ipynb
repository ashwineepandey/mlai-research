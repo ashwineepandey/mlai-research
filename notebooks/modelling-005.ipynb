{
 "cells": [
  {
   "cell_type": "code",
   "execution_count": 1,
   "metadata": {},
   "outputs": [],
   "source": [
    "import os\n",
    "import sys\n",
    "sys.path.append('../mlai_research/')\n",
    "import log\n",
    "import utils\n",
    "import pandas as pd\n",
    "import numpy as np\n",
    "from sklearn.utils import resample\n",
    "from sklearn.model_selection import train_test_split, cross_validate, KFold\n",
    "from sklearn import preprocessing\n",
    "from sklearn.metrics import accuracy_score, precision_score, recall_score, f1_score, roc_curve, auc, confusion_matrix, cohen_kappa_score\n",
    "from sklearn.ensemble import RandomForestClassifier\n",
    "from sklearn.svm import SVC\n",
    "from sklearn.preprocessing import label_binarize, LabelEncoder\n",
    "import matplotlib.pyplot as plt\n",
    "from sklearn.base import clone\n",
    "from sklearn.neighbors import KNeighborsClassifier\n",
    "from sklearn.ensemble import GradientBoostingClassifier\n",
    "import plotly.express as px\n",
    "import plotly.graph_objects as go"
   ]
  },
  {
   "cell_type": "code",
   "execution_count": 2,
   "metadata": {},
   "outputs": [
    {
     "name": "stderr",
     "output_type": "stream",
     "text": [
      "08-Jan-24 12:01:50 - INFO - Starting 'load_config'.\n",
      "08-Jan-24 12:01:50 - INFO - Finished 'load_config' in 0.0226 secs.\n"
     ]
    }
   ],
   "source": [
    "logger = log.get_logger(__name__)\n",
    "conf = utils.load_config(\"base\")"
   ]
  },
  {
   "cell_type": "code",
   "execution_count": 3,
   "metadata": {},
   "outputs": [],
   "source": [
    "def encode_labels(df, column):\n",
    "    \"\"\"\n",
    "    Encode labels in the specified column of the dataframe.\n",
    "\n",
    "    Parameters:\n",
    "    df (pandas.DataFrame): The dataframe containing the labels.\n",
    "    column (str): The column name of the labels.\n",
    "\n",
    "    Returns:\n",
    "    df (pandas.DataFrame): The dataframe with encoded labels.\n",
    "    \"\"\"\n",
    "    # label_encoder = preprocessing.LabelEncoder()\n",
    "    # df[column] = label_encoder.fit_transform(df[column])\n",
    "\n",
    "    label_map = {'xan': 1, 'dat': 2, 'other': 3, 'unk': 4}\n",
    "    df[column] = df[column].map(label_map)\n",
    "    return df\n",
    "\n",
    "\n",
    "def split_data(df, test_size=0.1, val_size=0.1):\n",
    "    \"\"\"\n",
    "    Split the dataframe into training, validation, and testing sets.\n",
    "\n",
    "    Parameters:\n",
    "    df (pandas.DataFrame): The dataframe to split.\n",
    "    test_size (float): The proportion of the dataset to include in the test split.\n",
    "    val_size (float): The proportion of the training set to include in the validation split.\n",
    "\n",
    "    Returns:\n",
    "    train_set (pandas.DataFrame): The training set.\n",
    "    val_set (pandas.DataFrame): The validation set.\n",
    "    test_set (pandas.DataFrame): The testing set.\n",
    "    \"\"\"\n",
    "    train_set, test_set = train_test_split(df, test_size=test_size, random_state=42)\n",
    "    train_set, val_set = train_test_split(train_set, test_size=val_size, random_state=42)\n",
    "    return train_set, val_set, test_set\n",
    "\n",
    "\n",
    "def upsample_minorities(df, label_column):\n",
    "    \"\"\"\n",
    "    Upsample the minority classes in the dataframe to match the majority class count.\n",
    "\n",
    "    Parameters:\n",
    "    df (pandas.DataFrame): The dataframe to upsample.\n",
    "    label_column (str): The column name of the labels.\n",
    "\n",
    "    Returns:\n",
    "    df_upsampled (pandas.DataFrame): The dataframe with the minority classes upsampled.\n",
    "    \"\"\"\n",
    "    # Get the count of the most frequent class\n",
    "    majority_class_count = df[label_column].value_counts().max()\n",
    "    \n",
    "    # Separate the majority and minority classes\n",
    "    df_majority = df[df[label_column] == df[label_column].value_counts().idxmax()]\n",
    "    df_minorities = df[df[label_column] != df[label_column].value_counts().idxmax()]\n",
    "    \n",
    "    # List to hold the upsampled dataframes\n",
    "    upsampled_list = [df_majority]\n",
    "    \n",
    "    # Upsample each minority class and add to the list\n",
    "    for class_index in df_minorities[label_column].unique():\n",
    "        df_class_minority = df_minorities[df_minorities[label_column] == class_index]\n",
    "        df_class_upsampled = resample(df_class_minority, \n",
    "                                      replace=True, \n",
    "                                      n_samples=majority_class_count, \n",
    "                                      random_state=42)\n",
    "        upsampled_list.append(df_class_upsampled)\n",
    "    \n",
    "    # Concatenate all upsampled minority class DataFrames with the majority class DataFrame\n",
    "    df_upsampled = pd.concat(upsampled_list)\n",
    "    \n",
    "    return df_upsampled\n",
    "\n",
    "\n",
    "def calculate_metrics(y_true, y_pred):\n",
    "    \"\"\"\n",
    "    Calculate accuracy, precision, recall, and F1 score.\n",
    "    \n",
    "    Parameters:\n",
    "    y_true (list): List of true labels\n",
    "    y_pred (list): List of predicted labels\n",
    "    \n",
    "    Returns:\n",
    "    dict: A dictionary containing the calculated metrics\n",
    "    \"\"\"\n",
    "    accuracy = accuracy_score(y_true, y_pred)\n",
    "    precision = precision_score(y_true, y_pred, average='weighted')\n",
    "    recall = recall_score(y_true, y_pred, average='weighted')\n",
    "    f1 = f1_score(y_true, y_pred, average='weighted')\n",
    "    logger.info(f\"Accuracy: {accuracy:.4f}, Precision: {precision:.4f}, Recall: {recall:.4f}, F1: {f1:.4f}\" )\n",
    "    # return {'accuracy': accuracy, 'precision': precision, 'recall': recall, 'f1': f1}\n",
    "\n",
    "def kappa_confidence_interval(y_true, y_pred, n_bootstrap=1000, alpha=0.05):\n",
    "    \"\"\"\n",
    "    Calculate Cohen's Kappa score with confidence intervals using bootstrapping.\n",
    "    \n",
    "    Parameters:\n",
    "    y_true: Ground truth (correct) target values.\n",
    "    y_pred: Estimated targets as returned by a classifier.\n",
    "    n_bootstrap: Number of bootstrap samples to create.\n",
    "    alpha: Confidence interval, e.g., 0.05 for 95% confidence.\n",
    "    \n",
    "    Returns:\n",
    "    kappa: Cohen's Kappa score\n",
    "    lower: Lower bound of the confidence interval\n",
    "    upper: Upper bound of the confidence interval\n",
    "    \"\"\"\n",
    "    # Calculate Cohen's Kappa for the original data\n",
    "    kappa = cohen_kappa_score(y_true, y_pred)\n",
    "    \n",
    "    # Generate bootstrap samples and calculate Cohen's Kappa for each sample\n",
    "    bootstrap_kappas = []\n",
    "    for _ in range(n_bootstrap):\n",
    "        y_true_resampled, y_pred_resampled = resample(y_true, y_pred)\n",
    "        kappa_resampled = cohen_kappa_score(y_true_resampled, y_pred_resampled)\n",
    "        bootstrap_kappas.append(kappa_resampled)\n",
    "    \n",
    "    # Calculate lower and upper percentiles for the confidence interval\n",
    "    lower = np.percentile(bootstrap_kappas, 100 * alpha / 2)\n",
    "    upper = np.percentile(bootstrap_kappas, 100 * (1 - alpha / 2))\n",
    "    logger.info(f\"Cohen's Kappa: {kappa}, 95% CI: ({lower}, {upper})\")\n",
    "    # return kappa, lower, upper\n",
    "\n",
    "\n",
    "\n",
    "def plot_confusion_matrix(y_true, y_pred, labels):\n",
    "    \"\"\"\n",
    "    Plot a confusion matrix.\n",
    "    \n",
    "    Parameters:\n",
    "    y_true (list): List of true labels\n",
    "    y_pred (list): List of predicted labels\n",
    "    labels (list): List of unique labels\n",
    "    \n",
    "    Returns:\n",
    "    None\n",
    "    \"\"\"\n",
    "    cm = confusion_matrix(y_true, y_pred, labels=labels)\n",
    "\n",
    "    # Plot the confusion matrix using plotly express:\n",
    "    fig = px.imshow(cm, x=labels, y=labels, text_auto=True, color_continuous_scale=[\"white\", \"white\"])\n",
    "    # Add grid lines\n",
    "    for i in range(len(labels)):\n",
    "        fig.add_shape(\n",
    "            go.layout.Shape(\n",
    "                type=\"line\",\n",
    "                x0=-0.5,\n",
    "                y0=i-0.5,\n",
    "                x1=len(labels)-0.5,\n",
    "                y1=i-0.5,\n",
    "                line=dict(\n",
    "                    color=\"black\",\n",
    "                    width=2,\n",
    "                )\n",
    "            )\n",
    "        )\n",
    "        fig.add_shape(\n",
    "            go.layout.Shape(\n",
    "                type=\"line\",\n",
    "                x0=i-0.5,\n",
    "                y0=-0.5,\n",
    "                x1=i-0.5,\n",
    "                y1=len(labels)-0.5,\n",
    "                line=dict(\n",
    "                    color=\"black\",\n",
    "                    width=2,\n",
    "                )\n",
    "            )\n",
    "        )\n",
    "\n",
    "    fig.update_layout(title='Confusion Matrix', xaxis_title='Predicted', yaxis_title='True', coloraxis_showscale=False)\n",
    "    fig.show()\n",
    "    # fig.update_layout(title='Confusion Matrix', xaxis_title='Predicted', yaxis_title='True', coloraxis_showscale=False)\n",
    "    # fig.show()\n",
    "\n",
    "    # plt.figure(figsize=(10, 7))\n",
    "    # sns.heatmap(cm, annot=True, fmt='d', xticklabels=labels, yticklabels=labels)\n",
    "    # plt.xlabel('Predicted')\n",
    "    # plt.ylabel('True')\n",
    "    # plt.show()\n",
    "\n",
    "\n",
    "def plot_roc_curve(y_true, y_score, labels):\n",
    "    \"\"\"\n",
    "    Plot a ROC curve.\n",
    "    \n",
    "    Parameters:\n",
    "    y_true (list): List of true labels\n",
    "    y_score (list): List of predicted scores\n",
    "    labels (list): List of unique labels\n",
    "    \n",
    "    Returns:\n",
    "    None\n",
    "    \"\"\"\n",
    "    y_true_bin = label_binarize(y_true, classes=labels)\n",
    "    n_classes = y_true_bin.shape[1]\n",
    "\n",
    "    fpr = dict()\n",
    "    tpr = dict()\n",
    "    roc_auc = dict()\n",
    "    for i in range(n_classes):\n",
    "        fpr[i], tpr[i], _ = roc_curve(y_true_bin[:, i], y_score[:, i])\n",
    "        roc_auc[i] = auc(fpr[i], tpr[i])\n",
    "\n",
    "    plt.figure()\n",
    "    for i in range(n_classes):\n",
    "        plt.plot(fpr[i], tpr[i], label='ROC curve of class {0} (area = {1:0.2f})'.format(i, roc_auc[i]))\n",
    "    plt.plot([0, 1], [0, 1], 'k--')\n",
    "    plt.xlim([0.0, 1.0])\n",
    "    plt.ylim([0.0, 1.05])\n",
    "    plt.xlabel('False Positive Rate')\n",
    "    plt.ylabel('True Positive Rate')\n",
    "    plt.title('Receiver Operating Characteristic')\n",
    "    plt.legend(loc=\"lower right\")\n",
    "    plt.show()\n",
    "\n",
    "\n",
    "def self_training(classifier, X_labeled, y_labeled, X_unlabeled, threshold=0.9, max_iter=10):\n",
    "    \"\"\"\n",
    "    Perform self-training with the given classifier.\n",
    "\n",
    "    Parameters:\n",
    "    - classifier: a classifier that has fit and predict_proba methods.\n",
    "    - X_labeled: features of the labeled data.\n",
    "    - y_labeled: labels of the labeled data.\n",
    "    - X_unlabeled: features of the unlabeled data.\n",
    "    - threshold: confidence threshold for labeling unlabeled data.\n",
    "    - max_iter: maximum number of iterations.\n",
    "\n",
    "    Returns:\n",
    "    - The trained classifier.\n",
    "    \"\"\"\n",
    "    classifier = clone(classifier)  # create a new instance of the classifier\n",
    "    for i in range(max_iter):\n",
    "        classifier.fit(X_labeled, y_labeled)\n",
    "        if X_unlabeled.shape[0] == 0:\n",
    "            break  # no more unlabeled data\n",
    "        probs = classifier.predict_proba(X_unlabeled)\n",
    "        max_probs = probs.max(axis=1)\n",
    "        confident = max_probs > threshold\n",
    "        if not confident.any():\n",
    "            break  # no confident predictions\n",
    "        X_labeled = np.concatenate([X_labeled, X_unlabeled[confident]])\n",
    "        y_labeled = np.concatenate([y_labeled, probs[confident].argmax(axis=1)])\n",
    "        X_unlabeled = X_unlabeled[~confident]\n",
    "    return classifier\n",
    "\n",
    "\n",
    "def train_and_evaluate_model(X, y, model, n_splits=3):\n",
    "    \"\"\"\n",
    "    Train a model using k-fold cross-validation and return the trained model and performance metrics.\n",
    "\n",
    "    Parameters:\n",
    "    X (numpy.ndarray): Feature matrix.\n",
    "    y (numpy.ndarray): Labels array.\n",
    "    model (sklearn.base.BaseEstimator): An instance of an sklearn classifier.\n",
    "    n_splits (int): Number of folds for k-fold cross-validation.\n",
    "\n",
    "    Returns:\n",
    "    model (sklearn.base.BaseEstimator): Trained sklearn model.\n",
    "    cv_results (dict): Dictionary with cross-validation results.\n",
    "    \"\"\"\n",
    "    # Define k-fold cross-validation\n",
    "    kf = KFold(n_splits=n_splits, shuffle=True, random_state=42)\n",
    "\n",
    "    # Perform cross-validation\n",
    "    cv_results = cross_validate(model, X, y, cv=kf, return_train_score=True, return_estimator=True)\n",
    "\n",
    "    # Retrieve the model from the last fold\n",
    "    trained_model = cv_results['estimator'][-1]\n",
    "\n",
    "    # Print out the mean and standard deviation of the test score for each fold\n",
    "    print(f\"Mean test score: {np.mean(cv_results['test_score']):.4f}\")\n",
    "    print(f\"Standard deviation of test score: {np.std(cv_results['test_score']):.4f}\")\n",
    "\n",
    "    return trained_model, cv_results"
   ]
  },
  {
   "cell_type": "markdown",
   "metadata": {},
   "source": [
    "# Load Data"
   ]
  },
  {
   "cell_type": "code",
   "execution_count": 4,
   "metadata": {},
   "outputs": [
    {
     "data": {
      "text/plain": [
       "((327, 1583),\n",
       " unk      299\n",
       " xan       15\n",
       " other     10\n",
       " dat        3\n",
       " Name: label, dtype: int64)"
      ]
     },
     "execution_count": 4,
     "metadata": {},
     "output_type": "execute_result"
    }
   ],
   "source": [
    "df = pd.read_csv(f\"{conf.data.path_feat}{conf.data.fn_feat}\")\n",
    "df.shape, df['label'].value_counts()"
   ]
  },
  {
   "cell_type": "markdown",
   "metadata": {},
   "source": [
    "# Prepare Data \n",
    "\n",
    "- Split labelled, unlabelled\n",
    "- Upsample lower class\n",
    "- Drop true labels"
   ]
  },
  {
   "cell_type": "code",
   "execution_count": 5,
   "metadata": {},
   "outputs": [],
   "source": [
    "# df = encode_labels(df, 'label')\n",
    "df_unlabeled = df[df['label'] == 'unk']\n",
    "df_labeled = df[df['label'] != 'unk']\n",
    "dflup = upsample_minorities(df_labeled, 'label')\n",
    "shuffled_df = dflup.sample(frac=1, random_state=13).reset_index(drop=True)\n",
    "X_labeled = shuffled_df.drop('label', axis=1).values\n",
    "y_labeled = shuffled_df['label'].values\n",
    "\n",
    "X_labeled_train = X_labeled[:int(len(X_labeled) * 0.8)]\n",
    "y_labeled_train = y_labeled[:int(len(y_labeled) * 0.8)]\n",
    "\n",
    "X_labeled_val = X_labeled[int(len(X_labeled) * 0.8):]\n",
    "y_labeled_val = y_labeled[int(len(y_labeled) * 0.8):]\n",
    "\n",
    "X_unlabeled = df_unlabeled.drop('label', axis=1).values"
   ]
  },
  {
   "cell_type": "code",
   "execution_count": 6,
   "metadata": {},
   "outputs": [
    {
     "data": {
      "text/plain": [
       "(array(['dat', 'dat', 'dat', 'other', 'xan', 'other', 'other', 'dat',\n",
       "        'dat', 'other', 'dat', 'xan', 'xan', 'xan', 'xan', 'xan', 'dat',\n",
       "        'xan', 'xan', 'other', 'dat', 'xan', 'dat', 'other', 'other',\n",
       "        'dat', 'other', 'other', 'other', 'xan', 'dat', 'other', 'xan',\n",
       "        'xan', 'dat', 'xan', 'xan', 'other', 'dat', 'other', 'dat', 'dat',\n",
       "        'other', 'xan', 'other'], dtype=object),\n",
       " (45,))"
      ]
     },
     "execution_count": 6,
     "metadata": {},
     "output_type": "execute_result"
    }
   ],
   "source": [
    "y_labeled, y_labeled.shape"
   ]
  },
  {
   "cell_type": "markdown",
   "metadata": {},
   "source": [
    "# Create classifer"
   ]
  },
  {
   "cell_type": "code",
   "execution_count": 7,
   "metadata": {},
   "outputs": [],
   "source": [
    "# Create a Random Forest classifier\n",
    "model_rf = RandomForestClassifier()\n",
    "model_svc = SVC()\n",
    "model_knn = KNeighborsClassifier()\n",
    "model_gb = GradientBoostingClassifier()"
   ]
  },
  {
   "cell_type": "markdown",
   "metadata": {},
   "source": [
    "# Train Classifer"
   ]
  },
  {
   "cell_type": "code",
   "execution_count": 8,
   "metadata": {},
   "outputs": [
    {
     "name": "stdout",
     "output_type": "stream",
     "text": [
      "Mean test score: 0.7778\n",
      "Standard deviation of test score: 0.0393\n"
     ]
    }
   ],
   "source": [
    "trained_model_rf, cv_results_rf = train_and_evaluate_model(X_labeled_train, y_labeled_train, model_rf, n_splits=3)"
   ]
  },
  {
   "cell_type": "code",
   "execution_count": 9,
   "metadata": {},
   "outputs": [
    {
     "name": "stdout",
     "output_type": "stream",
     "text": [
      "Mean test score: 0.4722\n",
      "Standard deviation of test score: 0.0786\n"
     ]
    }
   ],
   "source": [
    "trained_model_svc, cv_results_svc = train_and_evaluate_model(X_labeled_train, y_labeled_train, model_svc, n_splits=3)"
   ]
  },
  {
   "cell_type": "code",
   "execution_count": 10,
   "metadata": {},
   "outputs": [
    {
     "name": "stdout",
     "output_type": "stream",
     "text": [
      "Mean test score: 0.5278\n",
      "Standard deviation of test score: 0.0393\n"
     ]
    },
    {
     "name": "stderr",
     "output_type": "stream",
     "text": [
      "/opt/homebrew/Caskroom/miniforge/base/envs/mlai_rp2/lib/python3.9/site-packages/sklearn/neighbors/_classification.py:228: FutureWarning: Unlike other reduction functions (e.g. `skew`, `kurtosis`), the default behavior of `mode` typically preserves the axis it acts along. In SciPy 1.11.0, this behavior will change: the default value of `keepdims` will become False, the `axis` over which the statistic is taken will be eliminated, and the value None will no longer be accepted. Set `keepdims` to True or False to avoid this warning.\n",
      "  mode, _ = stats.mode(_y[neigh_ind, k], axis=1)\n",
      "/opt/homebrew/Caskroom/miniforge/base/envs/mlai_rp2/lib/python3.9/site-packages/sklearn/neighbors/_classification.py:228: FutureWarning: Unlike other reduction functions (e.g. `skew`, `kurtosis`), the default behavior of `mode` typically preserves the axis it acts along. In SciPy 1.11.0, this behavior will change: the default value of `keepdims` will become False, the `axis` over which the statistic is taken will be eliminated, and the value None will no longer be accepted. Set `keepdims` to True or False to avoid this warning.\n",
      "  mode, _ = stats.mode(_y[neigh_ind, k], axis=1)\n",
      "/opt/homebrew/Caskroom/miniforge/base/envs/mlai_rp2/lib/python3.9/site-packages/sklearn/neighbors/_classification.py:228: FutureWarning: Unlike other reduction functions (e.g. `skew`, `kurtosis`), the default behavior of `mode` typically preserves the axis it acts along. In SciPy 1.11.0, this behavior will change: the default value of `keepdims` will become False, the `axis` over which the statistic is taken will be eliminated, and the value None will no longer be accepted. Set `keepdims` to True or False to avoid this warning.\n",
      "  mode, _ = stats.mode(_y[neigh_ind, k], axis=1)\n",
      "/opt/homebrew/Caskroom/miniforge/base/envs/mlai_rp2/lib/python3.9/site-packages/sklearn/neighbors/_classification.py:228: FutureWarning: Unlike other reduction functions (e.g. `skew`, `kurtosis`), the default behavior of `mode` typically preserves the axis it acts along. In SciPy 1.11.0, this behavior will change: the default value of `keepdims` will become False, the `axis` over which the statistic is taken will be eliminated, and the value None will no longer be accepted. Set `keepdims` to True or False to avoid this warning.\n",
      "  mode, _ = stats.mode(_y[neigh_ind, k], axis=1)\n",
      "/opt/homebrew/Caskroom/miniforge/base/envs/mlai_rp2/lib/python3.9/site-packages/sklearn/neighbors/_classification.py:228: FutureWarning: Unlike other reduction functions (e.g. `skew`, `kurtosis`), the default behavior of `mode` typically preserves the axis it acts along. In SciPy 1.11.0, this behavior will change: the default value of `keepdims` will become False, the `axis` over which the statistic is taken will be eliminated, and the value None will no longer be accepted. Set `keepdims` to True or False to avoid this warning.\n",
      "  mode, _ = stats.mode(_y[neigh_ind, k], axis=1)\n",
      "/opt/homebrew/Caskroom/miniforge/base/envs/mlai_rp2/lib/python3.9/site-packages/sklearn/neighbors/_classification.py:228: FutureWarning: Unlike other reduction functions (e.g. `skew`, `kurtosis`), the default behavior of `mode` typically preserves the axis it acts along. In SciPy 1.11.0, this behavior will change: the default value of `keepdims` will become False, the `axis` over which the statistic is taken will be eliminated, and the value None will no longer be accepted. Set `keepdims` to True or False to avoid this warning.\n",
      "  mode, _ = stats.mode(_y[neigh_ind, k], axis=1)\n"
     ]
    }
   ],
   "source": [
    "trained_model_knn, cv_results_knn = train_and_evaluate_model(X_labeled_train, y_labeled_train, model_knn, n_splits=3)"
   ]
  },
  {
   "cell_type": "code",
   "execution_count": 11,
   "metadata": {},
   "outputs": [
    {
     "name": "stdout",
     "output_type": "stream",
     "text": [
      "Mean test score: 0.6667\n",
      "Standard deviation of test score: 0.0680\n"
     ]
    }
   ],
   "source": [
    "trained_model_gb, cv_results_gb = train_and_evaluate_model(X_labeled_train, y_labeled_train, model_gb, n_splits=3)"
   ]
  },
  {
   "cell_type": "code",
   "execution_count": 12,
   "metadata": {},
   "outputs": [
    {
     "data": {
      "text/plain": [
       "({'fit_time': array([0.0454011 , 0.04078627, 0.03949881]),\n",
       "  'score_time': array([0.00307298, 0.00265884, 0.00271702]),\n",
       "  'estimator': [RandomForestClassifier(),\n",
       "   RandomForestClassifier(),\n",
       "   RandomForestClassifier()],\n",
       "  'test_score': array([0.83333333, 0.75      , 0.75      ]),\n",
       "  'train_score': array([1., 1., 1.])},\n",
       " {'fit_time': array([0.0015409 , 0.00118423, 0.00098109]),\n",
       "  'score_time': array([0.00051594, 0.00042295, 0.00041223]),\n",
       "  'estimator': [SVC(), SVC(), SVC()],\n",
       "  'test_score': array([0.41666667, 0.41666667, 0.58333333]),\n",
       "  'train_score': array([0.45833333, 0.45833333, 0.58333333])},\n",
       " {'fit_time': array([0.00064301, 0.0012548 , 0.00078082]),\n",
       "  'score_time': array([0.01284003, 0.03017712, 0.00123215]),\n",
       "  'estimator': [KNeighborsClassifier(),\n",
       "   KNeighborsClassifier(),\n",
       "   KNeighborsClassifier()],\n",
       "  'test_score': array([0.58333333, 0.5       , 0.5       ]),\n",
       "  'train_score': array([0.70833333, 0.70833333, 0.70833333])},\n",
       " {'fit_time': array([0.39579391, 0.47189188, 0.48125505]),\n",
       "  'score_time': array([0.00031209, 0.00026798, 0.00026608]),\n",
       "  'estimator': [GradientBoostingClassifier(),\n",
       "   GradientBoostingClassifier(),\n",
       "   GradientBoostingClassifier()],\n",
       "  'test_score': array([0.66666667, 0.58333333, 0.75      ]),\n",
       "  'train_score': array([1., 1., 1.])})"
      ]
     },
     "execution_count": 12,
     "metadata": {},
     "output_type": "execute_result"
    }
   ],
   "source": [
    "cv_results_rf, cv_results_svc, cv_results_knn, cv_results_gb"
   ]
  },
  {
   "cell_type": "code",
   "execution_count": 13,
   "metadata": {},
   "outputs": [
    {
     "name": "stderr",
     "output_type": "stream",
     "text": [
      "/opt/homebrew/Caskroom/miniforge/base/envs/mlai_rp2/lib/python3.9/site-packages/sklearn/neighbors/_classification.py:228: FutureWarning: Unlike other reduction functions (e.g. `skew`, `kurtosis`), the default behavior of `mode` typically preserves the axis it acts along. In SciPy 1.11.0, this behavior will change: the default value of `keepdims` will become False, the `axis` over which the statistic is taken will be eliminated, and the value None will no longer be accepted. Set `keepdims` to True or False to avoid this warning.\n",
      "  mode, _ = stats.mode(_y[neigh_ind, k], axis=1)\n"
     ]
    }
   ],
   "source": [
    "y_labeled_val_pred_rf = trained_model_rf.predict(X_labeled_val)\n",
    "y_labeled_val_pred_svc = trained_model_svc.predict(X_labeled_val)\n",
    "y_labeled_val_pred_knn = trained_model_knn.predict(X_labeled_val)\n",
    "y_labeled_val_pred_gb = trained_model_gb.predict(X_labeled_val)"
   ]
  },
  {
   "cell_type": "code",
   "execution_count": 14,
   "metadata": {},
   "outputs": [
    {
     "name": "stderr",
     "output_type": "stream",
     "text": [
      "08-Jan-24 12:01:52 - INFO - Accuracy: 0.7778, Precision: 0.8889, Recall: 0.7778, F1: 0.7778\n",
      "/opt/homebrew/Caskroom/miniforge/base/envs/mlai_rp2/lib/python3.9/site-packages/sklearn/metrics/_classification.py:1318: UndefinedMetricWarning: Precision is ill-defined and being set to 0.0 in labels with no predicted samples. Use `zero_division` parameter to control this behavior.\n",
      "  _warn_prf(average, modifier, msg_start, len(result))\n",
      "08-Jan-24 12:01:52 - INFO - Accuracy: 0.5556, Precision: 0.3651, Recall: 0.5556, F1: 0.4222\n",
      "08-Jan-24 12:01:52 - INFO - Accuracy: 0.6667, Precision: 0.6556, Recall: 0.6667, F1: 0.6519\n",
      "08-Jan-24 12:01:52 - INFO - Accuracy: 0.7778, Precision: 0.8889, Recall: 0.7778, F1: 0.7778\n"
     ]
    }
   ],
   "source": [
    "metrics_val = calculate_metrics(y_labeled_val, y_labeled_val_pred_rf)\n",
    "metrics_val = calculate_metrics(y_labeled_val, y_labeled_val_pred_svc)\n",
    "metrics_val = calculate_metrics(y_labeled_val, y_labeled_val_pred_knn)\n",
    "metrics_val = calculate_metrics(y_labeled_val, y_labeled_val_pred_gb)"
   ]
  },
  {
   "cell_type": "code",
   "execution_count": 15,
   "metadata": {},
   "outputs": [
    {
     "name": "stderr",
     "output_type": "stream",
     "text": [
      "08-Jan-24 12:01:53 - INFO - Cohen's Kappa: 0.6785714285714286, 95% CI: (0.2848214285714286, 1.0)\n",
      "08-Jan-24 12:01:53 - INFO - Cohen's Kappa: 0.3571428571428572, 95% CI: (0.0, 0.7857142857142857)\n",
      "08-Jan-24 12:01:53 - INFO - Cohen's Kappa: 0.47058823529411764, 95% CI: (-0.17456521739130443, 1.0)\n",
      "08-Jan-24 12:01:53 - INFO - Cohen's Kappa: 0.6785714285714286, 95% CI: (0.2857142857142857, 1.0)\n"
     ]
    }
   ],
   "source": [
    "kappa_confidence_interval(y_labeled_val, y_labeled_val_pred_rf)\n",
    "kappa_confidence_interval(y_labeled_val, y_labeled_val_pred_svc)\n",
    "kappa_confidence_interval(y_labeled_val, y_labeled_val_pred_knn)\n",
    "kappa_confidence_interval(y_labeled_val, y_labeled_val_pred_gb)"
   ]
  },
  {
   "cell_type": "code",
   "execution_count": 16,
   "metadata": {},
   "outputs": [],
   "source": [
    "# cm = confusion_matrix(y_labeled_val, y_labeled_val_pred, labels=['xan', 'dat', 'other'])\n",
    "# cm"
   ]
  },
  {
   "cell_type": "code",
   "execution_count": 18,
   "metadata": {},
   "outputs": [],
   "source": [
    "# plot_confusion_matrix(y_labeled_val, y_labeled_val_pred_gb, model_gb.classes_)"
   ]
  },
  {
   "cell_type": "code",
   "execution_count": 19,
   "metadata": {},
   "outputs": [
    {
     "data": {
      "text/plain": [
       "array(['dat', 'dat', 'dat', 'other', 'xan', 'other', 'other', 'dat',\n",
       "       'dat', 'other', 'dat', 'xan', 'xan', 'xan', 'xan', 'xan', 'dat',\n",
       "       'xan', 'xan', 'other', 'dat', 'xan', 'dat', 'other', 'other',\n",
       "       'dat', 'other', 'other', 'other', 'xan', 'dat', 'other', 'xan',\n",
       "       'xan', 'dat', 'xan', 'xan', 'other', 'dat', 'other', 'dat', 'dat',\n",
       "       'other', 'xan', 'other'], dtype=object)"
      ]
     },
     "execution_count": 19,
     "metadata": {},
     "output_type": "execute_result"
    }
   ],
   "source": [
    "y_labeled"
   ]
  },
  {
   "cell_type": "code",
   "execution_count": 20,
   "metadata": {},
   "outputs": [],
   "source": [
    "le = LabelEncoder()\n",
    "y_labeled_gb = le.fit_transform(y_labeled)"
   ]
  },
  {
   "cell_type": "code",
   "execution_count": 21,
   "metadata": {},
   "outputs": [
    {
     "data": {
      "text/plain": [
       "(array(['dat', 'dat', 'dat', 'other', 'xan', 'other', 'other', 'dat',\n",
       "        'dat', 'other', 'dat', 'xan', 'xan', 'xan', 'xan', 'xan', 'dat',\n",
       "        'xan', 'xan', 'other', 'dat', 'xan', 'dat', 'other', 'other',\n",
       "        'dat', 'other', 'other', 'other', 'xan', 'dat', 'other', 'xan',\n",
       "        'xan', 'dat', 'xan', 'xan', 'other', 'dat', 'other', 'dat', 'dat',\n",
       "        'other', 'xan', 'other'], dtype=object),\n",
       " array([0, 0, 0, 1, 2, 1, 1, 0, 0, 1, 0, 2, 2, 2, 2, 2, 0, 2, 2, 1, 0, 2,\n",
       "        0, 1, 1, 0, 1, 1, 1, 2, 0, 1, 2, 2, 0, 2, 2, 1, 0, 1, 0, 0, 1, 2,\n",
       "        1]))"
      ]
     },
     "execution_count": 21,
     "metadata": {},
     "output_type": "execute_result"
    }
   ],
   "source": [
    "classifier = self_training(model_gb, X_labeled, y_labeled_gb, X_unlabeled)\n",
    "y_labeled_pred = classifier.predict(X_labeled)\n",
    "y_labeled, y_labeled_pred"
   ]
  },
  {
   "cell_type": "code",
   "execution_count": 22,
   "metadata": {},
   "outputs": [],
   "source": [
    "y_labeled_pred = le.inverse_transform(y_labeled_pred)"
   ]
  },
  {
   "cell_type": "code",
   "execution_count": 23,
   "metadata": {},
   "outputs": [
    {
     "name": "stderr",
     "output_type": "stream",
     "text": [
      "08-Jan-24 12:05:13 - INFO - Cohen's Kappa: 1.0, 95% CI: (1.0, 1.0)\n"
     ]
    }
   ],
   "source": [
    "kappa_confidence_interval(y_labeled, y_labeled_pred)"
   ]
  },
  {
   "cell_type": "code",
   "execution_count": null,
   "metadata": {},
   "outputs": [],
   "source": [
    "# # Plot the confusion matrix and ROC curve of training data\n",
    "# metrics = calculate_metrics(y_labeled, y_labeled_pred)\n",
    "# print(f'Training data metrics: {metrics}')\n",
    "# plot_confusion_matrix(y_labeled, y_labeled_pred, classifier.classes_)\n",
    "# plot_roc_curve(y_labeled, classifier.predict_proba(X_labeled), classifier.classes_)"
   ]
  },
  {
   "cell_type": "markdown",
   "metadata": {},
   "source": [
    "# Predict on Unlabeled Data"
   ]
  },
  {
   "cell_type": "code",
   "execution_count": null,
   "metadata": {},
   "outputs": [],
   "source": [
    "# def proba_confidence_interval(X_unlabeled, classifier, n_bootstrap=1000, alpha=0.05):\n",
    "#     \"\"\"\n",
    "#     Calculate confidence intervals for predicted probabilities using bootstrapping.\n",
    "    \n",
    "#     Parameters:\n",
    "#     X_unlabeled: Unlabeled data.\n",
    "#     classifier: Trained classifier.\n",
    "#     n_bootstrap: Number of bootstrap samples to create.\n",
    "#     alpha: Confidence interval, e.g., 0.05 for 95% confidence.\n",
    "    \n",
    "#     Returns:\n",
    "#     lower: Lower bound of the confidence interval for each sample.\n",
    "#     upper: Upper bound of the confidence interval for each sample.\n",
    "#     \"\"\"\n",
    "#     # Generate bootstrap samples and calculate predicted probabilities for each sample\n",
    "#     bootstrap_probas = []\n",
    "#     for _ in range(n_bootstrap):\n",
    "#         X_resampled = resample(X_unlabeled)\n",
    "#         proba_resampled = classifier.predict_proba(X_resampled)\n",
    "#         bootstrap_probas.append(proba_resampled)\n",
    "    \n",
    "#     # Calculate lower and upper percentiles for the confidence interval\n",
    "#     lower = np.percentile(bootstrap_probas, 100 * alpha / 2, axis=0)\n",
    "#     upper = np.percentile(bootstrap_probas, 100 * (1 - alpha / 2), axis=0)\n",
    "    \n",
    "#     return lower, upper"
   ]
  },
  {
   "cell_type": "code",
   "execution_count": null,
   "metadata": {},
   "outputs": [],
   "source": [
    "# lower, upper = proba_confidence_interval(X_unlabeled, classifier)\n",
    "# lower.shape, upper.shape"
   ]
  },
  {
   "cell_type": "code",
   "execution_count": 24,
   "metadata": {},
   "outputs": [],
   "source": [
    "# def plot_confidence_intervals(X_unlabeled, classifier, n_bins=10, n_bootstrap=1000, alpha=0.05):\n",
    "#     \"\"\"\n",
    "#     Calculate confidence intervals for predicted probabilities and plot a histogram of their widths.\n",
    "\n",
    "#     Parameters:\n",
    "#     X_unlabeled: Unlabeled data.\n",
    "#     classifier: Trained classifier.\n",
    "#     n_bins: Number of bins for the histogram.\n",
    "#     n_bootstrap: Number of bootstrap samples to create.\n",
    "#     alpha: Confidence interval, e.g., 0.05 for 95% confidence.\n",
    "#     \"\"\"\n",
    "#     # Calculate confidence intervals\n",
    "#     lower, upper = proba_confidence_interval(X_unlabeled, classifier, n_bootstrap, alpha)\n",
    "\n",
    "#     # Calculate the widths of the confidence intervals\n",
    "#     widths = upper - lower\n",
    "\n",
    "#     # Create a histogram of the widths\n",
    "#     fig = px.histogram(widths, nbins=n_bins)\n",
    "\n",
    "#     # Show the plot\n",
    "#     fig.show()\n",
    "\n",
    "\n",
    "def plot_predicted_probabilities(probabilities, class_labels):\n",
    "    # Convert the probabilities and class labels to a DataFrame\n",
    "    df = pd.DataFrame(probabilities, columns=class_labels)\n",
    "    \n",
    "    # Melt the DataFrame to a long format for easier plotting\n",
    "    df_melt = df.melt(var_name='Class', value_name='Predicted Probability')\n",
    "    \n",
    "    # Create a histogram for each class\n",
    "    fig = px.histogram(df_melt, x='Predicted Probability', color='Class', nbins=50,\n",
    "                       title='Predicted Probabilities for Each Class',\n",
    "                       labels={'Predicted Probability': 'Predicted Probability', 'Class': 'Class'},\n",
    "                       marginal='box', # display box plot on top margin\n",
    "                       opacity=0.7,\n",
    "                       barmode='overlay') # overlay histograms on top of one another\n",
    "    \n",
    "    fig.update_layout(width=600, height=600)\n",
    "\n",
    "    fig.show()"
   ]
  },
  {
   "cell_type": "code",
   "execution_count": 25,
   "metadata": {},
   "outputs": [],
   "source": [
    "y_pred = classifier.predict(X_unlabeled)\n",
    "y_pred_proba = classifier.predict_proba(X_unlabeled)"
   ]
  },
  {
   "cell_type": "code",
   "execution_count": 26,
   "metadata": {},
   "outputs": [
    {
     "data": {
      "application/vnd.plotly.v1+json": {
       "config": {
        "plotlyServerURL": "https://plot.ly"
       },
       "data": [
        {
         "alignmentgroup": "True",
         "bingroup": "x",
         "hovertemplate": "Class=0<br>Predicted Probability=%{x}<br>count=%{y}<extra></extra>",
         "legendgroup": "0",
         "marker": {
          "color": "#636efa",
          "opacity": 0.7,
          "pattern": {
           "shape": ""
          }
         },
         "name": "0",
         "nbinsx": 50,
         "offsetgroup": "0",
         "orientation": "v",
         "showlegend": true,
         "type": "histogram",
         "x": [
          0.9999141926085625,
          0.000006378440727373245,
          0.9999223035563221,
          0.000004691723379178287,
          0.000005994468063000764,
          0.000006378440727373245,
          0.000006213265340056857,
          0.000035969768545030954,
          0.9998614950169521,
          0.00008872886689516361,
          3.0310406112517095e-7,
          0.0000059492432281923005,
          0.000005416779397061426,
          0.000007096431940480785,
          3.031041727061463e-7,
          0.00000648410041803617,
          0.000006213265340056857,
          0.000006327024253459326,
          3.031047035933891e-7,
          0.9998722055302284,
          3.0310489308986683e-7,
          0.000006495223784287527,
          3.031038862374394e-7,
          3.0310314558650995e-7,
          3.0310395147259176e-7,
          3.559519949474144e-7,
          0.000004849625597639802,
          0.00005933628167658902,
          0.000006213265340056857,
          3.031047035933891e-7,
          0.000006422071203654718,
          3.031041727061463e-7,
          0.000006732298208206967,
          0.000006153826982627613,
          0.000007285085191019014,
          0.00000628374243982242,
          3.031041727061463e-7,
          0.000006378440727373245,
          3.031038862374394e-7,
          0.000006495223784287527,
          3.031041170783428e-7,
          0.000006327024253459326,
          0.000007793384312401526,
          0.000006378440727373245,
          0.000008292582791037247,
          0.000006764139121400242,
          0.000006656475625768475,
          0.000005953461154143995,
          3.786504034085538e-7,
          0.9999437041308115,
          0.9999015132931192,
          0.000006327024253459326,
          0.000006638207953724262,
          0.0000074535537888130065,
          0.000006880501164601492,
          0.000006880501164601492,
          0.000006638207953724262,
          0.000006602817962942377,
          0.000006495223784287527,
          3.031041727061463e-7,
          0.000006378440727373245,
          0.000006557959547630894,
          0.000006378440727373245,
          0.000006846534997833061,
          0.9998526580228277,
          3.0310406112517095e-7,
          0.000006378440727373245,
          0.000006213265340056857,
          3.031045005310827e-7,
          0.9998809407887954,
          3.0310405801965785e-7,
          0.000006378440727373245,
          0.000006378440727373245,
          0.000006846534997833061,
          0.000005994468063000764,
          3.0310395147259176e-7,
          0.000005763749142331143,
          0.0000068312993339211485,
          0.0000057863872335963814,
          0.000006344435595977095,
          0.000005953461154143995,
          3.0310365692917914e-7,
          0.000007028545068271869,
          0.00000628374243982242,
          0.000006351682783089971,
          0.000006562351890105504,
          0.000005803175014325275,
          0.00000741846765798906,
          0.00000646630579401199,
          0.9999231698226315,
          0.000007355999770497577,
          3.031041727061463e-7,
          0.000007096431940480785,
          3.0310435010203836e-7,
          0.000005994468063000764,
          3.031041727061463e-7,
          0.000006846534997833061,
          3.029935105000631e-7,
          3.5595122969896557e-7,
          0.000007064467628254719,
          0.000007096431940480785,
          0.9997779418490124,
          3.031035327652351e-7,
          3.031047035933891e-7,
          0.000006213265340056857,
          0.9998591222551122,
          0.000006153826982627613,
          3.0310426725842766e-7,
          0.000006356948429445836,
          3.031038862374394e-7,
          3.031041727061463e-7,
          0.000007064467628254719,
          0.000006495223784287527,
          3.0310373694467547e-7,
          0.000006153826982627613,
          0.00008497258030506276,
          0.0000067996934893709825,
          0.000006213265340056857,
          3.0310337542761275e-7,
          0.000007285085191019014,
          0.00000628374243982242,
          0.000006010964260422852,
          0.999949552727048,
          0.000006702324738070663,
          0.000005029843928944048,
          0.9999223444123293,
          3.0310489308986683e-7,
          0.000005953461154143995,
          0.000006887983795361569,
          0.000005994468063000764,
          0.000006495223784287527,
          3.251912052851313e-7,
          0.000006638207953724262,
          0.000007216469749871573,
          0.000006327024253459326,
          3.990811351274173e-7,
          0.000006213265340056857,
          0.00004408016664295025,
          3.0310337542761275e-7,
          0.000005953461154143995,
          3.031044759629298e-7,
          0.000005994468063000764,
          0.9999130445859528,
          0.000006153826982627613,
          0.000008283120547726124,
          3.031051252116621e-7,
          3.0310361245303116e-7,
          0.000006562351890105504,
          3.031035327652351e-7,
          0.000006153826982627613,
          0.000006213265340056857,
          3.251918860509831e-7,
          0.000007096431940480785,
          0.000006880501164601492,
          0.9998504202614231,
          0.000006778349128105988,
          0.000006327024253459326,
          0.000006077988823452989,
          0.000005953461154143995,
          0.9998693111723902,
          0.000007028545068271869,
          0.000006327024253459326,
          0.000005986922877932254,
          0.000006764139121400242,
          0.000006378440727373245,
          0.0000046627487985544394,
          3.031036798836152e-7,
          3.0310463636583707e-7,
          3.031054311465039e-7,
          0.000006880501164601492,
          3.031038862374394e-7,
          3.031041170783428e-7,
          0.000006764139121400242,
          0.00000741846765798906,
          0.000007028545068271869,
          0.00006636095896966126,
          0.0000057992907986349185,
          0.000006638207953724262,
          3.031039069527874e-7,
          0.000006656475625768475,
          0.000007689239528301184,
          3.0310495025120463e-7,
          3.031036798836152e-7,
          0.000006170761712285751,
          0.000006153826982627613,
          0.000006638207953724262,
          3.3141768680865246e-7,
          0.00000652995626291601,
          0.000005953461154143995,
          3.031047351327615e-7,
          0.000006515682288183204,
          0.000005388893433634838,
          0.000005953461154143995,
          0.000005994468063000764,
          3.0310474540102374e-7,
          0.000006153826982627613,
          0.00006225141527260298,
          0.000006702324738070663,
          0.00000628374243982242,
          0.000007226360434130925,
          0.000005953461154143995,
          0.000007285085191019014,
          0.00000608223128157528,
          0.000006170761712285751,
          0.000006153826982627613,
          0.9998365414991353,
          0.000006880501164601492,
          0.000006766880261603644,
          4.245263680761679e-7,
          0.000006543902195709631,
          3.0310462023649455e-7,
          0.000006213265340056857,
          0.000007283424902095373,
          0.9998734899700419,
          0.000006702324738070663,
          0.000007039613898889382,
          0.9999498882273338,
          0.000007096431940480785,
          3.0310462023649455e-7,
          0.000006170761712285751,
          0.000007025757354802349,
          0.000006153826982627613,
          0.9999074988771475,
          3.0310395147259176e-7,
          0.000006170761712285751,
          3.031045005310827e-7,
          0.000005828619496954373,
          0.00000598113023153629,
          0.000005953461154143995,
          0.000006344435595977095,
          0.0000057992907986349185,
          0.000005953461154143995,
          3.031048113617451e-7,
          0.000007107607679746265,
          0.000006880501164601492,
          0.0000057992907986349185,
          3.559510767702935e-7,
          0.000007096431940480785,
          0.9999046579256595,
          0.000055590500844633095,
          0.00006568766438773626,
          0.000006327024253459326,
          0.000006153826982627613,
          0.000006628864689939046,
          0.000006255765987632991,
          0.000006378440727373245,
          0.000007262210901900057,
          0.000006351682783089971,
          0.000006344435595977095,
          0.000006153826982627613,
          3.0310502739217904e-7,
          0.000006825037675220333,
          3.03104468534577e-7,
          3.0310474540102374e-7,
          0.0000061123150030693875,
          0.000007285085191019014,
          0.000005953461154143995,
          0.9998874198989393,
          3.0310474540102374e-7,
          0.000006656475625768475,
          0.000005953461154143995,
          0.9998920142927155,
          0.9998989695779588,
          0.000006153826982627613,
          0.0000057992907986349185,
          0.000007490120605444413,
          0.00000628374243982242,
          3.031041466948645e-7,
          0.000007096431940480785,
          0.000006825037675220333,
          3.031041727061463e-7,
          3.0310433377192193e-7,
          0.9998516619965682,
          3.0310474540102374e-7,
          0.000006213265340056857,
          0.49187999196518106,
          3.031047035933891e-7,
          0.000006170761712285751,
          3.031037673650584e-7,
          0.00008458291752480627,
          0.00003481321633119063,
          0.000005983569522728945,
          3.031047035933891e-7,
          0.000006495223784287527,
          0.000006153826982627613,
          0.000006213265340056857,
          3.0310460448141756e-7,
          0.000007226360434130925,
          0.000006638207953724262,
          0.000005623367117348012,
          3.0310514410381287e-7,
          3.031041727061463e-7,
          0.00000628374243982242,
          3.031042189561757e-7,
          0.0000057992907986349185,
          3.0310460448141756e-7,
          0.000007028545068271869,
          3.9907907672332747e-7,
          0.9998975945161582
         ],
         "xaxis": "x",
         "yaxis": "y"
        },
        {
         "alignmentgroup": "True",
         "hovertemplate": "Class=0<br>Predicted Probability=%{x}<extra></extra>",
         "legendgroup": "0",
         "marker": {
          "color": "#636efa"
         },
         "name": "0",
         "notched": true,
         "offsetgroup": "0",
         "showlegend": false,
         "type": "box",
         "x": [
          0.9999141926085625,
          0.000006378440727373245,
          0.9999223035563221,
          0.000004691723379178287,
          0.000005994468063000764,
          0.000006378440727373245,
          0.000006213265340056857,
          0.000035969768545030954,
          0.9998614950169521,
          0.00008872886689516361,
          3.0310406112517095e-7,
          0.0000059492432281923005,
          0.000005416779397061426,
          0.000007096431940480785,
          3.031041727061463e-7,
          0.00000648410041803617,
          0.000006213265340056857,
          0.000006327024253459326,
          3.031047035933891e-7,
          0.9998722055302284,
          3.0310489308986683e-7,
          0.000006495223784287527,
          3.031038862374394e-7,
          3.0310314558650995e-7,
          3.0310395147259176e-7,
          3.559519949474144e-7,
          0.000004849625597639802,
          0.00005933628167658902,
          0.000006213265340056857,
          3.031047035933891e-7,
          0.000006422071203654718,
          3.031041727061463e-7,
          0.000006732298208206967,
          0.000006153826982627613,
          0.000007285085191019014,
          0.00000628374243982242,
          3.031041727061463e-7,
          0.000006378440727373245,
          3.031038862374394e-7,
          0.000006495223784287527,
          3.031041170783428e-7,
          0.000006327024253459326,
          0.000007793384312401526,
          0.000006378440727373245,
          0.000008292582791037247,
          0.000006764139121400242,
          0.000006656475625768475,
          0.000005953461154143995,
          3.786504034085538e-7,
          0.9999437041308115,
          0.9999015132931192,
          0.000006327024253459326,
          0.000006638207953724262,
          0.0000074535537888130065,
          0.000006880501164601492,
          0.000006880501164601492,
          0.000006638207953724262,
          0.000006602817962942377,
          0.000006495223784287527,
          3.031041727061463e-7,
          0.000006378440727373245,
          0.000006557959547630894,
          0.000006378440727373245,
          0.000006846534997833061,
          0.9998526580228277,
          3.0310406112517095e-7,
          0.000006378440727373245,
          0.000006213265340056857,
          3.031045005310827e-7,
          0.9998809407887954,
          3.0310405801965785e-7,
          0.000006378440727373245,
          0.000006378440727373245,
          0.000006846534997833061,
          0.000005994468063000764,
          3.0310395147259176e-7,
          0.000005763749142331143,
          0.0000068312993339211485,
          0.0000057863872335963814,
          0.000006344435595977095,
          0.000005953461154143995,
          3.0310365692917914e-7,
          0.000007028545068271869,
          0.00000628374243982242,
          0.000006351682783089971,
          0.000006562351890105504,
          0.000005803175014325275,
          0.00000741846765798906,
          0.00000646630579401199,
          0.9999231698226315,
          0.000007355999770497577,
          3.031041727061463e-7,
          0.000007096431940480785,
          3.0310435010203836e-7,
          0.000005994468063000764,
          3.031041727061463e-7,
          0.000006846534997833061,
          3.029935105000631e-7,
          3.5595122969896557e-7,
          0.000007064467628254719,
          0.000007096431940480785,
          0.9997779418490124,
          3.031035327652351e-7,
          3.031047035933891e-7,
          0.000006213265340056857,
          0.9998591222551122,
          0.000006153826982627613,
          3.0310426725842766e-7,
          0.000006356948429445836,
          3.031038862374394e-7,
          3.031041727061463e-7,
          0.000007064467628254719,
          0.000006495223784287527,
          3.0310373694467547e-7,
          0.000006153826982627613,
          0.00008497258030506276,
          0.0000067996934893709825,
          0.000006213265340056857,
          3.0310337542761275e-7,
          0.000007285085191019014,
          0.00000628374243982242,
          0.000006010964260422852,
          0.999949552727048,
          0.000006702324738070663,
          0.000005029843928944048,
          0.9999223444123293,
          3.0310489308986683e-7,
          0.000005953461154143995,
          0.000006887983795361569,
          0.000005994468063000764,
          0.000006495223784287527,
          3.251912052851313e-7,
          0.000006638207953724262,
          0.000007216469749871573,
          0.000006327024253459326,
          3.990811351274173e-7,
          0.000006213265340056857,
          0.00004408016664295025,
          3.0310337542761275e-7,
          0.000005953461154143995,
          3.031044759629298e-7,
          0.000005994468063000764,
          0.9999130445859528,
          0.000006153826982627613,
          0.000008283120547726124,
          3.031051252116621e-7,
          3.0310361245303116e-7,
          0.000006562351890105504,
          3.031035327652351e-7,
          0.000006153826982627613,
          0.000006213265340056857,
          3.251918860509831e-7,
          0.000007096431940480785,
          0.000006880501164601492,
          0.9998504202614231,
          0.000006778349128105988,
          0.000006327024253459326,
          0.000006077988823452989,
          0.000005953461154143995,
          0.9998693111723902,
          0.000007028545068271869,
          0.000006327024253459326,
          0.000005986922877932254,
          0.000006764139121400242,
          0.000006378440727373245,
          0.0000046627487985544394,
          3.031036798836152e-7,
          3.0310463636583707e-7,
          3.031054311465039e-7,
          0.000006880501164601492,
          3.031038862374394e-7,
          3.031041170783428e-7,
          0.000006764139121400242,
          0.00000741846765798906,
          0.000007028545068271869,
          0.00006636095896966126,
          0.0000057992907986349185,
          0.000006638207953724262,
          3.031039069527874e-7,
          0.000006656475625768475,
          0.000007689239528301184,
          3.0310495025120463e-7,
          3.031036798836152e-7,
          0.000006170761712285751,
          0.000006153826982627613,
          0.000006638207953724262,
          3.3141768680865246e-7,
          0.00000652995626291601,
          0.000005953461154143995,
          3.031047351327615e-7,
          0.000006515682288183204,
          0.000005388893433634838,
          0.000005953461154143995,
          0.000005994468063000764,
          3.0310474540102374e-7,
          0.000006153826982627613,
          0.00006225141527260298,
          0.000006702324738070663,
          0.00000628374243982242,
          0.000007226360434130925,
          0.000005953461154143995,
          0.000007285085191019014,
          0.00000608223128157528,
          0.000006170761712285751,
          0.000006153826982627613,
          0.9998365414991353,
          0.000006880501164601492,
          0.000006766880261603644,
          4.245263680761679e-7,
          0.000006543902195709631,
          3.0310462023649455e-7,
          0.000006213265340056857,
          0.000007283424902095373,
          0.9998734899700419,
          0.000006702324738070663,
          0.000007039613898889382,
          0.9999498882273338,
          0.000007096431940480785,
          3.0310462023649455e-7,
          0.000006170761712285751,
          0.000007025757354802349,
          0.000006153826982627613,
          0.9999074988771475,
          3.0310395147259176e-7,
          0.000006170761712285751,
          3.031045005310827e-7,
          0.000005828619496954373,
          0.00000598113023153629,
          0.000005953461154143995,
          0.000006344435595977095,
          0.0000057992907986349185,
          0.000005953461154143995,
          3.031048113617451e-7,
          0.000007107607679746265,
          0.000006880501164601492,
          0.0000057992907986349185,
          3.559510767702935e-7,
          0.000007096431940480785,
          0.9999046579256595,
          0.000055590500844633095,
          0.00006568766438773626,
          0.000006327024253459326,
          0.000006153826982627613,
          0.000006628864689939046,
          0.000006255765987632991,
          0.000006378440727373245,
          0.000007262210901900057,
          0.000006351682783089971,
          0.000006344435595977095,
          0.000006153826982627613,
          3.0310502739217904e-7,
          0.000006825037675220333,
          3.03104468534577e-7,
          3.0310474540102374e-7,
          0.0000061123150030693875,
          0.000007285085191019014,
          0.000005953461154143995,
          0.9998874198989393,
          3.0310474540102374e-7,
          0.000006656475625768475,
          0.000005953461154143995,
          0.9998920142927155,
          0.9998989695779588,
          0.000006153826982627613,
          0.0000057992907986349185,
          0.000007490120605444413,
          0.00000628374243982242,
          3.031041466948645e-7,
          0.000007096431940480785,
          0.000006825037675220333,
          3.031041727061463e-7,
          3.0310433377192193e-7,
          0.9998516619965682,
          3.0310474540102374e-7,
          0.000006213265340056857,
          0.49187999196518106,
          3.031047035933891e-7,
          0.000006170761712285751,
          3.031037673650584e-7,
          0.00008458291752480627,
          0.00003481321633119063,
          0.000005983569522728945,
          3.031047035933891e-7,
          0.000006495223784287527,
          0.000006153826982627613,
          0.000006213265340056857,
          3.0310460448141756e-7,
          0.000007226360434130925,
          0.000006638207953724262,
          0.000005623367117348012,
          3.0310514410381287e-7,
          3.031041727061463e-7,
          0.00000628374243982242,
          3.031042189561757e-7,
          0.0000057992907986349185,
          3.0310460448141756e-7,
          0.000007028545068271869,
          3.9907907672332747e-7,
          0.9998975945161582
         ],
         "xaxis": "x2",
         "yaxis": "y2"
        },
        {
         "alignmentgroup": "True",
         "bingroup": "x",
         "hovertemplate": "Class=1<br>Predicted Probability=%{x}<br>count=%{y}<extra></extra>",
         "legendgroup": "1",
         "marker": {
          "color": "#EF553B",
          "opacity": 0.7,
          "pattern": {
           "shape": ""
          }
         },
         "name": "1",
         "nbinsx": 50,
         "offsetgroup": "1",
         "orientation": "v",
         "showlegend": true,
         "type": "histogram",
         "x": [
          0.00008519124505930613,
          0.9999808453037463,
          0.00007707670579263394,
          0.9999859105790783,
          0.9999819983880301,
          0.9999808453037463,
          0.9999813413316173,
          0.9998912351304192,
          0.0001379555309033642,
          0.9997857375402389,
          0.000026261353177717664,
          0.9999821341999015,
          0.9999837332087171,
          0.9999786891492587,
          0.00002589323522993747,
          0.9999805280037403,
          0.9999813413316173,
          0.9999809997093421,
          0.000024141779644214485,
          0.000127166554177085,
          0.000023516609857168712,
          0.9999804945998553,
          0.000026838327098188185,
          0.000029281816231115154,
          0.000026623109133617273,
          0.000012957916481128608,
          0.9999854363928057,
          0.9998447827814928,
          0.9999813413316173,
          0.000024141779644214485,
          0.9999807142797927,
          0.00002589323522993747,
          0.9999797826564863,
          0.9999815198272295,
          0.9999781226164859,
          0.9999811296862485,
          0.00002589323522993747,
          0.9999808453037463,
          0.000026838327098188185,
          0.9999804945998553,
          0.0000260767574909437,
          0.9999809997093421,
          0.9999765961751983,
          0.9999808453037463,
          0.9999750970634815,
          0.9999796870370324,
          0.9999800103545397,
          0.9999821215333122,
          0.000004698681839596674,
          0.00005566058255717675,
          0.00009787908628391974,
          0.9999809997093421,
          0.9999800652130423,
          0.9999776166989807,
          0.999979337597461,
          0.999979337597461,
          0.9999800652130423,
          0.9999801714905096,
          0.9999804945998553,
          0.00002589323522993747,
          0.9999808453037463,
          0.99998030620201,
          0.9999808453037463,
          0.9999794395991312,
          0.0001467452782863765,
          0.000026261353177717664,
          0.9999808453037463,
          0.9999813413316173,
          0.000024811704596584745,
          0.00011843704955752913,
          0.000026271598607510623,
          0.9999808453037463,
          0.9999808453037463,
          0.9999794395991312,
          0.9999819983880301,
          0.000026623109133617273,
          0.9999826912455847,
          0.9999794853523999,
          0.999982623262549,
          0.9999809474224287,
          0.9999821215333122,
          0.000027594840348003617,
          0.9999788930160766,
          0.9999811296862485,
          0.9999809256588548,
          0.9999802930116407,
          0.9999825728482152,
          0.9999777220639449,
          0.9999805814416624,
          0.0000762104040452422,
          0.999977909657349,
          0.00002589323522993747,
          0.9999786891492587,
          0.000025307986610307097,
          0.9999819983880301,
          0.00002589323522993747,
          0.9999794395991312,
          0.00004212428910436012,
          0.000015107752818054197,
          0.9999787851392844,
          0.9999786891492587,
          0.00022182050243351283,
          0.000028004470898314745,
          0.000024141779644214485,
          0.9999813413316173,
          0.00014025804616144366,
          0.9999815198272295,
          0.000025581296822420834,
          0.9999809098459218,
          0.000026838327098188185,
          0.00002589323522993747,
          0.9999787851392844,
          0.9999804945998553,
          0.000027330860399145106,
          0.9999815198272295,
          0.9997774516740103,
          0.9999795802659345,
          0.9999813413316173,
          0.00002852354507515006,
          0.9999781226164859,
          0.9999811296862485,
          0.9999819488493317,
          0.000049799517916761055,
          0.9999798726679389,
          0.9999848951904109,
          0.00007699633563570242,
          0.000023516609857168712,
          0.9999821215333122,
          0.9999793151268407,
          0.9999819983880301,
          0.9999804945998553,
          0.000016333349971054697,
          0.9999800652130423,
          0.9999783286712238,
          0.9999809997093421,
          0.000011423988876968338,
          0.9999813413316173,
          0.9998667581341895,
          0.00002852354507515006,
          0.9999821215333122,
          0.000024892757643047046,
          0.9999819983880301,
          0.00008630855175689739,
          0.9999815198272295,
          0.9999751254789526,
          0.000022750814443960092,
          0.000027741572067957835,
          0.9999802930116407,
          0.000028004470898314745,
          0.9999815198272295,
          0.9999813413316173,
          0.000014239951621911173,
          0.9999786891492587,
          0.999979337597461,
          0.000149059966395317,
          0.99997964436385,
          0.9999809997093421,
          0.99998174757206,
          0.9999821215333122,
          0.00013016904560741484,
          0.9999788930160766,
          0.9999809997093421,
          0.9999820445254046,
          0.9999796870370324,
          0.9999808453037463,
          0.9999859975908281,
          0.000027519111133529552,
          0.000024363570756020683,
          0.0000217415016483389,
          0.999979337597461,
          0.000026838327098188185,
          0.0000260767574909437,
          0.9999796870370324,
          0.9999777220639449,
          0.9999788930160766,
          0.9998038909277097,
          0.9999825845126604,
          0.9999800652130423,
          0.00002676998488125988,
          0.9999800103545397,
          0.999976908925883,
          0.00002332802829744449,
          0.000027519111133529552,
          0.9999814689716023,
          0.9999815198272295,
          0.9999800652130423,
          0.000013369737532850383,
          0.9999803902969217,
          0.9999821215333122,
          0.000024037727773871506,
          0.9999804331622024,
          0.9999838169513088,
          0.9999821215333122,
          0.9999819983880301,
          0.000024003851644392893,
          0.9999815198272295,
          0.9998140550960873,
          0.9999798726679389,
          0.9999811296862485,
          0.9999782989691286,
          0.9999821215333122,
          0.9999781226164859,
          0.9999817348317995,
          0.9999814689716023,
          0.9999815198272295,
          0.00016293873589834468,
          0.999979337597461,
          0.9999796788052858,
          0.00001126974280236675,
          0.9999803484167638,
          0.000024416783236306326,
          0.9999813413316173,
          0.9999781276023955,
          0.00012595286859917073,
          0.9999798726679389,
          0.9999788597759642,
          0.00004958199720188325,
          0.9999786891492587,
          0.000024416783236306326,
          0.9999814689716023,
          0.999978901387685,
          0.9999815198272295,
          0.0000919713698460464,
          0.000026623109133617273,
          0.9999814689716023,
          0.000024811704596584745,
          0.9999824964374816,
          0.999982038442037,
          0.9999821215333122,
          0.9999809474224287,
          0.9999825845126604,
          0.9999821215333122,
          0.00002378623994785963,
          0.9999786555880951,
          0.999979337597461,
          0.9999825845126604,
          0.00001553738010611355,
          0.9999786891492587,
          0.00009471886448979599,
          0.9998458884391614,
          0.9998040465684999,
          0.9999809997093421,
          0.9999815198272295,
          0.9999800932712133,
          0.9999812137005818,
          0.9999808453037463,
          0.999978191308832,
          0.9999809256588548,
          0.9999809474224287,
          0.9999815198272295,
          0.00002307353171135812,
          0.9999795041563959,
          0.00002491726459941652,
          0.000024003851644392893,
          0.9999816444892576,
          0.9999781226164859,
          0.9999821215333122,
          0.00011199727548021066,
          0.000024003851644392893,
          0.9999800103545397,
          0.9999821215333122,
          0.000107363538746623,
          0.00010045820698357616,
          0.9999815198272295,
          0.9999825845126604,
          0.9999775068874619,
          0.9999811296862485,
          0.000025979049318354904,
          0.9999786891492587,
          0.9999795041563959,
          0.00002589323522993747,
          0.00002536186146570987,
          0.00014781823060463573,
          0.000024003851644392893,
          0.9999813413316173,
          0.000010103746922014545,
          0.000024141779644214485,
          0.9999814689716023,
          0.00002723050019905998,
          0.9997932718247513,
          0.9998961483976446,
          0.9999820311167541,
          0.000024141779644214485,
          0.9999804945998553,
          0.9999815198272295,
          0.9999813413316173,
          0.00002446876097208475,
          0.9999782989691286,
          0.9999800652130423,
          0.9999831128180602,
          0.000022688487154436985,
          0.00002589323522993747,
          0.9999811296862485,
          0.000025740651280481647,
          0.9999825845126604,
          0.00002446876097208475,
          0.9999788930160766,
          0.00001658178861665958,
          0.00010175863154686519
         ],
         "xaxis": "x",
         "yaxis": "y"
        },
        {
         "alignmentgroup": "True",
         "hovertemplate": "Class=1<br>Predicted Probability=%{x}<extra></extra>",
         "legendgroup": "1",
         "marker": {
          "color": "#EF553B"
         },
         "name": "1",
         "notched": true,
         "offsetgroup": "1",
         "showlegend": false,
         "type": "box",
         "x": [
          0.00008519124505930613,
          0.9999808453037463,
          0.00007707670579263394,
          0.9999859105790783,
          0.9999819983880301,
          0.9999808453037463,
          0.9999813413316173,
          0.9998912351304192,
          0.0001379555309033642,
          0.9997857375402389,
          0.000026261353177717664,
          0.9999821341999015,
          0.9999837332087171,
          0.9999786891492587,
          0.00002589323522993747,
          0.9999805280037403,
          0.9999813413316173,
          0.9999809997093421,
          0.000024141779644214485,
          0.000127166554177085,
          0.000023516609857168712,
          0.9999804945998553,
          0.000026838327098188185,
          0.000029281816231115154,
          0.000026623109133617273,
          0.000012957916481128608,
          0.9999854363928057,
          0.9998447827814928,
          0.9999813413316173,
          0.000024141779644214485,
          0.9999807142797927,
          0.00002589323522993747,
          0.9999797826564863,
          0.9999815198272295,
          0.9999781226164859,
          0.9999811296862485,
          0.00002589323522993747,
          0.9999808453037463,
          0.000026838327098188185,
          0.9999804945998553,
          0.0000260767574909437,
          0.9999809997093421,
          0.9999765961751983,
          0.9999808453037463,
          0.9999750970634815,
          0.9999796870370324,
          0.9999800103545397,
          0.9999821215333122,
          0.000004698681839596674,
          0.00005566058255717675,
          0.00009787908628391974,
          0.9999809997093421,
          0.9999800652130423,
          0.9999776166989807,
          0.999979337597461,
          0.999979337597461,
          0.9999800652130423,
          0.9999801714905096,
          0.9999804945998553,
          0.00002589323522993747,
          0.9999808453037463,
          0.99998030620201,
          0.9999808453037463,
          0.9999794395991312,
          0.0001467452782863765,
          0.000026261353177717664,
          0.9999808453037463,
          0.9999813413316173,
          0.000024811704596584745,
          0.00011843704955752913,
          0.000026271598607510623,
          0.9999808453037463,
          0.9999808453037463,
          0.9999794395991312,
          0.9999819983880301,
          0.000026623109133617273,
          0.9999826912455847,
          0.9999794853523999,
          0.999982623262549,
          0.9999809474224287,
          0.9999821215333122,
          0.000027594840348003617,
          0.9999788930160766,
          0.9999811296862485,
          0.9999809256588548,
          0.9999802930116407,
          0.9999825728482152,
          0.9999777220639449,
          0.9999805814416624,
          0.0000762104040452422,
          0.999977909657349,
          0.00002589323522993747,
          0.9999786891492587,
          0.000025307986610307097,
          0.9999819983880301,
          0.00002589323522993747,
          0.9999794395991312,
          0.00004212428910436012,
          0.000015107752818054197,
          0.9999787851392844,
          0.9999786891492587,
          0.00022182050243351283,
          0.000028004470898314745,
          0.000024141779644214485,
          0.9999813413316173,
          0.00014025804616144366,
          0.9999815198272295,
          0.000025581296822420834,
          0.9999809098459218,
          0.000026838327098188185,
          0.00002589323522993747,
          0.9999787851392844,
          0.9999804945998553,
          0.000027330860399145106,
          0.9999815198272295,
          0.9997774516740103,
          0.9999795802659345,
          0.9999813413316173,
          0.00002852354507515006,
          0.9999781226164859,
          0.9999811296862485,
          0.9999819488493317,
          0.000049799517916761055,
          0.9999798726679389,
          0.9999848951904109,
          0.00007699633563570242,
          0.000023516609857168712,
          0.9999821215333122,
          0.9999793151268407,
          0.9999819983880301,
          0.9999804945998553,
          0.000016333349971054697,
          0.9999800652130423,
          0.9999783286712238,
          0.9999809997093421,
          0.000011423988876968338,
          0.9999813413316173,
          0.9998667581341895,
          0.00002852354507515006,
          0.9999821215333122,
          0.000024892757643047046,
          0.9999819983880301,
          0.00008630855175689739,
          0.9999815198272295,
          0.9999751254789526,
          0.000022750814443960092,
          0.000027741572067957835,
          0.9999802930116407,
          0.000028004470898314745,
          0.9999815198272295,
          0.9999813413316173,
          0.000014239951621911173,
          0.9999786891492587,
          0.999979337597461,
          0.000149059966395317,
          0.99997964436385,
          0.9999809997093421,
          0.99998174757206,
          0.9999821215333122,
          0.00013016904560741484,
          0.9999788930160766,
          0.9999809997093421,
          0.9999820445254046,
          0.9999796870370324,
          0.9999808453037463,
          0.9999859975908281,
          0.000027519111133529552,
          0.000024363570756020683,
          0.0000217415016483389,
          0.999979337597461,
          0.000026838327098188185,
          0.0000260767574909437,
          0.9999796870370324,
          0.9999777220639449,
          0.9999788930160766,
          0.9998038909277097,
          0.9999825845126604,
          0.9999800652130423,
          0.00002676998488125988,
          0.9999800103545397,
          0.999976908925883,
          0.00002332802829744449,
          0.000027519111133529552,
          0.9999814689716023,
          0.9999815198272295,
          0.9999800652130423,
          0.000013369737532850383,
          0.9999803902969217,
          0.9999821215333122,
          0.000024037727773871506,
          0.9999804331622024,
          0.9999838169513088,
          0.9999821215333122,
          0.9999819983880301,
          0.000024003851644392893,
          0.9999815198272295,
          0.9998140550960873,
          0.9999798726679389,
          0.9999811296862485,
          0.9999782989691286,
          0.9999821215333122,
          0.9999781226164859,
          0.9999817348317995,
          0.9999814689716023,
          0.9999815198272295,
          0.00016293873589834468,
          0.999979337597461,
          0.9999796788052858,
          0.00001126974280236675,
          0.9999803484167638,
          0.000024416783236306326,
          0.9999813413316173,
          0.9999781276023955,
          0.00012595286859917073,
          0.9999798726679389,
          0.9999788597759642,
          0.00004958199720188325,
          0.9999786891492587,
          0.000024416783236306326,
          0.9999814689716023,
          0.999978901387685,
          0.9999815198272295,
          0.0000919713698460464,
          0.000026623109133617273,
          0.9999814689716023,
          0.000024811704596584745,
          0.9999824964374816,
          0.999982038442037,
          0.9999821215333122,
          0.9999809474224287,
          0.9999825845126604,
          0.9999821215333122,
          0.00002378623994785963,
          0.9999786555880951,
          0.999979337597461,
          0.9999825845126604,
          0.00001553738010611355,
          0.9999786891492587,
          0.00009471886448979599,
          0.9998458884391614,
          0.9998040465684999,
          0.9999809997093421,
          0.9999815198272295,
          0.9999800932712133,
          0.9999812137005818,
          0.9999808453037463,
          0.999978191308832,
          0.9999809256588548,
          0.9999809474224287,
          0.9999815198272295,
          0.00002307353171135812,
          0.9999795041563959,
          0.00002491726459941652,
          0.000024003851644392893,
          0.9999816444892576,
          0.9999781226164859,
          0.9999821215333122,
          0.00011199727548021066,
          0.000024003851644392893,
          0.9999800103545397,
          0.9999821215333122,
          0.000107363538746623,
          0.00010045820698357616,
          0.9999815198272295,
          0.9999825845126604,
          0.9999775068874619,
          0.9999811296862485,
          0.000025979049318354904,
          0.9999786891492587,
          0.9999795041563959,
          0.00002589323522993747,
          0.00002536186146570987,
          0.00014781823060463573,
          0.000024003851644392893,
          0.9999813413316173,
          0.000010103746922014545,
          0.000024141779644214485,
          0.9999814689716023,
          0.00002723050019905998,
          0.9997932718247513,
          0.9998961483976446,
          0.9999820311167541,
          0.000024141779644214485,
          0.9999804945998553,
          0.9999815198272295,
          0.9999813413316173,
          0.00002446876097208475,
          0.9999782989691286,
          0.9999800652130423,
          0.9999831128180602,
          0.000022688487154436985,
          0.00002589323522993747,
          0.9999811296862485,
          0.000025740651280481647,
          0.9999825845126604,
          0.00002446876097208475,
          0.9999788930160766,
          0.00001658178861665958,
          0.00010175863154686519
         ],
         "xaxis": "x2",
         "yaxis": "y2"
        },
        {
         "alignmentgroup": "True",
         "bingroup": "x",
         "hovertemplate": "Class=2<br>Predicted Probability=%{x}<br>count=%{y}<extra></extra>",
         "legendgroup": "2",
         "marker": {
          "color": "#00cc96",
          "opacity": 0.7,
          "pattern": {
           "shape": ""
          }
         },
         "name": "2",
         "nbinsx": 50,
         "offsetgroup": "2",
         "orientation": "v",
         "showlegend": true,
         "type": "histogram",
         "x": [
          6.16146378319239e-7,
          0.0000127762555261808,
          6.197378850189553e-7,
          0.000009397697542801139,
          0.000012007143907092111,
          0.0000127762555261808,
          0.000012445403042762156,
          0.00007279510103559106,
          5.494521446482895e-7,
          0.00012553359286605607,
          0.9999734355427609,
          0.000011916556870175322,
          0.000010850011885947033,
          0.00001421441880092086,
          0.9999738036605975,
          0.000012987895841490695,
          0.000012445403042762156,
          0.00001267326640437862,
          0.9999755551156526,
          6.279155944562897e-7,
          0.99997618028525,
          0.000013010176360447114,
          0.9999728585690152,
          0.999970415080623,
          0.9999730737869149,
          0.9999866861315237,
          0.000009713981596763953,
          0.00009588093683057492,
          0.000012445403042762156,
          0.9999755551156526,
          0.00001286364900329018,
          0.9999738036605975,
          0.000013485045305410132,
          0.000012326345788014379,
          0.000014592298323164788,
          0.000012586571311597005,
          0.9999738036605975,
          0.0000127762555261808,
          0.9999728585690152,
          0.000013010176360447114,
          0.9999736201383921,
          0.00001267326640437862,
          0.00001561044048926603,
          0.0000127762555261808,
          0.00001661035372730237,
          0.000013548823846362688,
          0.00001333316983469646,
          0.000011925005533736279,
          0.9999949226677569,
          6.352866313802315e-7,
          6.076205971868356e-7,
          0.00001267326640437862,
          0.000013296579003820862,
          0.000014929747230437118,
          0.000013781901374402976,
          0.000013781901374402976,
          0.000013296579003820862,
          0.000013225691527614024,
          0.000013010176360447114,
          0.9999738036605975,
          0.0000127762555261808,
          0.000013135838442664966,
          0.0000127762555261808,
          0.000013713865870989738,
          5.966988856236567e-7,
          0.9999734355427609,
          0.0000127762555261808,
          0.000012445403042762156,
          0.9999748851909033,
          6.221616473253339e-7,
          0.9999734252973346,
          0.0000127762555261808,
          0.0000127762555261808,
          0.000013713865870989738,
          0.000012007143907092111,
          0.9999730737869149,
          0.000011545005273029167,
          0.00001368334826589323,
          0.00001159035021719216,
          0.000012708141975159769,
          0.000011925005533736279,
          0.9999721020559948,
          0.000014078438854835904,
          0.000012586571311597005,
          0.00001272265836221384,
          0.00001314463646904989,
          0.00001162397677036986,
          0.00001485946839709966,
          0.000012952252543505724,
          6.197733230767183e-7,
          0.000014734342880239956,
          0.9999738036605975,
          0.00001421441880092086,
          0.999974388909039,
          0.000012007143907092111,
          0.9999738036605975,
          0.000013713865870989738,
          0.9999575727173852,
          0.9999845362959525,
          0.000014150393087086715,
          0.00001421441880092086,
          2.3764855453292302e-7,
          0.9999716924255687,
          0.9999755551156526,
          0.000012445403042762156,
          6.196987261304649e-7,
          0.000012326345788014379,
          0.9999741155989101,
          0.000012733205648961285,
          0.9999728585690152,
          0.9999738036605975,
          0.000014150393087086715,
          0.000013010176360447114,
          0.9999723660358641,
          0.000012326345788014379,
          0.00013757574568464874,
          0.000013620040576231574,
          0.000012445403042762156,
          0.9999711733515493,
          0.000014592298323164788,
          0.000012586571311597005,
          0.000012040186407992125,
          6.477550349513364e-7,
          0.000013425007322800318,
          0.000010074965660057612,
          6.592520347144141e-7,
          0.99997618028525,
          0.000011925005533736279,
          0.000013796889363895225,
          0.000012007143907092111,
          0.000013010176360447114,
          0.9999833414588235,
          0.000013296579003820862,
          0.000014454859026225125,
          0.00001267326640437862,
          0.9999881769299878,
          0.000012445403042762156,
          0.00008916169916736419,
          0.9999711733515493,
          0.000011925005533736279,
          0.999974804137881,
          0.000012007143907092111,
          6.468622901767037e-7,
          0.000012326345788014379,
          0.000016591400499772145,
          0.9999769460804311,
          0.9999719553243193,
          0.00001314463646904989,
          0.9999716924255687,
          0.000012326345788014379,
          0.000012445403042762156,
          0.999985434856492,
          0.00001421441880092086,
          0.000013781901374402976,
          5.197721815666029e-7,
          0.000013577287021684239,
          0.00001267326640437862,
          0.000012174439116515184,
          0.000011925005533736279,
          5.197820020055463e-7,
          0.000014078438854835904,
          0.00001267326640437862,
          0.00001196855171754515,
          0.000013548823846362688,
          0.0000127762555261808,
          0.000009339660373273886,
          0.999972177785187,
          0.9999753333246076,
          0.9999779553929206,
          0.000013781901374402976,
          0.9999728585690152,
          0.9999736201383921,
          0.000013548823846362688,
          0.00001485946839709966,
          0.000014078438854835904,
          0.0001297481133205211,
          0.000011616196540953317,
          0.000013296579003820862,
          0.9999729269112122,
          0.00001333316983469646,
          0.000015401834588504968,
          0.9999763688667528,
          0.999972177785187,
          0.000012360266685397752,
          0.000012326345788014379,
          0.000013296579003820862,
          0.9999862988447806,
          0.000013079746815199574,
          0.000011925005533736279,
          0.9999756591674912,
          0.00001305115550952548,
          0.000010794155257413537,
          0.000011925005533736279,
          0.000012007143907092111,
          0.9999756930436101,
          0.000012326345788014379,
          0.00012369348863990604,
          0.000013425007322800318,
          0.000012586571311597005,
          0.000014474670437011482,
          0.000011925005533736279,
          0.000014592298323164788,
          0.000012182936918932123,
          0.000012360266685397752,
          0.000012326345788014379,
          5.197649666928517e-7,
          0.000013781901374402976,
          0.000013554314452792792,
          0.9999883057308295,
          0.00001310768104059068,
          0.9999752801121434,
          0.000012445403042762156,
          0.000014588972702305024,
          5.571613585990664e-7,
          0.000013425007322800318,
          0.000014100610136876429,
          5.297754639856675e-7,
          0.00001421441880092086,
          0.9999752801121434,
          0.000012360266685397752,
          0.000014072854960410524,
          0.000012326345788014379,
          5.297530060225958e-7,
          0.9999730737869149,
          0.000012360266685397752,
          0.9999748851909033,
          0.000011674943021479748,
          0.000011980427731424922,
          0.000011925005533736279,
          0.000012708141975159769,
          0.000011616196540953317,
          0.000011925005533736279,
          0.9999759106552412,
          0.000014236804224984948,
          0.000013781901374402976,
          0.000011616196540953317,
          0.9999841066688169,
          0.00001421441880092086,
          6.232098504776826e-7,
          0.00009852105999380632,
          0.00013026576711242077,
          0.00001267326640437862,
          0.000012326345788014379,
          0.000013277864096734532,
          0.000012530533430684483,
          0.0000127762555261808,
          0.000014546480265859758,
          0.00001272265836221384,
          0.000012708141975159769,
          0.000012326345788014379,
          0.9999766233632612,
          0.00001367080592913745,
          0.9999747796309321,
          0.9999756930436101,
          0.00001224319573913842,
          0.000014592298323164788,
          0.000011925005533736279,
          5.828255802567739e-7,
          0.9999756930436101,
          0.00001333316983469646,
          0.000011925005533736279,
          6.221685376551317e-7,
          5.722150572609331e-7,
          0.000012326345788014379,
          0.000011616196540953317,
          0.000015002991932869942,
          0.000012586571311597005,
          0.9999737178465352,
          0.00001421441880092086,
          0.00001367080592913745,
          0.9999738036605975,
          0.9999743350342004,
          5.197728270825443e-7,
          0.9999756930436101,
          0.000012445403042762156,
          0.508109904287897,
          0.9999755551156526,
          0.000012360266685397752,
          0.9999724663960333,
          0.00012214525772385912,
          0.0000690383860242696,
          0.00001198531372298809,
          0.9999755551156526,
          0.000013010176360447114,
          0.000012326345788014379,
          0.000012445403042762156,
          0.9999752281344236,
          0.000014474670437011482,
          0.000013296579003820862,
          0.000011263814822395978,
          0.999977008407701,
          0.9999738036605975,
          0.000012586571311597005,
          0.9999739562445009,
          0.000011616196540953317,
          0.9999752281344236,
          0.000014078438854835904,
          0.9999830191323061,
          6.468522952400585e-7
         ],
         "xaxis": "x",
         "yaxis": "y"
        },
        {
         "alignmentgroup": "True",
         "hovertemplate": "Class=2<br>Predicted Probability=%{x}<extra></extra>",
         "legendgroup": "2",
         "marker": {
          "color": "#00cc96"
         },
         "name": "2",
         "notched": true,
         "offsetgroup": "2",
         "showlegend": false,
         "type": "box",
         "x": [
          6.16146378319239e-7,
          0.0000127762555261808,
          6.197378850189553e-7,
          0.000009397697542801139,
          0.000012007143907092111,
          0.0000127762555261808,
          0.000012445403042762156,
          0.00007279510103559106,
          5.494521446482895e-7,
          0.00012553359286605607,
          0.9999734355427609,
          0.000011916556870175322,
          0.000010850011885947033,
          0.00001421441880092086,
          0.9999738036605975,
          0.000012987895841490695,
          0.000012445403042762156,
          0.00001267326640437862,
          0.9999755551156526,
          6.279155944562897e-7,
          0.99997618028525,
          0.000013010176360447114,
          0.9999728585690152,
          0.999970415080623,
          0.9999730737869149,
          0.9999866861315237,
          0.000009713981596763953,
          0.00009588093683057492,
          0.000012445403042762156,
          0.9999755551156526,
          0.00001286364900329018,
          0.9999738036605975,
          0.000013485045305410132,
          0.000012326345788014379,
          0.000014592298323164788,
          0.000012586571311597005,
          0.9999738036605975,
          0.0000127762555261808,
          0.9999728585690152,
          0.000013010176360447114,
          0.9999736201383921,
          0.00001267326640437862,
          0.00001561044048926603,
          0.0000127762555261808,
          0.00001661035372730237,
          0.000013548823846362688,
          0.00001333316983469646,
          0.000011925005533736279,
          0.9999949226677569,
          6.352866313802315e-7,
          6.076205971868356e-7,
          0.00001267326640437862,
          0.000013296579003820862,
          0.000014929747230437118,
          0.000013781901374402976,
          0.000013781901374402976,
          0.000013296579003820862,
          0.000013225691527614024,
          0.000013010176360447114,
          0.9999738036605975,
          0.0000127762555261808,
          0.000013135838442664966,
          0.0000127762555261808,
          0.000013713865870989738,
          5.966988856236567e-7,
          0.9999734355427609,
          0.0000127762555261808,
          0.000012445403042762156,
          0.9999748851909033,
          6.221616473253339e-7,
          0.9999734252973346,
          0.0000127762555261808,
          0.0000127762555261808,
          0.000013713865870989738,
          0.000012007143907092111,
          0.9999730737869149,
          0.000011545005273029167,
          0.00001368334826589323,
          0.00001159035021719216,
          0.000012708141975159769,
          0.000011925005533736279,
          0.9999721020559948,
          0.000014078438854835904,
          0.000012586571311597005,
          0.00001272265836221384,
          0.00001314463646904989,
          0.00001162397677036986,
          0.00001485946839709966,
          0.000012952252543505724,
          6.197733230767183e-7,
          0.000014734342880239956,
          0.9999738036605975,
          0.00001421441880092086,
          0.999974388909039,
          0.000012007143907092111,
          0.9999738036605975,
          0.000013713865870989738,
          0.9999575727173852,
          0.9999845362959525,
          0.000014150393087086715,
          0.00001421441880092086,
          2.3764855453292302e-7,
          0.9999716924255687,
          0.9999755551156526,
          0.000012445403042762156,
          6.196987261304649e-7,
          0.000012326345788014379,
          0.9999741155989101,
          0.000012733205648961285,
          0.9999728585690152,
          0.9999738036605975,
          0.000014150393087086715,
          0.000013010176360447114,
          0.9999723660358641,
          0.000012326345788014379,
          0.00013757574568464874,
          0.000013620040576231574,
          0.000012445403042762156,
          0.9999711733515493,
          0.000014592298323164788,
          0.000012586571311597005,
          0.000012040186407992125,
          6.477550349513364e-7,
          0.000013425007322800318,
          0.000010074965660057612,
          6.592520347144141e-7,
          0.99997618028525,
          0.000011925005533736279,
          0.000013796889363895225,
          0.000012007143907092111,
          0.000013010176360447114,
          0.9999833414588235,
          0.000013296579003820862,
          0.000014454859026225125,
          0.00001267326640437862,
          0.9999881769299878,
          0.000012445403042762156,
          0.00008916169916736419,
          0.9999711733515493,
          0.000011925005533736279,
          0.999974804137881,
          0.000012007143907092111,
          6.468622901767037e-7,
          0.000012326345788014379,
          0.000016591400499772145,
          0.9999769460804311,
          0.9999719553243193,
          0.00001314463646904989,
          0.9999716924255687,
          0.000012326345788014379,
          0.000012445403042762156,
          0.999985434856492,
          0.00001421441880092086,
          0.000013781901374402976,
          5.197721815666029e-7,
          0.000013577287021684239,
          0.00001267326640437862,
          0.000012174439116515184,
          0.000011925005533736279,
          5.197820020055463e-7,
          0.000014078438854835904,
          0.00001267326640437862,
          0.00001196855171754515,
          0.000013548823846362688,
          0.0000127762555261808,
          0.000009339660373273886,
          0.999972177785187,
          0.9999753333246076,
          0.9999779553929206,
          0.000013781901374402976,
          0.9999728585690152,
          0.9999736201383921,
          0.000013548823846362688,
          0.00001485946839709966,
          0.000014078438854835904,
          0.0001297481133205211,
          0.000011616196540953317,
          0.000013296579003820862,
          0.9999729269112122,
          0.00001333316983469646,
          0.000015401834588504968,
          0.9999763688667528,
          0.999972177785187,
          0.000012360266685397752,
          0.000012326345788014379,
          0.000013296579003820862,
          0.9999862988447806,
          0.000013079746815199574,
          0.000011925005533736279,
          0.9999756591674912,
          0.00001305115550952548,
          0.000010794155257413537,
          0.000011925005533736279,
          0.000012007143907092111,
          0.9999756930436101,
          0.000012326345788014379,
          0.00012369348863990604,
          0.000013425007322800318,
          0.000012586571311597005,
          0.000014474670437011482,
          0.000011925005533736279,
          0.000014592298323164788,
          0.000012182936918932123,
          0.000012360266685397752,
          0.000012326345788014379,
          5.197649666928517e-7,
          0.000013781901374402976,
          0.000013554314452792792,
          0.9999883057308295,
          0.00001310768104059068,
          0.9999752801121434,
          0.000012445403042762156,
          0.000014588972702305024,
          5.571613585990664e-7,
          0.000013425007322800318,
          0.000014100610136876429,
          5.297754639856675e-7,
          0.00001421441880092086,
          0.9999752801121434,
          0.000012360266685397752,
          0.000014072854960410524,
          0.000012326345788014379,
          5.297530060225958e-7,
          0.9999730737869149,
          0.000012360266685397752,
          0.9999748851909033,
          0.000011674943021479748,
          0.000011980427731424922,
          0.000011925005533736279,
          0.000012708141975159769,
          0.000011616196540953317,
          0.000011925005533736279,
          0.9999759106552412,
          0.000014236804224984948,
          0.000013781901374402976,
          0.000011616196540953317,
          0.9999841066688169,
          0.00001421441880092086,
          6.232098504776826e-7,
          0.00009852105999380632,
          0.00013026576711242077,
          0.00001267326640437862,
          0.000012326345788014379,
          0.000013277864096734532,
          0.000012530533430684483,
          0.0000127762555261808,
          0.000014546480265859758,
          0.00001272265836221384,
          0.000012708141975159769,
          0.000012326345788014379,
          0.9999766233632612,
          0.00001367080592913745,
          0.9999747796309321,
          0.9999756930436101,
          0.00001224319573913842,
          0.000014592298323164788,
          0.000011925005533736279,
          5.828255802567739e-7,
          0.9999756930436101,
          0.00001333316983469646,
          0.000011925005533736279,
          6.221685376551317e-7,
          5.722150572609331e-7,
          0.000012326345788014379,
          0.000011616196540953317,
          0.000015002991932869942,
          0.000012586571311597005,
          0.9999737178465352,
          0.00001421441880092086,
          0.00001367080592913745,
          0.9999738036605975,
          0.9999743350342004,
          5.197728270825443e-7,
          0.9999756930436101,
          0.000012445403042762156,
          0.508109904287897,
          0.9999755551156526,
          0.000012360266685397752,
          0.9999724663960333,
          0.00012214525772385912,
          0.0000690383860242696,
          0.00001198531372298809,
          0.9999755551156526,
          0.000013010176360447114,
          0.000012326345788014379,
          0.000012445403042762156,
          0.9999752281344236,
          0.000014474670437011482,
          0.000013296579003820862,
          0.000011263814822395978,
          0.999977008407701,
          0.9999738036605975,
          0.000012586571311597005,
          0.9999739562445009,
          0.000011616196540953317,
          0.9999752281344236,
          0.000014078438854835904,
          0.9999830191323061,
          6.468522952400585e-7
         ],
         "xaxis": "x2",
         "yaxis": "y2"
        }
       ],
       "layout": {
        "barmode": "overlay",
        "height": 600,
        "legend": {
         "title": {
          "text": "Class"
         },
         "tracegroupgap": 0
        },
        "template": {
         "data": {
          "bar": [
           {
            "error_x": {
             "color": "#2a3f5f"
            },
            "error_y": {
             "color": "#2a3f5f"
            },
            "marker": {
             "line": {
              "color": "#E5ECF6",
              "width": 0.5
             },
             "pattern": {
              "fillmode": "overlay",
              "size": 10,
              "solidity": 0.2
             }
            },
            "type": "bar"
           }
          ],
          "barpolar": [
           {
            "marker": {
             "line": {
              "color": "#E5ECF6",
              "width": 0.5
             },
             "pattern": {
              "fillmode": "overlay",
              "size": 10,
              "solidity": 0.2
             }
            },
            "type": "barpolar"
           }
          ],
          "carpet": [
           {
            "aaxis": {
             "endlinecolor": "#2a3f5f",
             "gridcolor": "white",
             "linecolor": "white",
             "minorgridcolor": "white",
             "startlinecolor": "#2a3f5f"
            },
            "baxis": {
             "endlinecolor": "#2a3f5f",
             "gridcolor": "white",
             "linecolor": "white",
             "minorgridcolor": "white",
             "startlinecolor": "#2a3f5f"
            },
            "type": "carpet"
           }
          ],
          "choropleth": [
           {
            "colorbar": {
             "outlinewidth": 0,
             "ticks": ""
            },
            "type": "choropleth"
           }
          ],
          "contour": [
           {
            "colorbar": {
             "outlinewidth": 0,
             "ticks": ""
            },
            "colorscale": [
             [
              0,
              "#0d0887"
             ],
             [
              0.1111111111111111,
              "#46039f"
             ],
             [
              0.2222222222222222,
              "#7201a8"
             ],
             [
              0.3333333333333333,
              "#9c179e"
             ],
             [
              0.4444444444444444,
              "#bd3786"
             ],
             [
              0.5555555555555556,
              "#d8576b"
             ],
             [
              0.6666666666666666,
              "#ed7953"
             ],
             [
              0.7777777777777778,
              "#fb9f3a"
             ],
             [
              0.8888888888888888,
              "#fdca26"
             ],
             [
              1,
              "#f0f921"
             ]
            ],
            "type": "contour"
           }
          ],
          "contourcarpet": [
           {
            "colorbar": {
             "outlinewidth": 0,
             "ticks": ""
            },
            "type": "contourcarpet"
           }
          ],
          "heatmap": [
           {
            "colorbar": {
             "outlinewidth": 0,
             "ticks": ""
            },
            "colorscale": [
             [
              0,
              "#0d0887"
             ],
             [
              0.1111111111111111,
              "#46039f"
             ],
             [
              0.2222222222222222,
              "#7201a8"
             ],
             [
              0.3333333333333333,
              "#9c179e"
             ],
             [
              0.4444444444444444,
              "#bd3786"
             ],
             [
              0.5555555555555556,
              "#d8576b"
             ],
             [
              0.6666666666666666,
              "#ed7953"
             ],
             [
              0.7777777777777778,
              "#fb9f3a"
             ],
             [
              0.8888888888888888,
              "#fdca26"
             ],
             [
              1,
              "#f0f921"
             ]
            ],
            "type": "heatmap"
           }
          ],
          "heatmapgl": [
           {
            "colorbar": {
             "outlinewidth": 0,
             "ticks": ""
            },
            "colorscale": [
             [
              0,
              "#0d0887"
             ],
             [
              0.1111111111111111,
              "#46039f"
             ],
             [
              0.2222222222222222,
              "#7201a8"
             ],
             [
              0.3333333333333333,
              "#9c179e"
             ],
             [
              0.4444444444444444,
              "#bd3786"
             ],
             [
              0.5555555555555556,
              "#d8576b"
             ],
             [
              0.6666666666666666,
              "#ed7953"
             ],
             [
              0.7777777777777778,
              "#fb9f3a"
             ],
             [
              0.8888888888888888,
              "#fdca26"
             ],
             [
              1,
              "#f0f921"
             ]
            ],
            "type": "heatmapgl"
           }
          ],
          "histogram": [
           {
            "marker": {
             "pattern": {
              "fillmode": "overlay",
              "size": 10,
              "solidity": 0.2
             }
            },
            "type": "histogram"
           }
          ],
          "histogram2d": [
           {
            "colorbar": {
             "outlinewidth": 0,
             "ticks": ""
            },
            "colorscale": [
             [
              0,
              "#0d0887"
             ],
             [
              0.1111111111111111,
              "#46039f"
             ],
             [
              0.2222222222222222,
              "#7201a8"
             ],
             [
              0.3333333333333333,
              "#9c179e"
             ],
             [
              0.4444444444444444,
              "#bd3786"
             ],
             [
              0.5555555555555556,
              "#d8576b"
             ],
             [
              0.6666666666666666,
              "#ed7953"
             ],
             [
              0.7777777777777778,
              "#fb9f3a"
             ],
             [
              0.8888888888888888,
              "#fdca26"
             ],
             [
              1,
              "#f0f921"
             ]
            ],
            "type": "histogram2d"
           }
          ],
          "histogram2dcontour": [
           {
            "colorbar": {
             "outlinewidth": 0,
             "ticks": ""
            },
            "colorscale": [
             [
              0,
              "#0d0887"
             ],
             [
              0.1111111111111111,
              "#46039f"
             ],
             [
              0.2222222222222222,
              "#7201a8"
             ],
             [
              0.3333333333333333,
              "#9c179e"
             ],
             [
              0.4444444444444444,
              "#bd3786"
             ],
             [
              0.5555555555555556,
              "#d8576b"
             ],
             [
              0.6666666666666666,
              "#ed7953"
             ],
             [
              0.7777777777777778,
              "#fb9f3a"
             ],
             [
              0.8888888888888888,
              "#fdca26"
             ],
             [
              1,
              "#f0f921"
             ]
            ],
            "type": "histogram2dcontour"
           }
          ],
          "mesh3d": [
           {
            "colorbar": {
             "outlinewidth": 0,
             "ticks": ""
            },
            "type": "mesh3d"
           }
          ],
          "parcoords": [
           {
            "line": {
             "colorbar": {
              "outlinewidth": 0,
              "ticks": ""
             }
            },
            "type": "parcoords"
           }
          ],
          "pie": [
           {
            "automargin": true,
            "type": "pie"
           }
          ],
          "scatter": [
           {
            "fillpattern": {
             "fillmode": "overlay",
             "size": 10,
             "solidity": 0.2
            },
            "type": "scatter"
           }
          ],
          "scatter3d": [
           {
            "line": {
             "colorbar": {
              "outlinewidth": 0,
              "ticks": ""
             }
            },
            "marker": {
             "colorbar": {
              "outlinewidth": 0,
              "ticks": ""
             }
            },
            "type": "scatter3d"
           }
          ],
          "scattercarpet": [
           {
            "marker": {
             "colorbar": {
              "outlinewidth": 0,
              "ticks": ""
             }
            },
            "type": "scattercarpet"
           }
          ],
          "scattergeo": [
           {
            "marker": {
             "colorbar": {
              "outlinewidth": 0,
              "ticks": ""
             }
            },
            "type": "scattergeo"
           }
          ],
          "scattergl": [
           {
            "marker": {
             "colorbar": {
              "outlinewidth": 0,
              "ticks": ""
             }
            },
            "type": "scattergl"
           }
          ],
          "scattermapbox": [
           {
            "marker": {
             "colorbar": {
              "outlinewidth": 0,
              "ticks": ""
             }
            },
            "type": "scattermapbox"
           }
          ],
          "scatterpolar": [
           {
            "marker": {
             "colorbar": {
              "outlinewidth": 0,
              "ticks": ""
             }
            },
            "type": "scatterpolar"
           }
          ],
          "scatterpolargl": [
           {
            "marker": {
             "colorbar": {
              "outlinewidth": 0,
              "ticks": ""
             }
            },
            "type": "scatterpolargl"
           }
          ],
          "scatterternary": [
           {
            "marker": {
             "colorbar": {
              "outlinewidth": 0,
              "ticks": ""
             }
            },
            "type": "scatterternary"
           }
          ],
          "surface": [
           {
            "colorbar": {
             "outlinewidth": 0,
             "ticks": ""
            },
            "colorscale": [
             [
              0,
              "#0d0887"
             ],
             [
              0.1111111111111111,
              "#46039f"
             ],
             [
              0.2222222222222222,
              "#7201a8"
             ],
             [
              0.3333333333333333,
              "#9c179e"
             ],
             [
              0.4444444444444444,
              "#bd3786"
             ],
             [
              0.5555555555555556,
              "#d8576b"
             ],
             [
              0.6666666666666666,
              "#ed7953"
             ],
             [
              0.7777777777777778,
              "#fb9f3a"
             ],
             [
              0.8888888888888888,
              "#fdca26"
             ],
             [
              1,
              "#f0f921"
             ]
            ],
            "type": "surface"
           }
          ],
          "table": [
           {
            "cells": {
             "fill": {
              "color": "#EBF0F8"
             },
             "line": {
              "color": "white"
             }
            },
            "header": {
             "fill": {
              "color": "#C8D4E3"
             },
             "line": {
              "color": "white"
             }
            },
            "type": "table"
           }
          ]
         },
         "layout": {
          "annotationdefaults": {
           "arrowcolor": "#2a3f5f",
           "arrowhead": 0,
           "arrowwidth": 1
          },
          "autotypenumbers": "strict",
          "coloraxis": {
           "colorbar": {
            "outlinewidth": 0,
            "ticks": ""
           }
          },
          "colorscale": {
           "diverging": [
            [
             0,
             "#8e0152"
            ],
            [
             0.1,
             "#c51b7d"
            ],
            [
             0.2,
             "#de77ae"
            ],
            [
             0.3,
             "#f1b6da"
            ],
            [
             0.4,
             "#fde0ef"
            ],
            [
             0.5,
             "#f7f7f7"
            ],
            [
             0.6,
             "#e6f5d0"
            ],
            [
             0.7,
             "#b8e186"
            ],
            [
             0.8,
             "#7fbc41"
            ],
            [
             0.9,
             "#4d9221"
            ],
            [
             1,
             "#276419"
            ]
           ],
           "sequential": [
            [
             0,
             "#0d0887"
            ],
            [
             0.1111111111111111,
             "#46039f"
            ],
            [
             0.2222222222222222,
             "#7201a8"
            ],
            [
             0.3333333333333333,
             "#9c179e"
            ],
            [
             0.4444444444444444,
             "#bd3786"
            ],
            [
             0.5555555555555556,
             "#d8576b"
            ],
            [
             0.6666666666666666,
             "#ed7953"
            ],
            [
             0.7777777777777778,
             "#fb9f3a"
            ],
            [
             0.8888888888888888,
             "#fdca26"
            ],
            [
             1,
             "#f0f921"
            ]
           ],
           "sequentialminus": [
            [
             0,
             "#0d0887"
            ],
            [
             0.1111111111111111,
             "#46039f"
            ],
            [
             0.2222222222222222,
             "#7201a8"
            ],
            [
             0.3333333333333333,
             "#9c179e"
            ],
            [
             0.4444444444444444,
             "#bd3786"
            ],
            [
             0.5555555555555556,
             "#d8576b"
            ],
            [
             0.6666666666666666,
             "#ed7953"
            ],
            [
             0.7777777777777778,
             "#fb9f3a"
            ],
            [
             0.8888888888888888,
             "#fdca26"
            ],
            [
             1,
             "#f0f921"
            ]
           ]
          },
          "colorway": [
           "#636efa",
           "#EF553B",
           "#00cc96",
           "#ab63fa",
           "#FFA15A",
           "#19d3f3",
           "#FF6692",
           "#B6E880",
           "#FF97FF",
           "#FECB52"
          ],
          "font": {
           "color": "#2a3f5f"
          },
          "geo": {
           "bgcolor": "white",
           "lakecolor": "white",
           "landcolor": "#E5ECF6",
           "showlakes": true,
           "showland": true,
           "subunitcolor": "white"
          },
          "hoverlabel": {
           "align": "left"
          },
          "hovermode": "closest",
          "mapbox": {
           "style": "light"
          },
          "paper_bgcolor": "white",
          "plot_bgcolor": "#E5ECF6",
          "polar": {
           "angularaxis": {
            "gridcolor": "white",
            "linecolor": "white",
            "ticks": ""
           },
           "bgcolor": "#E5ECF6",
           "radialaxis": {
            "gridcolor": "white",
            "linecolor": "white",
            "ticks": ""
           }
          },
          "scene": {
           "xaxis": {
            "backgroundcolor": "#E5ECF6",
            "gridcolor": "white",
            "gridwidth": 2,
            "linecolor": "white",
            "showbackground": true,
            "ticks": "",
            "zerolinecolor": "white"
           },
           "yaxis": {
            "backgroundcolor": "#E5ECF6",
            "gridcolor": "white",
            "gridwidth": 2,
            "linecolor": "white",
            "showbackground": true,
            "ticks": "",
            "zerolinecolor": "white"
           },
           "zaxis": {
            "backgroundcolor": "#E5ECF6",
            "gridcolor": "white",
            "gridwidth": 2,
            "linecolor": "white",
            "showbackground": true,
            "ticks": "",
            "zerolinecolor": "white"
           }
          },
          "shapedefaults": {
           "line": {
            "color": "#2a3f5f"
           }
          },
          "ternary": {
           "aaxis": {
            "gridcolor": "white",
            "linecolor": "white",
            "ticks": ""
           },
           "baxis": {
            "gridcolor": "white",
            "linecolor": "white",
            "ticks": ""
           },
           "bgcolor": "#E5ECF6",
           "caxis": {
            "gridcolor": "white",
            "linecolor": "white",
            "ticks": ""
           }
          },
          "title": {
           "x": 0.05
          },
          "xaxis": {
           "automargin": true,
           "gridcolor": "white",
           "linecolor": "white",
           "ticks": "",
           "title": {
            "standoff": 15
           },
           "zerolinecolor": "white",
           "zerolinewidth": 2
          },
          "yaxis": {
           "automargin": true,
           "gridcolor": "white",
           "linecolor": "white",
           "ticks": "",
           "title": {
            "standoff": 15
           },
           "zerolinecolor": "white",
           "zerolinewidth": 2
          }
         }
        },
        "title": {
         "text": "Predicted Probabilities for Each Class"
        },
        "width": 600,
        "xaxis": {
         "anchor": "y",
         "domain": [
          0,
          1
         ],
         "title": {
          "text": "Predicted Probability"
         }
        },
        "xaxis2": {
         "anchor": "y2",
         "domain": [
          0,
          1
         ],
         "matches": "x",
         "showgrid": true,
         "showticklabels": false
        },
        "yaxis": {
         "anchor": "x",
         "domain": [
          0,
          0.7326
         ],
         "title": {
          "text": "count"
         }
        },
        "yaxis2": {
         "anchor": "x2",
         "domain": [
          0.7426,
          1
         ],
         "matches": "y2",
         "showgrid": false,
         "showline": false,
         "showticklabels": false,
         "ticks": ""
        }
       }
      }
     },
     "metadata": {},
     "output_type": "display_data"
    }
   ],
   "source": [
    "plot_predicted_probabilities(y_pred_proba, classifier.classes_)"
   ]
  },
  {
   "cell_type": "code",
   "execution_count": null,
   "metadata": {},
   "outputs": [],
   "source": [
    "# plot_confidence_intervals(X_unlabeled, classifier, n_bins=20)"
   ]
  },
  {
   "cell_type": "code",
   "execution_count": null,
   "metadata": {},
   "outputs": [],
   "source": [
    "# Predict the labels of the unlabeled data\n",
    "# y_pred = classifier.predict(X_unlabeled)\n",
    "# y_pred_proba = classifier.predict_proba(X_unlabeled)\n",
    "\n",
    "# Plot the confusion matrix and ROC curve of the unlabeled data\n",
    "# calculate_metrics(df_unlabeled['label'], y_pred)\n",
    "# plot_confusion_matrix(df_unlabeled['label'], y_pred, classifier.classes_)\n",
    "# plot_roc_curve(df_unlabeled['label'], classifier.predict_proba(X_unlabeled), classifier.classes_)\n",
    "\n",
    "# Add the predicted labels to the unlabeled data\n",
    "# df_unlabeled['label'] = y_pred\n",
    "\n",
    "# # Concatenate the labeled and unlabeled data\n",
    "# df_concat = pd.concat([dflup, df_unlabeled])"
   ]
  },
  {
   "cell_type": "code",
   "execution_count": null,
   "metadata": {},
   "outputs": [],
   "source": [
    "# drop the label column from columns list:\n",
    "cols = list(df.columns)\n",
    "cols.remove('label')\n",
    "cols.extend(['label_pred_proba', 'label_pred'])"
   ]
  },
  {
   "cell_type": "code",
   "execution_count": null,
   "metadata": {},
   "outputs": [],
   "source": [
    "# combine y_pred and y_pred_proba\n",
    "y_pred_proba = y_pred_proba.max(axis=1)\n",
    "y_pred_proba = y_pred_proba.reshape(-1,1)\n",
    "y_pred = y_pred.reshape(-1,1)\n",
    "arr_unlabeled = np.concatenate([X_unlabeled, y_pred_proba, y_pred], axis=1)\n",
    "df_unlabeled = pd.DataFrame(arr_unlabeled, columns=cols)"
   ]
  },
  {
   "cell_type": "code",
   "execution_count": null,
   "metadata": {},
   "outputs": [],
   "source": [
    "df_results = df_unlabeled[['pid', 'label_pred_proba', 'label_pred']]\n",
    "df_results['label_pred_proba'] = df_results['label_pred_proba'].astype(float)\n",
    "df_results['pid'] = df_results['pid'].astype(int)"
   ]
  },
  {
   "cell_type": "code",
   "execution_count": null,
   "metadata": {},
   "outputs": [],
   "source": [
    "df_results"
   ]
  },
  {
   "cell_type": "code",
   "execution_count": null,
   "metadata": {},
   "outputs": [],
   "source": [
    "def get_examples(df_results):\n",
    "\n",
    "    df = df_results[~(df_results['label_pred'] == 'other')]\n",
    "\n",
    "    # Group by 'label_pred' and get the max, min, and mean of 'label_pred_proba'\n",
    "    result = df.groupby('label_pred')['label_pred_proba'].agg(['idxmax', 'idxmin', 'mean']).reset_index()\n",
    "\n",
    "    # Get the rows with the max and min probabilities\n",
    "    max_rows = df.loc[result['idxmax']].copy()\n",
    "    min_rows = df.loc[result['idxmin']].copy()\n",
    "\n",
    "    # Get the row in each class where 'label_pred_proba' is closest to the mean\n",
    "    mean_rows = df.loc[df.groupby('label_pred')['label_pred_proba'].apply(lambda x: (x - x.mean()).abs().idxmin())]\n",
    "\n",
    "    # Concatenate the max, min, and mean rows\n",
    "    examples = pd.concat([max_rows, min_rows, mean_rows], ignore_index=True).sort_values(by='label_pred', ascending=False).reset_index(drop=True)\n",
    "    examples['label_pred'] = examples['label_pred'].map({'xan': \"Xanthium s.\", 'dat': \"Datura s.\", 'unk': \"Unknown\"})\n",
    "    return examples\n",
    "\n",
    "\n",
    "def get_examples_fns(examples):\n",
    "    ex_pids = list(f\"{str(pid)}_rgb\" for pid in examples['pid'])\n",
    "    ex_fns = []\n",
    "    ex_fns = utils.get_filenames(conf.data.path_int_cr_tif, \"tif\", ex_pids)\n",
    "    return ex_fns"
   ]
  },
  {
   "cell_type": "code",
   "execution_count": null,
   "metadata": {},
   "outputs": [],
   "source": [
    "examples = get_examples(df_results)\n",
    "examples"
   ]
  },
  {
   "cell_type": "code",
   "execution_count": null,
   "metadata": {},
   "outputs": [],
   "source": [
    "# ex_fns = get_examples_fns(examples)\n",
    "ex_fns = ['../data/02_intermediate/03_cropped_tifs/1227_rgb_unk.tif',\n",
    "'../data/02_intermediate/03_cropped_tifs/1168_rgb_unk.tif',\n",
    "'../data/02_intermediate/03_cropped_tifs/1044_rgb_unk.tif',\n",
    "'../data/02_intermediate/03_cropped_tifs/1277_rgb_unk.tif',\n",
    "'../data/02_intermediate/03_cropped_tifs/1169_rgb_unk.tif',\n",
    "'../data/02_intermediate/03_cropped_tifs/1171_rgb_unk.tif']"
   ]
  },
  {
   "cell_type": "code",
   "execution_count": null,
   "metadata": {},
   "outputs": [],
   "source": [
    "rgb_imgs = utils.load_rgb_rasters(ex_fns)"
   ]
  },
  {
   "cell_type": "code",
   "execution_count": null,
   "metadata": {},
   "outputs": [],
   "source": [
    "len(rgb_imgs)"
   ]
  },
  {
   "cell_type": "code",
   "execution_count": null,
   "metadata": {},
   "outputs": [],
   "source": [
    "def plot_images(images, probabilities, row_labels, col_labels, title):\n",
    "    \"\"\"\n",
    "    Plots a grid of images with custom row and column labels.\n",
    "\n",
    "    Parameters:\n",
    "    - images (list of numpy.ndarray): The images to plot.\n",
    "    - probabilities (list of float): The probabilities to overlay on the images.\n",
    "    - row_labels (list of str): The row labels.\n",
    "    - col_labels (list of str): The column labels.\n",
    "    - title (str): The title of the figure.\n",
    "    \"\"\"\n",
    "    num_rows = len(row_labels)\n",
    "    num_cols = len(col_labels)\n",
    "\n",
    "    fig, axes = plt.subplots(nrows=num_rows, ncols=num_cols, figsize=(4*num_cols, 4*num_rows))\n",
    "\n",
    "    for i, row_label in enumerate(row_labels):\n",
    "        for j, col_label in enumerate(col_labels):\n",
    "            # Calculate the index of the image in the flat list\n",
    "            index = i * num_cols + j\n",
    "\n",
    "            # Plot the image\n",
    "            axes[i, j].imshow(images[index])\n",
    "\n",
    "            # Overlay the probability\n",
    "            axes[i, j].text(0.9, 2, f\"p={probabilities[index]}\", color='white', \n",
    "                            bbox=dict(facecolor='black', alpha=0.9), fontsize=18,)\n",
    "\n",
    "            # Set the title of the subplot\n",
    "            if i == 0:\n",
    "                axes[i, j].set_title(col_label, fontsize=20)\n",
    "\n",
    "        # Set the label of the row\n",
    "        axes[i, 0].set_ylabel(row_label, fontsize=20)\n",
    "\n",
    "    # Set the title of the figure\n",
    "    fig.suptitle(title, fontsize=26)\n",
    "\n",
    "    plt.tight_layout()\n",
    "    plt.show()"
   ]
  },
  {
   "cell_type": "code",
   "execution_count": null,
   "metadata": {},
   "outputs": [],
   "source": [
    "examples['label_pred_proba']"
   ]
  },
  {
   "cell_type": "code",
   "execution_count": null,
   "metadata": {},
   "outputs": [],
   "source": [
    "plot_images(rgb_imgs, examples['label_pred_proba'], examples['label_pred'].unique(), ['Max', 'Min', 'Mean'], 'Examples of Predicted Probabilities')"
   ]
  },
  {
   "cell_type": "code",
   "execution_count": null,
   "metadata": {},
   "outputs": [],
   "source": [
    "# plot_images(images, probabilities, row_labels, col_labels, title)"
   ]
  }
 ],
 "metadata": {
  "kernelspec": {
   "display_name": "mlai_rp2",
   "language": "python",
   "name": "python3"
  },
  "language_info": {
   "codemirror_mode": {
    "name": "ipython",
    "version": 3
   },
   "file_extension": ".py",
   "mimetype": "text/x-python",
   "name": "python",
   "nbconvert_exporter": "python",
   "pygments_lexer": "ipython3",
   "version": "3.9.12"
  }
 },
 "nbformat": 4,
 "nbformat_minor": 2
}
