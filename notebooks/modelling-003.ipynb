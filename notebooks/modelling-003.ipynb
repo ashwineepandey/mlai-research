{
 "cells": [
  {
   "cell_type": "code",
   "execution_count": 1,
   "metadata": {},
   "outputs": [],
   "source": [
    "import os\n",
    "import sys\n",
    "sys.path.append('../mlai_research/')\n",
    "import log\n",
    "import utils\n",
    "import pandas as pd\n",
    "import numpy as np\n",
    "from sklearn.utils import resample\n",
    "from sklearn.model_selection import train_test_split\n",
    "from sklearn import preprocessing\n",
    "from sklearn.metrics import accuracy_score, precision_score, recall_score, f1_score, roc_auc_score, roc_curve, auc, confusion_matrix, classification_report, cohen_kappa_score\n",
    "from sklearn.ensemble import RandomForestClassifier\n",
    "from sklearn.svm import SVC\n",
    "from sklearn.preprocessing import StandardScaler, label_binarize\n",
    "from sklearn.pipeline import make_pipeline\n",
    "import seaborn as sns\n",
    "import matplotlib.pyplot as plt\n",
    "from sklearn.base import clone\n",
    "from sklearn.neighbors import KNeighborsClassifier\n",
    "from sklearn.ensemble import GradientBoostingClassifier\n",
    "from sklearn.neural_network import MLPClassifier"
   ]
  },
  {
   "cell_type": "code",
   "execution_count": 2,
   "metadata": {},
   "outputs": [
    {
     "name": "stderr",
     "output_type": "stream",
     "text": [
      "04-Jan-24 09:37:35 - INFO - Starting 'load_config'.\n",
      "04-Jan-24 09:37:35 - INFO - Finished 'load_config' in 0.0236 secs.\n"
     ]
    }
   ],
   "source": [
    "logger = log.get_logger(__name__)\n",
    "conf = utils.load_config(\"base\")"
   ]
  },
  {
   "cell_type": "code",
   "execution_count": 3,
   "metadata": {},
   "outputs": [],
   "source": [
    "def encode_labels(df, column):\n",
    "    \"\"\"\n",
    "    Encode labels in the specified column of the dataframe.\n",
    "\n",
    "    Parameters:\n",
    "    df (pandas.DataFrame): The dataframe containing the labels.\n",
    "    column (str): The column name of the labels.\n",
    "\n",
    "    Returns:\n",
    "    df (pandas.DataFrame): The dataframe with encoded labels.\n",
    "    \"\"\"\n",
    "    label_encoder = preprocessing.LabelEncoder()\n",
    "    df[column] = label_encoder.fit_transform(df[column])\n",
    "    return df\n",
    "\n",
    "\n",
    "def split_data(df, test_size=0.1, val_size=0.1):\n",
    "    \"\"\"\n",
    "    Split the dataframe into training, validation, and testing sets.\n",
    "\n",
    "    Parameters:\n",
    "    df (pandas.DataFrame): The dataframe to split.\n",
    "    test_size (float): The proportion of the dataset to include in the test split.\n",
    "    val_size (float): The proportion of the training set to include in the validation split.\n",
    "\n",
    "    Returns:\n",
    "    train_set (pandas.DataFrame): The training set.\n",
    "    val_set (pandas.DataFrame): The validation set.\n",
    "    test_set (pandas.DataFrame): The testing set.\n",
    "    \"\"\"\n",
    "    train_set, test_set = train_test_split(df, test_size=test_size, random_state=42)\n",
    "    train_set, val_set = train_test_split(train_set, test_size=val_size, random_state=42)\n",
    "    return train_set, val_set, test_set\n",
    "\n",
    "\n",
    "def upsample_minorities(df, label_column):\n",
    "    \"\"\"\n",
    "    Upsample the minority classes in the dataframe to match the majority class count.\n",
    "\n",
    "    Parameters:\n",
    "    df (pandas.DataFrame): The dataframe to upsample.\n",
    "    label_column (str): The column name of the labels.\n",
    "\n",
    "    Returns:\n",
    "    df_upsampled (pandas.DataFrame): The dataframe with the minority classes upsampled.\n",
    "    \"\"\"\n",
    "    # Get the count of the most frequent class\n",
    "    majority_class_count = df[label_column].value_counts().max()\n",
    "    \n",
    "    # Separate the majority and minority classes\n",
    "    df_majority = df[df[label_column] == df[label_column].value_counts().idxmax()]\n",
    "    df_minorities = df[df[label_column] != df[label_column].value_counts().idxmax()]\n",
    "    \n",
    "    # List to hold the upsampled dataframes\n",
    "    upsampled_list = [df_majority]\n",
    "    \n",
    "    # Upsample each minority class and add to the list\n",
    "    for class_index in df_minorities[label_column].unique():\n",
    "        df_class_minority = df_minorities[df_minorities[label_column] == class_index]\n",
    "        df_class_upsampled = resample(df_class_minority, \n",
    "                                      replace=True, \n",
    "                                      n_samples=majority_class_count, \n",
    "                                      random_state=42)\n",
    "        upsampled_list.append(df_class_upsampled)\n",
    "    \n",
    "    # Concatenate all upsampled minority class DataFrames with the majority class DataFrame\n",
    "    df_upsampled = pd.concat(upsampled_list)\n",
    "    \n",
    "    return df_upsampled\n",
    "\n",
    "\n",
    "def calculate_metrics(y_true, y_pred):\n",
    "    \"\"\"\n",
    "    Calculate accuracy, precision, recall, and F1 score.\n",
    "    \n",
    "    Parameters:\n",
    "    y_true (list): List of true labels\n",
    "    y_pred (list): List of predicted labels\n",
    "    \n",
    "    Returns:\n",
    "    dict: A dictionary containing the calculated metrics\n",
    "    \"\"\"\n",
    "    accuracy = accuracy_score(y_true, y_pred)\n",
    "    precision = precision_score(y_true, y_pred, average='weighted')\n",
    "    recall = recall_score(y_true, y_pred, average='weighted')\n",
    "    f1 = f1_score(y_true, y_pred, average='weighted')\n",
    "    \n",
    "    return {'accuracy': accuracy, 'precision': precision, 'recall': recall, 'f1': f1}\n",
    "\n",
    "\n",
    "def kappa_confidence_interval(y_true, y_pred, n_bootstrap=1000, alpha=0.05):\n",
    "    \"\"\"\n",
    "    Calculate Cohen's Kappa score with confidence intervals using bootstrapping.\n",
    "    \n",
    "    Parameters:\n",
    "    y_true: Ground truth (correct) target values.\n",
    "    y_pred: Estimated targets as returned by a classifier.\n",
    "    n_bootstrap: Number of bootstrap samples to create.\n",
    "    alpha: Confidence interval, e.g., 0.05 for 95% confidence.\n",
    "    \n",
    "    Returns:\n",
    "    kappa: Cohen's Kappa score\n",
    "    lower: Lower bound of the confidence interval\n",
    "    upper: Upper bound of the confidence interval\n",
    "    \"\"\"\n",
    "    # Calculate Cohen's Kappa for the original data\n",
    "    kappa = cohen_kappa_score(y_true, y_pred)\n",
    "    \n",
    "    # Generate bootstrap samples and calculate Cohen's Kappa for each sample\n",
    "    bootstrap_kappas = []\n",
    "    for _ in range(n_bootstrap):\n",
    "        y_true_resampled, y_pred_resampled = resample(y_true, y_pred)\n",
    "        kappa_resampled = cohen_kappa_score(y_true_resampled, y_pred_resampled)\n",
    "        bootstrap_kappas.append(kappa_resampled)\n",
    "    \n",
    "    # Calculate lower and upper percentiles for the confidence interval\n",
    "    lower = np.percentile(bootstrap_kappas, 100 * alpha / 2)\n",
    "    upper = np.percentile(bootstrap_kappas, 100 * (1 - alpha / 2))\n",
    "    \n",
    "    return kappa, lower, upper\n",
    "\n",
    "\n",
    "\n",
    "def plot_confusion_matrix(y_true, y_pred, labels):\n",
    "    \"\"\"\n",
    "    Plot a confusion matrix.\n",
    "    \n",
    "    Parameters:\n",
    "    y_true (list): List of true labels\n",
    "    y_pred (list): List of predicted labels\n",
    "    labels (list): List of unique labels\n",
    "    \n",
    "    Returns:\n",
    "    None\n",
    "    \"\"\"\n",
    "    cm = confusion_matrix(y_true, y_pred, labels=labels)\n",
    "    plt.figure(figsize=(10, 7))\n",
    "    sns.heatmap(cm, annot=True, fmt='d', xticklabels=labels, yticklabels=labels)\n",
    "    plt.xlabel('Predicted')\n",
    "    plt.ylabel('True')\n",
    "    plt.show()\n",
    "\n",
    "\n",
    "def plot_roc_curve(y_true, y_score, labels):\n",
    "    \"\"\"\n",
    "    Plot a ROC curve.\n",
    "    \n",
    "    Parameters:\n",
    "    y_true (list): List of true labels\n",
    "    y_score (list): List of predicted scores\n",
    "    labels (list): List of unique labels\n",
    "    \n",
    "    Returns:\n",
    "    None\n",
    "    \"\"\"\n",
    "    y_true_bin = label_binarize(y_true, classes=labels)\n",
    "    n_classes = y_true_bin.shape[1]\n",
    "\n",
    "    fpr = dict()\n",
    "    tpr = dict()\n",
    "    roc_auc = dict()\n",
    "    for i in range(n_classes):\n",
    "        fpr[i], tpr[i], _ = roc_curve(y_true_bin[:, i], y_score[:, i])\n",
    "        roc_auc[i] = auc(fpr[i], tpr[i])\n",
    "\n",
    "    plt.figure()\n",
    "    for i in range(n_classes):\n",
    "        plt.plot(fpr[i], tpr[i], label='ROC curve of class {0} (area = {1:0.2f})'.format(i, roc_auc[i]))\n",
    "    plt.plot([0, 1], [0, 1], 'k--')\n",
    "    plt.xlim([0.0, 1.0])\n",
    "    plt.ylim([0.0, 1.05])\n",
    "    plt.xlabel('False Positive Rate')\n",
    "    plt.ylabel('True Positive Rate')\n",
    "    plt.title('Receiver Operating Characteristic')\n",
    "    plt.legend(loc=\"lower right\")\n",
    "    plt.show()\n",
    "\n",
    "\n",
    "def self_training(classifier, X_labeled, y_labeled, X_unlabeled, threshold=0.9, max_iter=10):\n",
    "    \"\"\"\n",
    "    Perform self-training with the given classifier.\n",
    "\n",
    "    Parameters:\n",
    "    - classifier: a classifier that has fit and predict_proba methods.\n",
    "    - X_labeled: features of the labeled data.\n",
    "    - y_labeled: labels of the labeled data.\n",
    "    - X_unlabeled: features of the unlabeled data.\n",
    "    - threshold: confidence threshold for labeling unlabeled data.\n",
    "    - max_iter: maximum number of iterations.\n",
    "\n",
    "    Returns:\n",
    "    - The trained classifier.\n",
    "    \"\"\"\n",
    "    classifier = clone(classifier)  # create a new instance of the classifier\n",
    "    for i in range(max_iter):\n",
    "        classifier.fit(X_labeled, y_labeled)\n",
    "        if X_unlabeled.shape[0] == 0:\n",
    "            break  # no more unlabeled data\n",
    "        probs = classifier.predict_proba(X_unlabeled)\n",
    "        max_probs = probs.max(axis=1)\n",
    "        confident = max_probs > threshold\n",
    "        if not confident.any():\n",
    "            break  # no confident predictions\n",
    "        X_labeled = np.concatenate([X_labeled, X_unlabeled[confident]])\n",
    "        y_labeled = np.concatenate([y_labeled, probs[confident].argmax(axis=1)])\n",
    "        X_unlabeled = X_unlabeled[~confident]\n",
    "    return classifier"
   ]
  },
  {
   "cell_type": "markdown",
   "metadata": {},
   "source": [
    "# Load Data"
   ]
  },
  {
   "cell_type": "code",
   "execution_count": 4,
   "metadata": {},
   "outputs": [
    {
     "data": {
      "text/plain": [
       "((327, 1583),\n",
       " unk      299\n",
       " xan       15\n",
       " other     10\n",
       " dat        3\n",
       " Name: label, dtype: int64)"
      ]
     },
     "execution_count": 4,
     "metadata": {},
     "output_type": "execute_result"
    }
   ],
   "source": [
    "df = pd.read_csv(f\"{conf.data.path_feat}{conf.data.fn_feat}\")\n",
    "df.shape, df['label'].value_counts()"
   ]
  },
  {
   "cell_type": "markdown",
   "metadata": {},
   "source": [
    "# Prepare Data \n",
    "\n",
    "- Split labelled, unlabelled\n",
    "- Upsample lower class\n",
    "- Drop true labels"
   ]
  },
  {
   "cell_type": "code",
   "execution_count": 5,
   "metadata": {},
   "outputs": [],
   "source": [
    "df_unlabeled = df[df['label'] == 'unk']\n",
    "df_labeled = df[df['label'] != 'unk']\n",
    "dflup = upsample_minorities(df_labeled, 'label')\n",
    "X_labeled = dflup.drop('label', axis=1).values\n",
    "y_labeled = dflup['label'].values\n",
    "X_unlabeled = df_unlabeled.drop('label', axis=1).values"
   ]
  },
  {
   "cell_type": "markdown",
   "metadata": {},
   "source": [
    "# Create classifer"
   ]
  },
  {
   "cell_type": "code",
   "execution_count": 6,
   "metadata": {},
   "outputs": [],
   "source": [
    "# Create a Random Forest classifier\n",
    "rf_classifier = RandomForestClassifier()"
   ]
  },
  {
   "cell_type": "markdown",
   "metadata": {},
   "source": [
    "# Train Classifer"
   ]
  },
  {
   "cell_type": "code",
   "execution_count": 7,
   "metadata": {},
   "outputs": [],
   "source": [
    "classifier = self_training(rf_classifier, X_labeled, y_labeled, X_unlabeled)"
   ]
  },
  {
   "cell_type": "code",
   "execution_count": 8,
   "metadata": {},
   "outputs": [],
   "source": [
    "y_labeled_pred = classifier.predict(X_labeled)"
   ]
  },
  {
   "cell_type": "code",
   "execution_count": 9,
   "metadata": {},
   "outputs": [
    {
     "name": "stdout",
     "output_type": "stream",
     "text": [
      "Cohen's Kappa: 1.0, 95% CI: (1.0, 1.0)\n"
     ]
    }
   ],
   "source": [
    "kappa, lower, upper = kappa_confidence_interval(y_labeled, y_labeled_pred)\n",
    "print(f\"Cohen's Kappa: {kappa}, 95% CI: ({lower}, {upper})\")"
   ]
  },
  {
   "cell_type": "code",
   "execution_count": 11,
   "metadata": {},
   "outputs": [
    {
     "data": {
      "text/plain": [
       "array(['xan', 'xan', 'xan', 'xan', 'xan', 'xan', 'xan', 'xan', 'xan',\n",
       "       'xan', 'xan', 'xan', 'xan', 'xan', 'xan', 'other', 'other',\n",
       "       'other', 'other', 'other', 'other', 'other', 'other', 'other',\n",
       "       'other', 'other', 'other', 'other', 'other', 'other', 'dat', 'dat',\n",
       "       'dat', 'dat', 'dat', 'dat', 'dat', 'dat', 'dat', 'dat', 'dat',\n",
       "       'dat', 'dat', 'dat', 'dat'], dtype=object)"
      ]
     },
     "execution_count": 11,
     "metadata": {},
     "output_type": "execute_result"
    }
   ],
   "source": [
    "y_labeled"
   ]
  },
  {
   "cell_type": "code",
   "execution_count": null,
   "metadata": {},
   "outputs": [],
   "source": []
  },
  {
   "cell_type": "code",
   "execution_count": null,
   "metadata": {},
   "outputs": [],
   "source": []
  },
  {
   "cell_type": "code",
   "execution_count": 10,
   "metadata": {},
   "outputs": [
    {
     "name": "stdout",
     "output_type": "stream",
     "text": [
      "Training data metrics: {'accuracy': 1.0, 'precision': 1.0, 'recall': 1.0, 'f1': 1.0}\n"
     ]
    },
    {
     "data": {
      "image/png": "[encoded data removed]",
      "text/plain": [
       "<Figure size 1000x700 with 2 Axes>"
      ]
     },
     "metadata": {},
     "output_type": "display_data"
    },
    {
     "data": {
      "image/png": "[encoded data removed]",
      "text/plain": [
       "<Figure size 640x480 with 1 Axes>"
      ]
     },
     "metadata": {},
     "output_type": "display_data"
    }
   ],
   "source": [
    "# Plot the confusion matrix and ROC curve of training data\n",
    "metrics = calculate_metrics(y_labeled, classifier.predict(X_labeled))\n",
    "print(f'Training data metrics: {metrics}')\n",
    "plot_confusion_matrix(y_labeled, classifier.predict(X_labeled), classifier.classes_)\n",
    "plot_roc_curve(y_labeled, classifier.predict_proba(X_labeled), classifier.classes_)"
   ]
  },
  {
   "cell_type": "code",
   "execution_count": null,
   "metadata": {},
   "outputs": [],
   "source": [
    "# Predict the labels of the unlabeled data\n",
    "y_pred = classifier.predict(X_unlabeled)\n",
    "y_pred_proba = classifier.predict_proba(X_unlabeled)\n",
    "\n",
    "# Plot the confusion matrix and ROC curve of the unlabeled data\n",
    "# calculate_metrics(df_unlabeled['label'], y_pred)\n",
    "# plot_confusion_matrix(df_unlabeled['label'], y_pred, classifier.classes_)\n",
    "# plot_roc_curve(df_unlabeled['label'], classifier.predict_proba(X_unlabeled), classifier.classes_)\n",
    "\n",
    "# Add the predicted labels to the unlabeled data\n",
    "# df_unlabeled['label'] = y_pred\n",
    "\n",
    "# # Concatenate the labeled and unlabeled data\n",
    "# df_concat = pd.concat([dflup, df_unlabeled])"
   ]
  },
  {
   "cell_type": "code",
   "execution_count": null,
   "metadata": {},
   "outputs": [],
   "source": [
    "# drop the label column from columns list:\n",
    "cols = list(df.columns)\n",
    "cols.remove('label')\n",
    "cols.extend(['label_pred_proba', 'label_pred'])"
   ]
  },
  {
   "cell_type": "code",
   "execution_count": null,
   "metadata": {},
   "outputs": [],
   "source": [
    "# combine y_pred and y_pred_proba\n",
    "y_pred_proba = y_pred_proba.max(axis=1)\n",
    "y_pred_proba = y_pred_proba.reshape(-1,1)\n",
    "y_pred = y_pred.reshape(-1,1)\n",
    "arr_unlabeled = np.concatenate([X_unlabeled, y_pred_proba, y_pred], axis=1)\n",
    "df_unlabeled = pd.DataFrame(arr_unlabeled, columns=cols)"
   ]
  },
  {
   "cell_type": "code",
   "execution_count": null,
   "metadata": {},
   "outputs": [],
   "source": [
    "df_unlabeled['label_pred'].value_counts()"
   ]
  },
  {
   "cell_type": "code",
   "execution_count": null,
   "metadata": {},
   "outputs": [],
   "source": [
    "df_unlabeled['label_pred_proba'].hist()"
   ]
  },
  {
   "cell_type": "code",
   "execution_count": null,
   "metadata": {},
   "outputs": [],
   "source": []
  },
  {
   "cell_type": "code",
   "execution_count": null,
   "metadata": {},
   "outputs": [],
   "source": []
  },
  {
   "cell_type": "code",
   "execution_count": null,
   "metadata": {},
   "outputs": [],
   "source": []
  },
  {
   "cell_type": "code",
   "execution_count": null,
   "metadata": {},
   "outputs": [],
   "source": []
  },
  {
   "cell_type": "code",
   "execution_count": null,
   "metadata": {},
   "outputs": [],
   "source": []
  },
  {
   "cell_type": "code",
   "execution_count": null,
   "metadata": {},
   "outputs": [],
   "source": [
    "def main():\n",
    "    df = encode_labels(df, 'label')\n",
    "    train, val, test = split_data(df)\n",
    "    train = upsample_minorities(train, 'label')\n",
    "    X_train = train.drop('label', axis=1).values\n",
    "    y_train = train['label'].values\n",
    "\n",
    "    X_val = val.drop('label', axis=1).values\n",
    "    y_val = val['label'].values\n",
    "\n",
    "    X_test = test.drop('label', axis=1).values\n",
    "    y_test = test['label'].values\n",
    "\n",
    "    # Save as npz files\n",
    "    np.savez(f\"{conf.data.path_mi}{conf.data.fn_train}\", X=X_train, y=y_train)\n",
    "    np.savez(f\"{conf.data.path_mi}{conf.data.fn_val}\", X=X_val, y=y_val)\n",
    "    np.savez(f\"{conf.data.path_mi}{conf.data.fn_test}\", X=X_test, y=y_test)"
   ]
  },
  {
   "cell_type": "code",
   "execution_count": null,
   "metadata": {},
   "outputs": [],
   "source": []
  },
  {
   "cell_type": "code",
   "execution_count": null,
   "metadata": {},
   "outputs": [],
   "source": []
  },
  {
   "cell_type": "code",
   "execution_count": null,
   "metadata": {},
   "outputs": [],
   "source": []
  },
  {
   "cell_type": "code",
   "execution_count": null,
   "metadata": {},
   "outputs": [],
   "source": []
  },
  {
   "cell_type": "code",
   "execution_count": null,
   "metadata": {},
   "outputs": [],
   "source": []
  },
  {
   "cell_type": "code",
   "execution_count": null,
   "metadata": {},
   "outputs": [],
   "source": []
  },
  {
   "cell_type": "code",
   "execution_count": null,
   "metadata": {},
   "outputs": [],
   "source": []
  },
  {
   "cell_type": "code",
   "execution_count": null,
   "metadata": {},
   "outputs": [],
   "source": []
  },
  {
   "cell_type": "code",
   "execution_count": null,
   "metadata": {},
   "outputs": [],
   "source": []
  },
  {
   "cell_type": "code",
   "execution_count": null,
   "metadata": {},
   "outputs": [],
   "source": []
  },
  {
   "cell_type": "code",
   "execution_count": null,
   "metadata": {},
   "outputs": [],
   "source": []
  }
 ],
 "metadata": {
  "kernelspec": {
   "display_name": "mlai_rp2",
   "language": "python",
   "name": "python3"
  },
  "language_info": {
   "codemirror_mode": {
    "name": "ipython",
    "version": 3
   },
   "file_extension": ".py",
   "mimetype": "text/x-python",
   "name": "python",
   "nbconvert_exporter": "python",
   "pygments_lexer": "ipython3",
   "version": "3.9.12"
  }
 },
 "nbformat": 4,
 "nbformat_minor": 2
}
